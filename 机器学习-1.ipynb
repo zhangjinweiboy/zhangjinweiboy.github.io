{
 "cells": [
  {
   "cell_type": "code",
   "execution_count": 1,
   "metadata": {},
   "outputs": [
    {
     "name": "stdout",
     "output_type": "stream",
     "text": [
      ".. _iris_dataset:\n",
      "\n",
      "Iris plants dataset\n",
      "--------------------\n",
      "\n",
      "**Data Set Characteristics:**\n",
      "\n",
      "    :Number of Instances: 150 (50 in each of three classes)\n",
      "    :Number of Attributes: 4 numeric, predictive attributes and the class\n",
      "    :Attribute Information:\n",
      "        - sepal length in cm\n",
      "        - sepal width in cm\n",
      "        - petal length in cm\n",
      "        - petal width in cm\n",
      "        - class:\n",
      "                - Iris-Setosa\n",
      "                - Iris-Versicolour\n",
      "                - Iris-Virginica\n",
      "                \n",
      "    :Summary Statistics:\n",
      "\n",
      "    ============== ==== ==== ======= ===== ====================\n",
      "                    Min  Max   Mean    SD   Class Correlation\n",
      "    ============== ==== ==== ======= ===== ====================\n",
      "    sepal length:   4.3  7.9   5.84   0.83    0.7826\n",
      "    sepal width:    2.0  4.4   3.05   0.43   -0.4194\n",
      "    petal length:   1.0  6.9   3.76   1.76    0.9490  (high!)\n",
      "    petal width:    0.1  2.5   1.20   0.76    0.9565  (high!)\n",
      "    ============== ==== ==== ======= ===== ====================\n",
      "\n",
      "    :Missing Attribute Values: None\n",
      "    :Class Distribution: 33.3% for each of 3 classes.\n",
      "    :Creator: R.A. Fisher\n",
      "    :Donor: Michael Marshall (MARSHALL%PLU@io.arc.nasa.gov)\n",
      "    :Date: July, 1988\n",
      "\n",
      "The famous Iris database, first used by Sir R.A. Fisher. The dataset is taken\n",
      "from Fisher's paper. Note that it's the same as in R, but not as in the UCI\n",
      "Machine Learning Repository, which has two wrong data points.\n",
      "\n",
      "This is perhaps the best known database to be found in the\n",
      "pattern recognition literature.  Fisher's paper is a classic in the field and\n",
      "is referenced frequently to this day.  (See Duda & Hart, for example.)  The\n",
      "data set contains 3 classes of 50 instances each, where each class refers to a\n",
      "type of iris plant.  One class is linearly separable from the other 2; the\n",
      "latter are NOT linearly separable from each other.\n",
      "\n",
      ".. topic:: References\n",
      "\n",
      "   - Fisher, R.A. \"The use of multiple measurements in taxonomic problems\"\n",
      "     Annual Eugenics, 7, Part II, 179-188 (1936); also in \"Contributions to\n",
      "     Mathematical Statistics\" (John Wiley, NY, 1950).\n",
      "   - Duda, R.O., & Hart, P.E. (1973) Pattern Classification and Scene Analysis.\n",
      "     (Q327.D83) John Wiley & Sons.  ISBN 0-471-22361-1.  See page 218.\n",
      "   - Dasarathy, B.V. (1980) \"Nosing Around the Neighborhood: A New System\n",
      "     Structure and Classification Rule for Recognition in Partially Exposed\n",
      "     Environments\".  IEEE Transactions on Pattern Analysis and Machine\n",
      "     Intelligence, Vol. PAMI-2, No. 1, 67-71.\n",
      "   - Gates, G.W. (1972) \"The Reduced Nearest Neighbor Rule\".  IEEE Transactions\n",
      "     on Information Theory, May 1972, 431-433.\n",
      "   - See also: 1988 MLC Proceedings, 54-64.  Cheeseman et al\"s AUTOCLASS II\n",
      "     conceptual clustering system finds 3 classes in the data.\n",
      "   - Many, many more ...\n"
     ]
    }
   ],
   "source": [
    "### 导入数据集\n",
    "from sklearn.datasets import load_iris\n",
    "iris_dataset = load_iris()\n",
    "print(iris_dataset.DESCR)"
   ]
  },
  {
   "cell_type": "code",
   "execution_count": 21,
   "metadata": {},
   "outputs": [],
   "source": [
    "### 将数据分割为训练集和测试集\n",
    "from sklearn.model_selection import train_test_split\n",
    "X_train, X_test, y_train, y_test = train_test_split( iris_dataset['data'], iris_dataset['target'], test_size=0.2, random_state=0)\n"
   ]
  },
  {
   "cell_type": "code",
   "execution_count": 22,
   "metadata": {},
   "outputs": [
    {
     "name": "stdout",
     "output_type": "stream",
     "text": [
      "Coefficient: \n",
      " [-0.10627533 -0.0397204   0.22894234  0.61123074]\n",
      "Intercept: \n",
      " 0.16149541375178766\n",
      "Test set predictions:\n",
      " [ 2.06844113  0.96345869 -0.14707913  1.81304847 -0.03927091  2.26261445\n",
      " -0.02790835  1.31919261  1.28225236  1.11236814  1.54774304  1.3013147\n",
      "  1.21150471  1.32946956  1.32977882 -0.12060477  1.35574095  1.21453128\n",
      "  0.03610115 -0.02518356  1.79941543  1.39427904  0.07356109  0.02146025\n",
      "  1.59050985 -0.11917603  0.14803648  1.16645127  0.90550234  0.10586947]\n",
      "Train set score: 0.93\n",
      "Test set score: 0.91\n"
     ]
    }
   ],
   "source": [
    "### 1.线性回归\n",
    "# 从 sklean 中导入函数\n",
    "from sklearn import linear_model\n",
    "linear = linear_model.LinearRegression()\n",
    "\n",
    "# 使用训练集拟合模型\n",
    "linear.fit(X_train, y_train)\n",
    "# 检查模型得分\n",
    "linear.score(X_train, y_train)\n",
    "\n",
    "# 方程系数和截距\n",
    "print('Coefficient: \\n', linear.coef_)\n",
    "print('Intercept: \\n', linear.intercept_)\n",
    "\n",
    "# 预测测试集结果\n",
    "y_pred = linear.predict(X_test)\n",
    "print(\"Test set predictions:\\n {}\".format(y_pred))\n",
    "\n",
    "# 打印得分\n",
    "print(\"Train set score: {:.2f}\".format(linear.score(X_train, y_train)))\n",
    "print(\"Test set score: {:.2f}\".format(linear.score(X_test, y_test)))"
   ]
  },
  {
   "cell_type": "code",
   "execution_count": 5,
   "metadata": {},
   "outputs": [
    {
     "name": "stdout",
     "output_type": "stream",
     "text": [
      "Coefficient: \n",
      " [[-0.41737227  0.85016051 -2.33197581 -0.98816372]\n",
      " [ 0.52060603 -0.29765862 -0.22056052 -0.71101065]\n",
      " [-0.10323376 -0.55250189  2.55253633  1.69917437]]\n",
      "Intercept: \n",
      " [  9.25389214   1.75982812 -11.01372026]\n",
      "Test set predictions:\n",
      " [2 1 0 2 0 2 0 1 1 1 2 1 1 1 1 0 1 1 0 0 2 1 0 0 2 0 0 1 1 0 2 1 0 2 2 1 0\n",
      " 2]\n",
      "Train set score: 0.98\n",
      "Test set score: 0.97\n"
     ]
    },
    {
     "name": "stderr",
     "output_type": "stream",
     "text": [
      "/Users/zhangjinwei/opt/anaconda3/lib/python3.9/site-packages/sklearn/linear_model/_logistic.py:444: ConvergenceWarning: lbfgs failed to converge (status=1):\n",
      "STOP: TOTAL NO. of ITERATIONS REACHED LIMIT.\n",
      "\n",
      "Increase the number of iterations (max_iter) or scale the data as shown in:\n",
      "    https://scikit-learn.org/stable/modules/preprocessing.html\n",
      "Please also refer to the documentation for alternative solver options:\n",
      "    https://scikit-learn.org/stable/modules/linear_model.html#logistic-regression\n",
      "  n_iter_i = _check_optimize_result(\n"
     ]
    }
   ],
   "source": [
    "### 2.逻辑回归\n",
    "# 从 sklean 中导入函数\n",
    "from sklearn.linear_model import LogisticRegression\n",
    "logistic = LogisticRegression()\n",
    "\n",
    "# 进行模型拟合，训练集和测试集\n",
    "logistic.fit(X_train, y_train)\n",
    "logistic.score(X_train, y_train)\n",
    "\n",
    "# 方程系数和截距\n",
    "print('Coefficient: \\n', logistic.coef_)\n",
    "print('Intercept: \\n', logistic.intercept_)\n",
    "\n",
    "#输出预测值\n",
    "y_pred = logistic.predict(X_test)\n",
    "print(\"Test set predictions:\\n {}\".format(y_pred))\n",
    "\n",
    "# 打印得分\n",
    "print(\"Train set score: {:.2f}\".format(logistic.score(X_train, y_train)))\n",
    "print(\"Test set score: {:.2f}\".format(logistic.score(X_test, y_test)))\n"
   ]
  },
  {
   "cell_type": "code",
   "execution_count": 10,
   "metadata": {},
   "outputs": [
    {
     "name": "stdout",
     "output_type": "stream",
     "text": [
      "Test set predictions:\n",
      " [2 1 0 2 0 2 0 1 1 1 2 1 1 1 1 0 1 1 0 0 2 1 0 0 2 0 0 1 1 0 2 1 0 2 2 1 0\n",
      " 2]\n",
      "Test set score: 1.00\n",
      "Test set score: 0.97\n"
     ]
    }
   ],
   "source": [
    "### 3.决策树\n",
    "# 从 sklean 中导入函数\n",
    "from sklearn import tree\n",
    "tree = tree.DecisionTreeClassifier(criterion='gini') \n",
    "\n",
    "# 对于分类，这里您可以将算法更改为 gini 或 entropy (information gain)，默认是 gini 。\n",
    "tree.fit(X_train, y_train)\n",
    "\n",
    "# 输出预测值\n",
    "y_pred = tree.predict(X_test)\n",
    "print(\"Test set predictions:\\n {}\".format(y_pred))\n",
    "\n",
    "# 打印得分\n",
    "print(\"Test set score: {:.2f}\".format(tree.score(X_train, y_train)))\n",
    "print(\"Test set score: {:.2f}\".format(tree.score(X_test, y_test)))\n"
   ]
  },
  {
   "cell_type": "code",
   "execution_count": 11,
   "metadata": {},
   "outputs": [
    {
     "name": "stdout",
     "output_type": "stream",
     "text": [
      "Test set predictions:\n",
      " [2 1 0 2 0 2 0 1 1 1 2 1 1 1 1 0 1 1 0 0 2 1 0 0 2 0 0 1 1 0 2 1 0 2 2 1 0\n",
      " 2]\n",
      "Test set score: 0.96\n",
      "Test set score: 0.97\n"
     ]
    }
   ],
   "source": [
    "### 4.支持向量机(SVM)\n",
    "# 从 sklean 中导入函数\n",
    "from sklearn import svm\n",
    "model = svm.SVC()\n",
    "\n",
    "# 进行模型拟合，训练集和测试集\n",
    "model.fit(X_train, y_train)\n",
    "\n",
    "# 输出预测值\n",
    "predicted= model.predict(X_test)\n",
    "print(\"Test set predictions:\\n {}\".format(predicted))\n",
    "\n",
    "# 打印得分\n",
    "print(\"Test set score: {:.2f}\".format(model.score(X_train, y_train)))\n",
    "print(\"Test set score: {:.2f}\".format(model.score(X_test, y_test)))\n"
   ]
  },
  {
   "cell_type": "code",
   "execution_count": 12,
   "metadata": {},
   "outputs": [
    {
     "name": "stdout",
     "output_type": "stream",
     "text": [
      "Test set predictions:\n",
      " [2 1 0 2 0 2 0 1 1 1 2 1 1 1 1 0 1 1 0 0 2 1 0 0 2 0 0 1 1 0 2 1 0 2 2 1 0\n",
      " 1]\n",
      "Test set score: 0.95\n",
      "Test set score: 1.00\n"
     ]
    }
   ],
   "source": [
    "### 5.朴素贝叶斯\n",
    "# 从 sklean 中导入函数\n",
    "from sklearn.naive_bayes import GaussianNB\n",
    "model = GaussianNB() \n",
    "# 多项式类还有其他分布，例如 BernoulliNB（伯努利朴素贝叶斯）\n",
    "\n",
    "# 进行模型拟合，训练集和测试集\n",
    "model.fit(X_train, y_train)\n",
    "model.score(X_train, y_train)\n",
    "\n",
    "# 输出预测值\n",
    "predicted= model.predict(X_test)\n",
    "print(\"Test set predictions:\\n {}\".format(predicted))\n",
    "\n",
    "# 打印得分\n",
    "print(\"Test set score: {:.2f}\".format(model.score(X_train, y_train)))\n",
    "print(\"Test set score: {:.2f}\".format(model.score(X_test, y_test)))\n",
    "\n"
   ]
  },
  {
   "cell_type": "code",
   "execution_count": 21,
   "metadata": {},
   "outputs": [
    {
     "name": "stdout",
     "output_type": "stream",
     "text": [
      "Test set predictions:\n",
      " [2 1 0 2 0 2 0 1 1 1 2 1 1 1 1 0 1 1 0 0 2 1 0 0 2 0 0 1 1 0 2 1 0 2 2 1 0\n",
      " 2]\n",
      "Test set score: 0.96\n",
      "Test set score: 0.97\n"
     ]
    }
   ],
   "source": [
    "### 6.K-邻近算法（KNN）\n",
    "# 从 sklean 中导入函数\n",
    "from sklearn.neighbors import KNeighborsClassifier\n",
    "model = KNeighborsClassifier( n_neighbors = 6 ) \n",
    "# n_neighbors的默认值为5\n",
    "\n",
    "# 进行模型拟合，训练集和测试集\n",
    "model.fit(X_train, y_train)\n",
    "model.score(X_train, y_train)\n",
    "\n",
    "# 输出预测值\n",
    "predicted= model.predict(X_test)\n",
    "print(\"Test set predictions:\\n {}\".format(predicted))\n",
    "\n",
    "# 打印得分\n",
    "print(\"Test set score: {:.2f}\".format(model.score(X_train, y_train)))\n",
    "print(\"Test set score: {:.2f}\".format(model.score(X_test, y_test)))\n",
    "\n"
   ]
  },
  {
   "cell_type": "code",
   "execution_count": 23,
   "metadata": {},
   "outputs": [
    {
     "name": "stdout",
     "output_type": "stream",
     "text": [
      "Test set predictions:\n",
      " [2 2 1 0 1 0 1 2 2 2 0 2 2 2 2 1 2 2 1 1 2 2 1 1 2 1 1 2 2 1]\n",
      "Test set score: -63.20\n",
      "Test set score: -16.04\n"
     ]
    }
   ],
   "source": [
    "### 7. K均值算法（K-Means)\n",
    "# 从 sklean 中导入函数\n",
    "from sklearn.cluster import KMeans\n",
    "model = KMeans(n_clusters=3, random_state=0)\n",
    "\n",
    "# 进行模型拟合，训练集和测试集\n",
    "model.fit(X_train, y_train)\n",
    "model.score(X_train, y_train)\n",
    "\n",
    "# 输出预测值\n",
    "predicted= model.predict(X_test)\n",
    "print(\"Test set predictions:\\n {}\".format(predicted))\n",
    "\n",
    "# 打印得分\n",
    "print(\"Test set score: {:.2f}\".format(model.score(X_train, y_train)))\n",
    "print(\"Test set score: {:.2f}\".format(model.score(X_test, y_test)))\n",
    "\n"
   ]
  },
  {
   "cell_type": "code",
   "execution_count": 24,
   "metadata": {},
   "outputs": [
    {
     "name": "stdout",
     "output_type": "stream",
     "text": [
      "Test set predictions:\n",
      " [2 1 0 2 0 2 0 1 1 1 1 1 1 1 1 0 1 1 0 0 2 1 0 0 2 0 0 1 1 0]\n",
      "Test set score: 1.00\n",
      "Test set score: 0.97\n"
     ]
    }
   ],
   "source": [
    "### 8.随机森林（RandomForestClassifier）\n",
    "# 从 sklean 中导入函数\n",
    "from sklearn.ensemble import RandomForestClassifier\n",
    "model= RandomForestClassifier()\n",
    "\n",
    "# 进行模型拟合，训练集和测试集\n",
    "model.fit(X_train, y_train)\n",
    "model.score(X_train, y_train)\n",
    "\n",
    "# 输出预测值\n",
    "predicted= model.predict(X_test)\n",
    "print(\"Test set predictions:\\n {}\".format(predicted))\n",
    "\n",
    "# 打印得分\n",
    "print(\"Test set score: {:.2f}\".format(model.score(X_train, y_train)))\n",
    "print(\"Test set score: {:.2f}\".format(model.score(X_test, y_test)))\n"
   ]
  },
  {
   "cell_type": "code",
   "execution_count": 27,
   "metadata": {},
   "outputs": [
    {
     "data": {
      "text/plain": [
       "array([[ 0.79742237, -0.41759564,  0.        ,  0.        ],\n",
       "       [ 0.04059616, -0.64224522,  0.        ,  0.        ],\n",
       "       [-1.18977861,  1.02820387,  0.        ,  0.        ],\n",
       "       [ 1.20727472,  0.20537958,  0.        ,  0.        ],\n",
       "       [-1.24002151,  0.18468748,  0.        ,  0.        ],\n",
       "       [ 1.14076431,  0.1155713 ,  0.        ,  0.        ],\n",
       "       [-1.24947866,  0.26824411,  0.        ,  0.        ],\n",
       "       [ 0.53601941,  0.26528774,  0.        ,  0.        ],\n",
       "       [ 0.56598398,  0.06065337,  0.        ,  0.        ],\n",
       "       [ 0.15113329, -0.14304269,  0.        ,  0.        ],\n",
       "       [ 0.57174634, -0.40514062,  0.        ,  0.        ],\n",
       "       [ 0.40124114,  0.24774949,  0.        ,  0.        ],\n",
       "       [ 0.26553189, -0.17276726,  0.        ,  0.        ],\n",
       "       [ 0.48273639, -0.04795907,  0.        ,  0.        ],\n",
       "       [ 0.34482921, -0.10971106,  0.        ,  0.        ],\n",
       "       [-1.34928339,  0.32626566,  0.        ,  0.        ],\n",
       "       [ 0.31605615, -0.14470068,  0.        ,  0.        ],\n",
       "       [ 0.05023333, -0.54036372,  0.        ,  0.        ],\n",
       "       [-1.24177384, -0.21963351,  0.        ,  0.        ],\n",
       "       [-1.12860569,  0.73308981,  0.        ,  0.        ],\n",
       "       [ 0.52336538, -0.44270002,  0.        ,  0.        ],\n",
       "       [ 0.19918574, -0.21021145,  0.        ,  0.        ],\n",
       "       [-1.20420579,  0.08874244,  0.        ,  0.        ],\n",
       "       [-1.38641087, -0.43927465,  0.        ,  0.        ],\n",
       "       [ 0.57699773, -0.19757238,  0.        ,  0.        ],\n",
       "       [-1.47767609,  0.22881434,  0.        ,  0.        ],\n",
       "       [-1.06696075,  0.5074374 ,  0.        ,  0.        ],\n",
       "       [ 0.23816689, -0.0412381 ,  0.        ,  0.        ],\n",
       "       [-0.39770578, -0.88956052,  0.        ,  0.        ],\n",
       "       [-1.13023028,  0.16042827,  0.        ,  0.        ]])"
      ]
     },
     "execution_count": 27,
     "metadata": {},
     "output_type": "execute_result"
    }
   ],
   "source": [
    "### 9.降维算法（Dimensionality Reduction Algorithms）\n",
    "\n",
    "#### 9.1 主成分分析\n",
    "# 从 sklean 中导入函数\n",
    "from sklearn import decomposition\n",
    "pca = decomposition.PCA( n_components= 3 ) \n",
    "# n_components =min(n_sample, n_features)\n",
    "\n",
    "# 进行模型拟合，训练集\n",
    "train_reduced = pca.fit_transform(X_train)\n",
    "\n",
    "# 输出预测值\n",
    "test_reduced = pca.transform(X_test)\n",
    "test_reduced\n",
    "\n",
    "#### 9.2 因子分析（Factor analysis） \n",
    "# 从 sklean 中导入函数\n",
    "from sklearn import decomposition\n",
    "factor = decomposition.FactorAnalysis()\n",
    "\n",
    "# 进行模型拟合，训练集\n",
    "train_reduced = factor.fit_transform(X_train)\n",
    "\n",
    "# 输出预测值\n",
    "test_reduced = factor.transform(X_test)\n",
    "test_reduced"
   ]
  },
  {
   "cell_type": "code",
   "execution_count": null,
   "metadata": {},
   "outputs": [],
   "source": [
    "### 10.梯度提升分类器(Gradient Boosing) 和 Ada Boost\n",
    "# 从 sklean 中导入函数\n",
    "from sklearn.ensemble import GradientBoostingClassifier\n",
    "\n",
    "model = GradientBoostingClassifier(n_estimators=100, learning_rate=1.0, max_depth=1, random_state=0)\n",
    "\n",
    "# 进行模型拟合，训练集\n",
    "model.fit(X_train, y_train)\n",
    "\n",
    "# 输出预测值\n",
    "predicted= model.predict(X_test)\n",
    "predicted\n",
    "\n",
    "# 打印得分\n",
    "print(\"Test set score: {:.2f}\".format(model.score(X_train, y_train)))\n",
    "print(\"Test set score: {:.2f}\".format(model.score(X_test, y_test)))"
   ]
  }
 ],
 "metadata": {
  "kernelspec": {
   "display_name": "Python 3.9.12 ('base')",
   "language": "python",
   "name": "python3"
  },
  "language_info": {
   "codemirror_mode": {
    "name": "ipython",
    "version": 3
   },
   "file_extension": ".py",
   "mimetype": "text/x-python",
   "name": "python",
   "nbconvert_exporter": "python",
   "pygments_lexer": "ipython3",
   "version": "3.9.13"
  },
  "orig_nbformat": 4,
  "vscode": {
   "interpreter": {
    "hash": "233614838d7ca9e7996b7dd22e8e0fe34cb328365f2090ce0397742a7d8b69dc"
   }
  }
 },
 "nbformat": 4,
 "nbformat_minor": 2
}
