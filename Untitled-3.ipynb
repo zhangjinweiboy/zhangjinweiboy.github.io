{
 "cells": [
  {
   "cell_type": "code",
   "execution_count": 117,
   "metadata": {},
   "outputs": [
    {
     "data": {
      "text/html": [
       "<div>\n",
       "<style scoped>\n",
       "    .dataframe tbody tr th:only-of-type {\n",
       "        vertical-align: middle;\n",
       "    }\n",
       "\n",
       "    .dataframe tbody tr th {\n",
       "        vertical-align: top;\n",
       "    }\n",
       "\n",
       "    .dataframe thead th {\n",
       "        text-align: right;\n",
       "    }\n",
       "</style>\n",
       "<table border=\"1\" class=\"dataframe\">\n",
       "  <thead>\n",
       "    <tr style=\"text-align: right;\">\n",
       "      <th></th>\n",
       "      <th>时间</th>\n",
       "      <th>反应池7D10</th>\n",
       "      <th>反应池7D90</th>\n",
       "      <th>反应池7D50</th>\n",
       "      <th>反应池7矾花均一性指标</th>\n",
       "      <th>反应池7矾花平均密度</th>\n",
       "      <th>反应池7矾花平均直径</th>\n",
       "      <th>小颗粒矾花占比</th>\n",
       "      <th>系统实时出水浊度</th>\n",
       "      <th>系统进水浊度</th>\n",
       "    </tr>\n",
       "  </thead>\n",
       "  <tbody>\n",
       "    <tr>\n",
       "      <th>0</th>\n",
       "      <td>T 2022-09-03 00:00:00</td>\n",
       "      <td>0.08</td>\n",
       "      <td>0.91</td>\n",
       "      <td>0.20</td>\n",
       "      <td>4.43</td>\n",
       "      <td>0.63</td>\n",
       "      <td>0.83</td>\n",
       "      <td>0.84</td>\n",
       "      <td>NaN</td>\n",
       "      <td>NaN</td>\n",
       "    </tr>\n",
       "    <tr>\n",
       "      <th>1</th>\n",
       "      <td>T 2022-09-03 00:00:08.188</td>\n",
       "      <td>0.10</td>\n",
       "      <td>0.49</td>\n",
       "      <td>0.28</td>\n",
       "      <td>1.39</td>\n",
       "      <td>0.02</td>\n",
       "      <td>0.28</td>\n",
       "      <td>1.00</td>\n",
       "      <td>0.24</td>\n",
       "      <td>46.47</td>\n",
       "    </tr>\n",
       "    <tr>\n",
       "      <th>2</th>\n",
       "      <td>T 2022-09-03 00:00:10</td>\n",
       "      <td>NaN</td>\n",
       "      <td>NaN</td>\n",
       "      <td>NaN</td>\n",
       "      <td>NaN</td>\n",
       "      <td>NaN</td>\n",
       "      <td>NaN</td>\n",
       "      <td>NaN</td>\n",
       "      <td>NaN</td>\n",
       "      <td>NaN</td>\n",
       "    </tr>\n",
       "    <tr>\n",
       "      <th>3</th>\n",
       "      <td>T 2022-09-03 00:00:18.336</td>\n",
       "      <td>0.12</td>\n",
       "      <td>0.27</td>\n",
       "      <td>0.25</td>\n",
       "      <td>0.60</td>\n",
       "      <td>0.01</td>\n",
       "      <td>0.22</td>\n",
       "      <td>1.00</td>\n",
       "      <td>0.24</td>\n",
       "      <td>46.47</td>\n",
       "    </tr>\n",
       "    <tr>\n",
       "      <th>4</th>\n",
       "      <td>T 2022-09-03 00:00:20</td>\n",
       "      <td>NaN</td>\n",
       "      <td>NaN</td>\n",
       "      <td>NaN</td>\n",
       "      <td>NaN</td>\n",
       "      <td>NaN</td>\n",
       "      <td>NaN</td>\n",
       "      <td>NaN</td>\n",
       "      <td>NaN</td>\n",
       "      <td>NaN</td>\n",
       "    </tr>\n",
       "  </tbody>\n",
       "</table>\n",
       "</div>"
      ],
      "text/plain": [
       "                          时间  反应池7D10  反应池7D90  反应池7D50  反应池7矾花均一性指标  \\\n",
       "0      T 2022-09-03 00:00:00     0.08     0.91     0.20         4.43   \n",
       "1  T 2022-09-03 00:00:08.188     0.10     0.49     0.28         1.39   \n",
       "2      T 2022-09-03 00:00:10      NaN      NaN      NaN          NaN   \n",
       "3  T 2022-09-03 00:00:18.336     0.12     0.27     0.25         0.60   \n",
       "4      T 2022-09-03 00:00:20      NaN      NaN      NaN          NaN   \n",
       "\n",
       "   反应池7矾花平均密度  反应池7矾花平均直径  小颗粒矾花占比  系统实时出水浊度  系统进水浊度  \n",
       "0        0.63        0.83     0.84       NaN     NaN  \n",
       "1        0.02        0.28     1.00      0.24   46.47  \n",
       "2         NaN         NaN      NaN       NaN     NaN  \n",
       "3        0.01        0.22     1.00      0.24   46.47  \n",
       "4         NaN         NaN      NaN       NaN     NaN  "
      ]
     },
     "execution_count": 117,
     "metadata": {},
     "output_type": "execute_result"
    }
   ],
   "source": [
    "# 加载包以及更改工作路径\n",
    "import os\n",
    "import pandas as pd\n",
    "import numpy as np\n",
    "import matplotlib.pyplot as plt\n",
    "import seaborn as sns\n",
    "# 获得当前工作路径\n",
    "os.getcwd()    \n",
    "# 修改当前工作目录\n",
    "os.chdir('/Users/zhangjinwei/Desktop/')\n",
    "# 检查当前工作路径\n",
    "os.getcwd()\n",
    "\n",
    "df = pd.read_csv(\"20220903_20220906.csv\", header=1 )\n",
    "df.head()"
   ]
  },
  {
   "cell_type": "code",
   "execution_count": 2,
   "metadata": {},
   "outputs": [],
   "source": [
    "def missvalve(df):\n",
    "    print( \"---------------缺失值的检测与处理部分---------------\\n\")\n",
    "    print(\"{:<30s} {:<50s}\".format( \"列标签\",  \"缺失值个数 \\n\" ) )\n",
    "    df.replace(0, np.nan, inplace = True)\n",
    "    neq_sum = 0\n",
    "    for item in df.columns:\n",
    "        neg_item = df[item].isnull()\n",
    "        print(\"{:<30s} {:<50s}\".format( item,  str( neg_item.sum() ) ) )\n",
    "        neq_sum = neq_sum + neg_item.sum()\n",
    "    if neq_sum == 0:   \n",
    "        print( '\\n--------------在所有列中共有 ' + str( neq_sum )  + ' 个缺失值-------------')\n",
    "        print( \"----------恭喜你，已经得到了没有缺失值的数据-----------\")\n",
    "    else:      \n",
    "        print( '\\n--------------在所有列中共有 ' + str( neq_sum )  + ' 个缺失值-------------')\n",
    "        print( \"--------下面将先删除数据中的每行保留值小于4的缺失行--------\")\n",
    "        df.dropna( thresh=4 , inplace =True)\n",
    "        print( \"--------------下面将对剩下的缺失值按行填充---------------\")\n",
    "        df.fillna(method='bfill', inplace =True) \n",
    "        df.fillna(method='ffill', inplace =True)\n",
    "        neq_sum = 0\n",
    "        for item in df.columns:\n",
    "            neg_item = df[item].isnull()\n",
    "            neq_sum = neq_sum + neg_item.sum()\n",
    "        if neq_sum == 0:\n",
    "            print( '\\n--------------在所有列中共有 ' + str( neq_sum )  + ' 个缺失值-------------')\n",
    "            print( \"----------恭喜你，已经得到了没有缺失值的数据----------\")\n",
    "        else:\n",
    "            df = df_drop.na() \n",
    "            print( '\\n------------在所有列中共有 ' + '0'  + ' 个缺失值-----------')\n",
    "            print( \"-----------恭喜你，已经得到了没有缺失值的数据-----------\")   "
   ]
  },
  {
   "cell_type": "code",
   "execution_count": 3,
   "metadata": {},
   "outputs": [],
   "source": [
    "def duplicatevalve(df):\n",
    "    print( \"----------------重复值的检测与处理部分---------------\\n\")\n",
    "    print(\"{:<30s} {:<50s}\".format( \"列标签\",  \"重复值个数 \\n\" ) )\n",
    "    neq_sum = 0\n",
    "    for item in df.columns:\n",
    "        neg_item = df[item].duplicated()\n",
    "        print(\"{:<30s} {:<50s}\".format( item,  str( neg_item.sum() ) ) )\n",
    "        neq_sum = neq_sum + neg_item.sum()\n",
    "    if neq_sum == 0:   \n",
    "        print( '\\n------------在所有列中共有 ' + str( neq_sum )  + ' 个重复值-----------\\n' )\n",
    "        print( \"-----------恭喜你，已经得到了没有重复值的数据----------\")\n",
    "    else:      \n",
    "        print( '\\n------------在所有列中共有 ' + str( neq_sum )  + ' 个重复值-----------\\n' )\n",
    "        print( \"-----------下面将先删除数据中完全重复的行数据----------\" )\n",
    "        # 所有字段相同 去重\n",
    "        df.drop_duplicates(subset=None, keep='first', inplace =True ) \n",
    "        # 特定字段相同 去重\n",
    "        # df.drop_duplicates(subset=\"sh_name\", keep='first', inplace=False)\n",
    "        # df.drop_duplicates(subset=[\"sh_name\",\"fq7_name\"], keep='first', inplace=False)\n",
    "        print( \"-----------恭喜你，已经得到了具有唯一值的数据----------\" )"
   ]
  },
  {
   "cell_type": "code",
   "execution_count": 118,
   "metadata": {},
   "outputs": [
    {
     "name": "stdout",
     "output_type": "stream",
     "text": [
      "---------------缺失值的检测与处理部分---------------\n",
      "\n",
      "列标签                            缺失值个数 \n",
      "                                           \n",
      "反应池7矾花均一性指标                    39001                                             \n",
      "反应池7矾花平均密度                     40379                                             \n",
      "反应池7矾花平均直径                     37318                                             \n",
      "小颗粒矾花占比                        37370                                             \n",
      "系统实时出水浊度                       29222                                             \n",
      "系统进水浊度                         29222                                             \n",
      "\n",
      "--------------在所有列中共有 212512 个缺失值-------------\n",
      "--------下面将先删除数据中的每行保留值小于4的缺失行--------\n",
      "--------------下面将对剩下的缺失值按行填充---------------\n",
      "\n",
      "--------------在所有列中共有 0 个缺失值-------------\n",
      "----------恭喜你，已经得到了没有缺失值的数据----------\n",
      "----------------重复值的检测与处理部分---------------\n",
      "\n",
      "列标签                            重复值个数 \n",
      "                                           \n",
      "反应池7矾花均一性指标                    20242                                             \n",
      "反应池7矾花平均密度                     20359                                             \n",
      "反应池7矾花平均直径                     20789                                             \n",
      "小颗粒矾花占比                        20962                                             \n",
      "系统实时出水浊度                       21000                                             \n",
      "系统进水浊度                         20733                                             \n",
      "\n",
      "------------在所有列中共有 124085 个重复值-----------\n",
      "\n",
      "-----------下面将先删除数据中完全重复的行数据----------\n",
      "-----------恭喜你，已经得到了具有唯一值的数据----------\n"
     ]
    }
   ],
   "source": [
    "# 取出要用的指标\n",
    "df1 = df.iloc[: , 4:10]\n",
    "df1.head()\n",
    "missvalve(df1)\n",
    "duplicatevalve(df1)\n",
    "df1.to_csv(\"ceshi.csv\", encoding=\"utf_8_sig\")"
   ]
  },
  {
   "cell_type": "code",
   "execution_count": 14,
   "metadata": {},
   "outputs": [
    {
     "data": {
      "text/html": [
       "<div>\n",
       "<style scoped>\n",
       "    .dataframe tbody tr th:only-of-type {\n",
       "        vertical-align: middle;\n",
       "    }\n",
       "\n",
       "    .dataframe tbody tr th {\n",
       "        vertical-align: top;\n",
       "    }\n",
       "\n",
       "    .dataframe thead th {\n",
       "        text-align: right;\n",
       "    }\n",
       "</style>\n",
       "<table border=\"1\" class=\"dataframe\">\n",
       "  <thead>\n",
       "    <tr style=\"text-align: right;\">\n",
       "      <th></th>\n",
       "      <th>反应池7矾花均一性指标</th>\n",
       "      <th>反应池7矾花平均密度</th>\n",
       "      <th>反应池7矾花平均直径</th>\n",
       "      <th>小颗粒矾花占比</th>\n",
       "      <th>系统实时出水浊度</th>\n",
       "    </tr>\n",
       "  </thead>\n",
       "  <tbody>\n",
       "    <tr>\n",
       "      <th>0</th>\n",
       "      <td>4.43</td>\n",
       "      <td>0.63</td>\n",
       "      <td>0.83</td>\n",
       "      <td>0.84</td>\n",
       "      <td>0.24</td>\n",
       "    </tr>\n",
       "    <tr>\n",
       "      <th>1</th>\n",
       "      <td>1.39</td>\n",
       "      <td>0.02</td>\n",
       "      <td>0.28</td>\n",
       "      <td>1.00</td>\n",
       "      <td>0.24</td>\n",
       "    </tr>\n",
       "    <tr>\n",
       "      <th>2</th>\n",
       "      <td>0.60</td>\n",
       "      <td>0.01</td>\n",
       "      <td>0.22</td>\n",
       "      <td>1.00</td>\n",
       "      <td>0.24</td>\n",
       "    </tr>\n",
       "    <tr>\n",
       "      <th>3</th>\n",
       "      <td>1.56</td>\n",
       "      <td>0.01</td>\n",
       "      <td>0.18</td>\n",
       "      <td>1.00</td>\n",
       "      <td>0.24</td>\n",
       "    </tr>\n",
       "    <tr>\n",
       "      <th>4</th>\n",
       "      <td>2.00</td>\n",
       "      <td>0.25</td>\n",
       "      <td>0.55</td>\n",
       "      <td>0.92</td>\n",
       "      <td>0.24</td>\n",
       "    </tr>\n",
       "  </tbody>\n",
       "</table>\n",
       "</div>"
      ],
      "text/plain": [
       "   反应池7矾花均一性指标  反应池7矾花平均密度  反应池7矾花平均直径  小颗粒矾花占比  系统实时出水浊度\n",
       "0         4.43        0.63        0.83     0.84      0.24\n",
       "1         1.39        0.02        0.28     1.00      0.24\n",
       "2         0.60        0.01        0.22     1.00      0.24\n",
       "3         1.56        0.01        0.18     1.00      0.24\n",
       "4         2.00        0.25        0.55     0.92      0.24"
      ]
     },
     "execution_count": 14,
     "metadata": {},
     "output_type": "execute_result"
    }
   ],
   "source": [
    "df2 = pd.read_csv(\"ceshi.csv\", header=0 )\n",
    "df2 = df2.iloc[:,1:6]\n",
    "df2.head()"
   ]
  },
  {
   "cell_type": "code",
   "execution_count": 45,
   "metadata": {},
   "outputs": [
    {
     "data": {
      "text/html": [
       "<div>\n",
       "<style scoped>\n",
       "    .dataframe tbody tr th:only-of-type {\n",
       "        vertical-align: middle;\n",
       "    }\n",
       "\n",
       "    .dataframe tbody tr th {\n",
       "        vertical-align: top;\n",
       "    }\n",
       "\n",
       "    .dataframe thead th {\n",
       "        text-align: right;\n",
       "    }\n",
       "</style>\n",
       "<table border=\"1\" class=\"dataframe\">\n",
       "  <thead>\n",
       "    <tr style=\"text-align: right;\">\n",
       "      <th></th>\n",
       "      <th>count</th>\n",
       "      <th>mean</th>\n",
       "      <th>std</th>\n",
       "      <th>min</th>\n",
       "      <th>25%</th>\n",
       "      <th>50%</th>\n",
       "      <th>75%</th>\n",
       "      <th>max</th>\n",
       "    </tr>\n",
       "  </thead>\n",
       "  <tbody>\n",
       "    <tr>\n",
       "      <th>反应池7矾花均一性指标</th>\n",
       "      <td>20988.0</td>\n",
       "      <td>2.31</td>\n",
       "      <td>1.83</td>\n",
       "      <td>0.02</td>\n",
       "      <td>1.59</td>\n",
       "      <td>2.31</td>\n",
       "      <td>2.75</td>\n",
       "      <td>54.20</td>\n",
       "    </tr>\n",
       "    <tr>\n",
       "      <th>反应池7矾花平均密度</th>\n",
       "      <td>20988.0</td>\n",
       "      <td>0.67</td>\n",
       "      <td>1.08</td>\n",
       "      <td>0.01</td>\n",
       "      <td>0.03</td>\n",
       "      <td>0.21</td>\n",
       "      <td>0.85</td>\n",
       "      <td>10.96</td>\n",
       "    </tr>\n",
       "    <tr>\n",
       "      <th>反应池7矾花平均直径</th>\n",
       "      <td>20988.0</td>\n",
       "      <td>0.40</td>\n",
       "      <td>0.23</td>\n",
       "      <td>0.04</td>\n",
       "      <td>0.28</td>\n",
       "      <td>0.40</td>\n",
       "      <td>0.49</td>\n",
       "      <td>7.31</td>\n",
       "    </tr>\n",
       "    <tr>\n",
       "      <th>小颗粒矾花占比</th>\n",
       "      <td>20988.0</td>\n",
       "      <td>0.92</td>\n",
       "      <td>0.08</td>\n",
       "      <td>0.20</td>\n",
       "      <td>0.87</td>\n",
       "      <td>0.93</td>\n",
       "      <td>1.00</td>\n",
       "      <td>1.00</td>\n",
       "    </tr>\n",
       "    <tr>\n",
       "      <th>系统实时出水浊度</th>\n",
       "      <td>20988.0</td>\n",
       "      <td>0.32</td>\n",
       "      <td>0.03</td>\n",
       "      <td>0.23</td>\n",
       "      <td>0.31</td>\n",
       "      <td>0.33</td>\n",
       "      <td>0.33</td>\n",
       "      <td>0.36</td>\n",
       "    </tr>\n",
       "  </tbody>\n",
       "</table>\n",
       "</div>"
      ],
      "text/plain": [
       "               count  mean   std   min   25%   50%   75%    max\n",
       "反应池7矾花均一性指标  20988.0  2.31  1.83  0.02  1.59  2.31  2.75  54.20\n",
       "反应池7矾花平均密度   20988.0  0.67  1.08  0.01  0.03  0.21  0.85  10.96\n",
       "反应池7矾花平均直径   20988.0  0.40  0.23  0.04  0.28  0.40  0.49   7.31\n",
       "小颗粒矾花占比      20988.0  0.92  0.08  0.20  0.87  0.93  1.00   1.00\n",
       "系统实时出水浊度     20988.0  0.32  0.03  0.23  0.31  0.33  0.33   0.36"
      ]
     },
     "execution_count": 45,
     "metadata": {},
     "output_type": "execute_result"
    }
   ],
   "source": [
    "df2.describe().round(2).T"
   ]
  },
  {
   "cell_type": "code",
   "execution_count": 120,
   "metadata": {},
   "outputs": [
    {
     "name": "stderr",
     "output_type": "stream",
     "text": [
      "/Users/zhangjinwei/opt/anaconda3/lib/python3.9/site-packages/seaborn/utils.py:95: UserWarning:\n",
      "\n",
      "Glyph 21453 (\\N{CJK UNIFIED IDEOGRAPH-53CD}) missing from current font.\n",
      "\n",
      "/Users/zhangjinwei/opt/anaconda3/lib/python3.9/site-packages/seaborn/utils.py:95: UserWarning:\n",
      "\n",
      "Glyph 24212 (\\N{CJK UNIFIED IDEOGRAPH-5E94}) missing from current font.\n",
      "\n",
      "/Users/zhangjinwei/opt/anaconda3/lib/python3.9/site-packages/seaborn/utils.py:95: UserWarning:\n",
      "\n",
      "Glyph 27744 (\\N{CJK UNIFIED IDEOGRAPH-6C60}) missing from current font.\n",
      "\n",
      "/Users/zhangjinwei/opt/anaconda3/lib/python3.9/site-packages/seaborn/utils.py:95: UserWarning:\n",
      "\n",
      "Glyph 30718 (\\N{CJK UNIFIED IDEOGRAPH-77FE}) missing from current font.\n",
      "\n",
      "/Users/zhangjinwei/opt/anaconda3/lib/python3.9/site-packages/seaborn/utils.py:95: UserWarning:\n",
      "\n",
      "Glyph 33457 (\\N{CJK UNIFIED IDEOGRAPH-82B1}) missing from current font.\n",
      "\n",
      "/Users/zhangjinwei/opt/anaconda3/lib/python3.9/site-packages/seaborn/utils.py:95: UserWarning:\n",
      "\n",
      "Glyph 22343 (\\N{CJK UNIFIED IDEOGRAPH-5747}) missing from current font.\n",
      "\n",
      "/Users/zhangjinwei/opt/anaconda3/lib/python3.9/site-packages/seaborn/utils.py:95: UserWarning:\n",
      "\n",
      "Glyph 19968 (\\N{CJK UNIFIED IDEOGRAPH-4E00}) missing from current font.\n",
      "\n",
      "/Users/zhangjinwei/opt/anaconda3/lib/python3.9/site-packages/seaborn/utils.py:95: UserWarning:\n",
      "\n",
      "Glyph 24615 (\\N{CJK UNIFIED IDEOGRAPH-6027}) missing from current font.\n",
      "\n",
      "/Users/zhangjinwei/opt/anaconda3/lib/python3.9/site-packages/seaborn/utils.py:95: UserWarning:\n",
      "\n",
      "Glyph 25351 (\\N{CJK UNIFIED IDEOGRAPH-6307}) missing from current font.\n",
      "\n",
      "/Users/zhangjinwei/opt/anaconda3/lib/python3.9/site-packages/seaborn/utils.py:95: UserWarning:\n",
      "\n",
      "Glyph 26631 (\\N{CJK UNIFIED IDEOGRAPH-6807}) missing from current font.\n",
      "\n",
      "/Users/zhangjinwei/opt/anaconda3/lib/python3.9/site-packages/seaborn/utils.py:95: UserWarning:\n",
      "\n",
      "Glyph 24179 (\\N{CJK UNIFIED IDEOGRAPH-5E73}) missing from current font.\n",
      "\n",
      "/Users/zhangjinwei/opt/anaconda3/lib/python3.9/site-packages/seaborn/utils.py:95: UserWarning:\n",
      "\n",
      "Glyph 23494 (\\N{CJK UNIFIED IDEOGRAPH-5BC6}) missing from current font.\n",
      "\n",
      "/Users/zhangjinwei/opt/anaconda3/lib/python3.9/site-packages/seaborn/utils.py:95: UserWarning:\n",
      "\n",
      "Glyph 24230 (\\N{CJK UNIFIED IDEOGRAPH-5EA6}) missing from current font.\n",
      "\n",
      "/Users/zhangjinwei/opt/anaconda3/lib/python3.9/site-packages/seaborn/utils.py:95: UserWarning:\n",
      "\n",
      "Glyph 30452 (\\N{CJK UNIFIED IDEOGRAPH-76F4}) missing from current font.\n",
      "\n",
      "/Users/zhangjinwei/opt/anaconda3/lib/python3.9/site-packages/seaborn/utils.py:95: UserWarning:\n",
      "\n",
      "Glyph 24452 (\\N{CJK UNIFIED IDEOGRAPH-5F84}) missing from current font.\n",
      "\n",
      "/Users/zhangjinwei/opt/anaconda3/lib/python3.9/site-packages/seaborn/utils.py:95: UserWarning:\n",
      "\n",
      "Glyph 23567 (\\N{CJK UNIFIED IDEOGRAPH-5C0F}) missing from current font.\n",
      "\n",
      "/Users/zhangjinwei/opt/anaconda3/lib/python3.9/site-packages/seaborn/utils.py:95: UserWarning:\n",
      "\n",
      "Glyph 39063 (\\N{CJK UNIFIED IDEOGRAPH-9897}) missing from current font.\n",
      "\n",
      "/Users/zhangjinwei/opt/anaconda3/lib/python3.9/site-packages/seaborn/utils.py:95: UserWarning:\n",
      "\n",
      "Glyph 31890 (\\N{CJK UNIFIED IDEOGRAPH-7C92}) missing from current font.\n",
      "\n",
      "/Users/zhangjinwei/opt/anaconda3/lib/python3.9/site-packages/seaborn/utils.py:95: UserWarning:\n",
      "\n",
      "Glyph 21344 (\\N{CJK UNIFIED IDEOGRAPH-5360}) missing from current font.\n",
      "\n",
      "/Users/zhangjinwei/opt/anaconda3/lib/python3.9/site-packages/seaborn/utils.py:95: UserWarning:\n",
      "\n",
      "Glyph 27604 (\\N{CJK UNIFIED IDEOGRAPH-6BD4}) missing from current font.\n",
      "\n",
      "/Users/zhangjinwei/opt/anaconda3/lib/python3.9/site-packages/seaborn/utils.py:95: UserWarning:\n",
      "\n",
      "Glyph 31995 (\\N{CJK UNIFIED IDEOGRAPH-7CFB}) missing from current font.\n",
      "\n",
      "/Users/zhangjinwei/opt/anaconda3/lib/python3.9/site-packages/seaborn/utils.py:95: UserWarning:\n",
      "\n",
      "Glyph 32479 (\\N{CJK UNIFIED IDEOGRAPH-7EDF}) missing from current font.\n",
      "\n",
      "/Users/zhangjinwei/opt/anaconda3/lib/python3.9/site-packages/seaborn/utils.py:95: UserWarning:\n",
      "\n",
      "Glyph 23454 (\\N{CJK UNIFIED IDEOGRAPH-5B9E}) missing from current font.\n",
      "\n",
      "/Users/zhangjinwei/opt/anaconda3/lib/python3.9/site-packages/seaborn/utils.py:95: UserWarning:\n",
      "\n",
      "Glyph 26102 (\\N{CJK UNIFIED IDEOGRAPH-65F6}) missing from current font.\n",
      "\n",
      "/Users/zhangjinwei/opt/anaconda3/lib/python3.9/site-packages/seaborn/utils.py:95: UserWarning:\n",
      "\n",
      "Glyph 20986 (\\N{CJK UNIFIED IDEOGRAPH-51FA}) missing from current font.\n",
      "\n",
      "/Users/zhangjinwei/opt/anaconda3/lib/python3.9/site-packages/seaborn/utils.py:95: UserWarning:\n",
      "\n",
      "Glyph 27700 (\\N{CJK UNIFIED IDEOGRAPH-6C34}) missing from current font.\n",
      "\n",
      "/Users/zhangjinwei/opt/anaconda3/lib/python3.9/site-packages/seaborn/utils.py:95: UserWarning:\n",
      "\n",
      "Glyph 27978 (\\N{CJK UNIFIED IDEOGRAPH-6D4A}) missing from current font.\n",
      "\n"
     ]
    },
    {
     "data": {
      "text/plain": [
       "<AxesSubplot:>"
      ]
     },
     "execution_count": 120,
     "metadata": {},
     "output_type": "execute_result"
    },
    {
     "name": "stderr",
     "output_type": "stream",
     "text": [
      "/Users/zhangjinwei/opt/anaconda3/lib/python3.9/site-packages/IPython/core/events.py:89: UserWarning:\n",
      "\n",
      "Glyph 21453 (\\N{CJK UNIFIED IDEOGRAPH-53CD}) missing from current font.\n",
      "\n",
      "/Users/zhangjinwei/opt/anaconda3/lib/python3.9/site-packages/IPython/core/events.py:89: UserWarning:\n",
      "\n",
      "Glyph 24212 (\\N{CJK UNIFIED IDEOGRAPH-5E94}) missing from current font.\n",
      "\n",
      "/Users/zhangjinwei/opt/anaconda3/lib/python3.9/site-packages/IPython/core/events.py:89: UserWarning:\n",
      "\n",
      "Glyph 27744 (\\N{CJK UNIFIED IDEOGRAPH-6C60}) missing from current font.\n",
      "\n",
      "/Users/zhangjinwei/opt/anaconda3/lib/python3.9/site-packages/IPython/core/events.py:89: UserWarning:\n",
      "\n",
      "Glyph 30718 (\\N{CJK UNIFIED IDEOGRAPH-77FE}) missing from current font.\n",
      "\n",
      "/Users/zhangjinwei/opt/anaconda3/lib/python3.9/site-packages/IPython/core/events.py:89: UserWarning:\n",
      "\n",
      "Glyph 33457 (\\N{CJK UNIFIED IDEOGRAPH-82B1}) missing from current font.\n",
      "\n",
      "/Users/zhangjinwei/opt/anaconda3/lib/python3.9/site-packages/IPython/core/events.py:89: UserWarning:\n",
      "\n",
      "Glyph 22343 (\\N{CJK UNIFIED IDEOGRAPH-5747}) missing from current font.\n",
      "\n",
      "/Users/zhangjinwei/opt/anaconda3/lib/python3.9/site-packages/IPython/core/events.py:89: UserWarning:\n",
      "\n",
      "Glyph 19968 (\\N{CJK UNIFIED IDEOGRAPH-4E00}) missing from current font.\n",
      "\n",
      "/Users/zhangjinwei/opt/anaconda3/lib/python3.9/site-packages/IPython/core/events.py:89: UserWarning:\n",
      "\n",
      "Glyph 24615 (\\N{CJK UNIFIED IDEOGRAPH-6027}) missing from current font.\n",
      "\n",
      "/Users/zhangjinwei/opt/anaconda3/lib/python3.9/site-packages/IPython/core/events.py:89: UserWarning:\n",
      "\n",
      "Glyph 25351 (\\N{CJK UNIFIED IDEOGRAPH-6307}) missing from current font.\n",
      "\n",
      "/Users/zhangjinwei/opt/anaconda3/lib/python3.9/site-packages/IPython/core/events.py:89: UserWarning:\n",
      "\n",
      "Glyph 26631 (\\N{CJK UNIFIED IDEOGRAPH-6807}) missing from current font.\n",
      "\n",
      "/Users/zhangjinwei/opt/anaconda3/lib/python3.9/site-packages/IPython/core/events.py:89: UserWarning:\n",
      "\n",
      "Glyph 24179 (\\N{CJK UNIFIED IDEOGRAPH-5E73}) missing from current font.\n",
      "\n",
      "/Users/zhangjinwei/opt/anaconda3/lib/python3.9/site-packages/IPython/core/events.py:89: UserWarning:\n",
      "\n",
      "Glyph 23494 (\\N{CJK UNIFIED IDEOGRAPH-5BC6}) missing from current font.\n",
      "\n",
      "/Users/zhangjinwei/opt/anaconda3/lib/python3.9/site-packages/IPython/core/events.py:89: UserWarning:\n",
      "\n",
      "Glyph 24230 (\\N{CJK UNIFIED IDEOGRAPH-5EA6}) missing from current font.\n",
      "\n",
      "/Users/zhangjinwei/opt/anaconda3/lib/python3.9/site-packages/IPython/core/events.py:89: UserWarning:\n",
      "\n",
      "Glyph 30452 (\\N{CJK UNIFIED IDEOGRAPH-76F4}) missing from current font.\n",
      "\n",
      "/Users/zhangjinwei/opt/anaconda3/lib/python3.9/site-packages/IPython/core/events.py:89: UserWarning:\n",
      "\n",
      "Glyph 24452 (\\N{CJK UNIFIED IDEOGRAPH-5F84}) missing from current font.\n",
      "\n",
      "/Users/zhangjinwei/opt/anaconda3/lib/python3.9/site-packages/IPython/core/events.py:89: UserWarning:\n",
      "\n",
      "Glyph 23567 (\\N{CJK UNIFIED IDEOGRAPH-5C0F}) missing from current font.\n",
      "\n",
      "/Users/zhangjinwei/opt/anaconda3/lib/python3.9/site-packages/IPython/core/events.py:89: UserWarning:\n",
      "\n",
      "Glyph 39063 (\\N{CJK UNIFIED IDEOGRAPH-9897}) missing from current font.\n",
      "\n",
      "/Users/zhangjinwei/opt/anaconda3/lib/python3.9/site-packages/IPython/core/events.py:89: UserWarning:\n",
      "\n",
      "Glyph 31890 (\\N{CJK UNIFIED IDEOGRAPH-7C92}) missing from current font.\n",
      "\n",
      "/Users/zhangjinwei/opt/anaconda3/lib/python3.9/site-packages/IPython/core/events.py:89: UserWarning:\n",
      "\n",
      "Glyph 21344 (\\N{CJK UNIFIED IDEOGRAPH-5360}) missing from current font.\n",
      "\n",
      "/Users/zhangjinwei/opt/anaconda3/lib/python3.9/site-packages/IPython/core/events.py:89: UserWarning:\n",
      "\n",
      "Glyph 27604 (\\N{CJK UNIFIED IDEOGRAPH-6BD4}) missing from current font.\n",
      "\n",
      "/Users/zhangjinwei/opt/anaconda3/lib/python3.9/site-packages/IPython/core/events.py:89: UserWarning:\n",
      "\n",
      "Glyph 31995 (\\N{CJK UNIFIED IDEOGRAPH-7CFB}) missing from current font.\n",
      "\n",
      "/Users/zhangjinwei/opt/anaconda3/lib/python3.9/site-packages/IPython/core/events.py:89: UserWarning:\n",
      "\n",
      "Glyph 32479 (\\N{CJK UNIFIED IDEOGRAPH-7EDF}) missing from current font.\n",
      "\n",
      "/Users/zhangjinwei/opt/anaconda3/lib/python3.9/site-packages/IPython/core/events.py:89: UserWarning:\n",
      "\n",
      "Glyph 23454 (\\N{CJK UNIFIED IDEOGRAPH-5B9E}) missing from current font.\n",
      "\n",
      "/Users/zhangjinwei/opt/anaconda3/lib/python3.9/site-packages/IPython/core/events.py:89: UserWarning:\n",
      "\n",
      "Glyph 26102 (\\N{CJK UNIFIED IDEOGRAPH-65F6}) missing from current font.\n",
      "\n",
      "/Users/zhangjinwei/opt/anaconda3/lib/python3.9/site-packages/IPython/core/events.py:89: UserWarning:\n",
      "\n",
      "Glyph 20986 (\\N{CJK UNIFIED IDEOGRAPH-51FA}) missing from current font.\n",
      "\n",
      "/Users/zhangjinwei/opt/anaconda3/lib/python3.9/site-packages/IPython/core/events.py:89: UserWarning:\n",
      "\n",
      "Glyph 27700 (\\N{CJK UNIFIED IDEOGRAPH-6C34}) missing from current font.\n",
      "\n",
      "/Users/zhangjinwei/opt/anaconda3/lib/python3.9/site-packages/IPython/core/events.py:89: UserWarning:\n",
      "\n",
      "Glyph 27978 (\\N{CJK UNIFIED IDEOGRAPH-6D4A}) missing from current font.\n",
      "\n",
      "/Users/zhangjinwei/opt/anaconda3/lib/python3.9/site-packages/IPython/core/pylabtools.py:151: UserWarning:\n",
      "\n",
      "Glyph 21453 (\\N{CJK UNIFIED IDEOGRAPH-53CD}) missing from current font.\n",
      "\n",
      "/Users/zhangjinwei/opt/anaconda3/lib/python3.9/site-packages/IPython/core/pylabtools.py:151: UserWarning:\n",
      "\n",
      "Glyph 24212 (\\N{CJK UNIFIED IDEOGRAPH-5E94}) missing from current font.\n",
      "\n",
      "/Users/zhangjinwei/opt/anaconda3/lib/python3.9/site-packages/IPython/core/pylabtools.py:151: UserWarning:\n",
      "\n",
      "Glyph 27744 (\\N{CJK UNIFIED IDEOGRAPH-6C60}) missing from current font.\n",
      "\n",
      "/Users/zhangjinwei/opt/anaconda3/lib/python3.9/site-packages/IPython/core/pylabtools.py:151: UserWarning:\n",
      "\n",
      "Glyph 30718 (\\N{CJK UNIFIED IDEOGRAPH-77FE}) missing from current font.\n",
      "\n",
      "/Users/zhangjinwei/opt/anaconda3/lib/python3.9/site-packages/IPython/core/pylabtools.py:151: UserWarning:\n",
      "\n",
      "Glyph 33457 (\\N{CJK UNIFIED IDEOGRAPH-82B1}) missing from current font.\n",
      "\n",
      "/Users/zhangjinwei/opt/anaconda3/lib/python3.9/site-packages/IPython/core/pylabtools.py:151: UserWarning:\n",
      "\n",
      "Glyph 22343 (\\N{CJK UNIFIED IDEOGRAPH-5747}) missing from current font.\n",
      "\n",
      "/Users/zhangjinwei/opt/anaconda3/lib/python3.9/site-packages/IPython/core/pylabtools.py:151: UserWarning:\n",
      "\n",
      "Glyph 19968 (\\N{CJK UNIFIED IDEOGRAPH-4E00}) missing from current font.\n",
      "\n",
      "/Users/zhangjinwei/opt/anaconda3/lib/python3.9/site-packages/IPython/core/pylabtools.py:151: UserWarning:\n",
      "\n",
      "Glyph 24615 (\\N{CJK UNIFIED IDEOGRAPH-6027}) missing from current font.\n",
      "\n",
      "/Users/zhangjinwei/opt/anaconda3/lib/python3.9/site-packages/IPython/core/pylabtools.py:151: UserWarning:\n",
      "\n",
      "Glyph 25351 (\\N{CJK UNIFIED IDEOGRAPH-6307}) missing from current font.\n",
      "\n",
      "/Users/zhangjinwei/opt/anaconda3/lib/python3.9/site-packages/IPython/core/pylabtools.py:151: UserWarning:\n",
      "\n",
      "Glyph 26631 (\\N{CJK UNIFIED IDEOGRAPH-6807}) missing from current font.\n",
      "\n",
      "/Users/zhangjinwei/opt/anaconda3/lib/python3.9/site-packages/IPython/core/pylabtools.py:151: UserWarning:\n",
      "\n",
      "Glyph 24179 (\\N{CJK UNIFIED IDEOGRAPH-5E73}) missing from current font.\n",
      "\n",
      "/Users/zhangjinwei/opt/anaconda3/lib/python3.9/site-packages/IPython/core/pylabtools.py:151: UserWarning:\n",
      "\n",
      "Glyph 23494 (\\N{CJK UNIFIED IDEOGRAPH-5BC6}) missing from current font.\n",
      "\n",
      "/Users/zhangjinwei/opt/anaconda3/lib/python3.9/site-packages/IPython/core/pylabtools.py:151: UserWarning:\n",
      "\n",
      "Glyph 24230 (\\N{CJK UNIFIED IDEOGRAPH-5EA6}) missing from current font.\n",
      "\n",
      "/Users/zhangjinwei/opt/anaconda3/lib/python3.9/site-packages/IPython/core/pylabtools.py:151: UserWarning:\n",
      "\n",
      "Glyph 30452 (\\N{CJK UNIFIED IDEOGRAPH-76F4}) missing from current font.\n",
      "\n",
      "/Users/zhangjinwei/opt/anaconda3/lib/python3.9/site-packages/IPython/core/pylabtools.py:151: UserWarning:\n",
      "\n",
      "Glyph 24452 (\\N{CJK UNIFIED IDEOGRAPH-5F84}) missing from current font.\n",
      "\n",
      "/Users/zhangjinwei/opt/anaconda3/lib/python3.9/site-packages/IPython/core/pylabtools.py:151: UserWarning:\n",
      "\n",
      "Glyph 23567 (\\N{CJK UNIFIED IDEOGRAPH-5C0F}) missing from current font.\n",
      "\n",
      "/Users/zhangjinwei/opt/anaconda3/lib/python3.9/site-packages/IPython/core/pylabtools.py:151: UserWarning:\n",
      "\n",
      "Glyph 39063 (\\N{CJK UNIFIED IDEOGRAPH-9897}) missing from current font.\n",
      "\n",
      "/Users/zhangjinwei/opt/anaconda3/lib/python3.9/site-packages/IPython/core/pylabtools.py:151: UserWarning:\n",
      "\n",
      "Glyph 31890 (\\N{CJK UNIFIED IDEOGRAPH-7C92}) missing from current font.\n",
      "\n",
      "/Users/zhangjinwei/opt/anaconda3/lib/python3.9/site-packages/IPython/core/pylabtools.py:151: UserWarning:\n",
      "\n",
      "Glyph 21344 (\\N{CJK UNIFIED IDEOGRAPH-5360}) missing from current font.\n",
      "\n",
      "/Users/zhangjinwei/opt/anaconda3/lib/python3.9/site-packages/IPython/core/pylabtools.py:151: UserWarning:\n",
      "\n",
      "Glyph 27604 (\\N{CJK UNIFIED IDEOGRAPH-6BD4}) missing from current font.\n",
      "\n",
      "/Users/zhangjinwei/opt/anaconda3/lib/python3.9/site-packages/IPython/core/pylabtools.py:151: UserWarning:\n",
      "\n",
      "Glyph 31995 (\\N{CJK UNIFIED IDEOGRAPH-7CFB}) missing from current font.\n",
      "\n",
      "/Users/zhangjinwei/opt/anaconda3/lib/python3.9/site-packages/IPython/core/pylabtools.py:151: UserWarning:\n",
      "\n",
      "Glyph 32479 (\\N{CJK UNIFIED IDEOGRAPH-7EDF}) missing from current font.\n",
      "\n",
      "/Users/zhangjinwei/opt/anaconda3/lib/python3.9/site-packages/IPython/core/pylabtools.py:151: UserWarning:\n",
      "\n",
      "Glyph 23454 (\\N{CJK UNIFIED IDEOGRAPH-5B9E}) missing from current font.\n",
      "\n",
      "/Users/zhangjinwei/opt/anaconda3/lib/python3.9/site-packages/IPython/core/pylabtools.py:151: UserWarning:\n",
      "\n",
      "Glyph 26102 (\\N{CJK UNIFIED IDEOGRAPH-65F6}) missing from current font.\n",
      "\n",
      "/Users/zhangjinwei/opt/anaconda3/lib/python3.9/site-packages/IPython/core/pylabtools.py:151: UserWarning:\n",
      "\n",
      "Glyph 20986 (\\N{CJK UNIFIED IDEOGRAPH-51FA}) missing from current font.\n",
      "\n",
      "/Users/zhangjinwei/opt/anaconda3/lib/python3.9/site-packages/IPython/core/pylabtools.py:151: UserWarning:\n",
      "\n",
      "Glyph 27700 (\\N{CJK UNIFIED IDEOGRAPH-6C34}) missing from current font.\n",
      "\n",
      "/Users/zhangjinwei/opt/anaconda3/lib/python3.9/site-packages/IPython/core/pylabtools.py:151: UserWarning:\n",
      "\n",
      "Glyph 27978 (\\N{CJK UNIFIED IDEOGRAPH-6D4A}) missing from current font.\n",
      "\n"
     ]
    },
    {
     "data": {
      "image/png": "[encoded data removed]",
      "text/plain": [
       "<Figure size 720x576 with 2 Axes>"
      ]
     },
     "metadata": {
      "needs_background": "light"
     },
     "output_type": "display_data"
    }
   ],
   "source": [
    "df2_corr = df2.corr(method='pearson')\n",
    "plt.figure(figsize=(10, 8))\n",
    "sns.heatmap(df2_corr, annot=True, cmap=\"mako\", annot_kws={\"size\":15})"
   ]
  },
  {
   "cell_type": "code",
   "execution_count": 46,
   "metadata": {},
   "outputs": [
    {
     "data": {
      "text/html": [
       "<div>\n",
       "<style scoped>\n",
       "    .dataframe tbody tr th:only-of-type {\n",
       "        vertical-align: middle;\n",
       "    }\n",
       "\n",
       "    .dataframe tbody tr th {\n",
       "        vertical-align: top;\n",
       "    }\n",
       "\n",
       "    .dataframe thead th {\n",
       "        text-align: right;\n",
       "    }\n",
       "</style>\n",
       "<table border=\"1\" class=\"dataframe\">\n",
       "  <thead>\n",
       "    <tr style=\"text-align: right;\">\n",
       "      <th></th>\n",
       "      <th>反应池7矾花均一性指标</th>\n",
       "      <th>反应池7矾花平均密度</th>\n",
       "      <th>反应池7矾花平均直径</th>\n",
       "      <th>小颗粒矾花占比</th>\n",
       "      <th>系统实时出水浊度</th>\n",
       "    </tr>\n",
       "  </thead>\n",
       "  <tbody>\n",
       "    <tr>\n",
       "      <th>反应池7矾花均一性指标</th>\n",
       "      <td>3.351139</td>\n",
       "      <td>0.325016</td>\n",
       "      <td>0.175829</td>\n",
       "      <td>-0.051753</td>\n",
       "      <td>0.001694</td>\n",
       "    </tr>\n",
       "    <tr>\n",
       "      <th>反应池7矾花平均密度</th>\n",
       "      <td>0.325016</td>\n",
       "      <td>1.159592</td>\n",
       "      <td>0.099363</td>\n",
       "      <td>-0.046874</td>\n",
       "      <td>0.006106</td>\n",
       "    </tr>\n",
       "    <tr>\n",
       "      <th>反应池7矾花平均直径</th>\n",
       "      <td>0.175829</td>\n",
       "      <td>0.099363</td>\n",
       "      <td>0.053917</td>\n",
       "      <td>-0.013356</td>\n",
       "      <td>0.000502</td>\n",
       "    </tr>\n",
       "    <tr>\n",
       "      <th>小颗粒矾花占比</th>\n",
       "      <td>-0.051753</td>\n",
       "      <td>-0.046874</td>\n",
       "      <td>-0.013356</td>\n",
       "      <td>0.007225</td>\n",
       "      <td>-0.000352</td>\n",
       "    </tr>\n",
       "    <tr>\n",
       "      <th>系统实时出水浊度</th>\n",
       "      <td>0.001694</td>\n",
       "      <td>0.006106</td>\n",
       "      <td>0.000502</td>\n",
       "      <td>-0.000352</td>\n",
       "      <td>0.000946</td>\n",
       "    </tr>\n",
       "  </tbody>\n",
       "</table>\n",
       "</div>"
      ],
      "text/plain": [
       "             反应池7矾花均一性指标  反应池7矾花平均密度  反应池7矾花平均直径   小颗粒矾花占比  系统实时出水浊度\n",
       "反应池7矾花均一性指标     3.351139    0.325016    0.175829 -0.051753  0.001694\n",
       "反应池7矾花平均密度      0.325016    1.159592    0.099363 -0.046874  0.006106\n",
       "反应池7矾花平均直径      0.175829    0.099363    0.053917 -0.013356  0.000502\n",
       "小颗粒矾花占比        -0.051753   -0.046874   -0.013356  0.007225 -0.000352\n",
       "系统实时出水浊度        0.001694    0.006106    0.000502 -0.000352  0.000946"
      ]
     },
     "execution_count": 46,
     "metadata": {},
     "output_type": "execute_result"
    }
   ],
   "source": [
    "#数据表中所有字段间的协方差 \n",
    "df2.cov()"
   ]
  },
  {
   "cell_type": "code",
   "execution_count": 136,
   "metadata": {},
   "outputs": [
    {
     "data": {
      "application/vnd.plotly.v1+json": {
       "config": {
        "plotlyServerURL": "https://plot.ly"
       },
       "data": [
        {
         "alignmentgroup": "True",
         "hovertemplate": "variable=反应池7矾花平均密度<br>index=%{x}<br>value=%{y}<extra></extra>",
         "legendgroup": "反应池7矾花平均密度",
         "marker": {
          "color": "#636efa",
          "pattern": {
           "shape": ""
          }
         },
         "name": "反应池7矾花平均密度",
         "offsetgroup": "反应池7矾花平均密度",
         "orientation": "v",
         "showlegend": true,
         "textposition": "auto",
         "type": "bar",
         "x": [
          0,
          1,
          2,
          3,
          4,
          5,
          6,
          7,
          8,
          9,
          10
         ],
         "xaxis": "x",
         "y": [
          0.63,
          0.02,
          0.01,
          0.01,
          0.25,
          0.03,
          0.03,
          0.03,
          0.01,
          0.01,
          0.25
         ],
         "yaxis": "y"
        },
        {
         "alignmentgroup": "True",
         "hovertemplate": "variable=反应池7矾花平均直径<br>index=%{x}<br>value=%{y}<extra></extra>",
         "legendgroup": "反应池7矾花平均直径",
         "marker": {
          "color": "#EF553B",
          "pattern": {
           "shape": ""
          }
         },
         "name": "反应池7矾花平均直径",
         "offsetgroup": "反应池7矾花平均直径",
         "orientation": "v",
         "showlegend": true,
         "textposition": "auto",
         "type": "bar",
         "x": [
          0,
          1,
          2,
          3,
          4,
          5,
          6,
          7,
          8,
          9,
          10
         ],
         "xaxis": "x",
         "y": [
          0.83,
          0.28,
          0.22,
          0.18,
          0.55,
          0.11,
          0.28,
          0.23,
          0.15,
          0.16,
          0.48
         ],
         "yaxis": "y"
        }
       ],
       "layout": {
        "barmode": "relative",
        "legend": {
         "title": {
          "text": "variable"
         },
         "tracegroupgap": 0
        },
        "margin": {
         "t": 60
        },
        "template": {
         "data": {
          "bar": [
           {
            "error_x": {
             "color": "#2a3f5f"
            },
            "error_y": {
             "color": "#2a3f5f"
            },
            "marker": {
             "line": {
              "color": "#E5ECF6",
              "width": 0.5
             },
             "pattern": {
              "fillmode": "overlay",
              "size": 10,
              "solidity": 0.2
             }
            },
            "type": "bar"
           }
          ],
          "barpolar": [
           {
            "marker": {
             "line": {
              "color": "#E5ECF6",
              "width": 0.5
             },
             "pattern": {
              "fillmode": "overlay",
              "size": 10,
              "solidity": 0.2
             }
            },
            "type": "barpolar"
           }
          ],
          "carpet": [
           {
            "aaxis": {
             "endlinecolor": "#2a3f5f",
             "gridcolor": "white",
             "linecolor": "white",
             "minorgridcolor": "white",
             "startlinecolor": "#2a3f5f"
            },
            "baxis": {
             "endlinecolor": "#2a3f5f",
             "gridcolor": "white",
             "linecolor": "white",
             "minorgridcolor": "white",
             "startlinecolor": "#2a3f5f"
            },
            "type": "carpet"
           }
          ],
          "choropleth": [
           {
            "colorbar": {
             "outlinewidth": 0,
             "ticks": ""
            },
            "type": "choropleth"
           }
          ],
          "contour": [
           {
            "colorbar": {
             "outlinewidth": 0,
             "ticks": ""
            },
            "colorscale": [
             [
              0,
              "#0d0887"
             ],
             [
              0.1111111111111111,
              "#46039f"
             ],
             [
              0.2222222222222222,
              "#7201a8"
             ],
             [
              0.3333333333333333,
              "#9c179e"
             ],
             [
              0.4444444444444444,
              "#bd3786"
             ],
             [
              0.5555555555555556,
              "#d8576b"
             ],
             [
              0.6666666666666666,
              "#ed7953"
             ],
             [
              0.7777777777777778,
              "#fb9f3a"
             ],
             [
              0.8888888888888888,
              "#fdca26"
             ],
             [
              1,
              "#f0f921"
             ]
            ],
            "type": "contour"
           }
          ],
          "contourcarpet": [
           {
            "colorbar": {
             "outlinewidth": 0,
             "ticks": ""
            },
            "type": "contourcarpet"
           }
          ],
          "heatmap": [
           {
            "colorbar": {
             "outlinewidth": 0,
             "ticks": ""
            },
            "colorscale": [
             [
              0,
              "#0d0887"
             ],
             [
              0.1111111111111111,
              "#46039f"
             ],
             [
              0.2222222222222222,
              "#7201a8"
             ],
             [
              0.3333333333333333,
              "#9c179e"
             ],
             [
              0.4444444444444444,
              "#bd3786"
             ],
             [
              0.5555555555555556,
              "#d8576b"
             ],
             [
              0.6666666666666666,
              "#ed7953"
             ],
             [
              0.7777777777777778,
              "#fb9f3a"
             ],
             [
              0.8888888888888888,
              "#fdca26"
             ],
             [
              1,
              "#f0f921"
             ]
            ],
            "type": "heatmap"
           }
          ],
          "heatmapgl": [
           {
            "colorbar": {
             "outlinewidth": 0,
             "ticks": ""
            },
            "colorscale": [
             [
              0,
              "#0d0887"
             ],
             [
              0.1111111111111111,
              "#46039f"
             ],
             [
              0.2222222222222222,
              "#7201a8"
             ],
             [
              0.3333333333333333,
              "#9c179e"
             ],
             [
              0.4444444444444444,
              "#bd3786"
             ],
             [
              0.5555555555555556,
              "#d8576b"
             ],
             [
              0.6666666666666666,
              "#ed7953"
             ],
             [
              0.7777777777777778,
              "#fb9f3a"
             ],
             [
              0.8888888888888888,
              "#fdca26"
             ],
             [
              1,
              "#f0f921"
             ]
            ],
            "type": "heatmapgl"
           }
          ],
          "histogram": [
           {
            "marker": {
             "pattern": {
              "fillmode": "overlay",
              "size": 10,
              "solidity": 0.2
             }
            },
            "type": "histogram"
           }
          ],
          "histogram2d": [
           {
            "colorbar": {
             "outlinewidth": 0,
             "ticks": ""
            },
            "colorscale": [
             [
              0,
              "#0d0887"
             ],
             [
              0.1111111111111111,
              "#46039f"
             ],
             [
              0.2222222222222222,
              "#7201a8"
             ],
             [
              0.3333333333333333,
              "#9c179e"
             ],
             [
              0.4444444444444444,
              "#bd3786"
             ],
             [
              0.5555555555555556,
              "#d8576b"
             ],
             [
              0.6666666666666666,
              "#ed7953"
             ],
             [
              0.7777777777777778,
              "#fb9f3a"
             ],
             [
              0.8888888888888888,
              "#fdca26"
             ],
             [
              1,
              "#f0f921"
             ]
            ],
            "type": "histogram2d"
           }
          ],
          "histogram2dcontour": [
           {
            "colorbar": {
             "outlinewidth": 0,
             "ticks": ""
            },
            "colorscale": [
             [
              0,
              "#0d0887"
             ],
             [
              0.1111111111111111,
              "#46039f"
             ],
             [
              0.2222222222222222,
              "#7201a8"
             ],
             [
              0.3333333333333333,
              "#9c179e"
             ],
             [
              0.4444444444444444,
              "#bd3786"
             ],
             [
              0.5555555555555556,
              "#d8576b"
             ],
             [
              0.6666666666666666,
              "#ed7953"
             ],
             [
              0.7777777777777778,
              "#fb9f3a"
             ],
             [
              0.8888888888888888,
              "#fdca26"
             ],
             [
              1,
              "#f0f921"
             ]
            ],
            "type": "histogram2dcontour"
           }
          ],
          "mesh3d": [
           {
            "colorbar": {
             "outlinewidth": 0,
             "ticks": ""
            },
            "type": "mesh3d"
           }
          ],
          "parcoords": [
           {
            "line": {
             "colorbar": {
              "outlinewidth": 0,
              "ticks": ""
             }
            },
            "type": "parcoords"
           }
          ],
          "pie": [
           {
            "automargin": true,
            "type": "pie"
           }
          ],
          "scatter": [
           {
            "fillpattern": {
             "fillmode": "overlay",
             "size": 10,
             "solidity": 0.2
            },
            "type": "scatter"
           }
          ],
          "scatter3d": [
           {
            "line": {
             "colorbar": {
              "outlinewidth": 0,
              "ticks": ""
             }
            },
            "marker": {
             "colorbar": {
              "outlinewidth": 0,
              "ticks": ""
             }
            },
            "type": "scatter3d"
           }
          ],
          "scattercarpet": [
           {
            "marker": {
             "colorbar": {
              "outlinewidth": 0,
              "ticks": ""
             }
            },
            "type": "scattercarpet"
           }
          ],
          "scattergeo": [
           {
            "marker": {
             "colorbar": {
              "outlinewidth": 0,
              "ticks": ""
             }
            },
            "type": "scattergeo"
           }
          ],
          "scattergl": [
           {
            "marker": {
             "colorbar": {
              "outlinewidth": 0,
              "ticks": ""
             }
            },
            "type": "scattergl"
           }
          ],
          "scattermapbox": [
           {
            "marker": {
             "colorbar": {
              "outlinewidth": 0,
              "ticks": ""
             }
            },
            "type": "scattermapbox"
           }
          ],
          "scatterpolar": [
           {
            "marker": {
             "colorbar": {
              "outlinewidth": 0,
              "ticks": ""
             }
            },
            "type": "scatterpolar"
           }
          ],
          "scatterpolargl": [
           {
            "marker": {
             "colorbar": {
              "outlinewidth": 0,
              "ticks": ""
             }
            },
            "type": "scatterpolargl"
           }
          ],
          "scatterternary": [
           {
            "marker": {
             "colorbar": {
              "outlinewidth": 0,
              "ticks": ""
             }
            },
            "type": "scatterternary"
           }
          ],
          "surface": [
           {
            "colorbar": {
             "outlinewidth": 0,
             "ticks": ""
            },
            "colorscale": [
             [
              0,
              "#0d0887"
             ],
             [
              0.1111111111111111,
              "#46039f"
             ],
             [
              0.2222222222222222,
              "#7201a8"
             ],
             [
              0.3333333333333333,
              "#9c179e"
             ],
             [
              0.4444444444444444,
              "#bd3786"
             ],
             [
              0.5555555555555556,
              "#d8576b"
             ],
             [
              0.6666666666666666,
              "#ed7953"
             ],
             [
              0.7777777777777778,
              "#fb9f3a"
             ],
             [
              0.8888888888888888,
              "#fdca26"
             ],
             [
              1,
              "#f0f921"
             ]
            ],
            "type": "surface"
           }
          ],
          "table": [
           {
            "cells": {
             "fill": {
              "color": "#EBF0F8"
             },
             "line": {
              "color": "white"
             }
            },
            "header": {
             "fill": {
              "color": "#C8D4E3"
             },
             "line": {
              "color": "white"
             }
            },
            "type": "table"
           }
          ]
         },
         "layout": {
          "annotationdefaults": {
           "arrowcolor": "#2a3f5f",
           "arrowhead": 0,
           "arrowwidth": 1
          },
          "autotypenumbers": "strict",
          "coloraxis": {
           "colorbar": {
            "outlinewidth": 0,
            "ticks": ""
           }
          },
          "colorscale": {
           "diverging": [
            [
             0,
             "#8e0152"
            ],
            [
             0.1,
             "#c51b7d"
            ],
            [
             0.2,
             "#de77ae"
            ],
            [
             0.3,
             "#f1b6da"
            ],
            [
             0.4,
             "#fde0ef"
            ],
            [
             0.5,
             "#f7f7f7"
            ],
            [
             0.6,
             "#e6f5d0"
            ],
            [
             0.7,
             "#b8e186"
            ],
            [
             0.8,
             "#7fbc41"
            ],
            [
             0.9,
             "#4d9221"
            ],
            [
             1,
             "#276419"
            ]
           ],
           "sequential": [
            [
             0,
             "#0d0887"
            ],
            [
             0.1111111111111111,
             "#46039f"
            ],
            [
             0.2222222222222222,
             "#7201a8"
            ],
            [
             0.3333333333333333,
             "#9c179e"
            ],
            [
             0.4444444444444444,
             "#bd3786"
            ],
            [
             0.5555555555555556,
             "#d8576b"
            ],
            [
             0.6666666666666666,
             "#ed7953"
            ],
            [
             0.7777777777777778,
             "#fb9f3a"
            ],
            [
             0.8888888888888888,
             "#fdca26"
            ],
            [
             1,
             "#f0f921"
            ]
           ],
           "sequentialminus": [
            [
             0,
             "#0d0887"
            ],
            [
             0.1111111111111111,
             "#46039f"
            ],
            [
             0.2222222222222222,
             "#7201a8"
            ],
            [
             0.3333333333333333,
             "#9c179e"
            ],
            [
             0.4444444444444444,
             "#bd3786"
            ],
            [
             0.5555555555555556,
             "#d8576b"
            ],
            [
             0.6666666666666666,
             "#ed7953"
            ],
            [
             0.7777777777777778,
             "#fb9f3a"
            ],
            [
             0.8888888888888888,
             "#fdca26"
            ],
            [
             1,
             "#f0f921"
            ]
           ]
          },
          "colorway": [
           "#636efa",
           "#EF553B",
           "#00cc96",
           "#ab63fa",
           "#FFA15A",
           "#19d3f3",
           "#FF6692",
           "#B6E880",
           "#FF97FF",
           "#FECB52"
          ],
          "font": {
           "color": "#2a3f5f"
          },
          "geo": {
           "bgcolor": "white",
           "lakecolor": "white",
           "landcolor": "#E5ECF6",
           "showlakes": true,
           "showland": true,
           "subunitcolor": "white"
          },
          "hoverlabel": {
           "align": "left"
          },
          "hovermode": "closest",
          "mapbox": {
           "style": "light"
          },
          "paper_bgcolor": "white",
          "plot_bgcolor": "#E5ECF6",
          "polar": {
           "angularaxis": {
            "gridcolor": "white",
            "linecolor": "white",
            "ticks": ""
           },
           "bgcolor": "#E5ECF6",
           "radialaxis": {
            "gridcolor": "white",
            "linecolor": "white",
            "ticks": ""
           }
          },
          "scene": {
           "xaxis": {
            "backgroundcolor": "#E5ECF6",
            "gridcolor": "white",
            "gridwidth": 2,
            "linecolor": "white",
            "showbackground": true,
            "ticks": "",
            "zerolinecolor": "white"
           },
           "yaxis": {
            "backgroundcolor": "#E5ECF6",
            "gridcolor": "white",
            "gridwidth": 2,
            "linecolor": "white",
            "showbackground": true,
            "ticks": "",
            "zerolinecolor": "white"
           },
           "zaxis": {
            "backgroundcolor": "#E5ECF6",
            "gridcolor": "white",
            "gridwidth": 2,
            "linecolor": "white",
            "showbackground": true,
            "ticks": "",
            "zerolinecolor": "white"
           }
          },
          "shapedefaults": {
           "line": {
            "color": "#2a3f5f"
           }
          },
          "ternary": {
           "aaxis": {
            "gridcolor": "white",
            "linecolor": "white",
            "ticks": ""
           },
           "baxis": {
            "gridcolor": "white",
            "linecolor": "white",
            "ticks": ""
           },
           "bgcolor": "#E5ECF6",
           "caxis": {
            "gridcolor": "white",
            "linecolor": "white",
            "ticks": ""
           }
          },
          "title": {
           "x": 0.05
          },
          "xaxis": {
           "automargin": true,
           "gridcolor": "white",
           "linecolor": "white",
           "ticks": "",
           "title": {
            "standoff": 15
           },
           "zerolinecolor": "white",
           "zerolinewidth": 2
          },
          "yaxis": {
           "automargin": true,
           "gridcolor": "white",
           "linecolor": "white",
           "ticks": "",
           "title": {
            "standoff": 15
           },
           "zerolinecolor": "white",
           "zerolinewidth": 2
          }
         }
        },
        "xaxis": {
         "anchor": "y",
         "domain": [
          0,
          1
         ],
         "title": {
          "text": "index"
         }
        },
        "yaxis": {
         "anchor": "x",
         "domain": [
          0,
          1
         ],
         "title": {
          "text": "value"
         }
        }
       }
      }
     },
     "metadata": {},
     "output_type": "display_data"
    }
   ],
   "source": [
    "from itertools import groupby\n",
    "from types import MethodType\n",
    "\n",
    "\n",
    "df2.head(11).iloc[:,1:3].plot.bar()"
   ]
  },
  {
   "cell_type": "code",
   "execution_count": 77,
   "metadata": {},
   "outputs": [
    {
     "data": {
      "application/vnd.plotly.v1+json": {
       "config": {
        "plotlyServerURL": "https://plot.ly"
       },
       "data": [
        {
         "alignmentgroup": "True",
         "hovertemplate": "variable=0<br>index=%{x}<br>value=%{y}<extra></extra>",
         "legendgroup": "0",
         "marker": {
          "color": "#636efa",
          "pattern": {
           "shape": ""
          }
         },
         "name": "0",
         "offsetgroup": "0",
         "orientation": "v",
         "showlegend": true,
         "textposition": "auto",
         "type": "bar",
         "x": [
          "反应池7矾花均一性指标",
          "反应池7矾花平均密度",
          "反应池7矾花平均直径",
          "小颗粒矾花占比",
          "系统实时出水浊度"
         ],
         "xaxis": "x",
         "y": [
          1.995973044391981,
          0.16827598783191888,
          0.2828871888512479,
          0.08856174014879015,
          3.9053564309190963e-16
         ],
         "yaxis": "y"
        }
       ],
       "layout": {
        "barmode": "relative",
        "legend": {
         "title": {
          "text": "variable"
         },
         "tracegroupgap": 0
        },
        "margin": {
         "t": 60
        },
        "template": {
         "data": {
          "bar": [
           {
            "error_x": {
             "color": "#2a3f5f"
            },
            "error_y": {
             "color": "#2a3f5f"
            },
            "marker": {
             "line": {
              "color": "#E5ECF6",
              "width": 0.5
             },
             "pattern": {
              "fillmode": "overlay",
              "size": 10,
              "solidity": 0.2
             }
            },
            "type": "bar"
           }
          ],
          "barpolar": [
           {
            "marker": {
             "line": {
              "color": "#E5ECF6",
              "width": 0.5
             },
             "pattern": {
              "fillmode": "overlay",
              "size": 10,
              "solidity": 0.2
             }
            },
            "type": "barpolar"
           }
          ],
          "carpet": [
           {
            "aaxis": {
             "endlinecolor": "#2a3f5f",
             "gridcolor": "white",
             "linecolor": "white",
             "minorgridcolor": "white",
             "startlinecolor": "#2a3f5f"
            },
            "baxis": {
             "endlinecolor": "#2a3f5f",
             "gridcolor": "white",
             "linecolor": "white",
             "minorgridcolor": "white",
             "startlinecolor": "#2a3f5f"
            },
            "type": "carpet"
           }
          ],
          "choropleth": [
           {
            "colorbar": {
             "outlinewidth": 0,
             "ticks": ""
            },
            "type": "choropleth"
           }
          ],
          "contour": [
           {
            "colorbar": {
             "outlinewidth": 0,
             "ticks": ""
            },
            "colorscale": [
             [
              0,
              "#0d0887"
             ],
             [
              0.1111111111111111,
              "#46039f"
             ],
             [
              0.2222222222222222,
              "#7201a8"
             ],
             [
              0.3333333333333333,
              "#9c179e"
             ],
             [
              0.4444444444444444,
              "#bd3786"
             ],
             [
              0.5555555555555556,
              "#d8576b"
             ],
             [
              0.6666666666666666,
              "#ed7953"
             ],
             [
              0.7777777777777778,
              "#fb9f3a"
             ],
             [
              0.8888888888888888,
              "#fdca26"
             ],
             [
              1,
              "#f0f921"
             ]
            ],
            "type": "contour"
           }
          ],
          "contourcarpet": [
           {
            "colorbar": {
             "outlinewidth": 0,
             "ticks": ""
            },
            "type": "contourcarpet"
           }
          ],
          "heatmap": [
           {
            "colorbar": {
             "outlinewidth": 0,
             "ticks": ""
            },
            "colorscale": [
             [
              0,
              "#0d0887"
             ],
             [
              0.1111111111111111,
              "#46039f"
             ],
             [
              0.2222222222222222,
              "#7201a8"
             ],
             [
              0.3333333333333333,
              "#9c179e"
             ],
             [
              0.4444444444444444,
              "#bd3786"
             ],
             [
              0.5555555555555556,
              "#d8576b"
             ],
             [
              0.6666666666666666,
              "#ed7953"
             ],
             [
              0.7777777777777778,
              "#fb9f3a"
             ],
             [
              0.8888888888888888,
              "#fdca26"
             ],
             [
              1,
              "#f0f921"
             ]
            ],
            "type": "heatmap"
           }
          ],
          "heatmapgl": [
           {
            "colorbar": {
             "outlinewidth": 0,
             "ticks": ""
            },
            "colorscale": [
             [
              0,
              "#0d0887"
             ],
             [
              0.1111111111111111,
              "#46039f"
             ],
             [
              0.2222222222222222,
              "#7201a8"
             ],
             [
              0.3333333333333333,
              "#9c179e"
             ],
             [
              0.4444444444444444,
              "#bd3786"
             ],
             [
              0.5555555555555556,
              "#d8576b"
             ],
             [
              0.6666666666666666,
              "#ed7953"
             ],
             [
              0.7777777777777778,
              "#fb9f3a"
             ],
             [
              0.8888888888888888,
              "#fdca26"
             ],
             [
              1,
              "#f0f921"
             ]
            ],
            "type": "heatmapgl"
           }
          ],
          "histogram": [
           {
            "marker": {
             "pattern": {
              "fillmode": "overlay",
              "size": 10,
              "solidity": 0.2
             }
            },
            "type": "histogram"
           }
          ],
          "histogram2d": [
           {
            "colorbar": {
             "outlinewidth": 0,
             "ticks": ""
            },
            "colorscale": [
             [
              0,
              "#0d0887"
             ],
             [
              0.1111111111111111,
              "#46039f"
             ],
             [
              0.2222222222222222,
              "#7201a8"
             ],
             [
              0.3333333333333333,
              "#9c179e"
             ],
             [
              0.4444444444444444,
              "#bd3786"
             ],
             [
              0.5555555555555556,
              "#d8576b"
             ],
             [
              0.6666666666666666,
              "#ed7953"
             ],
             [
              0.7777777777777778,
              "#fb9f3a"
             ],
             [
              0.8888888888888888,
              "#fdca26"
             ],
             [
              1,
              "#f0f921"
             ]
            ],
            "type": "histogram2d"
           }
          ],
          "histogram2dcontour": [
           {
            "colorbar": {
             "outlinewidth": 0,
             "ticks": ""
            },
            "colorscale": [
             [
              0,
              "#0d0887"
             ],
             [
              0.1111111111111111,
              "#46039f"
             ],
             [
              0.2222222222222222,
              "#7201a8"
             ],
             [
              0.3333333333333333,
              "#9c179e"
             ],
             [
              0.4444444444444444,
              "#bd3786"
             ],
             [
              0.5555555555555556,
              "#d8576b"
             ],
             [
              0.6666666666666666,
              "#ed7953"
             ],
             [
              0.7777777777777778,
              "#fb9f3a"
             ],
             [
              0.8888888888888888,
              "#fdca26"
             ],
             [
              1,
              "#f0f921"
             ]
            ],
            "type": "histogram2dcontour"
           }
          ],
          "mesh3d": [
           {
            "colorbar": {
             "outlinewidth": 0,
             "ticks": ""
            },
            "type": "mesh3d"
           }
          ],
          "parcoords": [
           {
            "line": {
             "colorbar": {
              "outlinewidth": 0,
              "ticks": ""
             }
            },
            "type": "parcoords"
           }
          ],
          "pie": [
           {
            "automargin": true,
            "type": "pie"
           }
          ],
          "scatter": [
           {
            "fillpattern": {
             "fillmode": "overlay",
             "size": 10,
             "solidity": 0.2
            },
            "type": "scatter"
           }
          ],
          "scatter3d": [
           {
            "line": {
             "colorbar": {
              "outlinewidth": 0,
              "ticks": ""
             }
            },
            "marker": {
             "colorbar": {
              "outlinewidth": 0,
              "ticks": ""
             }
            },
            "type": "scatter3d"
           }
          ],
          "scattercarpet": [
           {
            "marker": {
             "colorbar": {
              "outlinewidth": 0,
              "ticks": ""
             }
            },
            "type": "scattercarpet"
           }
          ],
          "scattergeo": [
           {
            "marker": {
             "colorbar": {
              "outlinewidth": 0,
              "ticks": ""
             }
            },
            "type": "scattergeo"
           }
          ],
          "scattergl": [
           {
            "marker": {
             "colorbar": {
              "outlinewidth": 0,
              "ticks": ""
             }
            },
            "type": "scattergl"
           }
          ],
          "scattermapbox": [
           {
            "marker": {
             "colorbar": {
              "outlinewidth": 0,
              "ticks": ""
             }
            },
            "type": "scattermapbox"
           }
          ],
          "scatterpolar": [
           {
            "marker": {
             "colorbar": {
              "outlinewidth": 0,
              "ticks": ""
             }
            },
            "type": "scatterpolar"
           }
          ],
          "scatterpolargl": [
           {
            "marker": {
             "colorbar": {
              "outlinewidth": 0,
              "ticks": ""
             }
            },
            "type": "scatterpolargl"
           }
          ],
          "scatterternary": [
           {
            "marker": {
             "colorbar": {
              "outlinewidth": 0,
              "ticks": ""
             }
            },
            "type": "scatterternary"
           }
          ],
          "surface": [
           {
            "colorbar": {
             "outlinewidth": 0,
             "ticks": ""
            },
            "colorscale": [
             [
              0,
              "#0d0887"
             ],
             [
              0.1111111111111111,
              "#46039f"
             ],
             [
              0.2222222222222222,
              "#7201a8"
             ],
             [
              0.3333333333333333,
              "#9c179e"
             ],
             [
              0.4444444444444444,
              "#bd3786"
             ],
             [
              0.5555555555555556,
              "#d8576b"
             ],
             [
              0.6666666666666666,
              "#ed7953"
             ],
             [
              0.7777777777777778,
              "#fb9f3a"
             ],
             [
              0.8888888888888888,
              "#fdca26"
             ],
             [
              1,
              "#f0f921"
             ]
            ],
            "type": "surface"
           }
          ],
          "table": [
           {
            "cells": {
             "fill": {
              "color": "#EBF0F8"
             },
             "line": {
              "color": "white"
             }
            },
            "header": {
             "fill": {
              "color": "#C8D4E3"
             },
             "line": {
              "color": "white"
             }
            },
            "type": "table"
           }
          ]
         },
         "layout": {
          "annotationdefaults": {
           "arrowcolor": "#2a3f5f",
           "arrowhead": 0,
           "arrowwidth": 1
          },
          "autotypenumbers": "strict",
          "coloraxis": {
           "colorbar": {
            "outlinewidth": 0,
            "ticks": ""
           }
          },
          "colorscale": {
           "diverging": [
            [
             0,
             "#8e0152"
            ],
            [
             0.1,
             "#c51b7d"
            ],
            [
             0.2,
             "#de77ae"
            ],
            [
             0.3,
             "#f1b6da"
            ],
            [
             0.4,
             "#fde0ef"
            ],
            [
             0.5,
             "#f7f7f7"
            ],
            [
             0.6,
             "#e6f5d0"
            ],
            [
             0.7,
             "#b8e186"
            ],
            [
             0.8,
             "#7fbc41"
            ],
            [
             0.9,
             "#4d9221"
            ],
            [
             1,
             "#276419"
            ]
           ],
           "sequential": [
            [
             0,
             "#0d0887"
            ],
            [
             0.1111111111111111,
             "#46039f"
            ],
            [
             0.2222222222222222,
             "#7201a8"
            ],
            [
             0.3333333333333333,
             "#9c179e"
            ],
            [
             0.4444444444444444,
             "#bd3786"
            ],
            [
             0.5555555555555556,
             "#d8576b"
            ],
            [
             0.6666666666666666,
             "#ed7953"
            ],
            [
             0.7777777777777778,
             "#fb9f3a"
            ],
            [
             0.8888888888888888,
             "#fdca26"
            ],
            [
             1,
             "#f0f921"
            ]
           ],
           "sequentialminus": [
            [
             0,
             "#0d0887"
            ],
            [
             0.1111111111111111,
             "#46039f"
            ],
            [
             0.2222222222222222,
             "#7201a8"
            ],
            [
             0.3333333333333333,
             "#9c179e"
            ],
            [
             0.4444444444444444,
             "#bd3786"
            ],
            [
             0.5555555555555556,
             "#d8576b"
            ],
            [
             0.6666666666666666,
             "#ed7953"
            ],
            [
             0.7777777777777778,
             "#fb9f3a"
            ],
            [
             0.8888888888888888,
             "#fdca26"
            ],
            [
             1,
             "#f0f921"
            ]
           ]
          },
          "colorway": [
           "#636efa",
           "#EF553B",
           "#00cc96",
           "#ab63fa",
           "#FFA15A",
           "#19d3f3",
           "#FF6692",
           "#B6E880",
           "#FF97FF",
           "#FECB52"
          ],
          "font": {
           "color": "#2a3f5f"
          },
          "geo": {
           "bgcolor": "white",
           "lakecolor": "white",
           "landcolor": "#E5ECF6",
           "showlakes": true,
           "showland": true,
           "subunitcolor": "white"
          },
          "hoverlabel": {
           "align": "left"
          },
          "hovermode": "closest",
          "mapbox": {
           "style": "light"
          },
          "paper_bgcolor": "white",
          "plot_bgcolor": "#E5ECF6",
          "polar": {
           "angularaxis": {
            "gridcolor": "white",
            "linecolor": "white",
            "ticks": ""
           },
           "bgcolor": "#E5ECF6",
           "radialaxis": {
            "gridcolor": "white",
            "linecolor": "white",
            "ticks": ""
           }
          },
          "scene": {
           "xaxis": {
            "backgroundcolor": "#E5ECF6",
            "gridcolor": "white",
            "gridwidth": 2,
            "linecolor": "white",
            "showbackground": true,
            "ticks": "",
            "zerolinecolor": "white"
           },
           "yaxis": {
            "backgroundcolor": "#E5ECF6",
            "gridcolor": "white",
            "gridwidth": 2,
            "linecolor": "white",
            "showbackground": true,
            "ticks": "",
            "zerolinecolor": "white"
           },
           "zaxis": {
            "backgroundcolor": "#E5ECF6",
            "gridcolor": "white",
            "gridwidth": 2,
            "linecolor": "white",
            "showbackground": true,
            "ticks": "",
            "zerolinecolor": "white"
           }
          },
          "shapedefaults": {
           "line": {
            "color": "#2a3f5f"
           }
          },
          "ternary": {
           "aaxis": {
            "gridcolor": "white",
            "linecolor": "white",
            "ticks": ""
           },
           "baxis": {
            "gridcolor": "white",
            "linecolor": "white",
            "ticks": ""
           },
           "bgcolor": "#E5ECF6",
           "caxis": {
            "gridcolor": "white",
            "linecolor": "white",
            "ticks": ""
           }
          },
          "title": {
           "x": 0.05
          },
          "xaxis": {
           "automargin": true,
           "gridcolor": "white",
           "linecolor": "white",
           "ticks": "",
           "title": {
            "standoff": 15
           },
           "zerolinecolor": "white",
           "zerolinewidth": 2
          },
          "yaxis": {
           "automargin": true,
           "gridcolor": "white",
           "linecolor": "white",
           "ticks": "",
           "title": {
            "standoff": 15
           },
           "zerolinecolor": "white",
           "zerolinewidth": 2
          }
         }
        },
        "xaxis": {
         "anchor": "y",
         "domain": [
          0,
          1
         ],
         "title": {
          "text": "index"
         }
        },
        "yaxis": {
         "anchor": "x",
         "domain": [
          0,
          1
         ],
         "title": {
          "text": "value"
         }
        }
       }
      }
     },
     "metadata": {},
     "output_type": "display_data"
    }
   ],
   "source": [
    "# 绘制折线图\n",
    "from pyecharts.charts import Line \n",
    "from pyecharts import options as opts \n",
    "# 内置主题类型可查看 pyecharts.globals.ThemeType\n",
    "from pyecharts.globals import ThemeType \n",
    "x = ( \"衬衫\", \"羊毛衫\", \"雪纺衫\", \"裤子\", \"高跟鞋\", \"袜子\" )\n",
    "y1 = ( 5, 20, 36, 10, 75, 50 )\n",
    "y2 = ( 15, 6, 45, 20, 35, 66 )\n",
    "y3 = ( 17, 8, 40, 26, 36, 66 )\n",
    "line = (\n",
    "    Line(init_opts=opts.InitOpts (theme= ThemeType.WHITE)) \n",
    "    .add_xaxis(x) \n",
    "    .add_yaxis(\"商家A\", y1, is_smooth=True,       # 此处可通过设置 is_smooth=True 使得 线段平滑\n",
    "               linestyle_opts=opts.LineStyleOpts(  width=2 ),   # 设置线的宽度\n",
    "               markpoint_opts=opts.MarkPointOpts(data=[opts.MarkPointItem(type_=\"min\")])  )    # 标记最小值点\n",
    "    .add_yaxis(\"商家B\", y2, is_smooth=True,       # 此处可通过设置 is_smooth= True 使得 线段平滑\n",
    "               markpoint_opts=opts.MarkPointOpts(data=[opts.MarkPointItem(type_=\"max\")])  )   #  标记最大值点\n",
    "    .add_yaxis(\"商家C\", y3, is_smooth=False,       # 此处可通过设置 is_smooth= False 使得 线段不平滑\n",
    "               markline_opts=opts.MarkLineOpts(data=[opts.MarkLineItem(type_=\"average\")]) )    #  均值标记线\n",
    "    .set_global_opts( title_opts=opts. TitleOpts( title =\"主标题\", subtitle=\"副标题\" ),\n",
    "                      toolbox_opts=opts.ToolboxOpts(),            # 展示工具箱\n",
    "                      legend_opts=opts.LegendOpts(is_show=True))  # 显示图例\n",
    ")\n",
    "line.render_notebook()\n",
    "\n",
    "\n",
    "# 标记点、标记线\n",
    "import pyecharts.options as opts\n",
    "from pyecharts.charts import Line\n",
    "from pyecharts.faker import Faker\n",
    "\n",
    "c = (\n",
    "    Line()\n",
    "    .add_xaxis(Faker.choose())\n",
    "    .add_yaxis(\n",
    "        \"商家A\",\n",
    "        Faker.values(),\n",
    "        markpoint_opts=opts.MarkPointOpts(data=[opts.MarkPointItem(type_=\"min\")]),\n",
    "        markline_opts=opts.MarkLineOpts(data=[opts.MarkLineItem(y = 40 )])            # 自定义标记线\n",
    "    )\n",
    "    .add_yaxis(\n",
    "        \"商家B\",\n",
    "        Faker.values(),\n",
    "        markpoint_opts=opts.MarkPointOpts(data=[opts.MarkPointItem(type_=\"max\")]),\n",
    "        markline_opts=opts.MarkLineOpts(data=[opts.MarkLineItem(type_=\"average\")])    # 均值标记线\n",
    "    )\n",
    "    .set_global_opts(title_opts=opts.TitleOpts(title=\"Line-MarkPoint\"))\n",
    ")\n",
    "c.render_notebook()\n",
    "\n",
    "\n",
    "# 线的宽度、颜色、点的颜色、宽度设置\n",
    "import pyecharts.options as opts\n",
    "from pyecharts.charts import Line\n",
    "from pyecharts.faker import Faker\n",
    "\n",
    "c = (\n",
    "    Line()\n",
    "    .add_xaxis(xaxis_data=Faker.choose())\n",
    "    .add_yaxis(\n",
    "        \"商家A\",\n",
    "        Faker.values(),\n",
    "        symbol=\"triangle\",\n",
    "        symbol_size=20,\n",
    "        linestyle_opts=opts.LineStyleOpts(color=\"green\", width=4, type_=\"dashed\"),\n",
    "        itemstyle_opts=opts.ItemStyleOpts(\n",
    "            border_width=3, border_color=\"yellow\", color=\"blue\"\n",
    "        ),\n",
    "    )\n",
    "    .set_global_opts(title_opts=opts.TitleOpts(title=\"Line-ItemStyle\"))\n",
    ")\n",
    "c.render_notebook()\n",
    "\n",
    "\n",
    "# 堆叠区域图\n",
    "import pyecharts.options as opts\n",
    "from pyecharts.charts import Line\n",
    "\n",
    "\"\"\"\n",
    "Gallery 使用 pyecharts 1.1.0\n",
    "参考地址: https://echarts.apache.org/examples/editor.html?c=area-stack\n",
    "\n",
    "目前无法实现的功能:\n",
    "\n",
    "暂无\n",
    "\"\"\"\n",
    "\n",
    "\n",
    "x_data = [\"周一\", \"周二\", \"周三\", \"周四\", \"周五\", \"周六\", \"周日\"]\n",
    "y_data = [820, 932, 901, 934, 1290, 1330, 1320]\n",
    "\n",
    "\n",
    "(\n",
    "    Line()\n",
    "    .add_xaxis(xaxis_data=x_data)\n",
    "    .add_yaxis(\n",
    "        series_name=\"邮件营销\",\n",
    "        stack=\"总量\",\n",
    "        y_axis=[120, 132, 101, 134, 90, 230, 210],\n",
    "        areastyle_opts=opts.AreaStyleOpts(opacity=0.5),\n",
    "        label_opts=opts.LabelOpts(is_show=False),\n",
    "    )\n",
    "    .add_yaxis(\n",
    "        series_name=\"联盟广告\",\n",
    "        stack=\"总量\",\n",
    "        y_axis=[220, 182, 191, 234, 290, 330, 310],\n",
    "        areastyle_opts=opts.AreaStyleOpts(opacity=0.5),\n",
    "        label_opts=opts.LabelOpts(is_show=False),\n",
    "    )\n",
    "    .add_yaxis(\n",
    "        series_name=\"视频广告\",\n",
    "        stack=\"总量\",\n",
    "        y_axis=[150, 232, 201, 154, 190, 330, 410],\n",
    "        areastyle_opts=opts.AreaStyleOpts(opacity=0.5),\n",
    "        label_opts=opts.LabelOpts(is_show=False),\n",
    "    )\n",
    "    .add_yaxis(\n",
    "        series_name=\"直接访问\",\n",
    "        stack=\"总量\",\n",
    "        y_axis=[320, 332, 301, 334, 390, 330, 320],\n",
    "        areastyle_opts=opts.AreaStyleOpts(opacity=0.5),\n",
    "        label_opts=opts.LabelOpts(is_show=False),\n",
    "    )\n",
    "    .add_yaxis(\n",
    "        series_name=\"搜索引擎\",\n",
    "        stack=\"总量\",\n",
    "        y_axis=[820, 932, 901, 934, 1290, 1330, 1320],\n",
    "        areastyle_opts=opts.AreaStyleOpts(opacity=0.5),\n",
    "        label_opts=opts.LabelOpts(is_show=True, position=\"top\"),\n",
    "    )\n",
    "    .set_global_opts(\n",
    "        title_opts=opts.TitleOpts(title=\"堆叠区域图\"),\n",
    "        tooltip_opts=opts.TooltipOpts(trigger=\"axis\", axis_pointer_type=\"cross\"),\n",
    "        yaxis_opts=opts.AxisOpts(\n",
    "            type_=\"value\",\n",
    "            axistick_opts=opts.AxisTickOpts(is_show=True),\n",
    "            splitline_opts=opts.SplitLineOpts(is_show=True),\n",
    "        ),\n",
    "        xaxis_opts=opts.AxisOpts(type_=\"category\", boundary_gap=False),\n",
    "    )\n",
    "    .render_notebook()\n",
    ")\n",
    "\n"
   ]
  },
  {
   "cell_type": "code",
   "execution_count": 97,
   "metadata": {},
   "outputs": [],
   "source": [
    "from sklearn.preprocessing import StandardScaler \n",
    "SC= StandardScaler() \n",
    "data = SC.fit_transform (df2)"
   ]
  },
  {
   "cell_type": "code",
   "execution_count": 114,
   "metadata": {},
   "outputs": [
    {
     "data": {
      "text/html": [
       "<div>\n",
       "<style scoped>\n",
       "    .dataframe tbody tr th:only-of-type {\n",
       "        vertical-align: middle;\n",
       "    }\n",
       "\n",
       "    .dataframe tbody tr th {\n",
       "        vertical-align: top;\n",
       "    }\n",
       "\n",
       "    .dataframe thead th {\n",
       "        text-align: right;\n",
       "    }\n",
       "</style>\n",
       "<table border=\"1\" class=\"dataframe\">\n",
       "  <thead>\n",
       "    <tr style=\"text-align: right;\">\n",
       "      <th></th>\n",
       "      <th>时间</th>\n",
       "      <th>反应池7D10</th>\n",
       "      <th>反应池7D90</th>\n",
       "      <th>反应池7D50</th>\n",
       "      <th>反应池7矾花均一性指标</th>\n",
       "      <th>反应池7矾花平均密度</th>\n",
       "      <th>反应池7矾花平均直径</th>\n",
       "      <th>小颗粒矾花占比</th>\n",
       "      <th>系统实时出水浊度</th>\n",
       "      <th>系统进水浊度</th>\n",
       "    </tr>\n",
       "  </thead>\n",
       "  <tbody>\n",
       "    <tr>\n",
       "      <th>0</th>\n",
       "      <td>T 2022-09-03 00:00:00</td>\n",
       "      <td>0.08</td>\n",
       "      <td>0.91</td>\n",
       "      <td>0.20</td>\n",
       "      <td>4.43</td>\n",
       "      <td>0.63</td>\n",
       "      <td>0.83</td>\n",
       "      <td>0.84</td>\n",
       "      <td>NaN</td>\n",
       "      <td>NaN</td>\n",
       "    </tr>\n",
       "    <tr>\n",
       "      <th>1</th>\n",
       "      <td>T 2022-09-03 00:00:08.188</td>\n",
       "      <td>0.10</td>\n",
       "      <td>0.49</td>\n",
       "      <td>0.28</td>\n",
       "      <td>1.39</td>\n",
       "      <td>0.02</td>\n",
       "      <td>0.28</td>\n",
       "      <td>1.00</td>\n",
       "      <td>0.24</td>\n",
       "      <td>46.47</td>\n",
       "    </tr>\n",
       "    <tr>\n",
       "      <th>2</th>\n",
       "      <td>T 2022-09-03 00:00:10</td>\n",
       "      <td>NaN</td>\n",
       "      <td>NaN</td>\n",
       "      <td>NaN</td>\n",
       "      <td>NaN</td>\n",
       "      <td>NaN</td>\n",
       "      <td>NaN</td>\n",
       "      <td>NaN</td>\n",
       "      <td>NaN</td>\n",
       "      <td>NaN</td>\n",
       "    </tr>\n",
       "    <tr>\n",
       "      <th>3</th>\n",
       "      <td>T 2022-09-03 00:00:18.336</td>\n",
       "      <td>0.12</td>\n",
       "      <td>0.27</td>\n",
       "      <td>0.25</td>\n",
       "      <td>0.60</td>\n",
       "      <td>0.01</td>\n",
       "      <td>0.22</td>\n",
       "      <td>1.00</td>\n",
       "      <td>0.24</td>\n",
       "      <td>46.47</td>\n",
       "    </tr>\n",
       "    <tr>\n",
       "      <th>4</th>\n",
       "      <td>T 2022-09-03 00:00:20</td>\n",
       "      <td>NaN</td>\n",
       "      <td>NaN</td>\n",
       "      <td>NaN</td>\n",
       "      <td>NaN</td>\n",
       "      <td>NaN</td>\n",
       "      <td>NaN</td>\n",
       "      <td>NaN</td>\n",
       "      <td>NaN</td>\n",
       "      <td>NaN</td>\n",
       "    </tr>\n",
       "    <tr>\n",
       "      <th>...</th>\n",
       "      <td>...</td>\n",
       "      <td>...</td>\n",
       "      <td>...</td>\n",
       "      <td>...</td>\n",
       "      <td>...</td>\n",
       "      <td>...</td>\n",
       "      <td>...</td>\n",
       "      <td>...</td>\n",
       "      <td>...</td>\n",
       "      <td>...</td>\n",
       "    </tr>\n",
       "    <tr>\n",
       "      <th>58336</th>\n",
       "      <td>T 2022-09-06 08:58:23.608</td>\n",
       "      <td>0.00</td>\n",
       "      <td>0.00</td>\n",
       "      <td>0.00</td>\n",
       "      <td>NaN</td>\n",
       "      <td>0.00</td>\n",
       "      <td>0.00</td>\n",
       "      <td>0.00</td>\n",
       "      <td>0.30</td>\n",
       "      <td>44.12</td>\n",
       "    </tr>\n",
       "    <tr>\n",
       "      <th>58337</th>\n",
       "      <td>T 2022-09-06 08:58:30</td>\n",
       "      <td>NaN</td>\n",
       "      <td>NaN</td>\n",
       "      <td>NaN</td>\n",
       "      <td>NaN</td>\n",
       "      <td>NaN</td>\n",
       "      <td>NaN</td>\n",
       "      <td>NaN</td>\n",
       "      <td>NaN</td>\n",
       "      <td>NaN</td>\n",
       "    </tr>\n",
       "    <tr>\n",
       "      <th>58338</th>\n",
       "      <td>T 2022-09-06 08:58:33.62</td>\n",
       "      <td>0.00</td>\n",
       "      <td>0.00</td>\n",
       "      <td>0.00</td>\n",
       "      <td>NaN</td>\n",
       "      <td>0.00</td>\n",
       "      <td>0.00</td>\n",
       "      <td>0.00</td>\n",
       "      <td>0.30</td>\n",
       "      <td>44.13</td>\n",
       "    </tr>\n",
       "    <tr>\n",
       "      <th>58339</th>\n",
       "      <td>T 2022-09-06 08:58:40</td>\n",
       "      <td>NaN</td>\n",
       "      <td>NaN</td>\n",
       "      <td>NaN</td>\n",
       "      <td>NaN</td>\n",
       "      <td>NaN</td>\n",
       "      <td>NaN</td>\n",
       "      <td>NaN</td>\n",
       "      <td>NaN</td>\n",
       "      <td>NaN</td>\n",
       "    </tr>\n",
       "    <tr>\n",
       "      <th>58340</th>\n",
       "      <td>T 2022-09-06 08:58:43.695</td>\n",
       "      <td>0.00</td>\n",
       "      <td>0.00</td>\n",
       "      <td>0.00</td>\n",
       "      <td>NaN</td>\n",
       "      <td>0.00</td>\n",
       "      <td>0.00</td>\n",
       "      <td>0.00</td>\n",
       "      <td>0.30</td>\n",
       "      <td>44.13</td>\n",
       "    </tr>\n",
       "  </tbody>\n",
       "</table>\n",
       "<p>58341 rows × 10 columns</p>\n",
       "</div>"
      ],
      "text/plain": [
       "                              时间  反应池7D10  反应池7D90  反应池7D50  反应池7矾花均一性指标  \\\n",
       "0          T 2022-09-03 00:00:00     0.08     0.91     0.20         4.43   \n",
       "1      T 2022-09-03 00:00:08.188     0.10     0.49     0.28         1.39   \n",
       "2          T 2022-09-03 00:00:10      NaN      NaN      NaN          NaN   \n",
       "3      T 2022-09-03 00:00:18.336     0.12     0.27     0.25         0.60   \n",
       "4          T 2022-09-03 00:00:20      NaN      NaN      NaN          NaN   \n",
       "...                          ...      ...      ...      ...          ...   \n",
       "58336  T 2022-09-06 08:58:23.608     0.00     0.00     0.00          NaN   \n",
       "58337      T 2022-09-06 08:58:30      NaN      NaN      NaN          NaN   \n",
       "58338   T 2022-09-06 08:58:33.62     0.00     0.00     0.00          NaN   \n",
       "58339      T 2022-09-06 08:58:40      NaN      NaN      NaN          NaN   \n",
       "58340  T 2022-09-06 08:58:43.695     0.00     0.00     0.00          NaN   \n",
       "\n",
       "       反应池7矾花平均密度  反应池7矾花平均直径  小颗粒矾花占比  系统实时出水浊度  系统进水浊度  \n",
       "0            0.63        0.83     0.84       NaN     NaN  \n",
       "1            0.02        0.28     1.00      0.24   46.47  \n",
       "2             NaN         NaN      NaN       NaN     NaN  \n",
       "3            0.01        0.22     1.00      0.24   46.47  \n",
       "4             NaN         NaN      NaN       NaN     NaN  \n",
       "...           ...         ...      ...       ...     ...  \n",
       "58336        0.00        0.00     0.00      0.30   44.12  \n",
       "58337         NaN         NaN      NaN       NaN     NaN  \n",
       "58338        0.00        0.00     0.00      0.30   44.13  \n",
       "58339         NaN         NaN      NaN       NaN     NaN  \n",
       "58340        0.00        0.00     0.00      0.30   44.13  \n",
       "\n",
       "[58341 rows x 10 columns]"
      ]
     },
     "execution_count": 114,
     "metadata": {},
     "output_type": "execute_result"
    }
   ],
   "source": [
    "df"
   ]
  },
  {
   "cell_type": "code",
   "execution_count": 116,
   "metadata": {},
   "outputs": [
    {
     "data": {
      "text/html": [
       "<div>\n",
       "<style scoped>\n",
       "    .dataframe tbody tr th:only-of-type {\n",
       "        vertical-align: middle;\n",
       "    }\n",
       "\n",
       "    .dataframe tbody tr th {\n",
       "        vertical-align: top;\n",
       "    }\n",
       "\n",
       "    .dataframe thead th {\n",
       "        text-align: right;\n",
       "    }\n",
       "</style>\n",
       "<table border=\"1\" class=\"dataframe\">\n",
       "  <thead>\n",
       "    <tr style=\"text-align: right;\">\n",
       "      <th></th>\n",
       "      <th>反应池7D10</th>\n",
       "      <th>反应池7D90</th>\n",
       "      <th>反应池7D50</th>\n",
       "      <th>反应池7矾花均一性指标</th>\n",
       "      <th>反应池7矾花平均密度</th>\n",
       "      <th>反应池7矾花平均直径</th>\n",
       "      <th>小颗粒矾花占比</th>\n",
       "      <th>系统实时出水浊度</th>\n",
       "      <th>系统进水浊度</th>\n",
       "    </tr>\n",
       "    <tr>\n",
       "      <th>时间</th>\n",
       "      <th></th>\n",
       "      <th></th>\n",
       "      <th></th>\n",
       "      <th></th>\n",
       "      <th></th>\n",
       "      <th></th>\n",
       "      <th></th>\n",
       "      <th></th>\n",
       "      <th></th>\n",
       "    </tr>\n",
       "  </thead>\n",
       "  <tbody>\n",
       "    <tr>\n",
       "      <th>T 2022-09-03 00:00:00</th>\n",
       "      <td>0.08</td>\n",
       "      <td>0.91</td>\n",
       "      <td>0.20</td>\n",
       "      <td>4.43</td>\n",
       "      <td>0.63</td>\n",
       "      <td>0.83</td>\n",
       "      <td>0.84</td>\n",
       "      <td>NaN</td>\n",
       "      <td>NaN</td>\n",
       "    </tr>\n",
       "    <tr>\n",
       "      <th>T 2022-09-03 00:00:08.188</th>\n",
       "      <td>0.10</td>\n",
       "      <td>0.49</td>\n",
       "      <td>0.28</td>\n",
       "      <td>1.39</td>\n",
       "      <td>0.02</td>\n",
       "      <td>0.28</td>\n",
       "      <td>1.00</td>\n",
       "      <td>0.24</td>\n",
       "      <td>46.47</td>\n",
       "    </tr>\n",
       "    <tr>\n",
       "      <th>T 2022-09-03 00:00:10</th>\n",
       "      <td>NaN</td>\n",
       "      <td>NaN</td>\n",
       "      <td>NaN</td>\n",
       "      <td>NaN</td>\n",
       "      <td>NaN</td>\n",
       "      <td>NaN</td>\n",
       "      <td>NaN</td>\n",
       "      <td>NaN</td>\n",
       "      <td>NaN</td>\n",
       "    </tr>\n",
       "    <tr>\n",
       "      <th>T 2022-09-03 00:00:18.336</th>\n",
       "      <td>0.12</td>\n",
       "      <td>0.27</td>\n",
       "      <td>0.25</td>\n",
       "      <td>0.60</td>\n",
       "      <td>0.01</td>\n",
       "      <td>0.22</td>\n",
       "      <td>1.00</td>\n",
       "      <td>0.24</td>\n",
       "      <td>46.47</td>\n",
       "    </tr>\n",
       "    <tr>\n",
       "      <th>T 2022-09-03 00:00:20</th>\n",
       "      <td>NaN</td>\n",
       "      <td>NaN</td>\n",
       "      <td>NaN</td>\n",
       "      <td>NaN</td>\n",
       "      <td>NaN</td>\n",
       "      <td>NaN</td>\n",
       "      <td>NaN</td>\n",
       "      <td>NaN</td>\n",
       "      <td>NaN</td>\n",
       "    </tr>\n",
       "    <tr>\n",
       "      <th>...</th>\n",
       "      <td>...</td>\n",
       "      <td>...</td>\n",
       "      <td>...</td>\n",
       "      <td>...</td>\n",
       "      <td>...</td>\n",
       "      <td>...</td>\n",
       "      <td>...</td>\n",
       "      <td>...</td>\n",
       "      <td>...</td>\n",
       "    </tr>\n",
       "    <tr>\n",
       "      <th>T 2022-09-06 08:58:23.608</th>\n",
       "      <td>0.00</td>\n",
       "      <td>0.00</td>\n",
       "      <td>0.00</td>\n",
       "      <td>NaN</td>\n",
       "      <td>0.00</td>\n",
       "      <td>0.00</td>\n",
       "      <td>0.00</td>\n",
       "      <td>0.30</td>\n",
       "      <td>44.12</td>\n",
       "    </tr>\n",
       "    <tr>\n",
       "      <th>T 2022-09-06 08:58:30</th>\n",
       "      <td>NaN</td>\n",
       "      <td>NaN</td>\n",
       "      <td>NaN</td>\n",
       "      <td>NaN</td>\n",
       "      <td>NaN</td>\n",
       "      <td>NaN</td>\n",
       "      <td>NaN</td>\n",
       "      <td>NaN</td>\n",
       "      <td>NaN</td>\n",
       "    </tr>\n",
       "    <tr>\n",
       "      <th>T 2022-09-06 08:58:33.62</th>\n",
       "      <td>0.00</td>\n",
       "      <td>0.00</td>\n",
       "      <td>0.00</td>\n",
       "      <td>NaN</td>\n",
       "      <td>0.00</td>\n",
       "      <td>0.00</td>\n",
       "      <td>0.00</td>\n",
       "      <td>0.30</td>\n",
       "      <td>44.13</td>\n",
       "    </tr>\n",
       "    <tr>\n",
       "      <th>T 2022-09-06 08:58:40</th>\n",
       "      <td>NaN</td>\n",
       "      <td>NaN</td>\n",
       "      <td>NaN</td>\n",
       "      <td>NaN</td>\n",
       "      <td>NaN</td>\n",
       "      <td>NaN</td>\n",
       "      <td>NaN</td>\n",
       "      <td>NaN</td>\n",
       "      <td>NaN</td>\n",
       "    </tr>\n",
       "    <tr>\n",
       "      <th>T 2022-09-06 08:58:43.695</th>\n",
       "      <td>0.00</td>\n",
       "      <td>0.00</td>\n",
       "      <td>0.00</td>\n",
       "      <td>NaN</td>\n",
       "      <td>0.00</td>\n",
       "      <td>0.00</td>\n",
       "      <td>0.00</td>\n",
       "      <td>0.30</td>\n",
       "      <td>44.13</td>\n",
       "    </tr>\n",
       "  </tbody>\n",
       "</table>\n",
       "<p>58341 rows × 9 columns</p>\n",
       "</div>"
      ],
      "text/plain": [
       "                           反应池7D10  反应池7D90  反应池7D50  反应池7矾花均一性指标  反应池7矾花平均密度  \\\n",
       "时间                                                                              \n",
       "T 2022-09-03 00:00:00         0.08     0.91     0.20         4.43        0.63   \n",
       "T 2022-09-03 00:00:08.188     0.10     0.49     0.28         1.39        0.02   \n",
       "T 2022-09-03 00:00:10          NaN      NaN      NaN          NaN         NaN   \n",
       "T 2022-09-03 00:00:18.336     0.12     0.27     0.25         0.60        0.01   \n",
       "T 2022-09-03 00:00:20          NaN      NaN      NaN          NaN         NaN   \n",
       "...                            ...      ...      ...          ...         ...   \n",
       "T 2022-09-06 08:58:23.608     0.00     0.00     0.00          NaN        0.00   \n",
       "T 2022-09-06 08:58:30          NaN      NaN      NaN          NaN         NaN   \n",
       "T 2022-09-06 08:58:33.62      0.00     0.00     0.00          NaN        0.00   \n",
       "T 2022-09-06 08:58:40          NaN      NaN      NaN          NaN         NaN   \n",
       "T 2022-09-06 08:58:43.695     0.00     0.00     0.00          NaN        0.00   \n",
       "\n",
       "                           反应池7矾花平均直径  小颗粒矾花占比  系统实时出水浊度  系统进水浊度  \n",
       "时间                                                                \n",
       "T 2022-09-03 00:00:00            0.83     0.84       NaN     NaN  \n",
       "T 2022-09-03 00:00:08.188        0.28     1.00      0.24   46.47  \n",
       "T 2022-09-03 00:00:10             NaN      NaN       NaN     NaN  \n",
       "T 2022-09-03 00:00:18.336        0.22     1.00      0.24   46.47  \n",
       "T 2022-09-03 00:00:20             NaN      NaN       NaN     NaN  \n",
       "...                               ...      ...       ...     ...  \n",
       "T 2022-09-06 08:58:23.608        0.00     0.00      0.30   44.12  \n",
       "T 2022-09-06 08:58:30             NaN      NaN       NaN     NaN  \n",
       "T 2022-09-06 08:58:33.62         0.00     0.00      0.30   44.13  \n",
       "T 2022-09-06 08:58:40             NaN      NaN       NaN     NaN  \n",
       "T 2022-09-06 08:58:43.695        0.00     0.00      0.30   44.13  \n",
       "\n",
       "[58341 rows x 9 columns]"
      ]
     },
     "execution_count": 116,
     "metadata": {},
     "output_type": "execute_result"
    }
   ],
   "source": [
    "df.set_index(\"时间\")\n"
   ]
  },
  {
   "cell_type": "code",
   "execution_count": 92,
   "metadata": {},
   "outputs": [],
   "source": [
    "from sklearn import preprocessing \n",
    "X_scaled = preprocessing.scale (df2)"
   ]
  },
  {
   "cell_type": "code",
   "execution_count": 93,
   "metadata": {},
   "outputs": [
    {
     "data": {
      "text/plain": [
       "反应池7矾花均一性指标    2.310381\n",
       "反应池7矾花平均密度     0.667430\n",
       "反应池7矾花平均直径     0.403842\n",
       "小颗粒矾花占比        0.918956\n",
       "系统实时出水浊度       0.317444\n",
       "dtype: float64"
      ]
     },
     "execution_count": 93,
     "metadata": {},
     "output_type": "execute_result"
    }
   ],
   "source": [
    "df2.mean()"
   ]
  },
  {
   "cell_type": "code",
   "execution_count": 70,
   "metadata": {},
   "outputs": [
    {
     "data": {
      "application/vnd.plotly.v1+json": {
       "config": {
        "plotlyServerURL": "https://plot.ly"
       },
       "data": [
        {
         "alignmentgroup": "True",
         "hovertemplate": "variable=%{x}<br>value=%{y}<extra></extra>",
         "legendgroup": "",
         "marker": {
          "color": "#636efa"
         },
         "name": "",
         "notched": false,
         "offsetgroup": "",
         "orientation": "v",
         "showlegend": false,
         "type": "box",
         "x": [
          "反应池7矾花均一性指标",
          "反应池7矾花均一性指标",
          "反应池7矾花均一性指标",
          "反应池7矾花均一性指标",
          "反应池7矾花均一性指标",
          "反应池7矾花均一性指标",
          "反应池7矾花均一性指标",
          "反应池7矾花均一性指标",
          "反应池7矾花均一性指标",
          "反应池7矾花均一性指标",
          "反应池7矾花均一性指标",
          "反应池7矾花均一性指标",
          "反应池7矾花均一性指标",
          "反应池7矾花均一性指标",
          "反应池7矾花均一性指标",
          "反应池7矾花均一性指标",
          "反应池7矾花均一性指标",
          "反应池7矾花均一性指标",
          "反应池7矾花均一性指标",
          "反应池7矾花均一性指标",
          "反应池7矾花均一性指标",
          "反应池7矾花均一性指标",
          "反应池7矾花均一性指标",
          "反应池7矾花均一性指标",
          "反应池7矾花均一性指标",
          "反应池7矾花均一性指标",
          "反应池7矾花均一性指标",
          "反应池7矾花均一性指标",
          "反应池7矾花均一性指标",
          "反应池7矾花均一性指标",
          "反应池7矾花均一性指标",
          "反应池7矾花均一性指标",
          "反应池7矾花均一性指标",
          "反应池7矾花均一性指标",
          "反应池7矾花均一性指标",
          "反应池7矾花均一性指标",
          "反应池7矾花均一性指标",
          "反应池7矾花均一性指标",
          "反应池7矾花均一性指标",
          "反应池7矾花均一性指标",
          "反应池7矾花均一性指标",
          "反应池7矾花均一性指标",
          "反应池7矾花均一性指标",
          "反应池7矾花均一性指标",
          "反应池7矾花均一性指标",
          "反应池7矾花均一性指标",
          "反应池7矾花均一性指标",
          "反应池7矾花均一性指标",
          "反应池7矾花均一性指标",
          "反应池7矾花均一性指标",
          "反应池7矾花均一性指标",
          "反应池7矾花均一性指标",
          "反应池7矾花均一性指标",
          "反应池7矾花均一性指标",
          "反应池7矾花均一性指标",
          "反应池7矾花均一性指标",
          "反应池7矾花均一性指标",
          "反应池7矾花均一性指标",
          "反应池7矾花均一性指标",
          "反应池7矾花均一性指标",
          "反应池7矾花均一性指标",
          "反应池7矾花均一性指标",
          "反应池7矾花均一性指标",
          "反应池7矾花均一性指标",
          "反应池7矾花均一性指标",
          "反应池7矾花均一性指标",
          "反应池7矾花均一性指标",
          "反应池7矾花均一性指标",
          "反应池7矾花均一性指标",
          "反应池7矾花均一性指标",
          "反应池7矾花均一性指标",
          "反应池7矾花均一性指标",
          "反应池7矾花均一性指标",
          "反应池7矾花均一性指标",
          "反应池7矾花均一性指标",
          "反应池7矾花均一性指标",
          "反应池7矾花均一性指标",
          "反应池7矾花均一性指标",
          "反应池7矾花均一性指标",
          "反应池7矾花均一性指标",
          "反应池7矾花均一性指标",
          "反应池7矾花均一性指标",
          "反应池7矾花均一性指标",
          "反应池7矾花均一性指标",
          "反应池7矾花均一性指标",
          "反应池7矾花均一性指标",
          "反应池7矾花均一性指标",
          "反应池7矾花均一性指标",
          "反应池7矾花均一性指标",
          "反应池7矾花均一性指标",
          "反应池7矾花均一性指标",
          "反应池7矾花均一性指标",
          "反应池7矾花均一性指标",
          "反应池7矾花均一性指标",
          "反应池7矾花均一性指标",
          "反应池7矾花均一性指标",
          "反应池7矾花均一性指标",
          "反应池7矾花均一性指标",
          "反应池7矾花均一性指标",
          "反应池7矾花均一性指标",
          "反应池7矾花均一性指标",
          "反应池7矾花均一性指标",
          "反应池7矾花均一性指标",
          "反应池7矾花均一性指标",
          "反应池7矾花均一性指标",
          "反应池7矾花均一性指标",
          "反应池7矾花均一性指标",
          "反应池7矾花均一性指标",
          "反应池7矾花均一性指标",
          "反应池7矾花均一性指标",
          "反应池7矾花均一性指标",
          "反应池7矾花均一性指标",
          "反应池7矾花均一性指标",
          "反应池7矾花均一性指标",
          "反应池7矾花均一性指标",
          "反应池7矾花均一性指标",
          "反应池7矾花均一性指标",
          "反应池7矾花均一性指标",
          "反应池7矾花均一性指标",
          "反应池7矾花均一性指标",
          "反应池7矾花均一性指标",
          "反应池7矾花均一性指标",
          "反应池7矾花均一性指标",
          "反应池7矾花均一性指标",
          "反应池7矾花均一性指标",
          "反应池7矾花均一性指标",
          "反应池7矾花均一性指标",
          "反应池7矾花均一性指标",
          "反应池7矾花均一性指标",
          "反应池7矾花均一性指标",
          "反应池7矾花均一性指标",
          "反应池7矾花均一性指标",
          "反应池7矾花均一性指标",
          "反应池7矾花均一性指标",
          "反应池7矾花均一性指标",
          "反应池7矾花均一性指标",
          "反应池7矾花均一性指标",
          "反应池7矾花均一性指标",
          "反应池7矾花均一性指标",
          "反应池7矾花均一性指标",
          "反应池7矾花均一性指标",
          "反应池7矾花均一性指标",
          "反应池7矾花均一性指标",
          "反应池7矾花均一性指标",
          "反应池7矾花均一性指标",
          "反应池7矾花均一性指标",
          "反应池7矾花均一性指标",
          "反应池7矾花均一性指标",
          "反应池7矾花均一性指标",
          "反应池7矾花均一性指标",
          "反应池7矾花均一性指标",
          "反应池7矾花均一性指标",
          "反应池7矾花均一性指标",
          "反应池7矾花均一性指标",
          "反应池7矾花均一性指标",
          "反应池7矾花均一性指标",
          "反应池7矾花均一性指标",
          "反应池7矾花均一性指标",
          "反应池7矾花均一性指标",
          "反应池7矾花均一性指标",
          "反应池7矾花均一性指标",
          "反应池7矾花均一性指标",
          "反应池7矾花均一性指标",
          "反应池7矾花均一性指标",
          "反应池7矾花均一性指标",
          "反应池7矾花均一性指标",
          "反应池7矾花均一性指标",
          "反应池7矾花均一性指标",
          "反应池7矾花均一性指标",
          "反应池7矾花均一性指标",
          "反应池7矾花均一性指标",
          "反应池7矾花均一性指标",
          "反应池7矾花均一性指标",
          "反应池7矾花均一性指标",
          "反应池7矾花均一性指标",
          "反应池7矾花均一性指标",
          "反应池7矾花均一性指标",
          "反应池7矾花均一性指标",
          "反应池7矾花均一性指标",
          "反应池7矾花均一性指标",
          "反应池7矾花均一性指标",
          "反应池7矾花均一性指标",
          "反应池7矾花均一性指标",
          "反应池7矾花均一性指标",
          "反应池7矾花均一性指标",
          "反应池7矾花均一性指标",
          "反应池7矾花均一性指标",
          "反应池7矾花均一性指标",
          "反应池7矾花均一性指标",
          "反应池7矾花均一性指标",
          "反应池7矾花均一性指标",
          "反应池7矾花均一性指标",
          "反应池7矾花均一性指标",
          "反应池7矾花均一性指标",
          "反应池7矾花均一性指标",
          "反应池7矾花均一性指标",
          "反应池7矾花均一性指标",
          "反应池7矾花均一性指标",
          "反应池7矾花均一性指标",
          "反应池7矾花均一性指标",
          "反应池7矾花均一性指标",
          "反应池7矾花均一性指标",
          "反应池7矾花均一性指标",
          "反应池7矾花均一性指标",
          "反应池7矾花均一性指标",
          "反应池7矾花均一性指标",
          "反应池7矾花均一性指标",
          "反应池7矾花均一性指标",
          "反应池7矾花均一性指标",
          "反应池7矾花均一性指标",
          "反应池7矾花均一性指标",
          "反应池7矾花均一性指标",
          "反应池7矾花均一性指标",
          "反应池7矾花均一性指标",
          "反应池7矾花均一性指标",
          "反应池7矾花均一性指标",
          "反应池7矾花均一性指标",
          "反应池7矾花均一性指标",
          "反应池7矾花均一性指标",
          "反应池7矾花均一性指标",
          "反应池7矾花均一性指标",
          "反应池7矾花均一性指标",
          "反应池7矾花均一性指标",
          "反应池7矾花均一性指标",
          "反应池7矾花均一性指标",
          "反应池7矾花均一性指标",
          "反应池7矾花均一性指标",
          "反应池7矾花均一性指标",
          "反应池7矾花均一性指标",
          "反应池7矾花均一性指标",
          "反应池7矾花均一性指标",
          "反应池7矾花均一性指标",
          "反应池7矾花均一性指标",
          "反应池7矾花均一性指标",
          "反应池7矾花均一性指标",
          "反应池7矾花均一性指标",
          "反应池7矾花均一性指标",
          "反应池7矾花均一性指标",
          "反应池7矾花均一性指标",
          "反应池7矾花均一性指标",
          "反应池7矾花均一性指标",
          "反应池7矾花均一性指标",
          "反应池7矾花均一性指标",
          "反应池7矾花均一性指标",
          "反应池7矾花均一性指标",
          "反应池7矾花均一性指标",
          "反应池7矾花均一性指标",
          "反应池7矾花均一性指标",
          "反应池7矾花均一性指标",
          "反应池7矾花均一性指标",
          "反应池7矾花均一性指标",
          "反应池7矾花均一性指标",
          "反应池7矾花均一性指标",
          "反应池7矾花均一性指标",
          "反应池7矾花均一性指标",
          "反应池7矾花均一性指标",
          "反应池7矾花均一性指标",
          "反应池7矾花均一性指标",
          "反应池7矾花均一性指标",
          "反应池7矾花均一性指标",
          "反应池7矾花均一性指标",
          "反应池7矾花均一性指标",
          "反应池7矾花均一性指标",
          "反应池7矾花均一性指标",
          "反应池7矾花均一性指标",
          "反应池7矾花均一性指标",
          "反应池7矾花均一性指标",
          "反应池7矾花均一性指标",
          "反应池7矾花均一性指标",
          "反应池7矾花均一性指标",
          "反应池7矾花均一性指标",
          "反应池7矾花均一性指标",
          "反应池7矾花均一性指标",
          "反应池7矾花均一性指标",
          "反应池7矾花均一性指标",
          "反应池7矾花均一性指标",
          "反应池7矾花均一性指标",
          "反应池7矾花均一性指标",
          "反应池7矾花均一性指标",
          "反应池7矾花均一性指标",
          "反应池7矾花均一性指标",
          "反应池7矾花均一性指标",
          "反应池7矾花均一性指标",
          "反应池7矾花均一性指标",
          "反应池7矾花均一性指标",
          "反应池7矾花均一性指标",
          "反应池7矾花均一性指标",
          "反应池7矾花均一性指标",
          "反应池7矾花均一性指标",
          "反应池7矾花均一性指标",
          "反应池7矾花均一性指标",
          "反应池7矾花均一性指标",
          "反应池7矾花均一性指标",
          "反应池7矾花均一性指标",
          "反应池7矾花均一性指标",
          "反应池7矾花均一性指标",
          "反应池7矾花均一性指标",
          "反应池7矾花均一性指标",
          "反应池7矾花均一性指标",
          "反应池7矾花均一性指标",
          "反应池7矾花均一性指标",
          "反应池7矾花均一性指标",
          "反应池7矾花均一性指标",
          "反应池7矾花均一性指标",
          "反应池7矾花均一性指标",
          "反应池7矾花均一性指标",
          "反应池7矾花均一性指标",
          "反应池7矾花均一性指标",
          "反应池7矾花均一性指标",
          "反应池7矾花均一性指标",
          "反应池7矾花均一性指标",
          "反应池7矾花均一性指标",
          "反应池7矾花均一性指标",
          "反应池7矾花均一性指标",
          "反应池7矾花均一性指标",
          "反应池7矾花均一性指标",
          "反应池7矾花均一性指标",
          "反应池7矾花均一性指标",
          "反应池7矾花均一性指标",
          "反应池7矾花均一性指标",
          "反应池7矾花均一性指标",
          "反应池7矾花均一性指标",
          "反应池7矾花均一性指标",
          "反应池7矾花均一性指标",
          "反应池7矾花均一性指标",
          "反应池7矾花均一性指标",
          "反应池7矾花均一性指标",
          "反应池7矾花均一性指标",
          "反应池7矾花均一性指标",
          "反应池7矾花均一性指标",
          "反应池7矾花均一性指标",
          "反应池7矾花均一性指标",
          "反应池7矾花均一性指标",
          "反应池7矾花均一性指标",
          "反应池7矾花均一性指标",
          "反应池7矾花均一性指标",
          "反应池7矾花均一性指标",
          "反应池7矾花均一性指标",
          "反应池7矾花均一性指标",
          "反应池7矾花均一性指标",
          "反应池7矾花均一性指标",
          "反应池7矾花均一性指标",
          "反应池7矾花均一性指标",
          "反应池7矾花均一性指标",
          "反应池7矾花均一性指标",
          "反应池7矾花均一性指标",
          "反应池7矾花均一性指标",
          "反应池7矾花均一性指标",
          "反应池7矾花均一性指标",
          "反应池7矾花均一性指标",
          "反应池7矾花均一性指标",
          "反应池7矾花均一性指标",
          "反应池7矾花均一性指标",
          "反应池7矾花均一性指标",
          "反应池7矾花均一性指标",
          "反应池7矾花均一性指标",
          "反应池7矾花均一性指标",
          "反应池7矾花均一性指标",
          "反应池7矾花均一性指标",
          "反应池7矾花均一性指标",
          "反应池7矾花均一性指标",
          "反应池7矾花均一性指标",
          "反应池7矾花均一性指标",
          "反应池7矾花均一性指标",
          "反应池7矾花均一性指标",
          "反应池7矾花均一性指标",
          "反应池7矾花均一性指标",
          "反应池7矾花均一性指标",
          "反应池7矾花均一性指标",
          "反应池7矾花均一性指标",
          "反应池7矾花均一性指标",
          "反应池7矾花均一性指标",
          "反应池7矾花均一性指标",
          "反应池7矾花均一性指标",
          "反应池7矾花均一性指标",
          "反应池7矾花均一性指标",
          "反应池7矾花均一性指标",
          "反应池7矾花均一性指标",
          "反应池7矾花均一性指标",
          "反应池7矾花均一性指标",
          "反应池7矾花均一性指标",
          "反应池7矾花均一性指标",
          "反应池7矾花均一性指标",
          "反应池7矾花均一性指标",
          "反应池7矾花均一性指标",
          "反应池7矾花均一性指标",
          "反应池7矾花均一性指标",
          "反应池7矾花均一性指标",
          "反应池7矾花均一性指标",
          "反应池7矾花均一性指标",
          "反应池7矾花均一性指标",
          "反应池7矾花均一性指标",
          "反应池7矾花均一性指标",
          "反应池7矾花均一性指标",
          "反应池7矾花均一性指标",
          "反应池7矾花均一性指标",
          "反应池7矾花均一性指标",
          "反应池7矾花均一性指标",
          "反应池7矾花均一性指标",
          "反应池7矾花均一性指标",
          "反应池7矾花均一性指标",
          "反应池7矾花均一性指标",
          "反应池7矾花均一性指标",
          "反应池7矾花均一性指标",
          "反应池7矾花均一性指标",
          "反应池7矾花均一性指标",
          "反应池7矾花均一性指标",
          "反应池7矾花均一性指标",
          "反应池7矾花均一性指标",
          "反应池7矾花均一性指标",
          "反应池7矾花均一性指标",
          "反应池7矾花均一性指标",
          "反应池7矾花均一性指标",
          "反应池7矾花均一性指标",
          "反应池7矾花均一性指标",
          "反应池7矾花均一性指标",
          "反应池7矾花均一性指标",
          "反应池7矾花均一性指标",
          "反应池7矾花均一性指标",
          "反应池7矾花均一性指标",
          "反应池7矾花均一性指标",
          "反应池7矾花均一性指标",
          "反应池7矾花均一性指标",
          "反应池7矾花均一性指标",
          "反应池7矾花均一性指标",
          "反应池7矾花均一性指标",
          "反应池7矾花均一性指标",
          "反应池7矾花均一性指标",
          "反应池7矾花均一性指标",
          "反应池7矾花均一性指标",
          "反应池7矾花均一性指标",
          "反应池7矾花均一性指标",
          "反应池7矾花均一性指标",
          "反应池7矾花均一性指标",
          "反应池7矾花均一性指标",
          "反应池7矾花均一性指标",
          "反应池7矾花均一性指标",
          "反应池7矾花均一性指标",
          "反应池7矾花均一性指标",
          "反应池7矾花均一性指标",
          "反应池7矾花均一性指标",
          "反应池7矾花均一性指标",
          "反应池7矾花均一性指标",
          "反应池7矾花均一性指标",
          "反应池7矾花均一性指标",
          "反应池7矾花均一性指标",
          "反应池7矾花均一性指标",
          "反应池7矾花均一性指标",
          "反应池7矾花均一性指标",
          "反应池7矾花均一性指标",
          "反应池7矾花均一性指标",
          "反应池7矾花均一性指标",
          "反应池7矾花均一性指标",
          "反应池7矾花均一性指标",
          "反应池7矾花均一性指标",
          "反应池7矾花均一性指标",
          "反应池7矾花均一性指标",
          "反应池7矾花均一性指标",
          "反应池7矾花均一性指标",
          "反应池7矾花均一性指标",
          "反应池7矾花均一性指标",
          "反应池7矾花均一性指标",
          "反应池7矾花均一性指标",
          "反应池7矾花均一性指标",
          "反应池7矾花均一性指标",
          "反应池7矾花均一性指标",
          "反应池7矾花均一性指标",
          "反应池7矾花均一性指标",
          "反应池7矾花均一性指标",
          "反应池7矾花均一性指标",
          "反应池7矾花均一性指标",
          "反应池7矾花均一性指标",
          "反应池7矾花均一性指标",
          "反应池7矾花均一性指标",
          "反应池7矾花均一性指标",
          "反应池7矾花均一性指标",
          "反应池7矾花均一性指标",
          "反应池7矾花均一性指标",
          "反应池7矾花均一性指标",
          "反应池7矾花均一性指标",
          "反应池7矾花均一性指标",
          "反应池7矾花均一性指标",
          "反应池7矾花均一性指标",
          "反应池7矾花均一性指标",
          "反应池7矾花均一性指标",
          "反应池7矾花均一性指标",
          "反应池7矾花均一性指标",
          "反应池7矾花均一性指标",
          "反应池7矾花均一性指标",
          "反应池7矾花均一性指标",
          "反应池7矾花均一性指标",
          "反应池7矾花均一性指标",
          "反应池7矾花均一性指标",
          "反应池7矾花均一性指标",
          "反应池7矾花均一性指标",
          "反应池7矾花均一性指标",
          "反应池7矾花均一性指标",
          "反应池7矾花均一性指标",
          "反应池7矾花均一性指标",
          "反应池7矾花均一性指标",
          "反应池7矾花平均密度",
          "反应池7矾花平均密度",
          "反应池7矾花平均密度",
          "反应池7矾花平均密度",
          "反应池7矾花平均密度",
          "反应池7矾花平均密度",
          "反应池7矾花平均密度",
          "反应池7矾花平均密度",
          "反应池7矾花平均密度",
          "反应池7矾花平均密度",
          "反应池7矾花平均密度",
          "反应池7矾花平均密度",
          "反应池7矾花平均密度",
          "反应池7矾花平均密度",
          "反应池7矾花平均密度",
          "反应池7矾花平均密度",
          "反应池7矾花平均密度",
          "反应池7矾花平均密度",
          "反应池7矾花平均密度",
          "反应池7矾花平均密度",
          "反应池7矾花平均密度",
          "反应池7矾花平均密度",
          "反应池7矾花平均密度",
          "反应池7矾花平均密度",
          "反应池7矾花平均密度",
          "反应池7矾花平均密度",
          "反应池7矾花平均密度",
          "反应池7矾花平均密度",
          "反应池7矾花平均密度",
          "反应池7矾花平均密度",
          "反应池7矾花平均密度",
          "反应池7矾花平均密度",
          "反应池7矾花平均密度",
          "反应池7矾花平均密度",
          "反应池7矾花平均密度",
          "反应池7矾花平均密度",
          "反应池7矾花平均密度",
          "反应池7矾花平均密度",
          "反应池7矾花平均密度",
          "反应池7矾花平均密度",
          "反应池7矾花平均密度",
          "反应池7矾花平均密度",
          "反应池7矾花平均密度",
          "反应池7矾花平均密度",
          "反应池7矾花平均密度",
          "反应池7矾花平均密度",
          "反应池7矾花平均密度",
          "反应池7矾花平均密度",
          "反应池7矾花平均密度",
          "反应池7矾花平均密度",
          "反应池7矾花平均密度",
          "反应池7矾花平均密度",
          "反应池7矾花平均密度",
          "反应池7矾花平均密度",
          "反应池7矾花平均密度",
          "反应池7矾花平均密度",
          "反应池7矾花平均密度",
          "反应池7矾花平均密度",
          "反应池7矾花平均密度",
          "反应池7矾花平均密度",
          "反应池7矾花平均密度",
          "反应池7矾花平均密度",
          "反应池7矾花平均密度",
          "反应池7矾花平均密度",
          "反应池7矾花平均密度",
          "反应池7矾花平均密度",
          "反应池7矾花平均密度",
          "反应池7矾花平均密度",
          "反应池7矾花平均密度",
          "反应池7矾花平均密度",
          "反应池7矾花平均密度",
          "反应池7矾花平均密度",
          "反应池7矾花平均密度",
          "反应池7矾花平均密度",
          "反应池7矾花平均密度",
          "反应池7矾花平均密度",
          "反应池7矾花平均密度",
          "反应池7矾花平均密度",
          "反应池7矾花平均密度",
          "反应池7矾花平均密度",
          "反应池7矾花平均密度",
          "反应池7矾花平均密度",
          "反应池7矾花平均密度",
          "反应池7矾花平均密度",
          "反应池7矾花平均密度",
          "反应池7矾花平均密度",
          "反应池7矾花平均密度",
          "反应池7矾花平均密度",
          "反应池7矾花平均密度",
          "反应池7矾花平均密度",
          "反应池7矾花平均密度",
          "反应池7矾花平均密度",
          "反应池7矾花平均密度",
          "反应池7矾花平均密度",
          "反应池7矾花平均密度",
          "反应池7矾花平均密度",
          "反应池7矾花平均密度",
          "反应池7矾花平均密度",
          "反应池7矾花平均密度",
          "反应池7矾花平均密度",
          "反应池7矾花平均密度",
          "反应池7矾花平均密度",
          "反应池7矾花平均密度",
          "反应池7矾花平均密度",
          "反应池7矾花平均密度",
          "反应池7矾花平均密度",
          "反应池7矾花平均密度",
          "反应池7矾花平均密度",
          "反应池7矾花平均密度",
          "反应池7矾花平均密度",
          "反应池7矾花平均密度",
          "反应池7矾花平均密度",
          "反应池7矾花平均密度",
          "反应池7矾花平均密度",
          "反应池7矾花平均密度",
          "反应池7矾花平均密度",
          "反应池7矾花平均密度",
          "反应池7矾花平均密度",
          "反应池7矾花平均密度",
          "反应池7矾花平均密度",
          "反应池7矾花平均密度",
          "反应池7矾花平均密度",
          "反应池7矾花平均密度",
          "反应池7矾花平均密度",
          "反应池7矾花平均密度",
          "反应池7矾花平均密度",
          "反应池7矾花平均密度",
          "反应池7矾花平均密度",
          "反应池7矾花平均密度",
          "反应池7矾花平均密度",
          "反应池7矾花平均密度",
          "反应池7矾花平均密度",
          "反应池7矾花平均密度",
          "反应池7矾花平均密度",
          "反应池7矾花平均密度",
          "反应池7矾花平均密度",
          "反应池7矾花平均密度",
          "反应池7矾花平均密度",
          "反应池7矾花平均密度",
          "反应池7矾花平均密度",
          "反应池7矾花平均密度",
          "反应池7矾花平均密度",
          "反应池7矾花平均密度",
          "反应池7矾花平均密度",
          "反应池7矾花平均密度",
          "反应池7矾花平均密度",
          "反应池7矾花平均密度",
          "反应池7矾花平均密度",
          "反应池7矾花平均密度",
          "反应池7矾花平均密度",
          "反应池7矾花平均密度",
          "反应池7矾花平均密度",
          "反应池7矾花平均密度",
          "反应池7矾花平均密度",
          "反应池7矾花平均密度",
          "反应池7矾花平均密度",
          "反应池7矾花平均密度",
          "反应池7矾花平均密度",
          "反应池7矾花平均密度",
          "反应池7矾花平均密度",
          "反应池7矾花平均密度",
          "反应池7矾花平均密度",
          "反应池7矾花平均密度",
          "反应池7矾花平均密度",
          "反应池7矾花平均密度",
          "反应池7矾花平均密度",
          "反应池7矾花平均密度",
          "反应池7矾花平均密度",
          "反应池7矾花平均密度",
          "反应池7矾花平均密度",
          "反应池7矾花平均密度",
          "反应池7矾花平均密度",
          "反应池7矾花平均密度",
          "反应池7矾花平均密度",
          "反应池7矾花平均密度",
          "反应池7矾花平均密度",
          "反应池7矾花平均密度",
          "反应池7矾花平均密度",
          "反应池7矾花平均密度",
          "反应池7矾花平均密度",
          "反应池7矾花平均密度",
          "反应池7矾花平均密度",
          "反应池7矾花平均密度",
          "反应池7矾花平均密度",
          "反应池7矾花平均密度",
          "反应池7矾花平均密度",
          "反应池7矾花平均密度",
          "反应池7矾花平均密度",
          "反应池7矾花平均密度",
          "反应池7矾花平均密度",
          "反应池7矾花平均密度",
          "反应池7矾花平均密度",
          "反应池7矾花平均密度",
          "反应池7矾花平均密度",
          "反应池7矾花平均密度",
          "反应池7矾花平均密度",
          "反应池7矾花平均密度",
          "反应池7矾花平均密度",
          "反应池7矾花平均密度",
          "反应池7矾花平均密度",
          "反应池7矾花平均密度",
          "反应池7矾花平均密度",
          "反应池7矾花平均密度",
          "反应池7矾花平均密度",
          "反应池7矾花平均密度",
          "反应池7矾花平均密度",
          "反应池7矾花平均密度",
          "反应池7矾花平均密度",
          "反应池7矾花平均密度",
          "反应池7矾花平均密度",
          "反应池7矾花平均密度",
          "反应池7矾花平均密度",
          "反应池7矾花平均密度",
          "反应池7矾花平均密度",
          "反应池7矾花平均密度",
          "反应池7矾花平均密度",
          "反应池7矾花平均密度",
          "反应池7矾花平均密度",
          "反应池7矾花平均密度",
          "反应池7矾花平均密度",
          "反应池7矾花平均密度",
          "反应池7矾花平均密度",
          "反应池7矾花平均密度",
          "反应池7矾花平均密度",
          "反应池7矾花平均密度",
          "反应池7矾花平均密度",
          "反应池7矾花平均密度",
          "反应池7矾花平均密度",
          "反应池7矾花平均密度",
          "反应池7矾花平均密度",
          "反应池7矾花平均密度",
          "反应池7矾花平均密度",
          "反应池7矾花平均密度",
          "反应池7矾花平均密度",
          "反应池7矾花平均密度",
          "反应池7矾花平均密度",
          "反应池7矾花平均密度",
          "反应池7矾花平均密度",
          "反应池7矾花平均密度",
          "反应池7矾花平均密度",
          "反应池7矾花平均密度",
          "反应池7矾花平均密度",
          "反应池7矾花平均密度",
          "反应池7矾花平均密度",
          "反应池7矾花平均密度",
          "反应池7矾花平均密度",
          "反应池7矾花平均密度",
          "反应池7矾花平均密度",
          "反应池7矾花平均密度",
          "反应池7矾花平均密度",
          "反应池7矾花平均密度",
          "反应池7矾花平均密度",
          "反应池7矾花平均密度",
          "反应池7矾花平均密度",
          "反应池7矾花平均密度",
          "反应池7矾花平均密度",
          "反应池7矾花平均密度",
          "反应池7矾花平均密度",
          "反应池7矾花平均密度",
          "反应池7矾花平均密度",
          "反应池7矾花平均密度",
          "反应池7矾花平均密度",
          "反应池7矾花平均密度",
          "反应池7矾花平均密度",
          "反应池7矾花平均密度",
          "反应池7矾花平均密度",
          "反应池7矾花平均密度",
          "反应池7矾花平均密度",
          "反应池7矾花平均密度",
          "反应池7矾花平均密度",
          "反应池7矾花平均密度",
          "反应池7矾花平均密度",
          "反应池7矾花平均密度",
          "反应池7矾花平均密度",
          "反应池7矾花平均密度",
          "反应池7矾花平均密度",
          "反应池7矾花平均密度",
          "反应池7矾花平均密度",
          "反应池7矾花平均密度",
          "反应池7矾花平均密度",
          "反应池7矾花平均密度",
          "反应池7矾花平均密度",
          "反应池7矾花平均密度",
          "反应池7矾花平均密度",
          "反应池7矾花平均密度",
          "反应池7矾花平均密度",
          "反应池7矾花平均密度",
          "反应池7矾花平均密度",
          "反应池7矾花平均密度",
          "反应池7矾花平均密度",
          "反应池7矾花平均密度",
          "反应池7矾花平均密度",
          "反应池7矾花平均密度",
          "反应池7矾花平均密度",
          "反应池7矾花平均密度",
          "反应池7矾花平均密度",
          "反应池7矾花平均密度",
          "反应池7矾花平均密度",
          "反应池7矾花平均密度",
          "反应池7矾花平均密度",
          "反应池7矾花平均密度",
          "反应池7矾花平均密度",
          "反应池7矾花平均密度",
          "反应池7矾花平均密度",
          "反应池7矾花平均密度",
          "反应池7矾花平均密度",
          "反应池7矾花平均密度",
          "反应池7矾花平均密度",
          "反应池7矾花平均密度",
          "反应池7矾花平均密度",
          "反应池7矾花平均密度",
          "反应池7矾花平均密度",
          "反应池7矾花平均密度",
          "反应池7矾花平均密度",
          "反应池7矾花平均密度",
          "反应池7矾花平均密度",
          "反应池7矾花平均密度",
          "反应池7矾花平均密度",
          "反应池7矾花平均密度",
          "反应池7矾花平均密度",
          "反应池7矾花平均密度",
          "反应池7矾花平均密度",
          "反应池7矾花平均密度",
          "反应池7矾花平均密度",
          "反应池7矾花平均密度",
          "反应池7矾花平均密度",
          "反应池7矾花平均密度",
          "反应池7矾花平均密度",
          "反应池7矾花平均密度",
          "反应池7矾花平均密度",
          "反应池7矾花平均密度",
          "反应池7矾花平均密度",
          "反应池7矾花平均密度",
          "反应池7矾花平均密度",
          "反应池7矾花平均密度",
          "反应池7矾花平均密度",
          "反应池7矾花平均密度",
          "反应池7矾花平均密度",
          "反应池7矾花平均密度",
          "反应池7矾花平均密度",
          "反应池7矾花平均密度",
          "反应池7矾花平均密度",
          "反应池7矾花平均密度",
          "反应池7矾花平均密度",
          "反应池7矾花平均密度",
          "反应池7矾花平均密度",
          "反应池7矾花平均密度",
          "反应池7矾花平均密度",
          "反应池7矾花平均密度",
          "反应池7矾花平均密度",
          "反应池7矾花平均密度",
          "反应池7矾花平均密度",
          "反应池7矾花平均密度",
          "反应池7矾花平均密度",
          "反应池7矾花平均密度",
          "反应池7矾花平均密度",
          "反应池7矾花平均密度",
          "反应池7矾花平均密度",
          "反应池7矾花平均密度",
          "反应池7矾花平均密度",
          "反应池7矾花平均密度",
          "反应池7矾花平均密度",
          "反应池7矾花平均密度",
          "反应池7矾花平均密度",
          "反应池7矾花平均密度",
          "反应池7矾花平均密度",
          "反应池7矾花平均密度",
          "反应池7矾花平均密度",
          "反应池7矾花平均密度",
          "反应池7矾花平均密度",
          "反应池7矾花平均密度",
          "反应池7矾花平均密度",
          "反应池7矾花平均密度",
          "反应池7矾花平均密度",
          "反应池7矾花平均密度",
          "反应池7矾花平均密度",
          "反应池7矾花平均密度",
          "反应池7矾花平均密度",
          "反应池7矾花平均密度",
          "反应池7矾花平均密度",
          "反应池7矾花平均密度",
          "反应池7矾花平均密度",
          "反应池7矾花平均密度",
          "反应池7矾花平均密度",
          "反应池7矾花平均密度",
          "反应池7矾花平均密度",
          "反应池7矾花平均密度",
          "反应池7矾花平均密度",
          "反应池7矾花平均密度",
          "反应池7矾花平均密度",
          "反应池7矾花平均密度",
          "反应池7矾花平均密度",
          "反应池7矾花平均密度",
          "反应池7矾花平均密度",
          "反应池7矾花平均密度",
          "反应池7矾花平均密度",
          "反应池7矾花平均密度",
          "反应池7矾花平均密度",
          "反应池7矾花平均密度",
          "反应池7矾花平均密度",
          "反应池7矾花平均密度",
          "反应池7矾花平均密度",
          "反应池7矾花平均密度",
          "反应池7矾花平均密度",
          "反应池7矾花平均密度",
          "反应池7矾花平均密度",
          "反应池7矾花平均密度",
          "反应池7矾花平均密度",
          "反应池7矾花平均密度",
          "反应池7矾花平均密度",
          "反应池7矾花平均密度",
          "反应池7矾花平均密度",
          "反应池7矾花平均密度",
          "反应池7矾花平均密度",
          "反应池7矾花平均密度",
          "反应池7矾花平均密度",
          "反应池7矾花平均密度",
          "反应池7矾花平均密度",
          "反应池7矾花平均密度",
          "反应池7矾花平均密度",
          "反应池7矾花平均密度",
          "反应池7矾花平均密度",
          "反应池7矾花平均密度",
          "反应池7矾花平均密度",
          "反应池7矾花平均密度",
          "反应池7矾花平均密度",
          "反应池7矾花平均密度",
          "反应池7矾花平均密度",
          "反应池7矾花平均密度",
          "反应池7矾花平均密度",
          "反应池7矾花平均密度",
          "反应池7矾花平均密度",
          "反应池7矾花平均密度",
          "反应池7矾花平均密度",
          "反应池7矾花平均密度",
          "反应池7矾花平均密度",
          "反应池7矾花平均密度",
          "反应池7矾花平均密度",
          "反应池7矾花平均密度",
          "反应池7矾花平均密度",
          "反应池7矾花平均密度",
          "反应池7矾花平均密度",
          "反应池7矾花平均密度",
          "反应池7矾花平均密度",
          "反应池7矾花平均密度",
          "反应池7矾花平均密度",
          "反应池7矾花平均密度",
          "反应池7矾花平均密度",
          "反应池7矾花平均密度",
          "反应池7矾花平均密度",
          "反应池7矾花平均密度",
          "反应池7矾花平均密度",
          "反应池7矾花平均密度",
          "反应池7矾花平均密度",
          "反应池7矾花平均密度",
          "反应池7矾花平均密度",
          "反应池7矾花平均密度",
          "反应池7矾花平均密度",
          "反应池7矾花平均密度",
          "反应池7矾花平均密度",
          "反应池7矾花平均密度",
          "反应池7矾花平均密度",
          "反应池7矾花平均密度",
          "反应池7矾花平均密度",
          "反应池7矾花平均密度",
          "反应池7矾花平均密度",
          "反应池7矾花平均密度",
          "反应池7矾花平均密度",
          "反应池7矾花平均密度",
          "反应池7矾花平均密度",
          "反应池7矾花平均密度",
          "反应池7矾花平均密度",
          "反应池7矾花平均密度",
          "反应池7矾花平均密度",
          "反应池7矾花平均密度",
          "反应池7矾花平均密度",
          "反应池7矾花平均密度",
          "反应池7矾花平均密度",
          "反应池7矾花平均密度",
          "反应池7矾花平均密度",
          "反应池7矾花平均密度",
          "反应池7矾花平均密度",
          "反应池7矾花平均密度",
          "反应池7矾花平均密度",
          "反应池7矾花平均密度",
          "反应池7矾花平均密度",
          "反应池7矾花平均密度",
          "反应池7矾花平均密度",
          "反应池7矾花平均密度",
          "反应池7矾花平均密度",
          "反应池7矾花平均密度",
          "反应池7矾花平均密度",
          "反应池7矾花平均密度",
          "反应池7矾花平均密度",
          "反应池7矾花平均密度",
          "反应池7矾花平均密度",
          "反应池7矾花平均密度",
          "反应池7矾花平均密度",
          "反应池7矾花平均密度",
          "反应池7矾花平均密度",
          "反应池7矾花平均直径",
          "反应池7矾花平均直径",
          "反应池7矾花平均直径",
          "反应池7矾花平均直径",
          "反应池7矾花平均直径",
          "反应池7矾花平均直径",
          "反应池7矾花平均直径",
          "反应池7矾花平均直径",
          "反应池7矾花平均直径",
          "反应池7矾花平均直径",
          "反应池7矾花平均直径",
          "反应池7矾花平均直径",
          "反应池7矾花平均直径",
          "反应池7矾花平均直径",
          "反应池7矾花平均直径",
          "反应池7矾花平均直径",
          "反应池7矾花平均直径",
          "反应池7矾花平均直径",
          "反应池7矾花平均直径",
          "反应池7矾花平均直径",
          "反应池7矾花平均直径",
          "反应池7矾花平均直径",
          "反应池7矾花平均直径",
          "反应池7矾花平均直径",
          "反应池7矾花平均直径",
          "反应池7矾花平均直径",
          "反应池7矾花平均直径",
          "反应池7矾花平均直径",
          "反应池7矾花平均直径",
          "反应池7矾花平均直径",
          "反应池7矾花平均直径",
          "反应池7矾花平均直径",
          "反应池7矾花平均直径",
          "反应池7矾花平均直径",
          "反应池7矾花平均直径",
          "反应池7矾花平均直径",
          "反应池7矾花平均直径",
          "反应池7矾花平均直径",
          "反应池7矾花平均直径",
          "反应池7矾花平均直径",
          "反应池7矾花平均直径",
          "反应池7矾花平均直径",
          "反应池7矾花平均直径",
          "反应池7矾花平均直径",
          "反应池7矾花平均直径",
          "反应池7矾花平均直径",
          "反应池7矾花平均直径",
          "反应池7矾花平均直径",
          "反应池7矾花平均直径",
          "反应池7矾花平均直径",
          "反应池7矾花平均直径",
          "反应池7矾花平均直径",
          "反应池7矾花平均直径",
          "反应池7矾花平均直径",
          "反应池7矾花平均直径",
          "反应池7矾花平均直径",
          "反应池7矾花平均直径",
          "反应池7矾花平均直径",
          "反应池7矾花平均直径",
          "反应池7矾花平均直径",
          "反应池7矾花平均直径",
          "反应池7矾花平均直径",
          "反应池7矾花平均直径",
          "反应池7矾花平均直径",
          "反应池7矾花平均直径",
          "反应池7矾花平均直径",
          "反应池7矾花平均直径",
          "反应池7矾花平均直径",
          "反应池7矾花平均直径",
          "反应池7矾花平均直径",
          "反应池7矾花平均直径",
          "反应池7矾花平均直径",
          "反应池7矾花平均直径",
          "反应池7矾花平均直径",
          "反应池7矾花平均直径",
          "反应池7矾花平均直径",
          "反应池7矾花平均直径",
          "反应池7矾花平均直径",
          "反应池7矾花平均直径",
          "反应池7矾花平均直径",
          "反应池7矾花平均直径",
          "反应池7矾花平均直径",
          "反应池7矾花平均直径",
          "反应池7矾花平均直径",
          "反应池7矾花平均直径",
          "反应池7矾花平均直径",
          "反应池7矾花平均直径",
          "反应池7矾花平均直径",
          "反应池7矾花平均直径",
          "反应池7矾花平均直径",
          "反应池7矾花平均直径",
          "反应池7矾花平均直径",
          "反应池7矾花平均直径",
          "反应池7矾花平均直径",
          "反应池7矾花平均直径",
          "反应池7矾花平均直径",
          "反应池7矾花平均直径",
          "反应池7矾花平均直径",
          "反应池7矾花平均直径",
          "反应池7矾花平均直径",
          "反应池7矾花平均直径",
          "反应池7矾花平均直径",
          "反应池7矾花平均直径",
          "反应池7矾花平均直径",
          "反应池7矾花平均直径",
          "反应池7矾花平均直径",
          "反应池7矾花平均直径",
          "反应池7矾花平均直径",
          "反应池7矾花平均直径",
          "反应池7矾花平均直径",
          "反应池7矾花平均直径",
          "反应池7矾花平均直径",
          "反应池7矾花平均直径",
          "反应池7矾花平均直径",
          "反应池7矾花平均直径",
          "反应池7矾花平均直径",
          "反应池7矾花平均直径",
          "反应池7矾花平均直径",
          "反应池7矾花平均直径",
          "反应池7矾花平均直径",
          "反应池7矾花平均直径",
          "反应池7矾花平均直径",
          "反应池7矾花平均直径",
          "反应池7矾花平均直径",
          "反应池7矾花平均直径",
          "反应池7矾花平均直径",
          "反应池7矾花平均直径",
          "反应池7矾花平均直径",
          "反应池7矾花平均直径",
          "反应池7矾花平均直径",
          "反应池7矾花平均直径",
          "反应池7矾花平均直径",
          "反应池7矾花平均直径",
          "反应池7矾花平均直径",
          "反应池7矾花平均直径",
          "反应池7矾花平均直径",
          "反应池7矾花平均直径",
          "反应池7矾花平均直径",
          "反应池7矾花平均直径",
          "反应池7矾花平均直径",
          "反应池7矾花平均直径",
          "反应池7矾花平均直径",
          "反应池7矾花平均直径",
          "反应池7矾花平均直径",
          "反应池7矾花平均直径",
          "反应池7矾花平均直径",
          "反应池7矾花平均直径",
          "反应池7矾花平均直径",
          "反应池7矾花平均直径",
          "反应池7矾花平均直径",
          "反应池7矾花平均直径",
          "反应池7矾花平均直径",
          "反应池7矾花平均直径",
          "反应池7矾花平均直径",
          "反应池7矾花平均直径",
          "反应池7矾花平均直径",
          "反应池7矾花平均直径",
          "反应池7矾花平均直径",
          "反应池7矾花平均直径",
          "反应池7矾花平均直径",
          "反应池7矾花平均直径",
          "反应池7矾花平均直径",
          "反应池7矾花平均直径",
          "反应池7矾花平均直径",
          "反应池7矾花平均直径",
          "反应池7矾花平均直径",
          "反应池7矾花平均直径",
          "反应池7矾花平均直径",
          "反应池7矾花平均直径",
          "反应池7矾花平均直径",
          "反应池7矾花平均直径",
          "反应池7矾花平均直径",
          "反应池7矾花平均直径",
          "反应池7矾花平均直径",
          "反应池7矾花平均直径",
          "反应池7矾花平均直径",
          "反应池7矾花平均直径",
          "反应池7矾花平均直径",
          "反应池7矾花平均直径",
          "反应池7矾花平均直径",
          "反应池7矾花平均直径",
          "反应池7矾花平均直径",
          "反应池7矾花平均直径",
          "反应池7矾花平均直径",
          "反应池7矾花平均直径",
          "反应池7矾花平均直径",
          "反应池7矾花平均直径",
          "反应池7矾花平均直径",
          "反应池7矾花平均直径",
          "反应池7矾花平均直径",
          "反应池7矾花平均直径",
          "反应池7矾花平均直径",
          "反应池7矾花平均直径",
          "反应池7矾花平均直径",
          "反应池7矾花平均直径",
          "反应池7矾花平均直径",
          "反应池7矾花平均直径",
          "反应池7矾花平均直径",
          "反应池7矾花平均直径",
          "反应池7矾花平均直径",
          "反应池7矾花平均直径",
          "反应池7矾花平均直径",
          "反应池7矾花平均直径",
          "反应池7矾花平均直径",
          "反应池7矾花平均直径",
          "反应池7矾花平均直径",
          "反应池7矾花平均直径",
          "反应池7矾花平均直径",
          "反应池7矾花平均直径",
          "反应池7矾花平均直径",
          "反应池7矾花平均直径",
          "反应池7矾花平均直径",
          "反应池7矾花平均直径",
          "反应池7矾花平均直径",
          "反应池7矾花平均直径",
          "反应池7矾花平均直径",
          "反应池7矾花平均直径",
          "反应池7矾花平均直径",
          "反应池7矾花平均直径",
          "反应池7矾花平均直径",
          "反应池7矾花平均直径",
          "反应池7矾花平均直径",
          "反应池7矾花平均直径",
          "反应池7矾花平均直径",
          "反应池7矾花平均直径",
          "反应池7矾花平均直径",
          "反应池7矾花平均直径",
          "反应池7矾花平均直径",
          "反应池7矾花平均直径",
          "反应池7矾花平均直径",
          "反应池7矾花平均直径",
          "反应池7矾花平均直径",
          "反应池7矾花平均直径",
          "反应池7矾花平均直径",
          "反应池7矾花平均直径",
          "反应池7矾花平均直径",
          "反应池7矾花平均直径",
          "反应池7矾花平均直径",
          "反应池7矾花平均直径",
          "反应池7矾花平均直径",
          "反应池7矾花平均直径",
          "反应池7矾花平均直径",
          "反应池7矾花平均直径",
          "反应池7矾花平均直径",
          "反应池7矾花平均直径",
          "反应池7矾花平均直径",
          "反应池7矾花平均直径",
          "反应池7矾花平均直径",
          "反应池7矾花平均直径",
          "反应池7矾花平均直径",
          "反应池7矾花平均直径",
          "反应池7矾花平均直径",
          "反应池7矾花平均直径",
          "反应池7矾花平均直径",
          "反应池7矾花平均直径",
          "反应池7矾花平均直径",
          "反应池7矾花平均直径",
          "反应池7矾花平均直径",
          "反应池7矾花平均直径",
          "反应池7矾花平均直径",
          "反应池7矾花平均直径",
          "反应池7矾花平均直径",
          "反应池7矾花平均直径",
          "反应池7矾花平均直径",
          "反应池7矾花平均直径",
          "反应池7矾花平均直径",
          "反应池7矾花平均直径",
          "反应池7矾花平均直径",
          "反应池7矾花平均直径",
          "反应池7矾花平均直径",
          "反应池7矾花平均直径",
          "反应池7矾花平均直径",
          "反应池7矾花平均直径",
          "反应池7矾花平均直径",
          "反应池7矾花平均直径",
          "反应池7矾花平均直径",
          "反应池7矾花平均直径",
          "反应池7矾花平均直径",
          "反应池7矾花平均直径",
          "反应池7矾花平均直径",
          "反应池7矾花平均直径",
          "反应池7矾花平均直径",
          "反应池7矾花平均直径",
          "反应池7矾花平均直径",
          "反应池7矾花平均直径",
          "反应池7矾花平均直径",
          "反应池7矾花平均直径",
          "反应池7矾花平均直径",
          "反应池7矾花平均直径",
          "反应池7矾花平均直径",
          "反应池7矾花平均直径",
          "反应池7矾花平均直径",
          "反应池7矾花平均直径",
          "反应池7矾花平均直径",
          "反应池7矾花平均直径",
          "反应池7矾花平均直径",
          "反应池7矾花平均直径",
          "反应池7矾花平均直径",
          "反应池7矾花平均直径",
          "反应池7矾花平均直径",
          "反应池7矾花平均直径",
          "反应池7矾花平均直径",
          "反应池7矾花平均直径",
          "反应池7矾花平均直径",
          "反应池7矾花平均直径",
          "反应池7矾花平均直径",
          "反应池7矾花平均直径",
          "反应池7矾花平均直径",
          "反应池7矾花平均直径",
          "反应池7矾花平均直径",
          "反应池7矾花平均直径",
          "反应池7矾花平均直径",
          "反应池7矾花平均直径",
          "反应池7矾花平均直径",
          "反应池7矾花平均直径",
          "反应池7矾花平均直径",
          "反应池7矾花平均直径",
          "反应池7矾花平均直径",
          "反应池7矾花平均直径",
          "反应池7矾花平均直径",
          "反应池7矾花平均直径",
          "反应池7矾花平均直径",
          "反应池7矾花平均直径",
          "反应池7矾花平均直径",
          "反应池7矾花平均直径",
          "反应池7矾花平均直径",
          "反应池7矾花平均直径",
          "反应池7矾花平均直径",
          "反应池7矾花平均直径",
          "反应池7矾花平均直径",
          "反应池7矾花平均直径",
          "反应池7矾花平均直径",
          "反应池7矾花平均直径",
          "反应池7矾花平均直径",
          "反应池7矾花平均直径",
          "反应池7矾花平均直径",
          "反应池7矾花平均直径",
          "反应池7矾花平均直径",
          "反应池7矾花平均直径",
          "反应池7矾花平均直径",
          "反应池7矾花平均直径",
          "反应池7矾花平均直径",
          "反应池7矾花平均直径",
          "反应池7矾花平均直径",
          "反应池7矾花平均直径",
          "反应池7矾花平均直径",
          "反应池7矾花平均直径",
          "反应池7矾花平均直径",
          "反应池7矾花平均直径",
          "反应池7矾花平均直径",
          "反应池7矾花平均直径",
          "反应池7矾花平均直径",
          "反应池7矾花平均直径",
          "反应池7矾花平均直径",
          "反应池7矾花平均直径",
          "反应池7矾花平均直径",
          "反应池7矾花平均直径",
          "反应池7矾花平均直径",
          "反应池7矾花平均直径",
          "反应池7矾花平均直径",
          "反应池7矾花平均直径",
          "反应池7矾花平均直径",
          "反应池7矾花平均直径",
          "反应池7矾花平均直径",
          "反应池7矾花平均直径",
          "反应池7矾花平均直径",
          "反应池7矾花平均直径",
          "反应池7矾花平均直径",
          "反应池7矾花平均直径",
          "反应池7矾花平均直径",
          "反应池7矾花平均直径",
          "反应池7矾花平均直径",
          "反应池7矾花平均直径",
          "反应池7矾花平均直径",
          "反应池7矾花平均直径",
          "反应池7矾花平均直径",
          "反应池7矾花平均直径",
          "反应池7矾花平均直径",
          "反应池7矾花平均直径",
          "反应池7矾花平均直径",
          "反应池7矾花平均直径",
          "反应池7矾花平均直径",
          "反应池7矾花平均直径",
          "反应池7矾花平均直径",
          "反应池7矾花平均直径",
          "反应池7矾花平均直径",
          "反应池7矾花平均直径",
          "反应池7矾花平均直径",
          "反应池7矾花平均直径",
          "反应池7矾花平均直径",
          "反应池7矾花平均直径",
          "反应池7矾花平均直径",
          "反应池7矾花平均直径",
          "反应池7矾花平均直径",
          "反应池7矾花平均直径",
          "反应池7矾花平均直径",
          "反应池7矾花平均直径",
          "反应池7矾花平均直径",
          "反应池7矾花平均直径",
          "反应池7矾花平均直径",
          "反应池7矾花平均直径",
          "反应池7矾花平均直径",
          "反应池7矾花平均直径",
          "反应池7矾花平均直径",
          "反应池7矾花平均直径",
          "反应池7矾花平均直径",
          "反应池7矾花平均直径",
          "反应池7矾花平均直径",
          "反应池7矾花平均直径",
          "反应池7矾花平均直径",
          "反应池7矾花平均直径",
          "反应池7矾花平均直径",
          "反应池7矾花平均直径",
          "反应池7矾花平均直径",
          "反应池7矾花平均直径",
          "反应池7矾花平均直径",
          "反应池7矾花平均直径",
          "反应池7矾花平均直径",
          "反应池7矾花平均直径",
          "反应池7矾花平均直径",
          "反应池7矾花平均直径",
          "反应池7矾花平均直径",
          "反应池7矾花平均直径",
          "反应池7矾花平均直径",
          "反应池7矾花平均直径",
          "反应池7矾花平均直径",
          "反应池7矾花平均直径",
          "反应池7矾花平均直径",
          "反应池7矾花平均直径",
          "反应池7矾花平均直径",
          "反应池7矾花平均直径",
          "反应池7矾花平均直径",
          "反应池7矾花平均直径",
          "反应池7矾花平均直径",
          "反应池7矾花平均直径",
          "反应池7矾花平均直径",
          "反应池7矾花平均直径",
          "反应池7矾花平均直径",
          "反应池7矾花平均直径",
          "反应池7矾花平均直径",
          "反应池7矾花平均直径",
          "反应池7矾花平均直径",
          "反应池7矾花平均直径",
          "反应池7矾花平均直径",
          "反应池7矾花平均直径",
          "反应池7矾花平均直径",
          "反应池7矾花平均直径",
          "反应池7矾花平均直径",
          "反应池7矾花平均直径",
          "反应池7矾花平均直径",
          "反应池7矾花平均直径",
          "反应池7矾花平均直径",
          "反应池7矾花平均直径",
          "反应池7矾花平均直径",
          "反应池7矾花平均直径",
          "反应池7矾花平均直径",
          "反应池7矾花平均直径",
          "反应池7矾花平均直径",
          "反应池7矾花平均直径",
          "反应池7矾花平均直径",
          "反应池7矾花平均直径",
          "反应池7矾花平均直径",
          "反应池7矾花平均直径",
          "反应池7矾花平均直径",
          "反应池7矾花平均直径",
          "反应池7矾花平均直径",
          "反应池7矾花平均直径",
          "反应池7矾花平均直径",
          "反应池7矾花平均直径",
          "反应池7矾花平均直径",
          "反应池7矾花平均直径",
          "反应池7矾花平均直径",
          "反应池7矾花平均直径",
          "反应池7矾花平均直径",
          "反应池7矾花平均直径",
          "反应池7矾花平均直径",
          "反应池7矾花平均直径",
          "反应池7矾花平均直径",
          "反应池7矾花平均直径",
          "反应池7矾花平均直径",
          "反应池7矾花平均直径",
          "反应池7矾花平均直径",
          "反应池7矾花平均直径",
          "反应池7矾花平均直径",
          "反应池7矾花平均直径",
          "反应池7矾花平均直径",
          "反应池7矾花平均直径",
          "反应池7矾花平均直径",
          "反应池7矾花平均直径",
          "反应池7矾花平均直径",
          "反应池7矾花平均直径",
          "反应池7矾花平均直径",
          "反应池7矾花平均直径",
          "反应池7矾花平均直径",
          "反应池7矾花平均直径",
          "反应池7矾花平均直径",
          "反应池7矾花平均直径",
          "反应池7矾花平均直径",
          "反应池7矾花平均直径",
          "反应池7矾花平均直径",
          "小颗粒矾花占比",
          "小颗粒矾花占比",
          "小颗粒矾花占比",
          "小颗粒矾花占比",
          "小颗粒矾花占比",
          "小颗粒矾花占比",
          "小颗粒矾花占比",
          "小颗粒矾花占比",
          "小颗粒矾花占比",
          "小颗粒矾花占比",
          "小颗粒矾花占比",
          "小颗粒矾花占比",
          "小颗粒矾花占比",
          "小颗粒矾花占比",
          "小颗粒矾花占比",
          "小颗粒矾花占比",
          "小颗粒矾花占比",
          "小颗粒矾花占比",
          "小颗粒矾花占比",
          "小颗粒矾花占比",
          "小颗粒矾花占比",
          "小颗粒矾花占比",
          "小颗粒矾花占比",
          "小颗粒矾花占比",
          "小颗粒矾花占比",
          "小颗粒矾花占比",
          "小颗粒矾花占比",
          "小颗粒矾花占比",
          "小颗粒矾花占比",
          "小颗粒矾花占比",
          "小颗粒矾花占比",
          "小颗粒矾花占比",
          "小颗粒矾花占比",
          "小颗粒矾花占比",
          "小颗粒矾花占比",
          "小颗粒矾花占比",
          "小颗粒矾花占比",
          "小颗粒矾花占比",
          "小颗粒矾花占比",
          "小颗粒矾花占比",
          "小颗粒矾花占比",
          "小颗粒矾花占比",
          "小颗粒矾花占比",
          "小颗粒矾花占比",
          "小颗粒矾花占比",
          "小颗粒矾花占比",
          "小颗粒矾花占比",
          "小颗粒矾花占比",
          "小颗粒矾花占比",
          "小颗粒矾花占比",
          "小颗粒矾花占比",
          "小颗粒矾花占比",
          "小颗粒矾花占比",
          "小颗粒矾花占比",
          "小颗粒矾花占比",
          "小颗粒矾花占比",
          "小颗粒矾花占比",
          "小颗粒矾花占比",
          "小颗粒矾花占比",
          "小颗粒矾花占比",
          "小颗粒矾花占比",
          "小颗粒矾花占比",
          "小颗粒矾花占比",
          "小颗粒矾花占比",
          "小颗粒矾花占比",
          "小颗粒矾花占比",
          "小颗粒矾花占比",
          "小颗粒矾花占比",
          "小颗粒矾花占比",
          "小颗粒矾花占比",
          "小颗粒矾花占比",
          "小颗粒矾花占比",
          "小颗粒矾花占比",
          "小颗粒矾花占比",
          "小颗粒矾花占比",
          "小颗粒矾花占比",
          "小颗粒矾花占比",
          "小颗粒矾花占比",
          "小颗粒矾花占比",
          "小颗粒矾花占比",
          "小颗粒矾花占比",
          "小颗粒矾花占比",
          "小颗粒矾花占比",
          "小颗粒矾花占比",
          "小颗粒矾花占比",
          "小颗粒矾花占比",
          "小颗粒矾花占比",
          "小颗粒矾花占比",
          "小颗粒矾花占比",
          "小颗粒矾花占比",
          "小颗粒矾花占比",
          "小颗粒矾花占比",
          "小颗粒矾花占比",
          "小颗粒矾花占比",
          "小颗粒矾花占比",
          "小颗粒矾花占比",
          "小颗粒矾花占比",
          "小颗粒矾花占比",
          "小颗粒矾花占比",
          "小颗粒矾花占比",
          "小颗粒矾花占比",
          "小颗粒矾花占比",
          "小颗粒矾花占比",
          "小颗粒矾花占比",
          "小颗粒矾花占比",
          "小颗粒矾花占比",
          "小颗粒矾花占比",
          "小颗粒矾花占比",
          "小颗粒矾花占比",
          "小颗粒矾花占比",
          "小颗粒矾花占比",
          "小颗粒矾花占比",
          "小颗粒矾花占比",
          "小颗粒矾花占比",
          "小颗粒矾花占比",
          "小颗粒矾花占比",
          "小颗粒矾花占比",
          "小颗粒矾花占比",
          "小颗粒矾花占比",
          "小颗粒矾花占比",
          "小颗粒矾花占比",
          "小颗粒矾花占比",
          "小颗粒矾花占比",
          "小颗粒矾花占比",
          "小颗粒矾花占比",
          "小颗粒矾花占比",
          "小颗粒矾花占比",
          "小颗粒矾花占比",
          "小颗粒矾花占比",
          "小颗粒矾花占比",
          "小颗粒矾花占比",
          "小颗粒矾花占比",
          "小颗粒矾花占比",
          "小颗粒矾花占比",
          "小颗粒矾花占比",
          "小颗粒矾花占比",
          "小颗粒矾花占比",
          "小颗粒矾花占比",
          "小颗粒矾花占比",
          "小颗粒矾花占比",
          "小颗粒矾花占比",
          "小颗粒矾花占比",
          "小颗粒矾花占比",
          "小颗粒矾花占比",
          "小颗粒矾花占比",
          "小颗粒矾花占比",
          "小颗粒矾花占比",
          "小颗粒矾花占比",
          "小颗粒矾花占比",
          "小颗粒矾花占比",
          "小颗粒矾花占比",
          "小颗粒矾花占比",
          "小颗粒矾花占比",
          "小颗粒矾花占比",
          "小颗粒矾花占比",
          "小颗粒矾花占比",
          "小颗粒矾花占比",
          "小颗粒矾花占比",
          "小颗粒矾花占比",
          "小颗粒矾花占比",
          "小颗粒矾花占比",
          "小颗粒矾花占比",
          "小颗粒矾花占比",
          "小颗粒矾花占比",
          "小颗粒矾花占比",
          "小颗粒矾花占比",
          "小颗粒矾花占比",
          "小颗粒矾花占比",
          "小颗粒矾花占比",
          "小颗粒矾花占比",
          "小颗粒矾花占比",
          "小颗粒矾花占比",
          "小颗粒矾花占比",
          "小颗粒矾花占比",
          "小颗粒矾花占比",
          "小颗粒矾花占比",
          "小颗粒矾花占比",
          "小颗粒矾花占比",
          "小颗粒矾花占比",
          "小颗粒矾花占比",
          "小颗粒矾花占比",
          "小颗粒矾花占比",
          "小颗粒矾花占比",
          "小颗粒矾花占比",
          "小颗粒矾花占比",
          "小颗粒矾花占比",
          "小颗粒矾花占比",
          "小颗粒矾花占比",
          "小颗粒矾花占比",
          "小颗粒矾花占比",
          "小颗粒矾花占比",
          "小颗粒矾花占比",
          "小颗粒矾花占比",
          "小颗粒矾花占比",
          "小颗粒矾花占比",
          "小颗粒矾花占比",
          "小颗粒矾花占比",
          "小颗粒矾花占比",
          "小颗粒矾花占比",
          "小颗粒矾花占比",
          "小颗粒矾花占比",
          "小颗粒矾花占比",
          "小颗粒矾花占比",
          "小颗粒矾花占比",
          "小颗粒矾花占比",
          "小颗粒矾花占比",
          "小颗粒矾花占比",
          "小颗粒矾花占比",
          "小颗粒矾花占比",
          "小颗粒矾花占比",
          "小颗粒矾花占比",
          "小颗粒矾花占比",
          "小颗粒矾花占比",
          "小颗粒矾花占比",
          "小颗粒矾花占比",
          "小颗粒矾花占比",
          "小颗粒矾花占比",
          "小颗粒矾花占比",
          "小颗粒矾花占比",
          "小颗粒矾花占比",
          "小颗粒矾花占比",
          "小颗粒矾花占比",
          "小颗粒矾花占比",
          "小颗粒矾花占比",
          "小颗粒矾花占比",
          "小颗粒矾花占比",
          "小颗粒矾花占比",
          "小颗粒矾花占比",
          "小颗粒矾花占比",
          "小颗粒矾花占比",
          "小颗粒矾花占比",
          "小颗粒矾花占比",
          "小颗粒矾花占比",
          "小颗粒矾花占比",
          "小颗粒矾花占比",
          "小颗粒矾花占比",
          "小颗粒矾花占比",
          "小颗粒矾花占比",
          "小颗粒矾花占比",
          "小颗粒矾花占比",
          "小颗粒矾花占比",
          "小颗粒矾花占比",
          "小颗粒矾花占比",
          "小颗粒矾花占比",
          "小颗粒矾花占比",
          "小颗粒矾花占比",
          "小颗粒矾花占比",
          "小颗粒矾花占比",
          "小颗粒矾花占比",
          "小颗粒矾花占比",
          "小颗粒矾花占比",
          "小颗粒矾花占比",
          "小颗粒矾花占比",
          "小颗粒矾花占比",
          "小颗粒矾花占比",
          "小颗粒矾花占比",
          "小颗粒矾花占比",
          "小颗粒矾花占比",
          "小颗粒矾花占比",
          "小颗粒矾花占比",
          "小颗粒矾花占比",
          "小颗粒矾花占比",
          "小颗粒矾花占比",
          "小颗粒矾花占比",
          "小颗粒矾花占比",
          "小颗粒矾花占比",
          "小颗粒矾花占比",
          "小颗粒矾花占比",
          "小颗粒矾花占比",
          "小颗粒矾花占比",
          "小颗粒矾花占比",
          "小颗粒矾花占比",
          "小颗粒矾花占比",
          "小颗粒矾花占比",
          "小颗粒矾花占比",
          "小颗粒矾花占比",
          "小颗粒矾花占比",
          "小颗粒矾花占比",
          "小颗粒矾花占比",
          "小颗粒矾花占比",
          "小颗粒矾花占比",
          "小颗粒矾花占比",
          "小颗粒矾花占比",
          "小颗粒矾花占比",
          "小颗粒矾花占比",
          "小颗粒矾花占比",
          "小颗粒矾花占比",
          "小颗粒矾花占比",
          "小颗粒矾花占比",
          "小颗粒矾花占比",
          "小颗粒矾花占比",
          "小颗粒矾花占比",
          "小颗粒矾花占比",
          "小颗粒矾花占比",
          "小颗粒矾花占比",
          "小颗粒矾花占比",
          "小颗粒矾花占比",
          "小颗粒矾花占比",
          "小颗粒矾花占比",
          "小颗粒矾花占比",
          "小颗粒矾花占比",
          "小颗粒矾花占比",
          "小颗粒矾花占比",
          "小颗粒矾花占比",
          "小颗粒矾花占比",
          "小颗粒矾花占比",
          "小颗粒矾花占比",
          "小颗粒矾花占比",
          "小颗粒矾花占比",
          "小颗粒矾花占比",
          "小颗粒矾花占比",
          "小颗粒矾花占比",
          "小颗粒矾花占比",
          "小颗粒矾花占比",
          "小颗粒矾花占比",
          "小颗粒矾花占比",
          "小颗粒矾花占比",
          "小颗粒矾花占比",
          "小颗粒矾花占比",
          "小颗粒矾花占比",
          "小颗粒矾花占比",
          "小颗粒矾花占比",
          "小颗粒矾花占比",
          "小颗粒矾花占比",
          "小颗粒矾花占比",
          "小颗粒矾花占比",
          "小颗粒矾花占比",
          "小颗粒矾花占比",
          "小颗粒矾花占比",
          "小颗粒矾花占比",
          "小颗粒矾花占比",
          "小颗粒矾花占比",
          "小颗粒矾花占比",
          "小颗粒矾花占比",
          "小颗粒矾花占比",
          "小颗粒矾花占比",
          "小颗粒矾花占比",
          "小颗粒矾花占比",
          "小颗粒矾花占比",
          "小颗粒矾花占比",
          "小颗粒矾花占比",
          "小颗粒矾花占比",
          "小颗粒矾花占比",
          "小颗粒矾花占比",
          "小颗粒矾花占比",
          "小颗粒矾花占比",
          "小颗粒矾花占比",
          "小颗粒矾花占比",
          "小颗粒矾花占比",
          "小颗粒矾花占比",
          "小颗粒矾花占比",
          "小颗粒矾花占比",
          "小颗粒矾花占比",
          "小颗粒矾花占比",
          "小颗粒矾花占比",
          "小颗粒矾花占比",
          "小颗粒矾花占比",
          "小颗粒矾花占比",
          "小颗粒矾花占比",
          "小颗粒矾花占比",
          "小颗粒矾花占比",
          "小颗粒矾花占比",
          "小颗粒矾花占比",
          "小颗粒矾花占比",
          "小颗粒矾花占比",
          "小颗粒矾花占比",
          "小颗粒矾花占比",
          "小颗粒矾花占比",
          "小颗粒矾花占比",
          "小颗粒矾花占比",
          "小颗粒矾花占比",
          "小颗粒矾花占比",
          "小颗粒矾花占比",
          "小颗粒矾花占比",
          "小颗粒矾花占比",
          "小颗粒矾花占比",
          "小颗粒矾花占比",
          "小颗粒矾花占比",
          "小颗粒矾花占比",
          "小颗粒矾花占比",
          "小颗粒矾花占比",
          "小颗粒矾花占比",
          "小颗粒矾花占比",
          "小颗粒矾花占比",
          "小颗粒矾花占比",
          "小颗粒矾花占比",
          "小颗粒矾花占比",
          "小颗粒矾花占比",
          "小颗粒矾花占比",
          "小颗粒矾花占比",
          "小颗粒矾花占比",
          "小颗粒矾花占比",
          "小颗粒矾花占比",
          "小颗粒矾花占比",
          "小颗粒矾花占比",
          "小颗粒矾花占比",
          "小颗粒矾花占比",
          "小颗粒矾花占比",
          "小颗粒矾花占比",
          "小颗粒矾花占比",
          "小颗粒矾花占比",
          "小颗粒矾花占比",
          "小颗粒矾花占比",
          "小颗粒矾花占比",
          "小颗粒矾花占比",
          "小颗粒矾花占比",
          "小颗粒矾花占比",
          "小颗粒矾花占比",
          "小颗粒矾花占比",
          "小颗粒矾花占比",
          "小颗粒矾花占比",
          "小颗粒矾花占比",
          "小颗粒矾花占比",
          "小颗粒矾花占比",
          "小颗粒矾花占比",
          "小颗粒矾花占比",
          "小颗粒矾花占比",
          "小颗粒矾花占比",
          "小颗粒矾花占比",
          "小颗粒矾花占比",
          "小颗粒矾花占比",
          "小颗粒矾花占比",
          "小颗粒矾花占比",
          "小颗粒矾花占比",
          "小颗粒矾花占比",
          "小颗粒矾花占比",
          "小颗粒矾花占比",
          "小颗粒矾花占比",
          "小颗粒矾花占比",
          "小颗粒矾花占比",
          "小颗粒矾花占比",
          "小颗粒矾花占比",
          "小颗粒矾花占比",
          "小颗粒矾花占比",
          "小颗粒矾花占比",
          "小颗粒矾花占比",
          "小颗粒矾花占比",
          "小颗粒矾花占比",
          "小颗粒矾花占比",
          "小颗粒矾花占比",
          "小颗粒矾花占比",
          "小颗粒矾花占比",
          "小颗粒矾花占比",
          "小颗粒矾花占比",
          "小颗粒矾花占比",
          "小颗粒矾花占比",
          "小颗粒矾花占比",
          "小颗粒矾花占比",
          "小颗粒矾花占比",
          "小颗粒矾花占比",
          "小颗粒矾花占比",
          "小颗粒矾花占比",
          "小颗粒矾花占比",
          "小颗粒矾花占比",
          "小颗粒矾花占比",
          "小颗粒矾花占比",
          "小颗粒矾花占比",
          "小颗粒矾花占比",
          "小颗粒矾花占比",
          "小颗粒矾花占比",
          "小颗粒矾花占比",
          "小颗粒矾花占比",
          "小颗粒矾花占比",
          "小颗粒矾花占比",
          "小颗粒矾花占比",
          "小颗粒矾花占比",
          "小颗粒矾花占比",
          "小颗粒矾花占比",
          "小颗粒矾花占比",
          "小颗粒矾花占比",
          "小颗粒矾花占比",
          "小颗粒矾花占比",
          "小颗粒矾花占比",
          "小颗粒矾花占比",
          "小颗粒矾花占比",
          "小颗粒矾花占比",
          "小颗粒矾花占比",
          "小颗粒矾花占比",
          "小颗粒矾花占比",
          "小颗粒矾花占比",
          "小颗粒矾花占比",
          "小颗粒矾花占比",
          "小颗粒矾花占比",
          "小颗粒矾花占比",
          "小颗粒矾花占比",
          "小颗粒矾花占比",
          "小颗粒矾花占比",
          "小颗粒矾花占比",
          "小颗粒矾花占比",
          "小颗粒矾花占比",
          "小颗粒矾花占比",
          "小颗粒矾花占比",
          "小颗粒矾花占比",
          "小颗粒矾花占比",
          "小颗粒矾花占比",
          "小颗粒矾花占比",
          "小颗粒矾花占比",
          "小颗粒矾花占比",
          "小颗粒矾花占比",
          "小颗粒矾花占比",
          "系统实时出水浊度",
          "系统实时出水浊度",
          "系统实时出水浊度",
          "系统实时出水浊度",
          "系统实时出水浊度",
          "系统实时出水浊度",
          "系统实时出水浊度",
          "系统实时出水浊度",
          "系统实时出水浊度",
          "系统实时出水浊度",
          "系统实时出水浊度",
          "系统实时出水浊度",
          "系统实时出水浊度",
          "系统实时出水浊度",
          "系统实时出水浊度",
          "系统实时出水浊度",
          "系统实时出水浊度",
          "系统实时出水浊度",
          "系统实时出水浊度",
          "系统实时出水浊度",
          "系统实时出水浊度",
          "系统实时出水浊度",
          "系统实时出水浊度",
          "系统实时出水浊度",
          "系统实时出水浊度",
          "系统实时出水浊度",
          "系统实时出水浊度",
          "系统实时出水浊度",
          "系统实时出水浊度",
          "系统实时出水浊度",
          "系统实时出水浊度",
          "系统实时出水浊度",
          "系统实时出水浊度",
          "系统实时出水浊度",
          "系统实时出水浊度",
          "系统实时出水浊度",
          "系统实时出水浊度",
          "系统实时出水浊度",
          "系统实时出水浊度",
          "系统实时出水浊度",
          "系统实时出水浊度",
          "系统实时出水浊度",
          "系统实时出水浊度",
          "系统实时出水浊度",
          "系统实时出水浊度",
          "系统实时出水浊度",
          "系统实时出水浊度",
          "系统实时出水浊度",
          "系统实时出水浊度",
          "系统实时出水浊度",
          "系统实时出水浊度",
          "系统实时出水浊度",
          "系统实时出水浊度",
          "系统实时出水浊度",
          "系统实时出水浊度",
          "系统实时出水浊度",
          "系统实时出水浊度",
          "系统实时出水浊度",
          "系统实时出水浊度",
          "系统实时出水浊度",
          "系统实时出水浊度",
          "系统实时出水浊度",
          "系统实时出水浊度",
          "系统实时出水浊度",
          "系统实时出水浊度",
          "系统实时出水浊度",
          "系统实时出水浊度",
          "系统实时出水浊度",
          "系统实时出水浊度",
          "系统实时出水浊度",
          "系统实时出水浊度",
          "系统实时出水浊度",
          "系统实时出水浊度",
          "系统实时出水浊度",
          "系统实时出水浊度",
          "系统实时出水浊度",
          "系统实时出水浊度",
          "系统实时出水浊度",
          "系统实时出水浊度",
          "系统实时出水浊度",
          "系统实时出水浊度",
          "系统实时出水浊度",
          "系统实时出水浊度",
          "系统实时出水浊度",
          "系统实时出水浊度",
          "系统实时出水浊度",
          "系统实时出水浊度",
          "系统实时出水浊度",
          "系统实时出水浊度",
          "系统实时出水浊度",
          "系统实时出水浊度",
          "系统实时出水浊度",
          "系统实时出水浊度",
          "系统实时出水浊度",
          "系统实时出水浊度",
          "系统实时出水浊度",
          "系统实时出水浊度",
          "系统实时出水浊度",
          "系统实时出水浊度",
          "系统实时出水浊度",
          "系统实时出水浊度",
          "系统实时出水浊度",
          "系统实时出水浊度",
          "系统实时出水浊度",
          "系统实时出水浊度",
          "系统实时出水浊度",
          "系统实时出水浊度",
          "系统实时出水浊度",
          "系统实时出水浊度",
          "系统实时出水浊度",
          "系统实时出水浊度",
          "系统实时出水浊度",
          "系统实时出水浊度",
          "系统实时出水浊度",
          "系统实时出水浊度",
          "系统实时出水浊度",
          "系统实时出水浊度",
          "系统实时出水浊度",
          "系统实时出水浊度",
          "系统实时出水浊度",
          "系统实时出水浊度",
          "系统实时出水浊度",
          "系统实时出水浊度",
          "系统实时出水浊度",
          "系统实时出水浊度",
          "系统实时出水浊度",
          "系统实时出水浊度",
          "系统实时出水浊度",
          "系统实时出水浊度",
          "系统实时出水浊度",
          "系统实时出水浊度",
          "系统实时出水浊度",
          "系统实时出水浊度",
          "系统实时出水浊度",
          "系统实时出水浊度",
          "系统实时出水浊度",
          "系统实时出水浊度",
          "系统实时出水浊度",
          "系统实时出水浊度",
          "系统实时出水浊度",
          "系统实时出水浊度",
          "系统实时出水浊度",
          "系统实时出水浊度",
          "系统实时出水浊度",
          "系统实时出水浊度",
          "系统实时出水浊度",
          "系统实时出水浊度",
          "系统实时出水浊度",
          "系统实时出水浊度",
          "系统实时出水浊度",
          "系统实时出水浊度",
          "系统实时出水浊度",
          "系统实时出水浊度",
          "系统实时出水浊度",
          "系统实时出水浊度",
          "系统实时出水浊度",
          "系统实时出水浊度",
          "系统实时出水浊度",
          "系统实时出水浊度",
          "系统实时出水浊度",
          "系统实时出水浊度",
          "系统实时出水浊度",
          "系统实时出水浊度",
          "系统实时出水浊度",
          "系统实时出水浊度",
          "系统实时出水浊度",
          "系统实时出水浊度",
          "系统实时出水浊度",
          "系统实时出水浊度",
          "系统实时出水浊度",
          "系统实时出水浊度",
          "系统实时出水浊度",
          "系统实时出水浊度",
          "系统实时出水浊度",
          "系统实时出水浊度",
          "系统实时出水浊度",
          "系统实时出水浊度",
          "系统实时出水浊度",
          "系统实时出水浊度",
          "系统实时出水浊度",
          "系统实时出水浊度",
          "系统实时出水浊度",
          "系统实时出水浊度",
          "系统实时出水浊度",
          "系统实时出水浊度",
          "系统实时出水浊度",
          "系统实时出水浊度",
          "系统实时出水浊度",
          "系统实时出水浊度",
          "系统实时出水浊度",
          "系统实时出水浊度",
          "系统实时出水浊度",
          "系统实时出水浊度",
          "系统实时出水浊度",
          "系统实时出水浊度",
          "系统实时出水浊度",
          "系统实时出水浊度",
          "系统实时出水浊度",
          "系统实时出水浊度",
          "系统实时出水浊度",
          "系统实时出水浊度",
          "系统实时出水浊度",
          "系统实时出水浊度",
          "系统实时出水浊度",
          "系统实时出水浊度",
          "系统实时出水浊度",
          "系统实时出水浊度",
          "系统实时出水浊度",
          "系统实时出水浊度",
          "系统实时出水浊度",
          "系统实时出水浊度",
          "系统实时出水浊度",
          "系统实时出水浊度",
          "系统实时出水浊度",
          "系统实时出水浊度",
          "系统实时出水浊度",
          "系统实时出水浊度",
          "系统实时出水浊度",
          "系统实时出水浊度",
          "系统实时出水浊度",
          "系统实时出水浊度",
          "系统实时出水浊度",
          "系统实时出水浊度",
          "系统实时出水浊度",
          "系统实时出水浊度",
          "系统实时出水浊度",
          "系统实时出水浊度",
          "系统实时出水浊度",
          "系统实时出水浊度",
          "系统实时出水浊度",
          "系统实时出水浊度",
          "系统实时出水浊度",
          "系统实时出水浊度",
          "系统实时出水浊度",
          "系统实时出水浊度",
          "系统实时出水浊度",
          "系统实时出水浊度",
          "系统实时出水浊度",
          "系统实时出水浊度",
          "系统实时出水浊度",
          "系统实时出水浊度",
          "系统实时出水浊度",
          "系统实时出水浊度",
          "系统实时出水浊度",
          "系统实时出水浊度",
          "系统实时出水浊度",
          "系统实时出水浊度",
          "系统实时出水浊度",
          "系统实时出水浊度",
          "系统实时出水浊度",
          "系统实时出水浊度",
          "系统实时出水浊度",
          "系统实时出水浊度",
          "系统实时出水浊度",
          "系统实时出水浊度",
          "系统实时出水浊度",
          "系统实时出水浊度",
          "系统实时出水浊度",
          "系统实时出水浊度",
          "系统实时出水浊度",
          "系统实时出水浊度",
          "系统实时出水浊度",
          "系统实时出水浊度",
          "系统实时出水浊度",
          "系统实时出水浊度",
          "系统实时出水浊度",
          "系统实时出水浊度",
          "系统实时出水浊度",
          "系统实时出水浊度",
          "系统实时出水浊度",
          "系统实时出水浊度",
          "系统实时出水浊度",
          "系统实时出水浊度",
          "系统实时出水浊度",
          "系统实时出水浊度",
          "系统实时出水浊度",
          "系统实时出水浊度",
          "系统实时出水浊度",
          "系统实时出水浊度",
          "系统实时出水浊度",
          "系统实时出水浊度",
          "系统实时出水浊度",
          "系统实时出水浊度",
          "系统实时出水浊度",
          "系统实时出水浊度",
          "系统实时出水浊度",
          "系统实时出水浊度",
          "系统实时出水浊度",
          "系统实时出水浊度",
          "系统实时出水浊度",
          "系统实时出水浊度",
          "系统实时出水浊度",
          "系统实时出水浊度",
          "系统实时出水浊度",
          "系统实时出水浊度",
          "系统实时出水浊度",
          "系统实时出水浊度",
          "系统实时出水浊度",
          "系统实时出水浊度",
          "系统实时出水浊度",
          "系统实时出水浊度",
          "系统实时出水浊度",
          "系统实时出水浊度",
          "系统实时出水浊度",
          "系统实时出水浊度",
          "系统实时出水浊度",
          "系统实时出水浊度",
          "系统实时出水浊度",
          "系统实时出水浊度",
          "系统实时出水浊度",
          "系统实时出水浊度",
          "系统实时出水浊度",
          "系统实时出水浊度",
          "系统实时出水浊度",
          "系统实时出水浊度",
          "系统实时出水浊度",
          "系统实时出水浊度",
          "系统实时出水浊度",
          "系统实时出水浊度",
          "系统实时出水浊度",
          "系统实时出水浊度",
          "系统实时出水浊度",
          "系统实时出水浊度",
          "系统实时出水浊度",
          "系统实时出水浊度",
          "系统实时出水浊度",
          "系统实时出水浊度",
          "系统实时出水浊度",
          "系统实时出水浊度",
          "系统实时出水浊度",
          "系统实时出水浊度",
          "系统实时出水浊度",
          "系统实时出水浊度",
          "系统实时出水浊度",
          "系统实时出水浊度",
          "系统实时出水浊度",
          "系统实时出水浊度",
          "系统实时出水浊度",
          "系统实时出水浊度",
          "系统实时出水浊度",
          "系统实时出水浊度",
          "系统实时出水浊度",
          "系统实时出水浊度",
          "系统实时出水浊度",
          "系统实时出水浊度",
          "系统实时出水浊度",
          "系统实时出水浊度",
          "系统实时出水浊度",
          "系统实时出水浊度",
          "系统实时出水浊度",
          "系统实时出水浊度",
          "系统实时出水浊度",
          "系统实时出水浊度",
          "系统实时出水浊度",
          "系统实时出水浊度",
          "系统实时出水浊度",
          "系统实时出水浊度",
          "系统实时出水浊度",
          "系统实时出水浊度",
          "系统实时出水浊度",
          "系统实时出水浊度",
          "系统实时出水浊度",
          "系统实时出水浊度",
          "系统实时出水浊度",
          "系统实时出水浊度",
          "系统实时出水浊度",
          "系统实时出水浊度",
          "系统实时出水浊度",
          "系统实时出水浊度",
          "系统实时出水浊度",
          "系统实时出水浊度",
          "系统实时出水浊度",
          "系统实时出水浊度",
          "系统实时出水浊度",
          "系统实时出水浊度",
          "系统实时出水浊度",
          "系统实时出水浊度",
          "系统实时出水浊度",
          "系统实时出水浊度",
          "系统实时出水浊度",
          "系统实时出水浊度",
          "系统实时出水浊度",
          "系统实时出水浊度",
          "系统实时出水浊度",
          "系统实时出水浊度",
          "系统实时出水浊度",
          "系统实时出水浊度",
          "系统实时出水浊度",
          "系统实时出水浊度",
          "系统实时出水浊度",
          "系统实时出水浊度",
          "系统实时出水浊度",
          "系统实时出水浊度",
          "系统实时出水浊度",
          "系统实时出水浊度",
          "系统实时出水浊度",
          "系统实时出水浊度",
          "系统实时出水浊度",
          "系统实时出水浊度",
          "系统实时出水浊度",
          "系统实时出水浊度",
          "系统实时出水浊度",
          "系统实时出水浊度",
          "系统实时出水浊度",
          "系统实时出水浊度",
          "系统实时出水浊度",
          "系统实时出水浊度",
          "系统实时出水浊度",
          "系统实时出水浊度",
          "系统实时出水浊度",
          "系统实时出水浊度",
          "系统实时出水浊度",
          "系统实时出水浊度",
          "系统实时出水浊度",
          "系统实时出水浊度",
          "系统实时出水浊度",
          "系统实时出水浊度",
          "系统实时出水浊度",
          "系统实时出水浊度",
          "系统实时出水浊度",
          "系统实时出水浊度",
          "系统实时出水浊度",
          "系统实时出水浊度",
          "系统实时出水浊度",
          "系统实时出水浊度",
          "系统实时出水浊度",
          "系统实时出水浊度",
          "系统实时出水浊度",
          "系统实时出水浊度",
          "系统实时出水浊度",
          "系统实时出水浊度",
          "系统实时出水浊度",
          "系统实时出水浊度",
          "系统实时出水浊度",
          "系统实时出水浊度",
          "系统实时出水浊度",
          "系统实时出水浊度",
          "系统实时出水浊度",
          "系统实时出水浊度",
          "系统实时出水浊度",
          "系统实时出水浊度",
          "系统实时出水浊度",
          "系统实时出水浊度",
          "系统实时出水浊度",
          "系统实时出水浊度",
          "系统实时出水浊度",
          "系统实时出水浊度",
          "系统实时出水浊度",
          "系统实时出水浊度",
          "系统实时出水浊度",
          "系统实时出水浊度",
          "系统实时出水浊度",
          "系统实时出水浊度",
          "系统实时出水浊度",
          "系统实时出水浊度",
          "系统实时出水浊度",
          "系统实时出水浊度",
          "系统实时出水浊度",
          "系统实时出水浊度",
          "系统实时出水浊度",
          "系统实时出水浊度",
          "系统实时出水浊度",
          "系统实时出水浊度",
          "系统实时出水浊度",
          "系统实时出水浊度",
          "系统实时出水浊度",
          "系统实时出水浊度",
          "系统实时出水浊度",
          "系统实时出水浊度",
          "系统实时出水浊度",
          "系统实时出水浊度",
          "系统实时出水浊度",
          "系统实时出水浊度",
          "系统实时出水浊度",
          "系统实时出水浊度",
          "系统实时出水浊度",
          "系统实时出水浊度",
          "系统实时出水浊度",
          "系统实时出水浊度",
          "系统实时出水浊度",
          "系统实时出水浊度",
          "系统实时出水浊度",
          "系统实时出水浊度",
          "系统实时出水浊度",
          "系统实时出水浊度",
          "系统实时出水浊度",
          "系统实时出水浊度",
          "系统实时出水浊度",
          "系统实时出水浊度",
          "系统实时出水浊度",
          "系统实时出水浊度",
          "系统实时出水浊度",
          "系统实时出水浊度",
          "系统实时出水浊度",
          "系统实时出水浊度",
          "系统实时出水浊度",
          "系统实时出水浊度",
          "系统实时出水浊度",
          "系统实时出水浊度",
          "系统实时出水浊度"
         ],
         "x0": " ",
         "xaxis": "x",
         "y": [
          4.43,
          1.39,
          0.6,
          1.56,
          2,
          2.25,
          2.3,
          1.37,
          0.8,
          1.19,
          4.6,
          3.62,
          2,
          3.7,
          1.12,
          1.07,
          2.32,
          1.72,
          1.72,
          3.55,
          5.6,
          0.64,
          0.14,
          3.56,
          2.06,
          1.9,
          2.56,
          0.93,
          0.47,
          0.19,
          1,
          1.93,
          4.21,
          3.15,
          3.7,
          2.06,
          2.06,
          1.07,
          5.79,
          1.73,
          12.36,
          2.38,
          5.07,
          5.53,
          5.53,
          1.18,
          0.71,
          1.28,
          0.06,
          2.71,
          5.39,
          2.21,
          5.31,
          2.44,
          5.08,
          1.85,
          0.14,
          0.52,
          0.76,
          1.87,
          1.38,
          0.25,
          2.85,
          1.06,
          0.36,
          1.55,
          2.25,
          0.25,
          0.88,
          0.88,
          1.92,
          9.62,
          2.14,
          1.62,
          6.24,
          1.39,
          1.58,
          1.08,
          1.29,
          0.56,
          0.64,
          0.76,
          1.1,
          1.44,
          1.47,
          1.3,
          0.42,
          0.67,
          0.67,
          0.67,
          1.4,
          0.64,
          0.64,
          0.64,
          1,
          2.71,
          1.18,
          1,
          5.34,
          2.85,
          1,
          5.32,
          1,
          1,
          1.01,
          0.83,
          0.83,
          0.8,
          1.2,
          0.69,
          0.65,
          9.61,
          9.61,
          2.19,
          4.97,
          0.78,
          0.78,
          9,
          2.41,
          3.14,
          7.14,
          2.5,
          0.29,
          2.5,
          0.92,
          0.92,
          0.25,
          4.04,
          0.96,
          1.43,
          1.43,
          1.56,
          1.56,
          1.44,
          0.24,
          0.24,
          7.73,
          5.56,
          1.82,
          1.33,
          1.29,
          7.67,
          3.85,
          1.23,
          0.77,
          3.59,
          2,
          2,
          46.38,
          46.38,
          0.74,
          0.74,
          1.88,
          1.1,
          3.71,
          3.71,
          0.56,
          0.95,
          0.83,
          0.94,
          0.94,
          0.23,
          0.23,
          0.22,
          1.46,
          11.88,
          11.88,
          0.8,
          2.59,
          3.59,
          3.59,
          2.15,
          2.09,
          0.81,
          0.5,
          0.43,
          2.09,
          0.92,
          1.79,
          0.62,
          1.92,
          0.88,
          0.88,
          0.68,
          0.81,
          1.6,
          1.25,
          1.25,
          1.25,
          2.5,
          0.48,
          0.48,
          1.11,
          1.92,
          5.33,
          5.24,
          0.57,
          0.57,
          0.57,
          14.04,
          1,
          2.35,
          0.7,
          0.44,
          0.44,
          1.6,
          1.6,
          3.47,
          3.47,
          1,
          1.33,
          11.55,
          3.75,
          3.75,
          1.6,
          1.93,
          1.22,
          0.02,
          0.02,
          0.69,
          1.25,
          1.25,
          1.33,
          1.87,
          12.11,
          0.68,
          7.58,
          2.44,
          20.13,
          1.37,
          0.66,
          17.06,
          1.09,
          1.44,
          1.72,
          1.15,
          11.11,
          11.11,
          11.11,
          1.11,
          1.11,
          0.65,
          7.24,
          4.33,
          4.33,
          1.58,
          2.23,
          1.62,
          1.62,
          9.76,
          4.2,
          2,
          1.31,
          2.47,
          0.84,
          0.5,
          0.5,
          6.1,
          6.1,
          1,
          1.24,
          2.12,
          2.62,
          1.14,
          3.18,
          0.7,
          5.24,
          1.47,
          1.64,
          0.41,
          7.53,
          2.75,
          2.75,
          1.3,
          13.42,
          1.12,
          2,
          1.37,
          0.78,
          1.67,
          0.85,
          0.5,
          1.13,
          0.68,
          0.27,
          2.32,
          1.08,
          4.68,
          0.8,
          0.38,
          8.54,
          0.12,
          6.55,
          1,
          2.18,
          2.57,
          1.77,
          1.15,
          2.3,
          8.12,
          2.47,
          0.94,
          0.94,
          0.93,
          1.19,
          4.77,
          4.23,
          1.3,
          1.3,
          0.67,
          0.5,
          0.69,
          0.69,
          4.69,
          0.6,
          0.29,
          2.89,
          1.61,
          1.61,
          14.36,
          24.42,
          24.42,
          4.94,
          1.57,
          1.57,
          1.57,
          1.24,
          1.76,
          3.63,
          2.64,
          1.19,
          1.19,
          1.19,
          1.19,
          1.07,
          3.77,
          1.55,
          5.67,
          5.67,
          0.2,
          0.71,
          1.83,
          1.83,
          0.29,
          0.29,
          1.19,
          13.24,
          5,
          0.65,
          0.8,
          0.8,
          0.8,
          2.5,
          1.2,
          1.2,
          1.92,
          0.74,
          0.74,
          0.74,
          6.37,
          1.1,
          0.5,
          0.5,
          2,
          1.68,
          2.3,
          1.62,
          0.38,
          34.17,
          0.38,
          0.94,
          1.56,
          0.91,
          0.84,
          0.84,
          1.28,
          1.43,
          1.32,
          2.06,
          2.6,
          8,
          0.9,
          2.93,
          2.25,
          1.5,
          3.34,
          3.34,
          1.07,
          1.07,
          1.89,
          3.08,
          3.08,
          1.75,
          2.39,
          2.39,
          1.4,
          4.42,
          0.38,
          0.38,
          1.06,
          0.9,
          1.52,
          1.5,
          4,
          2.45,
          1,
          1.1,
          6.17,
          1.41,
          3.05,
          3.05,
          3.05,
          1.59,
          0.73,
          1.88,
          1.53,
          2.4,
          3.41,
          3.41,
          0.96,
          1.27,
          0.98,
          3.36,
          3.93,
          0.82,
          2.15,
          2.15,
          0.95,
          2.19,
          2.19,
          2.19,
          0.33,
          0.33,
          0.33,
          0.33,
          0.62,
          0.38,
          0.38,
          2.91,
          0.91,
          1.64,
          0.62,
          1.24,
          1.24,
          1.23,
          1.23,
          2.1,
          2.5,
          0.3,
          11.95,
          11.95,
          5.16,
          0.6,
          0.75,
          2.4,
          0.74,
          0.74,
          4.36,
          0.75,
          0.75,
          1.4,
          2.3,
          0.45,
          4.29,
          4.29,
          2.53,
          9.12,
          1.67,
          3.35,
          1.3,
          1.67,
          1.33,
          0.56,
          1.24,
          1.75,
          1.75,
          1.73,
          1.73,
          0.25,
          1.61,
          3.53,
          11.94,
          0.95,
          2.5,
          3,
          0.91,
          1.52,
          12.42,
          0.7,
          0.59,
          2,
          2.11,
          0.86,
          0.7,
          0.7,
          0.5,
          2,
          2,
          2,
          0.29,
          0.63,
          0.02,
          0.01,
          0.01,
          0.25,
          0.03,
          0.03,
          0.03,
          0.01,
          0.01,
          0.25,
          0.16,
          0.39,
          0.07,
          0.01,
          0.02,
          0.07,
          0.01,
          0.01,
          0.04,
          0.61,
          0.52,
          0.52,
          0.52,
          0.48,
          0.11,
          0.07,
          0.01,
          0.02,
          0.01,
          0.06,
          0.06,
          0.16,
          0.04,
          0.2,
          0.03,
          0.03,
          0.05,
          0.14,
          0.09,
          0.66,
          0.04,
          0.1,
          0.08,
          0.08,
          0.01,
          0.01,
          0.01,
          0.03,
          0.03,
          0.23,
          0.14,
          0.03,
          0.02,
          0.08,
          0.27,
          0.38,
          0.38,
          0.38,
          0.38,
          0.1,
          0.1,
          0.1,
          0.01,
          0.01,
          0.01,
          0.03,
          0.01,
          0.01,
          0.01,
          0.02,
          0.24,
          0.01,
          0.01,
          0.22,
          0.02,
          0.01,
          0.01,
          0.01,
          0.01,
          0.01,
          0.01,
          0.04,
          0.01,
          0.01,
          0.01,
          0.01,
          0.02,
          0.02,
          0.02,
          0.02,
          0.02,
          0.02,
          0.02,
          0.02,
          0.02,
          0.02,
          0.01,
          0.66,
          0.01,
          0.32,
          0.32,
          0.16,
          0.16,
          0.16,
          0.01,
          0.01,
          0.01,
          0.01,
          0.01,
          0.61,
          0.61,
          0.61,
          0.06,
          0.32,
          0.01,
          0.13,
          0.13,
          0.33,
          0.23,
          0.05,
          0.03,
          0.29,
          0.29,
          0.01,
          0.75,
          0.75,
          0.75,
          0.02,
          0.01,
          0.01,
          0.01,
          0.01,
          0.01,
          0.01,
          0.01,
          0.67,
          1.52,
          0.01,
          0.01,
          0.09,
          0.09,
          0.07,
          0.01,
          0.01,
          0.05,
          0.06,
          0.06,
          1.27,
          1.27,
          0.01,
          0.01,
          0.01,
          0.02,
          0.24,
          0.24,
          0.01,
          0.01,
          0.01,
          0.01,
          0.01,
          0.03,
          0.03,
          0.03,
          0.03,
          0.3,
          0.3,
          0.38,
          0.38,
          0.13,
          0.13,
          0.01,
          0.02,
          0.61,
          0.61,
          0.61,
          0.61,
          0.01,
          0.03,
          0.01,
          0.01,
          0.01,
          0.01,
          0.01,
          0.02,
          0.02,
          0.01,
          0.01,
          0.01,
          0.01,
          0.01,
          0.01,
          0.02,
          0.32,
          0.32,
          0.11,
          0.78,
          0.78,
          0.78,
          0.78,
          0.01,
          0.23,
          0.01,
          0.01,
          0.01,
          0.01,
          0.01,
          0.03,
          0.03,
          1.44,
          1.44,
          1.44,
          0.01,
          0.01,
          0.02,
          0.01,
          0.01,
          0.01,
          0.01,
          0.03,
          0.03,
          0.03,
          0.06,
          0.06,
          0.18,
          0.01,
          0.27,
          0.03,
          0.33,
          0.02,
          0.01,
          1.23,
          0.02,
          0.02,
          0.03,
          0.01,
          0.32,
          0.32,
          0.32,
          0.01,
          0.01,
          0.01,
          0.37,
          0.01,
          0.01,
          0.01,
          0.03,
          4.3,
          4.3,
          4.3,
          0.06,
          0.01,
          0.01,
          0.01,
          0.03,
          0.16,
          0.16,
          0.16,
          0.16,
          0.01,
          0.01,
          0.01,
          0.02,
          0.05,
          0.05,
          0.01,
          0.07,
          0.01,
          0.52,
          0.52,
          0.52,
          0.01,
          0.07,
          0.01,
          0.74,
          0.01,
          0.02,
          0.01,
          0.01,
          0.05,
          0.02,
          0.02,
          0.02,
          0.02,
          0.02,
          0.02,
          0.04,
          0.04,
          0.05,
          0.05,
          0.05,
          0.03,
          0.03,
          0.06,
          0.06,
          0.06,
          0.01,
          0.01,
          0.03,
          0.02,
          0.02,
          0.18,
          0.18,
          0.18,
          0.01,
          0.02,
          0.01,
          0.02,
          0.02,
          0.79,
          0.79,
          0.79,
          0.28,
          0.28,
          0.22,
          0.22,
          0.22,
          0.01,
          0.01,
          0.78,
          0.77,
          0.77,
          0.11,
          0.01,
          0.01,
          0.01,
          0.01,
          0.1,
          0.07,
          0.34,
          0.01,
          0.01,
          0.01,
          0.01,
          0.03,
          0.03,
          0.03,
          0.17,
          0.17,
          0.01,
          0.01,
          0.22,
          0.22,
          0.22,
          0.22,
          0.22,
          0.48,
          0.01,
          0.01,
          0.01,
          0.01,
          0.01,
          0.01,
          0.01,
          0.01,
          0.01,
          0.01,
          0.01,
          0.01,
          0.06,
          0.01,
          0.01,
          0.01,
          0.01,
          0.01,
          0.02,
          0.02,
          0.01,
          0.6,
          0.01,
          0.01,
          0.04,
          0.01,
          0.01,
          0.01,
          0.01,
          0.03,
          0.04,
          0.04,
          0.1,
          0.05,
          0.01,
          0.01,
          0.06,
          0.04,
          0.06,
          0.06,
          0.01,
          0.01,
          0.06,
          0.01,
          0.01,
          0.01,
          0.31,
          0.31,
          0.04,
          0.04,
          0.03,
          0.03,
          0.03,
          0.01,
          0.05,
          0.01,
          0.01,
          0.01,
          0.02,
          0.86,
          0.86,
          0.02,
          0.05,
          0.05,
          0.05,
          0.01,
          0.04,
          0.04,
          0.04,
          0.29,
          0.04,
          0.04,
          0.01,
          0.02,
          0.02,
          1.44,
          0.11,
          2.21,
          2.21,
          2.21,
          0.01,
          1.42,
          1.42,
          1.42,
          0.13,
          0.13,
          0.13,
          0.13,
          0.13,
          0.13,
          0.13,
          0.13,
          0.02,
          0.03,
          0.03,
          0.03,
          0.03,
          0.01,
          0.01,
          0.01,
          0.06,
          1.85,
          1.85,
          1.85,
          0.39,
          0.01,
          0.04,
          0.04,
          0.01,
          0.02,
          0.02,
          0.06,
          0.06,
          0.06,
          0.02,
          0.03,
          0.03,
          0.03,
          0.01,
          0.02,
          0.03,
          0.03,
          0.05,
          0.09,
          0.04,
          0.01,
          0.01,
          0.04,
          0.04,
          0.04,
          0.04,
          0.03,
          0.03,
          0.16,
          0.36,
          0.02,
          0.06,
          0.02,
          0.02,
          0.01,
          0.22,
          0.01,
          0.01,
          0.07,
          0.01,
          0.01,
          0.01,
          0.01,
          0.01,
          0.01,
          0.01,
          0.01,
          0.01,
          0.83,
          0.28,
          0.22,
          0.18,
          0.55,
          0.11,
          0.28,
          0.23,
          0.15,
          0.16,
          0.48,
          0.42,
          0.4,
          0.33,
          0.19,
          0.26,
          0.29,
          0.22,
          0.24,
          0.25,
          0.89,
          0.17,
          0.07,
          0.6,
          0.32,
          0.27,
          0.37,
          0.18,
          0.49,
          0.25,
          0.14,
          0.2,
          0.76,
          0.32,
          0.73,
          0.06,
          0.27,
          0.33,
          0.47,
          0.44,
          1.67,
          0.33,
          0.44,
          0.22,
          0.59,
          0.21,
          0.28,
          0.21,
          0.18,
          0.25,
          0.58,
          0.37,
          0.39,
          0.26,
          0.34,
          0.62,
          0.07,
          0.18,
          0.24,
          0.45,
          0.12,
          0.07,
          0.45,
          0.18,
          0.11,
          0.14,
          0.25,
          0.14,
          0.09,
          0.16,
          0.37,
          0.74,
          0.21,
          0.21,
          0.74,
          0.2,
          0.21,
          0.12,
          0.27,
          0.14,
          0.16,
          0.24,
          0.54,
          0.12,
          0.23,
          0.13,
          0.36,
          0.06,
          0.2,
          0.13,
          0.22,
          0.08,
          0.06,
          0.11,
          0.13,
          0.14,
          0.37,
          0.29,
          1.97,
          0.23,
          0.15,
          0.77,
          0.06,
          0.15,
          1.25,
          0.33,
          0.15,
          0.16,
          0.2,
          0.35,
          0.17,
          0.11,
          1.17,
          0.23,
          0.82,
          0.4,
          0.26,
          0.74,
          1.18,
          0.98,
          0.4,
          0.33,
          0.16,
          0.46,
          0.33,
          0.13,
          0.12,
          1.77,
          0.24,
          0.1,
          0.17,
          0.15,
          0.2,
          0.23,
          0.11,
          0.27,
          1.11,
          1.86,
          0.22,
          0.2,
          0.22,
          0.68,
          0.61,
          0.15,
          0.41,
          0.42,
          0.06,
          0.37,
          0.08,
          2.04,
          0.12,
          0.22,
          0.31,
          0.41,
          0.2,
          1.2,
          0.25,
          0.2,
          0.19,
          0.06,
          0.16,
          0.23,
          0.11,
          0.24,
          0.28,
          0.08,
          0.82,
          0.11,
          0.9,
          0.1,
          0.89,
          0.18,
          0.41,
          0.23,
          0.18,
          0.17,
          1.18,
          0.23,
          0.23,
          0.28,
          0.19,
          0.1,
          0.2,
          0.3,
          0.19,
          0.24,
          0.13,
          0.06,
          0.1,
          0.17,
          0.18,
          0.24,
          0.2,
          0.21,
          0.89,
          0.55,
          0.16,
          0.24,
          0.11,
          1.81,
          0.2,
          1.06,
          0.18,
          0.11,
          0.15,
          0.08,
          0.17,
          0.18,
          0.32,
          0.12,
          0.13,
          2.06,
          0.18,
          0.26,
          0.42,
          0.24,
          0.17,
          0.5,
          0.44,
          0.14,
          0.19,
          0.18,
          0.2,
          0.64,
          1.33,
          0.18,
          1,
          0.57,
          1.04,
          0.22,
          0.29,
          2.13,
          0.23,
          0.21,
          0.21,
          0.16,
          0.11,
          0.17,
          1.54,
          0.25,
          0.19,
          0.22,
          0.88,
          0.19,
          0.15,
          0.22,
          0.38,
          0.23,
          0.12,
          2.65,
          0.5,
          0.18,
          0.19,
          0.24,
          0.66,
          0.23,
          0.22,
          0.31,
          0.62,
          0.24,
          0.22,
          0.15,
          0.23,
          0.14,
          0.41,
          0.18,
          0.44,
          0.19,
          0.19,
          0.24,
          0.75,
          0.22,
          0.32,
          0.21,
          1.76,
          0.17,
          0.28,
          0.21,
          0.42,
          0.21,
          0.18,
          0.16,
          0.28,
          0.14,
          0.1,
          0.24,
          0.14,
          0.43,
          0.1,
          0.22,
          0.44,
          0.25,
          0.31,
          0.13,
          0.18,
          0.27,
          0.17,
          0.26,
          0.29,
          0.32,
          0.23,
          0.06,
          0.17,
          1.15,
          0.2,
          0.43,
          0.36,
          0.1,
          0.23,
          0.08,
          0.07,
          4.82,
          0.14,
          0.83,
          0.1,
          0.17,
          0.71,
          0.06,
          0.21,
          1.6,
          0.16,
          1.5,
          0.54,
          0.2,
          0.22,
          0.26,
          0.23,
          0.35,
          0.4,
          1.29,
          0.12,
          0.1,
          0.11,
          0.24,
          0.2,
          0.25,
          0.24,
          0.06,
          0.75,
          0.11,
          0.21,
          0.26,
          0.11,
          0.06,
          0.12,
          1.27,
          1.05,
          0.21,
          0.24,
          0.1,
          0.17,
          0.17,
          0.16,
          0.17,
          0.12,
          0.16,
          0.59,
          0.3,
          0.31,
          0.66,
          0.21,
          0.12,
          0.17,
          0.14,
          0.3,
          0.16,
          0.22,
          0.23,
          1.59,
          0.11,
          0.28,
          0.23,
          0.14,
          0.21,
          0.36,
          0.22,
          0.18,
          0.24,
          0.28,
          0.32,
          0.44,
          0.18,
          0.27,
          0.32,
          0.2,
          0.1,
          0.55,
          0.57,
          0.24,
          0.24,
          0.16,
          0.24,
          0.24,
          0.1,
          0.34,
          0.13,
          0.45,
          0.36,
          0.11,
          0.19,
          0.2,
          0.34,
          0.28,
          0.17,
          0.18,
          0.21,
          0.12,
          0.92,
          0.24,
          0.1,
          0.13,
          0.35,
          0.2,
          0.15,
          0.24,
          0.22,
          0.67,
          0.06,
          0.36,
          0.22,
          0.12,
          0.39,
          1.88,
          0.9,
          0.14,
          0.16,
          1.45,
          0.21,
          0.23,
          0.27,
          1.24,
          0.16,
          0.16,
          0.17,
          0.08,
          0.16,
          0.19,
          0.17,
          0.55,
          0.41,
          0.21,
          0.11,
          0.08,
          0.2,
          0.1,
          0.19,
          0.16,
          0.25,
          0.2,
          0.06,
          1.85,
          0.87,
          0.4,
          0.17,
          0.35,
          0.4,
          0.17,
          0.27,
          0.08,
          0.13,
          0.36,
          0.24,
          0.09,
          0.06,
          0.28,
          0.21,
          0.27,
          0.13,
          0.31,
          0.26,
          0.32,
          0.21,
          0.14,
          0.23,
          0.08,
          0.12,
          0.2,
          0.33,
          0.21,
          0.22,
          0.35,
          0.98,
          0.2,
          0.26,
          0.33,
          0.31,
          0.22,
          1.48,
          0.23,
          0.26,
          0.23,
          0.27,
          0.21,
          0.12,
          0.14,
          0.22,
          0.19,
          0.27,
          0.22,
          0.23,
          0.84,
          1,
          1,
          1,
          0.92,
          1,
          1,
          1,
          1,
          1,
          0.88,
          0.85,
          0.94,
          0.89,
          1,
          1,
          1,
          1,
          1,
          1,
          0.83,
          1,
          1,
          0.9,
          0.97,
          1,
          0.93,
          1,
          1,
          1,
          1,
          1,
          0.75,
          0.9,
          0.73,
          1,
          1,
          1,
          0.89,
          0.92,
          0.71,
          0.9,
          0.87,
          1,
          0.57,
          1,
          1,
          1,
          1,
          1,
          0.85,
          0.97,
          0.83,
          1,
          0.95,
          0.9,
          1,
          1,
          1,
          0.95,
          1,
          1,
          0.86,
          1,
          1,
          1,
          1,
          1,
          1,
          1,
          1,
          0.85,
          1,
          1,
          0.75,
          1,
          1,
          1,
          1,
          1,
          1,
          1,
          0.75,
          1,
          1,
          1,
          1,
          1,
          1,
          1,
          1,
          1,
          1,
          1,
          1,
          1,
          1,
          1,
          0.6,
          1,
          1,
          0.69,
          1,
          1,
          0.33,
          1,
          1,
          1,
          1,
          1,
          1,
          1,
          0.85,
          1,
          0.86,
          1,
          1,
          0.71,
          0.43,
          0.71,
          0.9,
          1,
          1,
          0.98,
          1,
          1,
          1,
          0.43,
          1,
          1,
          1,
          1,
          1,
          1,
          1,
          1,
          0.69,
          0.62,
          1,
          1,
          1,
          0.83,
          0.67,
          1,
          1,
          0.89,
          1,
          0.93,
          1,
          0.89,
          1,
          1,
          1,
          1,
          1,
          0.6,
          1,
          1,
          1,
          1,
          1,
          1,
          1,
          1,
          1,
          1,
          0.85,
          1,
          0.93,
          1,
          0.6,
          1,
          0.75,
          1,
          1,
          1,
          0.92,
          1,
          1,
          1,
          1,
          1,
          1,
          1,
          1,
          1,
          1,
          1,
          1,
          1,
          1,
          1,
          1,
          1,
          0.75,
          0.82,
          1,
          1,
          1,
          0.71,
          1,
          0.5,
          1,
          1,
          1,
          1,
          1,
          1,
          0.9,
          1,
          1,
          0.8,
          1,
          1,
          1,
          1,
          1,
          1,
          1,
          1,
          1,
          1,
          1,
          0.75,
          0.67,
          1,
          0.75,
          0.67,
          0.89,
          1,
          1,
          0.62,
          1,
          1,
          1,
          1,
          1,
          1,
          0.75,
          1,
          1,
          1,
          0.71,
          1,
          1,
          1,
          0.83,
          1,
          1,
          0.61,
          0.86,
          1,
          1,
          1,
          0.5,
          1,
          1,
          1,
          0.83,
          1,
          1,
          1,
          1,
          1,
          0.89,
          1,
          0.82,
          1,
          1,
          1,
          0.85,
          1,
          0.9,
          1,
          0.71,
          1,
          1,
          1,
          1,
          1,
          1,
          1,
          1,
          1,
          1,
          1,
          1,
          0.83,
          1,
          1,
          0.88,
          1,
          0.9,
          1,
          1,
          0.96,
          1,
          1,
          1,
          1,
          1,
          1,
          1,
          0.5,
          1,
          0.67,
          1,
          1,
          1,
          1,
          1,
          1,
          1,
          0.83,
          1,
          1,
          0.92,
          1,
          1,
          0.67,
          1,
          0.9,
          0.82,
          1,
          1,
          1,
          1,
          1,
          0.85,
          0.5,
          1,
          1,
          1,
          1,
          1,
          1,
          1,
          1,
          0.78,
          1,
          1,
          1,
          1,
          1,
          1,
          0.5,
          0.77,
          1,
          1,
          1,
          1,
          1,
          1,
          1,
          1,
          1,
          1,
          1,
          1,
          0.75,
          1,
          1,
          1,
          1,
          1,
          1,
          1,
          1,
          0.86,
          1,
          1,
          1,
          1,
          1,
          1,
          1,
          1,
          1,
          1,
          0.97,
          0.88,
          1,
          1,
          0.94,
          1,
          1,
          0.83,
          1,
          1,
          1,
          1,
          1,
          1,
          1,
          0.97,
          1,
          0.83,
          1,
          1,
          1,
          1,
          1,
          1,
          1,
          1,
          1,
          1,
          0.87,
          1,
          1,
          1,
          0.92,
          1,
          1,
          1,
          1,
          0.95,
          1,
          0.9,
          1,
          1,
          1,
          0.92,
          0.75,
          1,
          1,
          0.94,
          1,
          1,
          1,
          0.96,
          1,
          1,
          1,
          1,
          1,
          1,
          1,
          0.85,
          1,
          1,
          1,
          1,
          1,
          1,
          1,
          1,
          0.97,
          1,
          1,
          0.69,
          0.8,
          1,
          1,
          1,
          1,
          1,
          1,
          1,
          1,
          0.92,
          1,
          1,
          1,
          1,
          1,
          0.9,
          1,
          0.9,
          1,
          0.96,
          1,
          1,
          1,
          1,
          1,
          1,
          1,
          1,
          1,
          0.92,
          0.82,
          1,
          1,
          1,
          1,
          1,
          0.67,
          1,
          1,
          1,
          1,
          1,
          1,
          1,
          1,
          1,
          1,
          1,
          1,
          0.24,
          0.24,
          0.24,
          0.24,
          0.24,
          0.24,
          0.24,
          0.24,
          0.24,
          0.24,
          0.24,
          0.24,
          0.24,
          0.24,
          0.24,
          0.24,
          0.24,
          0.24,
          0.24,
          0.24,
          0.24,
          0.24,
          0.24,
          0.24,
          0.24,
          0.24,
          0.24,
          0.24,
          0.24,
          0.24,
          0.24,
          0.24,
          0.24,
          0.24,
          0.24,
          0.24,
          0.24,
          0.24,
          0.24,
          0.24,
          0.24,
          0.24,
          0.24,
          0.24,
          0.24,
          0.24,
          0.24,
          0.24,
          0.24,
          0.24,
          0.24,
          0.24,
          0.24,
          0.24,
          0.24,
          0.24,
          0.24,
          0.24,
          0.24,
          0.24,
          0.24,
          0.24,
          0.24,
          0.24,
          0.24,
          0.24,
          0.24,
          0.24,
          0.24,
          0.24,
          0.24,
          0.24,
          0.24,
          0.24,
          0.24,
          0.24,
          0.24,
          0.24,
          0.24,
          0.24,
          0.24,
          0.24,
          0.24,
          0.24,
          0.24,
          0.24,
          0.24,
          0.24,
          0.24,
          0.24,
          0.24,
          0.24,
          0.24,
          0.24,
          0.24,
          0.24,
          0.24,
          0.24,
          0.24,
          0.24,
          0.24,
          0.24,
          0.24,
          0.24,
          0.24,
          0.24,
          0.24,
          0.24,
          0.24,
          0.24,
          0.24,
          0.24,
          0.24,
          0.24,
          0.24,
          0.24,
          0.24,
          0.24,
          0.24,
          0.24,
          0.24,
          0.24,
          0.24,
          0.24,
          0.24,
          0.24,
          0.24,
          0.24,
          0.24,
          0.24,
          0.24,
          0.24,
          0.24,
          0.24,
          0.24,
          0.24,
          0.24,
          0.24,
          0.24,
          0.24,
          0.24,
          0.24,
          0.24,
          0.24,
          0.24,
          0.24,
          0.24,
          0.24,
          0.24,
          0.24,
          0.24,
          0.24,
          0.24,
          0.24,
          0.24,
          0.24,
          0.24,
          0.24,
          0.24,
          0.24,
          0.24,
          0.24,
          0.24,
          0.24,
          0.24,
          0.24,
          0.24,
          0.24,
          0.24,
          0.24,
          0.24,
          0.24,
          0.24,
          0.24,
          0.24,
          0.24,
          0.24,
          0.24,
          0.24,
          0.24,
          0.24,
          0.24,
          0.24,
          0.24,
          0.24,
          0.24,
          0.24,
          0.24,
          0.24,
          0.24,
          0.24,
          0.24,
          0.24,
          0.24,
          0.24,
          0.24,
          0.24,
          0.24,
          0.24,
          0.24,
          0.24,
          0.24,
          0.24,
          0.24,
          0.24,
          0.24,
          0.24,
          0.24,
          0.24,
          0.24,
          0.24,
          0.24,
          0.24,
          0.24,
          0.24,
          0.24,
          0.24,
          0.24,
          0.24,
          0.24,
          0.24,
          0.24,
          0.24,
          0.24,
          0.24,
          0.24,
          0.24,
          0.24,
          0.24,
          0.24,
          0.24,
          0.24,
          0.24,
          0.24,
          0.24,
          0.24,
          0.24,
          0.24,
          0.24,
          0.24,
          0.24,
          0.24,
          0.24,
          0.24,
          0.24,
          0.24,
          0.24,
          0.24,
          0.24,
          0.24,
          0.24,
          0.24,
          0.24,
          0.24,
          0.24,
          0.24,
          0.24,
          0.24,
          0.24,
          0.24,
          0.24,
          0.24,
          0.24,
          0.24,
          0.24,
          0.24,
          0.24,
          0.24,
          0.24,
          0.24,
          0.24,
          0.24,
          0.24,
          0.24,
          0.24,
          0.24,
          0.24,
          0.24,
          0.24,
          0.24,
          0.24,
          0.24,
          0.24,
          0.24,
          0.24,
          0.24,
          0.24,
          0.24,
          0.24,
          0.24,
          0.24,
          0.24,
          0.24,
          0.24,
          0.24,
          0.24,
          0.24,
          0.24,
          0.24,
          0.24,
          0.24,
          0.24,
          0.24,
          0.24,
          0.24,
          0.24,
          0.24,
          0.24,
          0.24,
          0.24,
          0.24,
          0.24,
          0.24,
          0.24,
          0.24,
          0.24,
          0.24,
          0.24,
          0.24,
          0.24,
          0.24,
          0.24,
          0.24,
          0.24,
          0.24,
          0.24,
          0.24,
          0.24,
          0.24,
          0.24,
          0.24,
          0.24,
          0.24,
          0.24,
          0.24,
          0.24,
          0.24,
          0.24,
          0.24,
          0.24,
          0.24,
          0.24,
          0.24,
          0.24,
          0.24,
          0.24,
          0.24,
          0.24,
          0.24,
          0.24,
          0.24,
          0.24,
          0.24,
          0.24,
          0.24,
          0.24,
          0.24,
          0.24,
          0.24,
          0.24,
          0.24,
          0.24,
          0.24,
          0.24,
          0.24,
          0.24,
          0.24,
          0.24,
          0.24,
          0.24,
          0.24,
          0.24,
          0.24,
          0.24,
          0.24,
          0.24,
          0.24,
          0.24,
          0.24,
          0.24,
          0.24,
          0.24,
          0.24,
          0.24,
          0.24,
          0.24,
          0.24,
          0.24,
          0.24,
          0.24,
          0.24,
          0.24,
          0.24,
          0.24,
          0.24,
          0.24,
          0.24,
          0.24,
          0.24,
          0.24,
          0.24,
          0.24,
          0.24,
          0.24,
          0.24,
          0.24,
          0.24,
          0.24,
          0.24,
          0.24,
          0.24,
          0.24,
          0.24,
          0.24,
          0.24,
          0.24,
          0.24,
          0.24,
          0.24,
          0.24,
          0.24,
          0.24,
          0.24,
          0.24,
          0.24,
          0.24,
          0.24,
          0.24,
          0.24,
          0.24,
          0.24,
          0.24,
          0.24,
          0.24,
          0.24,
          0.24,
          0.24,
          0.24,
          0.24,
          0.24,
          0.24,
          0.24,
          0.24,
          0.24,
          0.24,
          0.24,
          0.24,
          0.24,
          0.24,
          0.24,
          0.24,
          0.24,
          0.24,
          0.24,
          0.24,
          0.24,
          0.24,
          0.24,
          0.24,
          0.24,
          0.24,
          0.24,
          0.24,
          0.24,
          0.24,
          0.24,
          0.24,
          0.24,
          0.24,
          0.24,
          0.24,
          0.24,
          0.24,
          0.24,
          0.24,
          0.24,
          0.24,
          0.24,
          0.24,
          0.24,
          0.24,
          0.24,
          0.24,
          0.24,
          0.23,
          0.23,
          0.23,
          0.23,
          0.24,
          0.24,
          0.24,
          0.24,
          0.24,
          0.24,
          0.24,
          0.23,
          0.23,
          0.24,
          0.24,
          0.24
         ],
         "y0": " ",
         "yaxis": "y"
        }
       ],
       "layout": {
        "boxmode": "group",
        "legend": {
         "tracegroupgap": 0
        },
        "margin": {
         "t": 60
        },
        "template": {
         "data": {
          "bar": [
           {
            "error_x": {
             "color": "#2a3f5f"
            },
            "error_y": {
             "color": "#2a3f5f"
            },
            "marker": {
             "line": {
              "color": "#E5ECF6",
              "width": 0.5
             },
             "pattern": {
              "fillmode": "overlay",
              "size": 10,
              "solidity": 0.2
             }
            },
            "type": "bar"
           }
          ],
          "barpolar": [
           {
            "marker": {
             "line": {
              "color": "#E5ECF6",
              "width": 0.5
             },
             "pattern": {
              "fillmode": "overlay",
              "size": 10,
              "solidity": 0.2
             }
            },
            "type": "barpolar"
           }
          ],
          "carpet": [
           {
            "aaxis": {
             "endlinecolor": "#2a3f5f",
             "gridcolor": "white",
             "linecolor": "white",
             "minorgridcolor": "white",
             "startlinecolor": "#2a3f5f"
            },
            "baxis": {
             "endlinecolor": "#2a3f5f",
             "gridcolor": "white",
             "linecolor": "white",
             "minorgridcolor": "white",
             "startlinecolor": "#2a3f5f"
            },
            "type": "carpet"
           }
          ],
          "choropleth": [
           {
            "colorbar": {
             "outlinewidth": 0,
             "ticks": ""
            },
            "type": "choropleth"
           }
          ],
          "contour": [
           {
            "colorbar": {
             "outlinewidth": 0,
             "ticks": ""
            },
            "colorscale": [
             [
              0,
              "#0d0887"
             ],
             [
              0.1111111111111111,
              "#46039f"
             ],
             [
              0.2222222222222222,
              "#7201a8"
             ],
             [
              0.3333333333333333,
              "#9c179e"
             ],
             [
              0.4444444444444444,
              "#bd3786"
             ],
             [
              0.5555555555555556,
              "#d8576b"
             ],
             [
              0.6666666666666666,
              "#ed7953"
             ],
             [
              0.7777777777777778,
              "#fb9f3a"
             ],
             [
              0.8888888888888888,
              "#fdca26"
             ],
             [
              1,
              "#f0f921"
             ]
            ],
            "type": "contour"
           }
          ],
          "contourcarpet": [
           {
            "colorbar": {
             "outlinewidth": 0,
             "ticks": ""
            },
            "type": "contourcarpet"
           }
          ],
          "heatmap": [
           {
            "colorbar": {
             "outlinewidth": 0,
             "ticks": ""
            },
            "colorscale": [
             [
              0,
              "#0d0887"
             ],
             [
              0.1111111111111111,
              "#46039f"
             ],
             [
              0.2222222222222222,
              "#7201a8"
             ],
             [
              0.3333333333333333,
              "#9c179e"
             ],
             [
              0.4444444444444444,
              "#bd3786"
             ],
             [
              0.5555555555555556,
              "#d8576b"
             ],
             [
              0.6666666666666666,
              "#ed7953"
             ],
             [
              0.7777777777777778,
              "#fb9f3a"
             ],
             [
              0.8888888888888888,
              "#fdca26"
             ],
             [
              1,
              "#f0f921"
             ]
            ],
            "type": "heatmap"
           }
          ],
          "heatmapgl": [
           {
            "colorbar": {
             "outlinewidth": 0,
             "ticks": ""
            },
            "colorscale": [
             [
              0,
              "#0d0887"
             ],
             [
              0.1111111111111111,
              "#46039f"
             ],
             [
              0.2222222222222222,
              "#7201a8"
             ],
             [
              0.3333333333333333,
              "#9c179e"
             ],
             [
              0.4444444444444444,
              "#bd3786"
             ],
             [
              0.5555555555555556,
              "#d8576b"
             ],
             [
              0.6666666666666666,
              "#ed7953"
             ],
             [
              0.7777777777777778,
              "#fb9f3a"
             ],
             [
              0.8888888888888888,
              "#fdca26"
             ],
             [
              1,
              "#f0f921"
             ]
            ],
            "type": "heatmapgl"
           }
          ],
          "histogram": [
           {
            "marker": {
             "pattern": {
              "fillmode": "overlay",
              "size": 10,
              "solidity": 0.2
             }
            },
            "type": "histogram"
           }
          ],
          "histogram2d": [
           {
            "colorbar": {
             "outlinewidth": 0,
             "ticks": ""
            },
            "colorscale": [
             [
              0,
              "#0d0887"
             ],
             [
              0.1111111111111111,
              "#46039f"
             ],
             [
              0.2222222222222222,
              "#7201a8"
             ],
             [
              0.3333333333333333,
              "#9c179e"
             ],
             [
              0.4444444444444444,
              "#bd3786"
             ],
             [
              0.5555555555555556,
              "#d8576b"
             ],
             [
              0.6666666666666666,
              "#ed7953"
             ],
             [
              0.7777777777777778,
              "#fb9f3a"
             ],
             [
              0.8888888888888888,
              "#fdca26"
             ],
             [
              1,
              "#f0f921"
             ]
            ],
            "type": "histogram2d"
           }
          ],
          "histogram2dcontour": [
           {
            "colorbar": {
             "outlinewidth": 0,
             "ticks": ""
            },
            "colorscale": [
             [
              0,
              "#0d0887"
             ],
             [
              0.1111111111111111,
              "#46039f"
             ],
             [
              0.2222222222222222,
              "#7201a8"
             ],
             [
              0.3333333333333333,
              "#9c179e"
             ],
             [
              0.4444444444444444,
              "#bd3786"
             ],
             [
              0.5555555555555556,
              "#d8576b"
             ],
             [
              0.6666666666666666,
              "#ed7953"
             ],
             [
              0.7777777777777778,
              "#fb9f3a"
             ],
             [
              0.8888888888888888,
              "#fdca26"
             ],
             [
              1,
              "#f0f921"
             ]
            ],
            "type": "histogram2dcontour"
           }
          ],
          "mesh3d": [
           {
            "colorbar": {
             "outlinewidth": 0,
             "ticks": ""
            },
            "type": "mesh3d"
           }
          ],
          "parcoords": [
           {
            "line": {
             "colorbar": {
              "outlinewidth": 0,
              "ticks": ""
             }
            },
            "type": "parcoords"
           }
          ],
          "pie": [
           {
            "automargin": true,
            "type": "pie"
           }
          ],
          "scatter": [
           {
            "fillpattern": {
             "fillmode": "overlay",
             "size": 10,
             "solidity": 0.2
            },
            "type": "scatter"
           }
          ],
          "scatter3d": [
           {
            "line": {
             "colorbar": {
              "outlinewidth": 0,
              "ticks": ""
             }
            },
            "marker": {
             "colorbar": {
              "outlinewidth": 0,
              "ticks": ""
             }
            },
            "type": "scatter3d"
           }
          ],
          "scattercarpet": [
           {
            "marker": {
             "colorbar": {
              "outlinewidth": 0,
              "ticks": ""
             }
            },
            "type": "scattercarpet"
           }
          ],
          "scattergeo": [
           {
            "marker": {
             "colorbar": {
              "outlinewidth": 0,
              "ticks": ""
             }
            },
            "type": "scattergeo"
           }
          ],
          "scattergl": [
           {
            "marker": {
             "colorbar": {
              "outlinewidth": 0,
              "ticks": ""
             }
            },
            "type": "scattergl"
           }
          ],
          "scattermapbox": [
           {
            "marker": {
             "colorbar": {
              "outlinewidth": 0,
              "ticks": ""
             }
            },
            "type": "scattermapbox"
           }
          ],
          "scatterpolar": [
           {
            "marker": {
             "colorbar": {
              "outlinewidth": 0,
              "ticks": ""
             }
            },
            "type": "scatterpolar"
           }
          ],
          "scatterpolargl": [
           {
            "marker": {
             "colorbar": {
              "outlinewidth": 0,
              "ticks": ""
             }
            },
            "type": "scatterpolargl"
           }
          ],
          "scatterternary": [
           {
            "marker": {
             "colorbar": {
              "outlinewidth": 0,
              "ticks": ""
             }
            },
            "type": "scatterternary"
           }
          ],
          "surface": [
           {
            "colorbar": {
             "outlinewidth": 0,
             "ticks": ""
            },
            "colorscale": [
             [
              0,
              "#0d0887"
             ],
             [
              0.1111111111111111,
              "#46039f"
             ],
             [
              0.2222222222222222,
              "#7201a8"
             ],
             [
              0.3333333333333333,
              "#9c179e"
             ],
             [
              0.4444444444444444,
              "#bd3786"
             ],
             [
              0.5555555555555556,
              "#d8576b"
             ],
             [
              0.6666666666666666,
              "#ed7953"
             ],
             [
              0.7777777777777778,
              "#fb9f3a"
             ],
             [
              0.8888888888888888,
              "#fdca26"
             ],
             [
              1,
              "#f0f921"
             ]
            ],
            "type": "surface"
           }
          ],
          "table": [
           {
            "cells": {
             "fill": {
              "color": "#EBF0F8"
             },
             "line": {
              "color": "white"
             }
            },
            "header": {
             "fill": {
              "color": "#C8D4E3"
             },
             "line": {
              "color": "white"
             }
            },
            "type": "table"
           }
          ]
         },
         "layout": {
          "annotationdefaults": {
           "arrowcolor": "#2a3f5f",
           "arrowhead": 0,
           "arrowwidth": 1
          },
          "autotypenumbers": "strict",
          "coloraxis": {
           "colorbar": {
            "outlinewidth": 0,
            "ticks": ""
           }
          },
          "colorscale": {
           "diverging": [
            [
             0,
             "#8e0152"
            ],
            [
             0.1,
             "#c51b7d"
            ],
            [
             0.2,
             "#de77ae"
            ],
            [
             0.3,
             "#f1b6da"
            ],
            [
             0.4,
             "#fde0ef"
            ],
            [
             0.5,
             "#f7f7f7"
            ],
            [
             0.6,
             "#e6f5d0"
            ],
            [
             0.7,
             "#b8e186"
            ],
            [
             0.8,
             "#7fbc41"
            ],
            [
             0.9,
             "#4d9221"
            ],
            [
             1,
             "#276419"
            ]
           ],
           "sequential": [
            [
             0,
             "#0d0887"
            ],
            [
             0.1111111111111111,
             "#46039f"
            ],
            [
             0.2222222222222222,
             "#7201a8"
            ],
            [
             0.3333333333333333,
             "#9c179e"
            ],
            [
             0.4444444444444444,
             "#bd3786"
            ],
            [
             0.5555555555555556,
             "#d8576b"
            ],
            [
             0.6666666666666666,
             "#ed7953"
            ],
            [
             0.7777777777777778,
             "#fb9f3a"
            ],
            [
             0.8888888888888888,
             "#fdca26"
            ],
            [
             1,
             "#f0f921"
            ]
           ],
           "sequentialminus": [
            [
             0,
             "#0d0887"
            ],
            [
             0.1111111111111111,
             "#46039f"
            ],
            [
             0.2222222222222222,
             "#7201a8"
            ],
            [
             0.3333333333333333,
             "#9c179e"
            ],
            [
             0.4444444444444444,
             "#bd3786"
            ],
            [
             0.5555555555555556,
             "#d8576b"
            ],
            [
             0.6666666666666666,
             "#ed7953"
            ],
            [
             0.7777777777777778,
             "#fb9f3a"
            ],
            [
             0.8888888888888888,
             "#fdca26"
            ],
            [
             1,
             "#f0f921"
            ]
           ]
          },
          "colorway": [
           "#636efa",
           "#EF553B",
           "#00cc96",
           "#ab63fa",
           "#FFA15A",
           "#19d3f3",
           "#FF6692",
           "#B6E880",
           "#FF97FF",
           "#FECB52"
          ],
          "font": {
           "color": "#2a3f5f"
          },
          "geo": {
           "bgcolor": "white",
           "lakecolor": "white",
           "landcolor": "#E5ECF6",
           "showlakes": true,
           "showland": true,
           "subunitcolor": "white"
          },
          "hoverlabel": {
           "align": "left"
          },
          "hovermode": "closest",
          "mapbox": {
           "style": "light"
          },
          "paper_bgcolor": "white",
          "plot_bgcolor": "#E5ECF6",
          "polar": {
           "angularaxis": {
            "gridcolor": "white",
            "linecolor": "white",
            "ticks": ""
           },
           "bgcolor": "#E5ECF6",
           "radialaxis": {
            "gridcolor": "white",
            "linecolor": "white",
            "ticks": ""
           }
          },
          "scene": {
           "xaxis": {
            "backgroundcolor": "#E5ECF6",
            "gridcolor": "white",
            "gridwidth": 2,
            "linecolor": "white",
            "showbackground": true,
            "ticks": "",
            "zerolinecolor": "white"
           },
           "yaxis": {
            "backgroundcolor": "#E5ECF6",
            "gridcolor": "white",
            "gridwidth": 2,
            "linecolor": "white",
            "showbackground": true,
            "ticks": "",
            "zerolinecolor": "white"
           },
           "zaxis": {
            "backgroundcolor": "#E5ECF6",
            "gridcolor": "white",
            "gridwidth": 2,
            "linecolor": "white",
            "showbackground": true,
            "ticks": "",
            "zerolinecolor": "white"
           }
          },
          "shapedefaults": {
           "line": {
            "color": "#2a3f5f"
           }
          },
          "ternary": {
           "aaxis": {
            "gridcolor": "white",
            "linecolor": "white",
            "ticks": ""
           },
           "baxis": {
            "gridcolor": "white",
            "linecolor": "white",
            "ticks": ""
           },
           "bgcolor": "#E5ECF6",
           "caxis": {
            "gridcolor": "white",
            "linecolor": "white",
            "ticks": ""
           }
          },
          "title": {
           "x": 0.05
          },
          "xaxis": {
           "automargin": true,
           "gridcolor": "white",
           "linecolor": "white",
           "ticks": "",
           "title": {
            "standoff": 15
           },
           "zerolinecolor": "white",
           "zerolinewidth": 2
          },
          "yaxis": {
           "automargin": true,
           "gridcolor": "white",
           "linecolor": "white",
           "ticks": "",
           "title": {
            "standoff": 15
           },
           "zerolinecolor": "white",
           "zerolinewidth": 2
          }
         }
        },
        "xaxis": {
         "anchor": "y",
         "domain": [
          0,
          1
         ],
         "title": {
          "text": "variable"
         }
        },
        "yaxis": {
         "anchor": "x",
         "domain": [
          0,
          1
         ],
         "title": {
          "text": "value"
         }
        }
       }
      }
     },
     "metadata": {},
     "output_type": "display_data"
    }
   ],
   "source": [
    "df2.head(500).plot.box()"
   ]
  },
  {
   "cell_type": "code",
   "execution_count": 63,
   "metadata": {},
   "outputs": [],
   "source": [
    "pd.options.plotting.backend = \"plotly\""
   ]
  },
  {
   "cell_type": "code",
   "execution_count": 67,
   "metadata": {},
   "outputs": [
    {
     "data": {
      "application/vnd.plotly.v1+json": {
       "config": {
        "plotlyServerURL": "https://plot.ly"
       },
       "data": [
        {
         "alignmentgroup": "True",
         "hovertemplate": "variable=反应池7矾花均一性指标<br>index=%{x}<br>value=%{y}<extra></extra>",
         "legendgroup": "反应池7矾花均一性指标",
         "marker": {
          "color": "#636efa",
          "pattern": {
           "shape": ""
          }
         },
         "name": "反应池7矾花均一性指标",
         "offsetgroup": "反应池7矾花均一性指标",
         "orientation": "v",
         "showlegend": true,
         "textposition": "auto",
         "type": "bar",
         "x": [
          0,
          1,
          2,
          3,
          4
         ],
         "xaxis": "x",
         "y": [
          4.43,
          1.39,
          0.6,
          1.56,
          2
         ],
         "yaxis": "y"
        },
        {
         "alignmentgroup": "True",
         "hovertemplate": "variable=反应池7矾花平均密度<br>index=%{x}<br>value=%{y}<extra></extra>",
         "legendgroup": "反应池7矾花平均密度",
         "marker": {
          "color": "#EF553B",
          "pattern": {
           "shape": ""
          }
         },
         "name": "反应池7矾花平均密度",
         "offsetgroup": "反应池7矾花平均密度",
         "orientation": "v",
         "showlegend": true,
         "textposition": "auto",
         "type": "bar",
         "x": [
          0,
          1,
          2,
          3,
          4
         ],
         "xaxis": "x",
         "y": [
          0.63,
          0.02,
          0.01,
          0.01,
          0.25
         ],
         "yaxis": "y"
        },
        {
         "alignmentgroup": "True",
         "hovertemplate": "variable=反应池7矾花平均直径<br>index=%{x}<br>value=%{y}<extra></extra>",
         "legendgroup": "反应池7矾花平均直径",
         "marker": {
          "color": "#00cc96",
          "pattern": {
           "shape": ""
          }
         },
         "name": "反应池7矾花平均直径",
         "offsetgroup": "反应池7矾花平均直径",
         "orientation": "v",
         "showlegend": true,
         "textposition": "auto",
         "type": "bar",
         "x": [
          0,
          1,
          2,
          3,
          4
         ],
         "xaxis": "x",
         "y": [
          0.83,
          0.28,
          0.22,
          0.18,
          0.55
         ],
         "yaxis": "y"
        },
        {
         "alignmentgroup": "True",
         "hovertemplate": "variable=小颗粒矾花占比<br>index=%{x}<br>value=%{y}<extra></extra>",
         "legendgroup": "小颗粒矾花占比",
         "marker": {
          "color": "#ab63fa",
          "pattern": {
           "shape": ""
          }
         },
         "name": "小颗粒矾花占比",
         "offsetgroup": "小颗粒矾花占比",
         "orientation": "v",
         "showlegend": true,
         "textposition": "auto",
         "type": "bar",
         "x": [
          0,
          1,
          2,
          3,
          4
         ],
         "xaxis": "x",
         "y": [
          0.84,
          1,
          1,
          1,
          0.92
         ],
         "yaxis": "y"
        },
        {
         "alignmentgroup": "True",
         "hovertemplate": "variable=系统实时出水浊度<br>index=%{x}<br>value=%{y}<extra></extra>",
         "legendgroup": "系统实时出水浊度",
         "marker": {
          "color": "#FFA15A",
          "pattern": {
           "shape": ""
          }
         },
         "name": "系统实时出水浊度",
         "offsetgroup": "系统实时出水浊度",
         "orientation": "v",
         "showlegend": true,
         "textposition": "auto",
         "type": "bar",
         "x": [
          0,
          1,
          2,
          3,
          4
         ],
         "xaxis": "x",
         "y": [
          0.24,
          0.24,
          0.24,
          0.24,
          0.24
         ],
         "yaxis": "y"
        }
       ],
       "layout": {
        "barmode": "group",
        "legend": {
         "title": {
          "text": "variable"
         },
         "tracegroupgap": 0
        },
        "margin": {
         "t": 60
        },
        "template": {
         "data": {
          "bar": [
           {
            "error_x": {
             "color": "#2a3f5f"
            },
            "error_y": {
             "color": "#2a3f5f"
            },
            "marker": {
             "line": {
              "color": "#E5ECF6",
              "width": 0.5
             },
             "pattern": {
              "fillmode": "overlay",
              "size": 10,
              "solidity": 0.2
             }
            },
            "type": "bar"
           }
          ],
          "barpolar": [
           {
            "marker": {
             "line": {
              "color": "#E5ECF6",
              "width": 0.5
             },
             "pattern": {
              "fillmode": "overlay",
              "size": 10,
              "solidity": 0.2
             }
            },
            "type": "barpolar"
           }
          ],
          "carpet": [
           {
            "aaxis": {
             "endlinecolor": "#2a3f5f",
             "gridcolor": "white",
             "linecolor": "white",
             "minorgridcolor": "white",
             "startlinecolor": "#2a3f5f"
            },
            "baxis": {
             "endlinecolor": "#2a3f5f",
             "gridcolor": "white",
             "linecolor": "white",
             "minorgridcolor": "white",
             "startlinecolor": "#2a3f5f"
            },
            "type": "carpet"
           }
          ],
          "choropleth": [
           {
            "colorbar": {
             "outlinewidth": 0,
             "ticks": ""
            },
            "type": "choropleth"
           }
          ],
          "contour": [
           {
            "colorbar": {
             "outlinewidth": 0,
             "ticks": ""
            },
            "colorscale": [
             [
              0,
              "#0d0887"
             ],
             [
              0.1111111111111111,
              "#46039f"
             ],
             [
              0.2222222222222222,
              "#7201a8"
             ],
             [
              0.3333333333333333,
              "#9c179e"
             ],
             [
              0.4444444444444444,
              "#bd3786"
             ],
             [
              0.5555555555555556,
              "#d8576b"
             ],
             [
              0.6666666666666666,
              "#ed7953"
             ],
             [
              0.7777777777777778,
              "#fb9f3a"
             ],
             [
              0.8888888888888888,
              "#fdca26"
             ],
             [
              1,
              "#f0f921"
             ]
            ],
            "type": "contour"
           }
          ],
          "contourcarpet": [
           {
            "colorbar": {
             "outlinewidth": 0,
             "ticks": ""
            },
            "type": "contourcarpet"
           }
          ],
          "heatmap": [
           {
            "colorbar": {
             "outlinewidth": 0,
             "ticks": ""
            },
            "colorscale": [
             [
              0,
              "#0d0887"
             ],
             [
              0.1111111111111111,
              "#46039f"
             ],
             [
              0.2222222222222222,
              "#7201a8"
             ],
             [
              0.3333333333333333,
              "#9c179e"
             ],
             [
              0.4444444444444444,
              "#bd3786"
             ],
             [
              0.5555555555555556,
              "#d8576b"
             ],
             [
              0.6666666666666666,
              "#ed7953"
             ],
             [
              0.7777777777777778,
              "#fb9f3a"
             ],
             [
              0.8888888888888888,
              "#fdca26"
             ],
             [
              1,
              "#f0f921"
             ]
            ],
            "type": "heatmap"
           }
          ],
          "heatmapgl": [
           {
            "colorbar": {
             "outlinewidth": 0,
             "ticks": ""
            },
            "colorscale": [
             [
              0,
              "#0d0887"
             ],
             [
              0.1111111111111111,
              "#46039f"
             ],
             [
              0.2222222222222222,
              "#7201a8"
             ],
             [
              0.3333333333333333,
              "#9c179e"
             ],
             [
              0.4444444444444444,
              "#bd3786"
             ],
             [
              0.5555555555555556,
              "#d8576b"
             ],
             [
              0.6666666666666666,
              "#ed7953"
             ],
             [
              0.7777777777777778,
              "#fb9f3a"
             ],
             [
              0.8888888888888888,
              "#fdca26"
             ],
             [
              1,
              "#f0f921"
             ]
            ],
            "type": "heatmapgl"
           }
          ],
          "histogram": [
           {
            "marker": {
             "pattern": {
              "fillmode": "overlay",
              "size": 10,
              "solidity": 0.2
             }
            },
            "type": "histogram"
           }
          ],
          "histogram2d": [
           {
            "colorbar": {
             "outlinewidth": 0,
             "ticks": ""
            },
            "colorscale": [
             [
              0,
              "#0d0887"
             ],
             [
              0.1111111111111111,
              "#46039f"
             ],
             [
              0.2222222222222222,
              "#7201a8"
             ],
             [
              0.3333333333333333,
              "#9c179e"
             ],
             [
              0.4444444444444444,
              "#bd3786"
             ],
             [
              0.5555555555555556,
              "#d8576b"
             ],
             [
              0.6666666666666666,
              "#ed7953"
             ],
             [
              0.7777777777777778,
              "#fb9f3a"
             ],
             [
              0.8888888888888888,
              "#fdca26"
             ],
             [
              1,
              "#f0f921"
             ]
            ],
            "type": "histogram2d"
           }
          ],
          "histogram2dcontour": [
           {
            "colorbar": {
             "outlinewidth": 0,
             "ticks": ""
            },
            "colorscale": [
             [
              0,
              "#0d0887"
             ],
             [
              0.1111111111111111,
              "#46039f"
             ],
             [
              0.2222222222222222,
              "#7201a8"
             ],
             [
              0.3333333333333333,
              "#9c179e"
             ],
             [
              0.4444444444444444,
              "#bd3786"
             ],
             [
              0.5555555555555556,
              "#d8576b"
             ],
             [
              0.6666666666666666,
              "#ed7953"
             ],
             [
              0.7777777777777778,
              "#fb9f3a"
             ],
             [
              0.8888888888888888,
              "#fdca26"
             ],
             [
              1,
              "#f0f921"
             ]
            ],
            "type": "histogram2dcontour"
           }
          ],
          "mesh3d": [
           {
            "colorbar": {
             "outlinewidth": 0,
             "ticks": ""
            },
            "type": "mesh3d"
           }
          ],
          "parcoords": [
           {
            "line": {
             "colorbar": {
              "outlinewidth": 0,
              "ticks": ""
             }
            },
            "type": "parcoords"
           }
          ],
          "pie": [
           {
            "automargin": true,
            "type": "pie"
           }
          ],
          "scatter": [
           {
            "fillpattern": {
             "fillmode": "overlay",
             "size": 10,
             "solidity": 0.2
            },
            "type": "scatter"
           }
          ],
          "scatter3d": [
           {
            "line": {
             "colorbar": {
              "outlinewidth": 0,
              "ticks": ""
             }
            },
            "marker": {
             "colorbar": {
              "outlinewidth": 0,
              "ticks": ""
             }
            },
            "type": "scatter3d"
           }
          ],
          "scattercarpet": [
           {
            "marker": {
             "colorbar": {
              "outlinewidth": 0,
              "ticks": ""
             }
            },
            "type": "scattercarpet"
           }
          ],
          "scattergeo": [
           {
            "marker": {
             "colorbar": {
              "outlinewidth": 0,
              "ticks": ""
             }
            },
            "type": "scattergeo"
           }
          ],
          "scattergl": [
           {
            "marker": {
             "colorbar": {
              "outlinewidth": 0,
              "ticks": ""
             }
            },
            "type": "scattergl"
           }
          ],
          "scattermapbox": [
           {
            "marker": {
             "colorbar": {
              "outlinewidth": 0,
              "ticks": ""
             }
            },
            "type": "scattermapbox"
           }
          ],
          "scatterpolar": [
           {
            "marker": {
             "colorbar": {
              "outlinewidth": 0,
              "ticks": ""
             }
            },
            "type": "scatterpolar"
           }
          ],
          "scatterpolargl": [
           {
            "marker": {
             "colorbar": {
              "outlinewidth": 0,
              "ticks": ""
             }
            },
            "type": "scatterpolargl"
           }
          ],
          "scatterternary": [
           {
            "marker": {
             "colorbar": {
              "outlinewidth": 0,
              "ticks": ""
             }
            },
            "type": "scatterternary"
           }
          ],
          "surface": [
           {
            "colorbar": {
             "outlinewidth": 0,
             "ticks": ""
            },
            "colorscale": [
             [
              0,
              "#0d0887"
             ],
             [
              0.1111111111111111,
              "#46039f"
             ],
             [
              0.2222222222222222,
              "#7201a8"
             ],
             [
              0.3333333333333333,
              "#9c179e"
             ],
             [
              0.4444444444444444,
              "#bd3786"
             ],
             [
              0.5555555555555556,
              "#d8576b"
             ],
             [
              0.6666666666666666,
              "#ed7953"
             ],
             [
              0.7777777777777778,
              "#fb9f3a"
             ],
             [
              0.8888888888888888,
              "#fdca26"
             ],
             [
              1,
              "#f0f921"
             ]
            ],
            "type": "surface"
           }
          ],
          "table": [
           {
            "cells": {
             "fill": {
              "color": "#EBF0F8"
             },
             "line": {
              "color": "white"
             }
            },
            "header": {
             "fill": {
              "color": "#C8D4E3"
             },
             "line": {
              "color": "white"
             }
            },
            "type": "table"
           }
          ]
         },
         "layout": {
          "annotationdefaults": {
           "arrowcolor": "#2a3f5f",
           "arrowhead": 0,
           "arrowwidth": 1
          },
          "autotypenumbers": "strict",
          "coloraxis": {
           "colorbar": {
            "outlinewidth": 0,
            "ticks": ""
           }
          },
          "colorscale": {
           "diverging": [
            [
             0,
             "#8e0152"
            ],
            [
             0.1,
             "#c51b7d"
            ],
            [
             0.2,
             "#de77ae"
            ],
            [
             0.3,
             "#f1b6da"
            ],
            [
             0.4,
             "#fde0ef"
            ],
            [
             0.5,
             "#f7f7f7"
            ],
            [
             0.6,
             "#e6f5d0"
            ],
            [
             0.7,
             "#b8e186"
            ],
            [
             0.8,
             "#7fbc41"
            ],
            [
             0.9,
             "#4d9221"
            ],
            [
             1,
             "#276419"
            ]
           ],
           "sequential": [
            [
             0,
             "#0d0887"
            ],
            [
             0.1111111111111111,
             "#46039f"
            ],
            [
             0.2222222222222222,
             "#7201a8"
            ],
            [
             0.3333333333333333,
             "#9c179e"
            ],
            [
             0.4444444444444444,
             "#bd3786"
            ],
            [
             0.5555555555555556,
             "#d8576b"
            ],
            [
             0.6666666666666666,
             "#ed7953"
            ],
            [
             0.7777777777777778,
             "#fb9f3a"
            ],
            [
             0.8888888888888888,
             "#fdca26"
            ],
            [
             1,
             "#f0f921"
            ]
           ],
           "sequentialminus": [
            [
             0,
             "#0d0887"
            ],
            [
             0.1111111111111111,
             "#46039f"
            ],
            [
             0.2222222222222222,
             "#7201a8"
            ],
            [
             0.3333333333333333,
             "#9c179e"
            ],
            [
             0.4444444444444444,
             "#bd3786"
            ],
            [
             0.5555555555555556,
             "#d8576b"
            ],
            [
             0.6666666666666666,
             "#ed7953"
            ],
            [
             0.7777777777777778,
             "#fb9f3a"
            ],
            [
             0.8888888888888888,
             "#fdca26"
            ],
            [
             1,
             "#f0f921"
            ]
           ]
          },
          "colorway": [
           "#636efa",
           "#EF553B",
           "#00cc96",
           "#ab63fa",
           "#FFA15A",
           "#19d3f3",
           "#FF6692",
           "#B6E880",
           "#FF97FF",
           "#FECB52"
          ],
          "font": {
           "color": "#2a3f5f"
          },
          "geo": {
           "bgcolor": "white",
           "lakecolor": "white",
           "landcolor": "#E5ECF6",
           "showlakes": true,
           "showland": true,
           "subunitcolor": "white"
          },
          "hoverlabel": {
           "align": "left"
          },
          "hovermode": "closest",
          "mapbox": {
           "style": "light"
          },
          "paper_bgcolor": "white",
          "plot_bgcolor": "#E5ECF6",
          "polar": {
           "angularaxis": {
            "gridcolor": "white",
            "linecolor": "white",
            "ticks": ""
           },
           "bgcolor": "#E5ECF6",
           "radialaxis": {
            "gridcolor": "white",
            "linecolor": "white",
            "ticks": ""
           }
          },
          "scene": {
           "xaxis": {
            "backgroundcolor": "#E5ECF6",
            "gridcolor": "white",
            "gridwidth": 2,
            "linecolor": "white",
            "showbackground": true,
            "ticks": "",
            "zerolinecolor": "white"
           },
           "yaxis": {
            "backgroundcolor": "#E5ECF6",
            "gridcolor": "white",
            "gridwidth": 2,
            "linecolor": "white",
            "showbackground": true,
            "ticks": "",
            "zerolinecolor": "white"
           },
           "zaxis": {
            "backgroundcolor": "#E5ECF6",
            "gridcolor": "white",
            "gridwidth": 2,
            "linecolor": "white",
            "showbackground": true,
            "ticks": "",
            "zerolinecolor": "white"
           }
          },
          "shapedefaults": {
           "line": {
            "color": "#2a3f5f"
           }
          },
          "ternary": {
           "aaxis": {
            "gridcolor": "white",
            "linecolor": "white",
            "ticks": ""
           },
           "baxis": {
            "gridcolor": "white",
            "linecolor": "white",
            "ticks": ""
           },
           "bgcolor": "#E5ECF6",
           "caxis": {
            "gridcolor": "white",
            "linecolor": "white",
            "ticks": ""
           }
          },
          "title": {
           "x": 0.05
          },
          "xaxis": {
           "automargin": true,
           "gridcolor": "white",
           "linecolor": "white",
           "ticks": "",
           "title": {
            "standoff": 15
           },
           "zerolinecolor": "white",
           "zerolinewidth": 2
          },
          "yaxis": {
           "automargin": true,
           "gridcolor": "white",
           "linecolor": "white",
           "ticks": "",
           "title": {
            "standoff": 15
           },
           "zerolinecolor": "white",
           "zerolinewidth": 2
          }
         }
        },
        "xaxis": {
         "anchor": "y",
         "domain": [
          0,
          1
         ],
         "title": {
          "text": "index"
         }
        },
        "yaxis": {
         "anchor": "x",
         "domain": [
          0,
          1
         ],
         "title": {
          "text": "value"
         }
        }
       }
      }
     },
     "metadata": {},
     "output_type": "display_data"
    }
   ],
   "source": [
    " df2.head(5).plot.bar(barmode=\"group\")"
   ]
  },
  {
   "cell_type": "code",
   "execution_count": 66,
   "metadata": {},
   "outputs": [
    {
     "ename": "NotImplementedError",
     "evalue": "kind='pie' not yet supported for plotting.backend='plotly'",
     "output_type": "error",
     "traceback": [
      "\u001b[0;31m---------------------------------------------------------------------------\u001b[0m",
      "\u001b[0;31mNotImplementedError\u001b[0m                       Traceback (most recent call last)",
      "\u001b[1;32m/Users/zhangjinwei/Desktop/Untitled-3.ipynb Cell 12\u001b[0m in \u001b[0;36m<cell line: 1>\u001b[0;34m()\u001b[0m\n\u001b[0;32m----> <a href='vscode-notebook-cell:/Users/zhangjinwei/Desktop/Untitled-3.ipynb#Y143sZmlsZQ%3D%3D?line=0'>1</a>\u001b[0m df2\u001b[39m.\u001b[39;49mhead(\u001b[39m20\u001b[39;49m)\u001b[39m.\u001b[39;49msum()\u001b[39m.\u001b[39;49mplot\u001b[39m.\u001b[39;49mpie()\n",
      "File \u001b[0;32m~/opt/anaconda3/lib/python3.9/site-packages/pandas/plotting/_core.py:1584\u001b[0m, in \u001b[0;36mPlotAccessor.pie\u001b[0;34m(self, **kwargs)\u001b[0m\n\u001b[1;32m   1578\u001b[0m \u001b[39mif\u001b[39;00m (\n\u001b[1;32m   1579\u001b[0m     \u001b[39misinstance\u001b[39m(\u001b[39mself\u001b[39m\u001b[39m.\u001b[39m_parent, ABCDataFrame)\n\u001b[1;32m   1580\u001b[0m     \u001b[39mand\u001b[39;00m kwargs\u001b[39m.\u001b[39mget(\u001b[39m\"\u001b[39m\u001b[39my\u001b[39m\u001b[39m\"\u001b[39m, \u001b[39mNone\u001b[39;00m) \u001b[39mis\u001b[39;00m \u001b[39mNone\u001b[39;00m\n\u001b[1;32m   1581\u001b[0m     \u001b[39mand\u001b[39;00m \u001b[39mnot\u001b[39;00m kwargs\u001b[39m.\u001b[39mget(\u001b[39m\"\u001b[39m\u001b[39msubplots\u001b[39m\u001b[39m\"\u001b[39m, \u001b[39mFalse\u001b[39;00m)\n\u001b[1;32m   1582\u001b[0m ):\n\u001b[1;32m   1583\u001b[0m     \u001b[39mraise\u001b[39;00m \u001b[39mValueError\u001b[39;00m(\u001b[39m\"\u001b[39m\u001b[39mpie requires either y column or \u001b[39m\u001b[39m'\u001b[39m\u001b[39msubplots=True\u001b[39m\u001b[39m'\u001b[39m\u001b[39m\"\u001b[39m)\n\u001b[0;32m-> 1584\u001b[0m \u001b[39mreturn\u001b[39;00m \u001b[39mself\u001b[39;49m(kind\u001b[39m=\u001b[39;49m\u001b[39m\"\u001b[39;49m\u001b[39mpie\u001b[39;49m\u001b[39m\"\u001b[39;49m, \u001b[39m*\u001b[39;49m\u001b[39m*\u001b[39;49mkwargs)\n",
      "File \u001b[0;32m~/opt/anaconda3/lib/python3.9/site-packages/pandas/plotting/_core.py:902\u001b[0m, in \u001b[0;36mPlotAccessor.__call__\u001b[0;34m(self, *args, **kwargs)\u001b[0m\n\u001b[1;32m    900\u001b[0m \u001b[39m# when using another backend, get out of the way\u001b[39;00m\n\u001b[1;32m    901\u001b[0m \u001b[39mif\u001b[39;00m plot_backend\u001b[39m.\u001b[39m\u001b[39m__name__\u001b[39m \u001b[39m!=\u001b[39m \u001b[39m\"\u001b[39m\u001b[39mpandas.plotting._matplotlib\u001b[39m\u001b[39m\"\u001b[39m:\n\u001b[0;32m--> 902\u001b[0m     \u001b[39mreturn\u001b[39;00m plot_backend\u001b[39m.\u001b[39;49mplot(\u001b[39mself\u001b[39;49m\u001b[39m.\u001b[39;49m_parent, x\u001b[39m=\u001b[39;49mx, y\u001b[39m=\u001b[39;49my, kind\u001b[39m=\u001b[39;49mkind, \u001b[39m*\u001b[39;49m\u001b[39m*\u001b[39;49mkwargs)\n\u001b[1;32m    904\u001b[0m \u001b[39mif\u001b[39;00m kind \u001b[39mnot\u001b[39;00m \u001b[39min\u001b[39;00m \u001b[39mself\u001b[39m\u001b[39m.\u001b[39m_all_kinds:\n\u001b[1;32m    905\u001b[0m     \u001b[39mraise\u001b[39;00m \u001b[39mValueError\u001b[39;00m(\u001b[39mf\u001b[39m\u001b[39m\"\u001b[39m\u001b[39m{\u001b[39;00mkind\u001b[39m}\u001b[39;00m\u001b[39m is not a valid plot kind\u001b[39m\u001b[39m\"\u001b[39m)\n",
      "File \u001b[0;32m~/opt/anaconda3/lib/python3.9/site-packages/plotly/__init__.py:134\u001b[0m, in \u001b[0;36mplot\u001b[0;34m(data_frame, kind, **kwargs)\u001b[0m\n\u001b[1;32m    128\u001b[0m \u001b[39mif\u001b[39;00m kind \u001b[39m==\u001b[39m \u001b[39m\"\u001b[39m\u001b[39mheatmap\u001b[39m\u001b[39m\"\u001b[39m:\n\u001b[1;32m    129\u001b[0m     \u001b[39mraise\u001b[39;00m \u001b[39mValueError\u001b[39;00m(\n\u001b[1;32m    130\u001b[0m         \u001b[39m\"\u001b[39m\u001b[39mkind=\u001b[39m\u001b[39m'\u001b[39m\u001b[39mheatmap\u001b[39m\u001b[39m'\u001b[39m\u001b[39m not supported plotting.backend=\u001b[39m\u001b[39m'\u001b[39m\u001b[39mplotly\u001b[39m\u001b[39m'\u001b[39m\u001b[39m. \u001b[39m\u001b[39m\"\u001b[39m\n\u001b[1;32m    131\u001b[0m         \u001b[39m\"\u001b[39m\u001b[39mPlease use kind=\u001b[39m\u001b[39m'\u001b[39m\u001b[39mimshow\u001b[39m\u001b[39m'\u001b[39m\u001b[39m or kind=\u001b[39m\u001b[39m'\u001b[39m\u001b[39mdensity_heatmap\u001b[39m\u001b[39m'\u001b[39m\u001b[39m.\u001b[39m\u001b[39m\"\u001b[39m\n\u001b[1;32m    132\u001b[0m     )\n\u001b[0;32m--> 134\u001b[0m \u001b[39mraise\u001b[39;00m \u001b[39mNotImplementedError\u001b[39;00m(\n\u001b[1;32m    135\u001b[0m     \u001b[39m\"\u001b[39m\u001b[39mkind=\u001b[39m\u001b[39m'\u001b[39m\u001b[39m%s\u001b[39;00m\u001b[39m'\u001b[39m\u001b[39m not yet supported for plotting.backend=\u001b[39m\u001b[39m'\u001b[39m\u001b[39mplotly\u001b[39m\u001b[39m'\u001b[39m\u001b[39m\"\u001b[39m \u001b[39m%\u001b[39m kind\n\u001b[1;32m    136\u001b[0m )\n",
      "\u001b[0;31mNotImplementedError\u001b[0m: kind='pie' not yet supported for plotting.backend='plotly'"
     ]
    }
   ],
   "source": [
    "df2.head(20).sum().plot.pie()"
   ]
  },
  {
   "cell_type": "code",
   "execution_count": 65,
   "metadata": {},
   "outputs": [
    {
     "data": {
      "application/vnd.plotly.v1+json": {
       "config": {
        "plotlyServerURL": "https://plot.ly"
       },
       "data": [
        {
         "hovertemplate": "variable=反应池7矾花均一性指标<br>index=%{x}<br>value=%{y}<extra></extra>",
         "legendgroup": "反应池7矾花均一性指标",
         "line": {
          "color": "#636efa",
          "dash": "solid"
         },
         "marker": {
          "symbol": "circle"
         },
         "mode": "lines",
         "name": "反应池7矾花均一性指标",
         "orientation": "v",
         "showlegend": true,
         "type": "scatter",
         "x": [
          0,
          1,
          2,
          3,
          4,
          5,
          6,
          7,
          8,
          9,
          10,
          11,
          12,
          13,
          14,
          15,
          16,
          17,
          18,
          19
         ],
         "xaxis": "x",
         "y": [
          4.43,
          1.39,
          0.6,
          1.56,
          2,
          2.25,
          2.3,
          1.37,
          0.8,
          1.19,
          4.6,
          3.62,
          2,
          3.7,
          1.12,
          1.07,
          2.32,
          1.72,
          1.72,
          3.55
         ],
         "yaxis": "y"
        },
        {
         "hovertemplate": "variable=反应池7矾花平均密度<br>index=%{x}<br>value=%{y}<extra></extra>",
         "legendgroup": "反应池7矾花平均密度",
         "line": {
          "color": "#EF553B",
          "dash": "solid"
         },
         "marker": {
          "symbol": "circle"
         },
         "mode": "lines",
         "name": "反应池7矾花平均密度",
         "orientation": "v",
         "showlegend": true,
         "type": "scatter",
         "x": [
          0,
          1,
          2,
          3,
          4,
          5,
          6,
          7,
          8,
          9,
          10,
          11,
          12,
          13,
          14,
          15,
          16,
          17,
          18,
          19
         ],
         "xaxis": "x",
         "y": [
          0.63,
          0.02,
          0.01,
          0.01,
          0.25,
          0.03,
          0.03,
          0.03,
          0.01,
          0.01,
          0.25,
          0.16,
          0.39,
          0.07,
          0.01,
          0.02,
          0.07,
          0.01,
          0.01,
          0.04
         ],
         "yaxis": "y"
        },
        {
         "hovertemplate": "variable=反应池7矾花平均直径<br>index=%{x}<br>value=%{y}<extra></extra>",
         "legendgroup": "反应池7矾花平均直径",
         "line": {
          "color": "#00cc96",
          "dash": "solid"
         },
         "marker": {
          "symbol": "circle"
         },
         "mode": "lines",
         "name": "反应池7矾花平均直径",
         "orientation": "v",
         "showlegend": true,
         "type": "scatter",
         "x": [
          0,
          1,
          2,
          3,
          4,
          5,
          6,
          7,
          8,
          9,
          10,
          11,
          12,
          13,
          14,
          15,
          16,
          17,
          18,
          19
         ],
         "xaxis": "x",
         "y": [
          0.83,
          0.28,
          0.22,
          0.18,
          0.55,
          0.11,
          0.28,
          0.23,
          0.15,
          0.16,
          0.48,
          0.42,
          0.4,
          0.33,
          0.19,
          0.26,
          0.29,
          0.22,
          0.24,
          0.25
         ],
         "yaxis": "y"
        },
        {
         "hovertemplate": "variable=小颗粒矾花占比<br>index=%{x}<br>value=%{y}<extra></extra>",
         "legendgroup": "小颗粒矾花占比",
         "line": {
          "color": "#ab63fa",
          "dash": "solid"
         },
         "marker": {
          "symbol": "circle"
         },
         "mode": "lines",
         "name": "小颗粒矾花占比",
         "orientation": "v",
         "showlegend": true,
         "type": "scatter",
         "x": [
          0,
          1,
          2,
          3,
          4,
          5,
          6,
          7,
          8,
          9,
          10,
          11,
          12,
          13,
          14,
          15,
          16,
          17,
          18,
          19
         ],
         "xaxis": "x",
         "y": [
          0.84,
          1,
          1,
          1,
          0.92,
          1,
          1,
          1,
          1,
          1,
          0.88,
          0.85,
          0.94,
          0.89,
          1,
          1,
          1,
          1,
          1,
          1
         ],
         "yaxis": "y"
        },
        {
         "hovertemplate": "variable=系统实时出水浊度<br>index=%{x}<br>value=%{y}<extra></extra>",
         "legendgroup": "系统实时出水浊度",
         "line": {
          "color": "#FFA15A",
          "dash": "solid"
         },
         "marker": {
          "symbol": "circle"
         },
         "mode": "lines",
         "name": "系统实时出水浊度",
         "orientation": "v",
         "showlegend": true,
         "type": "scatter",
         "x": [
          0,
          1,
          2,
          3,
          4,
          5,
          6,
          7,
          8,
          9,
          10,
          11,
          12,
          13,
          14,
          15,
          16,
          17,
          18,
          19
         ],
         "xaxis": "x",
         "y": [
          0.24,
          0.24,
          0.24,
          0.24,
          0.24,
          0.24,
          0.24,
          0.24,
          0.24,
          0.24,
          0.24,
          0.24,
          0.24,
          0.24,
          0.24,
          0.24,
          0.24,
          0.24,
          0.24,
          0.24
         ],
         "yaxis": "y"
        }
       ],
       "layout": {
        "legend": {
         "title": {
          "text": "variable"
         },
         "tracegroupgap": 0
        },
        "margin": {
         "t": 60
        },
        "template": {
         "data": {
          "bar": [
           {
            "error_x": {
             "color": "#2a3f5f"
            },
            "error_y": {
             "color": "#2a3f5f"
            },
            "marker": {
             "line": {
              "color": "#E5ECF6",
              "width": 0.5
             },
             "pattern": {
              "fillmode": "overlay",
              "size": 10,
              "solidity": 0.2
             }
            },
            "type": "bar"
           }
          ],
          "barpolar": [
           {
            "marker": {
             "line": {
              "color": "#E5ECF6",
              "width": 0.5
             },
             "pattern": {
              "fillmode": "overlay",
              "size": 10,
              "solidity": 0.2
             }
            },
            "type": "barpolar"
           }
          ],
          "carpet": [
           {
            "aaxis": {
             "endlinecolor": "#2a3f5f",
             "gridcolor": "white",
             "linecolor": "white",
             "minorgridcolor": "white",
             "startlinecolor": "#2a3f5f"
            },
            "baxis": {
             "endlinecolor": "#2a3f5f",
             "gridcolor": "white",
             "linecolor": "white",
             "minorgridcolor": "white",
             "startlinecolor": "#2a3f5f"
            },
            "type": "carpet"
           }
          ],
          "choropleth": [
           {
            "colorbar": {
             "outlinewidth": 0,
             "ticks": ""
            },
            "type": "choropleth"
           }
          ],
          "contour": [
           {
            "colorbar": {
             "outlinewidth": 0,
             "ticks": ""
            },
            "colorscale": [
             [
              0,
              "#0d0887"
             ],
             [
              0.1111111111111111,
              "#46039f"
             ],
             [
              0.2222222222222222,
              "#7201a8"
             ],
             [
              0.3333333333333333,
              "#9c179e"
             ],
             [
              0.4444444444444444,
              "#bd3786"
             ],
             [
              0.5555555555555556,
              "#d8576b"
             ],
             [
              0.6666666666666666,
              "#ed7953"
             ],
             [
              0.7777777777777778,
              "#fb9f3a"
             ],
             [
              0.8888888888888888,
              "#fdca26"
             ],
             [
              1,
              "#f0f921"
             ]
            ],
            "type": "contour"
           }
          ],
          "contourcarpet": [
           {
            "colorbar": {
             "outlinewidth": 0,
             "ticks": ""
            },
            "type": "contourcarpet"
           }
          ],
          "heatmap": [
           {
            "colorbar": {
             "outlinewidth": 0,
             "ticks": ""
            },
            "colorscale": [
             [
              0,
              "#0d0887"
             ],
             [
              0.1111111111111111,
              "#46039f"
             ],
             [
              0.2222222222222222,
              "#7201a8"
             ],
             [
              0.3333333333333333,
              "#9c179e"
             ],
             [
              0.4444444444444444,
              "#bd3786"
             ],
             [
              0.5555555555555556,
              "#d8576b"
             ],
             [
              0.6666666666666666,
              "#ed7953"
             ],
             [
              0.7777777777777778,
              "#fb9f3a"
             ],
             [
              0.8888888888888888,
              "#fdca26"
             ],
             [
              1,
              "#f0f921"
             ]
            ],
            "type": "heatmap"
           }
          ],
          "heatmapgl": [
           {
            "colorbar": {
             "outlinewidth": 0,
             "ticks": ""
            },
            "colorscale": [
             [
              0,
              "#0d0887"
             ],
             [
              0.1111111111111111,
              "#46039f"
             ],
             [
              0.2222222222222222,
              "#7201a8"
             ],
             [
              0.3333333333333333,
              "#9c179e"
             ],
             [
              0.4444444444444444,
              "#bd3786"
             ],
             [
              0.5555555555555556,
              "#d8576b"
             ],
             [
              0.6666666666666666,
              "#ed7953"
             ],
             [
              0.7777777777777778,
              "#fb9f3a"
             ],
             [
              0.8888888888888888,
              "#fdca26"
             ],
             [
              1,
              "#f0f921"
             ]
            ],
            "type": "heatmapgl"
           }
          ],
          "histogram": [
           {
            "marker": {
             "pattern": {
              "fillmode": "overlay",
              "size": 10,
              "solidity": 0.2
             }
            },
            "type": "histogram"
           }
          ],
          "histogram2d": [
           {
            "colorbar": {
             "outlinewidth": 0,
             "ticks": ""
            },
            "colorscale": [
             [
              0,
              "#0d0887"
             ],
             [
              0.1111111111111111,
              "#46039f"
             ],
             [
              0.2222222222222222,
              "#7201a8"
             ],
             [
              0.3333333333333333,
              "#9c179e"
             ],
             [
              0.4444444444444444,
              "#bd3786"
             ],
             [
              0.5555555555555556,
              "#d8576b"
             ],
             [
              0.6666666666666666,
              "#ed7953"
             ],
             [
              0.7777777777777778,
              "#fb9f3a"
             ],
             [
              0.8888888888888888,
              "#fdca26"
             ],
             [
              1,
              "#f0f921"
             ]
            ],
            "type": "histogram2d"
           }
          ],
          "histogram2dcontour": [
           {
            "colorbar": {
             "outlinewidth": 0,
             "ticks": ""
            },
            "colorscale": [
             [
              0,
              "#0d0887"
             ],
             [
              0.1111111111111111,
              "#46039f"
             ],
             [
              0.2222222222222222,
              "#7201a8"
             ],
             [
              0.3333333333333333,
              "#9c179e"
             ],
             [
              0.4444444444444444,
              "#bd3786"
             ],
             [
              0.5555555555555556,
              "#d8576b"
             ],
             [
              0.6666666666666666,
              "#ed7953"
             ],
             [
              0.7777777777777778,
              "#fb9f3a"
             ],
             [
              0.8888888888888888,
              "#fdca26"
             ],
             [
              1,
              "#f0f921"
             ]
            ],
            "type": "histogram2dcontour"
           }
          ],
          "mesh3d": [
           {
            "colorbar": {
             "outlinewidth": 0,
             "ticks": ""
            },
            "type": "mesh3d"
           }
          ],
          "parcoords": [
           {
            "line": {
             "colorbar": {
              "outlinewidth": 0,
              "ticks": ""
             }
            },
            "type": "parcoords"
           }
          ],
          "pie": [
           {
            "automargin": true,
            "type": "pie"
           }
          ],
          "scatter": [
           {
            "fillpattern": {
             "fillmode": "overlay",
             "size": 10,
             "solidity": 0.2
            },
            "type": "scatter"
           }
          ],
          "scatter3d": [
           {
            "line": {
             "colorbar": {
              "outlinewidth": 0,
              "ticks": ""
             }
            },
            "marker": {
             "colorbar": {
              "outlinewidth": 0,
              "ticks": ""
             }
            },
            "type": "scatter3d"
           }
          ],
          "scattercarpet": [
           {
            "marker": {
             "colorbar": {
              "outlinewidth": 0,
              "ticks": ""
             }
            },
            "type": "scattercarpet"
           }
          ],
          "scattergeo": [
           {
            "marker": {
             "colorbar": {
              "outlinewidth": 0,
              "ticks": ""
             }
            },
            "type": "scattergeo"
           }
          ],
          "scattergl": [
           {
            "marker": {
             "colorbar": {
              "outlinewidth": 0,
              "ticks": ""
             }
            },
            "type": "scattergl"
           }
          ],
          "scattermapbox": [
           {
            "marker": {
             "colorbar": {
              "outlinewidth": 0,
              "ticks": ""
             }
            },
            "type": "scattermapbox"
           }
          ],
          "scatterpolar": [
           {
            "marker": {
             "colorbar": {
              "outlinewidth": 0,
              "ticks": ""
             }
            },
            "type": "scatterpolar"
           }
          ],
          "scatterpolargl": [
           {
            "marker": {
             "colorbar": {
              "outlinewidth": 0,
              "ticks": ""
             }
            },
            "type": "scatterpolargl"
           }
          ],
          "scatterternary": [
           {
            "marker": {
             "colorbar": {
              "outlinewidth": 0,
              "ticks": ""
             }
            },
            "type": "scatterternary"
           }
          ],
          "surface": [
           {
            "colorbar": {
             "outlinewidth": 0,
             "ticks": ""
            },
            "colorscale": [
             [
              0,
              "#0d0887"
             ],
             [
              0.1111111111111111,
              "#46039f"
             ],
             [
              0.2222222222222222,
              "#7201a8"
             ],
             [
              0.3333333333333333,
              "#9c179e"
             ],
             [
              0.4444444444444444,
              "#bd3786"
             ],
             [
              0.5555555555555556,
              "#d8576b"
             ],
             [
              0.6666666666666666,
              "#ed7953"
             ],
             [
              0.7777777777777778,
              "#fb9f3a"
             ],
             [
              0.8888888888888888,
              "#fdca26"
             ],
             [
              1,
              "#f0f921"
             ]
            ],
            "type": "surface"
           }
          ],
          "table": [
           {
            "cells": {
             "fill": {
              "color": "#EBF0F8"
             },
             "line": {
              "color": "white"
             }
            },
            "header": {
             "fill": {
              "color": "#C8D4E3"
             },
             "line": {
              "color": "white"
             }
            },
            "type": "table"
           }
          ]
         },
         "layout": {
          "annotationdefaults": {
           "arrowcolor": "#2a3f5f",
           "arrowhead": 0,
           "arrowwidth": 1
          },
          "autotypenumbers": "strict",
          "coloraxis": {
           "colorbar": {
            "outlinewidth": 0,
            "ticks": ""
           }
          },
          "colorscale": {
           "diverging": [
            [
             0,
             "#8e0152"
            ],
            [
             0.1,
             "#c51b7d"
            ],
            [
             0.2,
             "#de77ae"
            ],
            [
             0.3,
             "#f1b6da"
            ],
            [
             0.4,
             "#fde0ef"
            ],
            [
             0.5,
             "#f7f7f7"
            ],
            [
             0.6,
             "#e6f5d0"
            ],
            [
             0.7,
             "#b8e186"
            ],
            [
             0.8,
             "#7fbc41"
            ],
            [
             0.9,
             "#4d9221"
            ],
            [
             1,
             "#276419"
            ]
           ],
           "sequential": [
            [
             0,
             "#0d0887"
            ],
            [
             0.1111111111111111,
             "#46039f"
            ],
            [
             0.2222222222222222,
             "#7201a8"
            ],
            [
             0.3333333333333333,
             "#9c179e"
            ],
            [
             0.4444444444444444,
             "#bd3786"
            ],
            [
             0.5555555555555556,
             "#d8576b"
            ],
            [
             0.6666666666666666,
             "#ed7953"
            ],
            [
             0.7777777777777778,
             "#fb9f3a"
            ],
            [
             0.8888888888888888,
             "#fdca26"
            ],
            [
             1,
             "#f0f921"
            ]
           ],
           "sequentialminus": [
            [
             0,
             "#0d0887"
            ],
            [
             0.1111111111111111,
             "#46039f"
            ],
            [
             0.2222222222222222,
             "#7201a8"
            ],
            [
             0.3333333333333333,
             "#9c179e"
            ],
            [
             0.4444444444444444,
             "#bd3786"
            ],
            [
             0.5555555555555556,
             "#d8576b"
            ],
            [
             0.6666666666666666,
             "#ed7953"
            ],
            [
             0.7777777777777778,
             "#fb9f3a"
            ],
            [
             0.8888888888888888,
             "#fdca26"
            ],
            [
             1,
             "#f0f921"
            ]
           ]
          },
          "colorway": [
           "#636efa",
           "#EF553B",
           "#00cc96",
           "#ab63fa",
           "#FFA15A",
           "#19d3f3",
           "#FF6692",
           "#B6E880",
           "#FF97FF",
           "#FECB52"
          ],
          "font": {
           "color": "#2a3f5f"
          },
          "geo": {
           "bgcolor": "white",
           "lakecolor": "white",
           "landcolor": "#E5ECF6",
           "showlakes": true,
           "showland": true,
           "subunitcolor": "white"
          },
          "hoverlabel": {
           "align": "left"
          },
          "hovermode": "closest",
          "mapbox": {
           "style": "light"
          },
          "paper_bgcolor": "white",
          "plot_bgcolor": "#E5ECF6",
          "polar": {
           "angularaxis": {
            "gridcolor": "white",
            "linecolor": "white",
            "ticks": ""
           },
           "bgcolor": "#E5ECF6",
           "radialaxis": {
            "gridcolor": "white",
            "linecolor": "white",
            "ticks": ""
           }
          },
          "scene": {
           "xaxis": {
            "backgroundcolor": "#E5ECF6",
            "gridcolor": "white",
            "gridwidth": 2,
            "linecolor": "white",
            "showbackground": true,
            "ticks": "",
            "zerolinecolor": "white"
           },
           "yaxis": {
            "backgroundcolor": "#E5ECF6",
            "gridcolor": "white",
            "gridwidth": 2,
            "linecolor": "white",
            "showbackground": true,
            "ticks": "",
            "zerolinecolor": "white"
           },
           "zaxis": {
            "backgroundcolor": "#E5ECF6",
            "gridcolor": "white",
            "gridwidth": 2,
            "linecolor": "white",
            "showbackground": true,
            "ticks": "",
            "zerolinecolor": "white"
           }
          },
          "shapedefaults": {
           "line": {
            "color": "#2a3f5f"
           }
          },
          "ternary": {
           "aaxis": {
            "gridcolor": "white",
            "linecolor": "white",
            "ticks": ""
           },
           "baxis": {
            "gridcolor": "white",
            "linecolor": "white",
            "ticks": ""
           },
           "bgcolor": "#E5ECF6",
           "caxis": {
            "gridcolor": "white",
            "linecolor": "white",
            "ticks": ""
           }
          },
          "title": {
           "x": 0.05
          },
          "xaxis": {
           "automargin": true,
           "gridcolor": "white",
           "linecolor": "white",
           "ticks": "",
           "title": {
            "standoff": 15
           },
           "zerolinecolor": "white",
           "zerolinewidth": 2
          },
          "yaxis": {
           "automargin": true,
           "gridcolor": "white",
           "linecolor": "white",
           "ticks": "",
           "title": {
            "standoff": 15
           },
           "zerolinecolor": "white",
           "zerolinewidth": 2
          }
         }
        },
        "xaxis": {
         "anchor": "y",
         "domain": [
          0,
          1
         ],
         "title": {
          "text": "index"
         }
        },
        "yaxis": {
         "anchor": "x",
         "domain": [
          0,
          1
         ],
         "title": {
          "text": "value"
         }
        }
       }
      }
     },
     "metadata": {},
     "output_type": "display_data"
    }
   ],
   "source": [
    "df2.head(20).plot.line()"
   ]
  },
  {
   "cell_type": "code",
   "execution_count": 24,
   "metadata": {},
   "outputs": [
    {
     "data": {
      "text/plain": [
       "反应池7矾花均一性指标    0\n",
       "反应池7矾花平均密度     0\n",
       "反应池7矾花平均直径     0\n",
       "小颗粒矾花占比        0\n",
       "系统实时出水浊度       0\n",
       "dtype: int64"
      ]
     },
     "execution_count": 24,
     "metadata": {},
     "output_type": "execute_result"
    }
   ],
   "source": [
    "df2.isnull().sum()"
   ]
  },
  {
   "cell_type": "code",
   "execution_count": 138,
   "metadata": {},
   "outputs": [
    {
     "data": {
      "text/html": [
       "\n",
       "<script>\n",
       "    require.config({\n",
       "        paths: {\n",
       "            'echarts':'https://assets.pyecharts.org/assets/echarts.min'\n",
       "        }\n",
       "    });\n",
       "</script>\n",
       "\n",
       "        <div id=\"a5c214d52ab342cb8a78867e6e63caf7\" style=\"width:900px; height:500px;\"></div>\n",
       "\n",
       "<script>\n",
       "        require(['echarts'], function(echarts) {\n",
       "                var chart_a5c214d52ab342cb8a78867e6e63caf7 = echarts.init(\n",
       "                    document.getElementById('a5c214d52ab342cb8a78867e6e63caf7'), 'white', {renderer: 'canvas'});\n",
       "                var option_a5c214d52ab342cb8a78867e6e63caf7 = {\n",
       "    \"animation\": true,\n",
       "    \"animationThreshold\": 2000,\n",
       "    \"animationDuration\": 1000,\n",
       "    \"animationEasing\": \"cubicOut\",\n",
       "    \"animationDelay\": 0,\n",
       "    \"animationDurationUpdate\": 300,\n",
       "    \"animationEasingUpdate\": \"cubicOut\",\n",
       "    \"animationDelayUpdate\": 0,\n",
       "    \"color\": [\n",
       "        \"#c23531\",\n",
       "        \"#2f4554\",\n",
       "        \"#61a0a8\",\n",
       "        \"#d48265\",\n",
       "        \"#749f83\",\n",
       "        \"#ca8622\",\n",
       "        \"#bda29a\",\n",
       "        \"#6e7074\",\n",
       "        \"#546570\",\n",
       "        \"#c4ccd3\",\n",
       "        \"#f05b72\",\n",
       "        \"#ef5b9c\",\n",
       "        \"#f47920\",\n",
       "        \"#905a3d\",\n",
       "        \"#fab27b\",\n",
       "        \"#2a5caa\",\n",
       "        \"#444693\",\n",
       "        \"#726930\",\n",
       "        \"#b2d235\",\n",
       "        \"#6d8346\",\n",
       "        \"#ac6767\",\n",
       "        \"#1d953f\",\n",
       "        \"#6950a1\",\n",
       "        \"#918597\"\n",
       "    ],\n",
       "    \"series\": [\n",
       "        {\n",
       "            \"type\": \"line\",\n",
       "            \"name\": \"\\u5546\\u5bb6A\",\n",
       "            \"connectNulls\": false,\n",
       "            \"symbolSize\": 4,\n",
       "            \"showSymbol\": true,\n",
       "            \"smooth\": true,\n",
       "            \"clip\": true,\n",
       "            \"step\": false,\n",
       "            \"data\": [\n",
       "                [\n",
       "                    \"\\u886c\\u886b\",\n",
       "                    5\n",
       "                ],\n",
       "                [\n",
       "                    \"\\u7f8a\\u6bdb\\u886b\",\n",
       "                    20\n",
       "                ],\n",
       "                [\n",
       "                    \"\\u96ea\\u7eba\\u886b\",\n",
       "                    36\n",
       "                ],\n",
       "                [\n",
       "                    \"\\u88e4\\u5b50\",\n",
       "                    10\n",
       "                ],\n",
       "                [\n",
       "                    \"\\u9ad8\\u8ddf\\u978b\",\n",
       "                    75\n",
       "                ],\n",
       "                [\n",
       "                    \"\\u889c\\u5b50\",\n",
       "                    50\n",
       "                ]\n",
       "            ],\n",
       "            \"hoverAnimation\": true,\n",
       "            \"label\": {\n",
       "                \"show\": true,\n",
       "                \"position\": \"top\",\n",
       "                \"margin\": 8\n",
       "            },\n",
       "            \"lineStyle\": {\n",
       "                \"show\": true,\n",
       "                \"width\": 2,\n",
       "                \"opacity\": 1,\n",
       "                \"curveness\": 0,\n",
       "                \"type\": \"solid\"\n",
       "            },\n",
       "            \"areaStyle\": {\n",
       "                \"opacity\": 0\n",
       "            },\n",
       "            \"markPoint\": {\n",
       "                \"label\": {\n",
       "                    \"show\": true,\n",
       "                    \"position\": \"inside\",\n",
       "                    \"color\": \"#fff\",\n",
       "                    \"margin\": 8\n",
       "                },\n",
       "                \"data\": [\n",
       "                    {\n",
       "                        \"type\": \"min\"\n",
       "                    }\n",
       "                ]\n",
       "            },\n",
       "            \"zlevel\": 0,\n",
       "            \"z\": 0\n",
       "        },\n",
       "        {\n",
       "            \"type\": \"line\",\n",
       "            \"name\": \"\\u5546\\u5bb6B\",\n",
       "            \"connectNulls\": false,\n",
       "            \"symbolSize\": 4,\n",
       "            \"showSymbol\": true,\n",
       "            \"smooth\": true,\n",
       "            \"clip\": true,\n",
       "            \"step\": false,\n",
       "            \"data\": [\n",
       "                [\n",
       "                    \"\\u886c\\u886b\",\n",
       "                    15\n",
       "                ],\n",
       "                [\n",
       "                    \"\\u7f8a\\u6bdb\\u886b\",\n",
       "                    6\n",
       "                ],\n",
       "                [\n",
       "                    \"\\u96ea\\u7eba\\u886b\",\n",
       "                    45\n",
       "                ],\n",
       "                [\n",
       "                    \"\\u88e4\\u5b50\",\n",
       "                    20\n",
       "                ],\n",
       "                [\n",
       "                    \"\\u9ad8\\u8ddf\\u978b\",\n",
       "                    35\n",
       "                ],\n",
       "                [\n",
       "                    \"\\u889c\\u5b50\",\n",
       "                    66\n",
       "                ]\n",
       "            ],\n",
       "            \"hoverAnimation\": true,\n",
       "            \"label\": {\n",
       "                \"show\": true,\n",
       "                \"position\": \"top\",\n",
       "                \"margin\": 8\n",
       "            },\n",
       "            \"lineStyle\": {\n",
       "                \"show\": true,\n",
       "                \"width\": 1,\n",
       "                \"opacity\": 1,\n",
       "                \"curveness\": 0,\n",
       "                \"type\": \"solid\"\n",
       "            },\n",
       "            \"areaStyle\": {\n",
       "                \"opacity\": 0\n",
       "            },\n",
       "            \"markPoint\": {\n",
       "                \"label\": {\n",
       "                    \"show\": true,\n",
       "                    \"position\": \"inside\",\n",
       "                    \"color\": \"#fff\",\n",
       "                    \"margin\": 8\n",
       "                },\n",
       "                \"data\": [\n",
       "                    {\n",
       "                        \"type\": \"max\"\n",
       "                    }\n",
       "                ]\n",
       "            },\n",
       "            \"zlevel\": 0,\n",
       "            \"z\": 0\n",
       "        },\n",
       "        {\n",
       "            \"type\": \"line\",\n",
       "            \"name\": \"\\u5546\\u5bb6C\",\n",
       "            \"connectNulls\": false,\n",
       "            \"symbolSize\": 4,\n",
       "            \"showSymbol\": true,\n",
       "            \"smooth\": false,\n",
       "            \"clip\": true,\n",
       "            \"step\": false,\n",
       "            \"data\": [\n",
       "                [\n",
       "                    \"\\u886c\\u886b\",\n",
       "                    17\n",
       "                ],\n",
       "                [\n",
       "                    \"\\u7f8a\\u6bdb\\u886b\",\n",
       "                    8\n",
       "                ],\n",
       "                [\n",
       "                    \"\\u96ea\\u7eba\\u886b\",\n",
       "                    40\n",
       "                ],\n",
       "                [\n",
       "                    \"\\u88e4\\u5b50\",\n",
       "                    26\n",
       "                ],\n",
       "                [\n",
       "                    \"\\u9ad8\\u8ddf\\u978b\",\n",
       "                    36\n",
       "                ],\n",
       "                [\n",
       "                    \"\\u889c\\u5b50\",\n",
       "                    66\n",
       "                ]\n",
       "            ],\n",
       "            \"hoverAnimation\": true,\n",
       "            \"label\": {\n",
       "                \"show\": true,\n",
       "                \"position\": \"top\",\n",
       "                \"margin\": 8\n",
       "            },\n",
       "            \"lineStyle\": {\n",
       "                \"show\": true,\n",
       "                \"width\": 1,\n",
       "                \"opacity\": 1,\n",
       "                \"curveness\": 0,\n",
       "                \"type\": \"solid\"\n",
       "            },\n",
       "            \"areaStyle\": {\n",
       "                \"opacity\": 0\n",
       "            },\n",
       "            \"markLine\": {\n",
       "                \"silent\": false,\n",
       "                \"precision\": 2,\n",
       "                \"label\": {\n",
       "                    \"show\": true,\n",
       "                    \"position\": \"top\",\n",
       "                    \"margin\": 8\n",
       "                },\n",
       "                \"data\": [\n",
       "                    {\n",
       "                        \"type\": \"average\"\n",
       "                    }\n",
       "                ]\n",
       "            },\n",
       "            \"zlevel\": 0,\n",
       "            \"z\": 0\n",
       "        }\n",
       "    ],\n",
       "    \"legend\": [\n",
       "        {\n",
       "            \"data\": [\n",
       "                \"\\u5546\\u5bb6A\",\n",
       "                \"\\u5546\\u5bb6B\",\n",
       "                \"\\u5546\\u5bb6C\"\n",
       "            ],\n",
       "            \"selected\": {\n",
       "                \"\\u5546\\u5bb6A\": true,\n",
       "                \"\\u5546\\u5bb6B\": true,\n",
       "                \"\\u5546\\u5bb6C\": true\n",
       "            },\n",
       "            \"show\": true,\n",
       "            \"padding\": 5,\n",
       "            \"itemGap\": 10,\n",
       "            \"itemWidth\": 25,\n",
       "            \"itemHeight\": 14\n",
       "        }\n",
       "    ],\n",
       "    \"tooltip\": {\n",
       "        \"show\": true,\n",
       "        \"trigger\": \"item\",\n",
       "        \"triggerOn\": \"mousemove|click\",\n",
       "        \"axisPointer\": {\n",
       "            \"type\": \"line\"\n",
       "        },\n",
       "        \"showContent\": true,\n",
       "        \"alwaysShowContent\": false,\n",
       "        \"showDelay\": 0,\n",
       "        \"hideDelay\": 100,\n",
       "        \"textStyle\": {\n",
       "            \"fontSize\": 14\n",
       "        },\n",
       "        \"borderWidth\": 0,\n",
       "        \"padding\": 5\n",
       "    },\n",
       "    \"xAxis\": [\n",
       "        {\n",
       "            \"show\": true,\n",
       "            \"scale\": false,\n",
       "            \"nameLocation\": \"end\",\n",
       "            \"nameGap\": 15,\n",
       "            \"gridIndex\": 0,\n",
       "            \"inverse\": false,\n",
       "            \"offset\": 0,\n",
       "            \"splitNumber\": 5,\n",
       "            \"minInterval\": 0,\n",
       "            \"splitLine\": {\n",
       "                \"show\": false,\n",
       "                \"lineStyle\": {\n",
       "                    \"show\": true,\n",
       "                    \"width\": 1,\n",
       "                    \"opacity\": 1,\n",
       "                    \"curveness\": 0,\n",
       "                    \"type\": \"solid\"\n",
       "                }\n",
       "            },\n",
       "            \"data\": [\n",
       "                \"\\u886c\\u886b\",\n",
       "                \"\\u7f8a\\u6bdb\\u886b\",\n",
       "                \"\\u96ea\\u7eba\\u886b\",\n",
       "                \"\\u88e4\\u5b50\",\n",
       "                \"\\u9ad8\\u8ddf\\u978b\",\n",
       "                \"\\u889c\\u5b50\"\n",
       "            ]\n",
       "        }\n",
       "    ],\n",
       "    \"yAxis\": [\n",
       "        {\n",
       "            \"show\": true,\n",
       "            \"scale\": false,\n",
       "            \"nameLocation\": \"end\",\n",
       "            \"nameGap\": 15,\n",
       "            \"gridIndex\": 0,\n",
       "            \"inverse\": false,\n",
       "            \"offset\": 0,\n",
       "            \"splitNumber\": 5,\n",
       "            \"minInterval\": 0,\n",
       "            \"splitLine\": {\n",
       "                \"show\": false,\n",
       "                \"lineStyle\": {\n",
       "                    \"show\": true,\n",
       "                    \"width\": 1,\n",
       "                    \"opacity\": 1,\n",
       "                    \"curveness\": 0,\n",
       "                    \"type\": \"solid\"\n",
       "                }\n",
       "            }\n",
       "        }\n",
       "    ],\n",
       "    \"title\": [\n",
       "        {\n",
       "            \"text\": \"\\u4e3b\\u6807\\u9898\",\n",
       "            \"subtext\": \"\\u526f\\u6807\\u9898\",\n",
       "            \"padding\": 5,\n",
       "            \"itemGap\": 10\n",
       "        }\n",
       "    ],\n",
       "    \"toolbox\": {\n",
       "        \"show\": true,\n",
       "        \"orient\": \"horizontal\",\n",
       "        \"itemSize\": 15,\n",
       "        \"itemGap\": 10,\n",
       "        \"left\": \"80%\",\n",
       "        \"feature\": {\n",
       "            \"saveAsImage\": {\n",
       "                \"type\": \"png\",\n",
       "                \"backgroundColor\": \"auto\",\n",
       "                \"connectedBackgroundColor\": \"#fff\",\n",
       "                \"show\": true,\n",
       "                \"title\": \"\\u4fdd\\u5b58\\u4e3a\\u56fe\\u7247\",\n",
       "                \"pixelRatio\": 1\n",
       "            },\n",
       "            \"restore\": {\n",
       "                \"show\": true,\n",
       "                \"title\": \"\\u8fd8\\u539f\"\n",
       "            },\n",
       "            \"dataView\": {\n",
       "                \"show\": true,\n",
       "                \"title\": \"\\u6570\\u636e\\u89c6\\u56fe\",\n",
       "                \"readOnly\": false,\n",
       "                \"lang\": [\n",
       "                    \"\\u6570\\u636e\\u89c6\\u56fe\",\n",
       "                    \"\\u5173\\u95ed\",\n",
       "                    \"\\u5237\\u65b0\"\n",
       "                ],\n",
       "                \"backgroundColor\": \"#fff\",\n",
       "                \"textareaColor\": \"#fff\",\n",
       "                \"textareaBorderColor\": \"#333\",\n",
       "                \"textColor\": \"#000\",\n",
       "                \"buttonColor\": \"#c23531\",\n",
       "                \"buttonTextColor\": \"#fff\"\n",
       "            },\n",
       "            \"dataZoom\": {\n",
       "                \"show\": true,\n",
       "                \"title\": {\n",
       "                    \"zoom\": \"\\u533a\\u57df\\u7f29\\u653e\",\n",
       "                    \"back\": \"\\u533a\\u57df\\u7f29\\u653e\\u8fd8\\u539f\"\n",
       "                },\n",
       "                \"icon\": {},\n",
       "                \"xAxisIndex\": false,\n",
       "                \"yAxisIndex\": false,\n",
       "                \"filterMode\": \"filter\"\n",
       "            },\n",
       "            \"magicType\": {\n",
       "                \"show\": true,\n",
       "                \"type\": [\n",
       "                    \"line\",\n",
       "                    \"bar\",\n",
       "                    \"stack\",\n",
       "                    \"tiled\"\n",
       "                ],\n",
       "                \"title\": {\n",
       "                    \"line\": \"\\u5207\\u6362\\u4e3a\\u6298\\u7ebf\\u56fe\",\n",
       "                    \"bar\": \"\\u5207\\u6362\\u4e3a\\u67f1\\u72b6\\u56fe\",\n",
       "                    \"stack\": \"\\u5207\\u6362\\u4e3a\\u5806\\u53e0\",\n",
       "                    \"tiled\": \"\\u5207\\u6362\\u4e3a\\u5e73\\u94fa\"\n",
       "                },\n",
       "                \"icon\": {}\n",
       "            },\n",
       "            \"brush\": {\n",
       "                \"icon\": {},\n",
       "                \"title\": {\n",
       "                    \"rect\": \"\\u77e9\\u5f62\\u9009\\u62e9\",\n",
       "                    \"polygon\": \"\\u5708\\u9009\",\n",
       "                    \"lineX\": \"\\u6a2a\\u5411\\u9009\\u62e9\",\n",
       "                    \"lineY\": \"\\u7eb5\\u5411\\u9009\\u62e9\",\n",
       "                    \"keep\": \"\\u4fdd\\u6301\\u9009\\u62e9\",\n",
       "                    \"clear\": \"\\u6e05\\u9664\\u9009\\u62e9\"\n",
       "                }\n",
       "            }\n",
       "        }\n",
       "    }\n",
       "};\n",
       "                chart_a5c214d52ab342cb8a78867e6e63caf7.setOption(option_a5c214d52ab342cb8a78867e6e63caf7);\n",
       "        });\n",
       "    </script>\n"
      ],
      "text/plain": [
       "<pyecharts.render.display.HTML at 0x175932c70>"
      ]
     },
     "execution_count": 138,
     "metadata": {},
     "output_type": "execute_result"
    }
   ],
   "source": [
    "# 绘制折线图\n",
    "from pyecharts.charts import Line \n",
    "from pyecharts import options as opts \n",
    "# 内置主题类型可查看 pyecharts.globals.ThemeType\n",
    "from pyecharts.globals import ThemeType \n",
    "x = ( \"衬衫\", \"羊毛衫\", \"雪纺衫\", \"裤子\", \"高跟鞋\", \"袜子\" )\n",
    "y1 = ( 5, 20, 36, 10, 75, 50 )\n",
    "y2 = ( 15, 6, 45, 20, 35, 66 )\n",
    "y3 = ( 17, 8, 40, 26, 36, 66 )\n",
    "line = (\n",
    "    Line(init_opts=opts.InitOpts (theme= ThemeType.WHITE)) \n",
    "    .add_xaxis(x) \n",
    "    .add_yaxis(\"商家A\", y1, is_smooth=True,       # 此处可通过设置 is_smooth=True 使得 线段平滑\n",
    "               linestyle_opts=opts.LineStyleOpts(  width=2 ),   # 设置线的宽度\n",
    "               markpoint_opts=opts.MarkPointOpts(data=[opts.MarkPointItem(type_=\"min\")])  )    # 标记最小值点\n",
    "    .add_yaxis(\"商家B\", y2, is_smooth=True,       # 此处可通过设置 is_smooth= True 使得 线段平滑\n",
    "               markpoint_opts=opts.MarkPointOpts(data=[opts.MarkPointItem(type_=\"max\")])  )   #  标记最大值点\n",
    "    .add_yaxis(\"商家C\", y3, is_smooth=False,       # 此处可通过设置 is_smooth= False 使得 线段不平滑\n",
    "               markline_opts=opts.MarkLineOpts(data=[opts.MarkLineItem(type_=\"average\")]) )    #  均值标记线\n",
    "    .set_global_opts( title_opts=opts. TitleOpts( title =\"主标题\", subtitle=\"副标题\" ),\n",
    "                      toolbox_opts=opts.ToolboxOpts(),            # 展示工具箱\n",
    "                      legend_opts=opts.LegendOpts(is_show=True))  # 显示图例\n",
    ")\n",
    "line.render_notebook()\n",
    "\n",
    "\n"
   ]
  },
  {
   "cell_type": "code",
   "execution_count": null,
   "metadata": {},
   "outputs": [],
   "source": [
    "\n",
    "# 标记点、标记线\n",
    "import pyecharts.options as opts\n",
    "from pyecharts.charts import Line\n",
    "from pyecharts.faker import Faker\n",
    "\n",
    "c = (\n",
    "    Line()\n",
    "    .add_xaxis(Faker.choose())\n",
    "    .add_yaxis(\n",
    "        \"商家A\",\n",
    "        Faker.values(),\n",
    "        markpoint_opts=opts.MarkPointOpts(data=[opts.MarkPointItem(type_=\"min\")]),\n",
    "        markline_opts=opts.MarkLineOpts(data=[opts.MarkLineItem(y = 40 )])            # 自定义标记线\n",
    "    )\n",
    "    .add_yaxis(\n",
    "        \"商家B\",\n",
    "        Faker.values(),\n",
    "        markpoint_opts=opts.MarkPointOpts(data=[opts.MarkPointItem(type_=\"max\")]),\n",
    "        markline_opts=opts.MarkLineOpts(data=[opts.MarkLineItem(type_=\"average\")])    # 均值标记线\n",
    "    )\n",
    "    .set_global_opts(title_opts=opts.TitleOpts(title=\"Line-MarkPoint\"))\n",
    ")\n",
    "c.render_notebook()\n",
    "\n",
    "\n",
    "# 线的宽度、颜色、点的颜色、宽度设置\n",
    "import pyecharts.options as opts\n",
    "from pyecharts.charts import Line\n",
    "from pyecharts.faker import Faker\n",
    "\n",
    "c = (\n",
    "    Line()\n",
    "    .add_xaxis(xaxis_data=Faker.choose())\n",
    "    .add_yaxis(\n",
    "        \"商家A\",\n",
    "        Faker.values(),\n",
    "        symbol=\"triangle\",\n",
    "        symbol_size=20,\n",
    "        linestyle_opts=opts.LineStyleOpts(color=\"green\", width=4, type_=\"dashed\"),\n",
    "        itemstyle_opts=opts.ItemStyleOpts(\n",
    "            border_width=3, border_color=\"yellow\", color=\"blue\"\n",
    "        ),\n",
    "    )\n",
    "    .set_global_opts(title_opts=opts.TitleOpts(title=\"Line-ItemStyle\"))\n",
    ")\n",
    "c.render_notebook()\n",
    "\n",
    "\n",
    "# 堆叠区域图\n",
    "import pyecharts.options as opts\n",
    "from pyecharts.charts import Line\n",
    "\n",
    "\"\"\"\n",
    "Gallery 使用 pyecharts 1.1.0\n",
    "参考地址: https://echarts.apache.org/examples/editor.html?c=area-stack\n",
    "\n",
    "目前无法实现的功能:\n",
    "\n",
    "暂无\n",
    "\"\"\"\n",
    "\n",
    "\n",
    "x_data = [\"周一\", \"周二\", \"周三\", \"周四\", \"周五\", \"周六\", \"周日\"]\n",
    "y_data = [820, 932, 901, 934, 1290, 1330, 1320]\n",
    "\n",
    "\n",
    "(\n",
    "    Line()\n",
    "    .add_xaxis(xaxis_data=x_data)\n",
    "    .add_yaxis(\n",
    "        series_name=\"邮件营销\",\n",
    "        stack=\"总量\",\n",
    "        y_axis=[120, 132, 101, 134, 90, 230, 210],\n",
    "        areastyle_opts=opts.AreaStyleOpts(opacity=0.5),\n",
    "        label_opts=opts.LabelOpts(is_show=False),\n",
    "    )\n",
    "    .add_yaxis(\n",
    "        series_name=\"联盟广告\",\n",
    "        stack=\"总量\",\n",
    "        y_axis=[220, 182, 191, 234, 290, 330, 310],\n",
    "        areastyle_opts=opts.AreaStyleOpts(opacity=0.5),\n",
    "        label_opts=opts.LabelOpts(is_show=False),\n",
    "    )\n",
    "    .add_yaxis(\n",
    "        series_name=\"视频广告\",\n",
    "        stack=\"总量\",\n",
    "        y_axis=[150, 232, 201, 154, 190, 330, 410],\n",
    "        areastyle_opts=opts.AreaStyleOpts(opacity=0.5),\n",
    "        label_opts=opts.LabelOpts(is_show=False),\n",
    "    )\n",
    "    .add_yaxis(\n",
    "        series_name=\"直接访问\",\n",
    "        stack=\"总量\",\n",
    "        y_axis=[320, 332, 301, 334, 390, 330, 320],\n",
    "        areastyle_opts=opts.AreaStyleOpts(opacity=0.5),\n",
    "        label_opts=opts.LabelOpts(is_show=False),\n",
    "    )\n",
    "    .add_yaxis(\n",
    "        series_name=\"搜索引擎\",\n",
    "        stack=\"总量\",\n",
    "        y_axis=[820, 932, 901, 934, 1290, 1330, 1320],\n",
    "        areastyle_opts=opts.AreaStyleOpts(opacity=0.5),\n",
    "        label_opts=opts.LabelOpts(is_show=True, position=\"top\"),\n",
    "    )\n",
    "    .set_global_opts(\n",
    "        title_opts=opts.TitleOpts(title=\"堆叠区域图\"),\n",
    "        tooltip_opts=opts.TooltipOpts(trigger=\"axis\", axis_pointer_type=\"cross\"),\n",
    "        yaxis_opts=opts.AxisOpts(\n",
    "            type_=\"value\",\n",
    "            axistick_opts=opts.AxisTickOpts(is_show=True),\n",
    "            splitline_opts=opts.SplitLineOpts(is_show=True),\n",
    "        ),\n",
    "        xaxis_opts=opts.AxisOpts(type_=\"category\", boundary_gap=False),\n",
    "    )\n",
    "    .render_notebook()\n",
    ")\n"
   ]
  },
  {
   "cell_type": "code",
   "execution_count": 88,
   "metadata": {},
   "outputs": [
    {
     "data": {
      "text/html": [
       "<div>\n",
       "<style scoped>\n",
       "    .dataframe tbody tr th:only-of-type {\n",
       "        vertical-align: middle;\n",
       "    }\n",
       "\n",
       "    .dataframe tbody tr th {\n",
       "        vertical-align: top;\n",
       "    }\n",
       "\n",
       "    .dataframe thead th {\n",
       "        text-align: right;\n",
       "    }\n",
       "</style>\n",
       "<table border=\"1\" class=\"dataframe\">\n",
       "  <thead>\n",
       "    <tr style=\"text-align: right;\">\n",
       "      <th></th>\n",
       "      <th>反应池7矾花均一性指标</th>\n",
       "      <th>反应池7矾花平均密度</th>\n",
       "      <th>反应池7矾花平均直径</th>\n",
       "      <th>小颗粒矾花占比</th>\n",
       "      <th>系统实时出水浊度</th>\n",
       "    </tr>\n",
       "  </thead>\n",
       "  <tbody>\n",
       "    <tr>\n",
       "      <th>0</th>\n",
       "      <td>4.43</td>\n",
       "      <td>0.63</td>\n",
       "      <td>0.83</td>\n",
       "      <td>0.84</td>\n",
       "      <td>0.24</td>\n",
       "    </tr>\n",
       "    <tr>\n",
       "      <th>1</th>\n",
       "      <td>1.39</td>\n",
       "      <td>0.02</td>\n",
       "      <td>0.28</td>\n",
       "      <td>1.00</td>\n",
       "      <td>0.24</td>\n",
       "    </tr>\n",
       "    <tr>\n",
       "      <th>2</th>\n",
       "      <td>0.60</td>\n",
       "      <td>0.01</td>\n",
       "      <td>0.22</td>\n",
       "      <td>1.00</td>\n",
       "      <td>0.24</td>\n",
       "    </tr>\n",
       "    <tr>\n",
       "      <th>3</th>\n",
       "      <td>1.56</td>\n",
       "      <td>0.01</td>\n",
       "      <td>0.18</td>\n",
       "      <td>1.00</td>\n",
       "      <td>0.24</td>\n",
       "    </tr>\n",
       "    <tr>\n",
       "      <th>4</th>\n",
       "      <td>2.00</td>\n",
       "      <td>0.25</td>\n",
       "      <td>0.55</td>\n",
       "      <td>0.92</td>\n",
       "      <td>0.24</td>\n",
       "    </tr>\n",
       "    <tr>\n",
       "      <th>...</th>\n",
       "      <td>...</td>\n",
       "      <td>...</td>\n",
       "      <td>...</td>\n",
       "      <td>...</td>\n",
       "      <td>...</td>\n",
       "    </tr>\n",
       "    <tr>\n",
       "      <th>20983</th>\n",
       "      <td>1.22</td>\n",
       "      <td>0.02</td>\n",
       "      <td>0.46</td>\n",
       "      <td>1.00</td>\n",
       "      <td>0.31</td>\n",
       "    </tr>\n",
       "    <tr>\n",
       "      <th>20984</th>\n",
       "      <td>1.15</td>\n",
       "      <td>0.01</td>\n",
       "      <td>0.26</td>\n",
       "      <td>1.00</td>\n",
       "      <td>0.30</td>\n",
       "    </tr>\n",
       "    <tr>\n",
       "      <th>20985</th>\n",
       "      <td>1.15</td>\n",
       "      <td>0.01</td>\n",
       "      <td>0.10</td>\n",
       "      <td>1.00</td>\n",
       "      <td>0.30</td>\n",
       "    </tr>\n",
       "    <tr>\n",
       "      <th>20986</th>\n",
       "      <td>1.15</td>\n",
       "      <td>0.01</td>\n",
       "      <td>0.08</td>\n",
       "      <td>1.00</td>\n",
       "      <td>0.30</td>\n",
       "    </tr>\n",
       "    <tr>\n",
       "      <th>20987</th>\n",
       "      <td>1.15</td>\n",
       "      <td>0.01</td>\n",
       "      <td>0.35</td>\n",
       "      <td>1.00</td>\n",
       "      <td>0.30</td>\n",
       "    </tr>\n",
       "  </tbody>\n",
       "</table>\n",
       "<p>20988 rows × 5 columns</p>\n",
       "</div>"
      ],
      "text/plain": [
       "       反应池7矾花均一性指标  反应池7矾花平均密度  反应池7矾花平均直径  小颗粒矾花占比  系统实时出水浊度\n",
       "0             4.43        0.63        0.83     0.84      0.24\n",
       "1             1.39        0.02        0.28     1.00      0.24\n",
       "2             0.60        0.01        0.22     1.00      0.24\n",
       "3             1.56        0.01        0.18     1.00      0.24\n",
       "4             2.00        0.25        0.55     0.92      0.24\n",
       "...            ...         ...         ...      ...       ...\n",
       "20983         1.22        0.02        0.46     1.00      0.31\n",
       "20984         1.15        0.01        0.26     1.00      0.30\n",
       "20985         1.15        0.01        0.10     1.00      0.30\n",
       "20986         1.15        0.01        0.08     1.00      0.30\n",
       "20987         1.15        0.01        0.35     1.00      0.30\n",
       "\n",
       "[20988 rows x 5 columns]"
      ]
     },
     "execution_count": 88,
     "metadata": {},
     "output_type": "execute_result"
    }
   ],
   "source": [
    "df3 = df2\n",
    "df2"
   ]
  },
  {
   "cell_type": "code",
   "execution_count": 171,
   "metadata": {},
   "outputs": [],
   "source": [
    "def missvalve(df):\n",
    "    print( \"---------------缺失值的检测与处理部分---------------\\n\")\n",
    "    print(\"{:<30s} {:<50s}\".format( \"列标签\",  \"缺失值个数 \\n\" ) )\n",
    "    df.replace(0, np.nan, inplace = True)\n",
    "    neq_sum = 0\n",
    "    for item in df.columns:\n",
    "        neg_item = df[item].isnull()\n",
    "        print(\"{:<30s} {:<50s}\".format( item,  str( neg_item.sum() ) ) )\n",
    "        neq_sum = neq_sum + neg_item.sum()\n",
    "    if neq_sum == 0:   \n",
    "        print( '\\n--------------在所有列中共有 ' + str( neq_sum )  + ' 个缺失值-------------')\n",
    "        print( \"----------恭喜你，已经得到了没有缺失值的数据-----------\")\n",
    "    else:      \n",
    "        print( '\\n--------------在所有列中共有 ' + str( neq_sum )  + ' 个缺失值-------------')\n",
    "        print( \"--------下面将先删除数据中的每行保留值小于4的缺失行--------\")\n",
    "        df.dropna( thresh=4 , inplace =True)\n",
    "        print( \"--------------下面将对剩下的缺失值按行填充---------------\")\n",
    "        df.fillna(method='bfill', inplace =True) \n",
    "        df.fillna(method='ffill', inplace =True)\n",
    "        df = df_drop.na() \n",
    "        neq_sum = 0\n",
    "        for item in df.columns:\n",
    "            neg_item = df[item].isnull()\n",
    "            neq_sum = neq_sum + neg_item.sum()\n",
    "        print( '\\n--------------在所有列中共有 ' + str( neq_sum )  + ' 个缺失值-------------')\n",
    "        if str( neq_sum )==0:\n",
    "            print( \"----------恭喜你，已经得到了没有缺失值的数据----------\")\n",
    "        else:\n",
    "            print( \"----------------数据中好像还存在缺失值--------------\")\n",
    "    return df  \n",
    "        "
   ]
  },
  {
   "cell_type": "code",
   "execution_count": 174,
   "metadata": {},
   "outputs": [
    {
     "name": "stdout",
     "output_type": "stream",
     "text": [
      "---------------缺失值的检测与处理部分---------------\n",
      "\n",
      "列标签                            缺失值个数 \n",
      "                                           \n",
      "反应池7矾花均一性指标                    0                                                 \n",
      "反应池7矾花平均密度                     0                                                 \n",
      "反应池7矾花平均直径                     0                                                 \n",
      "小颗粒矾花占比                        0                                                 \n",
      "系统实时出水浊度                       0                                                 \n",
      "系统进水浊度                         0                                                 \n",
      "\n",
      "--------------在所有列中共有 0 个缺失值-------------\n",
      "----------恭喜你，已经得到了没有缺失值的数据-----------\n"
     ]
    }
   ],
   "source": [
    "sd = missvalve(df1)"
   ]
  },
  {
   "cell_type": "code",
   "execution_count": 175,
   "metadata": {},
   "outputs": [
    {
     "data": {
      "text/html": [
       "<div>\n",
       "<style scoped>\n",
       "    .dataframe tbody tr th:only-of-type {\n",
       "        vertical-align: middle;\n",
       "    }\n",
       "\n",
       "    .dataframe tbody tr th {\n",
       "        vertical-align: top;\n",
       "    }\n",
       "\n",
       "    .dataframe thead th {\n",
       "        text-align: right;\n",
       "    }\n",
       "</style>\n",
       "<table border=\"1\" class=\"dataframe\">\n",
       "  <thead>\n",
       "    <tr style=\"text-align: right;\">\n",
       "      <th></th>\n",
       "      <th>反应池7矾花均一性指标</th>\n",
       "      <th>反应池7矾花平均密度</th>\n",
       "      <th>反应池7矾花平均直径</th>\n",
       "      <th>小颗粒矾花占比</th>\n",
       "      <th>系统实时出水浊度</th>\n",
       "      <th>系统进水浊度</th>\n",
       "    </tr>\n",
       "  </thead>\n",
       "  <tbody>\n",
       "    <tr>\n",
       "      <th>0</th>\n",
       "      <td>4.43</td>\n",
       "      <td>0.63</td>\n",
       "      <td>0.83</td>\n",
       "      <td>0.84</td>\n",
       "      <td>0.24</td>\n",
       "      <td>46.47</td>\n",
       "    </tr>\n",
       "    <tr>\n",
       "      <th>1</th>\n",
       "      <td>1.39</td>\n",
       "      <td>0.02</td>\n",
       "      <td>0.28</td>\n",
       "      <td>1.00</td>\n",
       "      <td>0.24</td>\n",
       "      <td>46.47</td>\n",
       "    </tr>\n",
       "    <tr>\n",
       "      <th>3</th>\n",
       "      <td>0.60</td>\n",
       "      <td>0.01</td>\n",
       "      <td>0.22</td>\n",
       "      <td>1.00</td>\n",
       "      <td>0.24</td>\n",
       "      <td>46.47</td>\n",
       "    </tr>\n",
       "    <tr>\n",
       "      <th>5</th>\n",
       "      <td>1.56</td>\n",
       "      <td>0.01</td>\n",
       "      <td>0.18</td>\n",
       "      <td>1.00</td>\n",
       "      <td>0.24</td>\n",
       "      <td>46.48</td>\n",
       "    </tr>\n",
       "    <tr>\n",
       "      <th>7</th>\n",
       "      <td>2.00</td>\n",
       "      <td>0.25</td>\n",
       "      <td>0.55</td>\n",
       "      <td>0.92</td>\n",
       "      <td>0.24</td>\n",
       "      <td>46.48</td>\n",
       "    </tr>\n",
       "    <tr>\n",
       "      <th>...</th>\n",
       "      <td>...</td>\n",
       "      <td>...</td>\n",
       "      <td>...</td>\n",
       "      <td>...</td>\n",
       "      <td>...</td>\n",
       "      <td>...</td>\n",
       "    </tr>\n",
       "    <tr>\n",
       "      <th>58245</th>\n",
       "      <td>1.22</td>\n",
       "      <td>0.02</td>\n",
       "      <td>0.46</td>\n",
       "      <td>1.00</td>\n",
       "      <td>0.31</td>\n",
       "      <td>44.04</td>\n",
       "    </tr>\n",
       "    <tr>\n",
       "      <th>58253</th>\n",
       "      <td>1.15</td>\n",
       "      <td>0.01</td>\n",
       "      <td>0.26</td>\n",
       "      <td>1.00</td>\n",
       "      <td>0.30</td>\n",
       "      <td>44.06</td>\n",
       "    </tr>\n",
       "    <tr>\n",
       "      <th>58275</th>\n",
       "      <td>1.15</td>\n",
       "      <td>0.01</td>\n",
       "      <td>0.10</td>\n",
       "      <td>1.00</td>\n",
       "      <td>0.30</td>\n",
       "      <td>44.09</td>\n",
       "    </tr>\n",
       "    <tr>\n",
       "      <th>58277</th>\n",
       "      <td>1.15</td>\n",
       "      <td>0.01</td>\n",
       "      <td>0.08</td>\n",
       "      <td>1.00</td>\n",
       "      <td>0.30</td>\n",
       "      <td>44.09</td>\n",
       "    </tr>\n",
       "    <tr>\n",
       "      <th>58289</th>\n",
       "      <td>1.15</td>\n",
       "      <td>0.01</td>\n",
       "      <td>0.35</td>\n",
       "      <td>1.00</td>\n",
       "      <td>0.30</td>\n",
       "      <td>44.13</td>\n",
       "    </tr>\n",
       "  </tbody>\n",
       "</table>\n",
       "<p>20988 rows × 6 columns</p>\n",
       "</div>"
      ],
      "text/plain": [
       "       反应池7矾花均一性指标  反应池7矾花平均密度  反应池7矾花平均直径  小颗粒矾花占比  系统实时出水浊度  系统进水浊度\n",
       "0             4.43        0.63        0.83     0.84      0.24   46.47\n",
       "1             1.39        0.02        0.28     1.00      0.24   46.47\n",
       "3             0.60        0.01        0.22     1.00      0.24   46.47\n",
       "5             1.56        0.01        0.18     1.00      0.24   46.48\n",
       "7             2.00        0.25        0.55     0.92      0.24   46.48\n",
       "...            ...         ...         ...      ...       ...     ...\n",
       "58245         1.22        0.02        0.46     1.00      0.31   44.04\n",
       "58253         1.15        0.01        0.26     1.00      0.30   44.06\n",
       "58275         1.15        0.01        0.10     1.00      0.30   44.09\n",
       "58277         1.15        0.01        0.08     1.00      0.30   44.09\n",
       "58289         1.15        0.01        0.35     1.00      0.30   44.13\n",
       "\n",
       "[20988 rows x 6 columns]"
      ]
     },
     "execution_count": 175,
     "metadata": {},
     "output_type": "execute_result"
    }
   ],
   "source": [
    "sd"
   ]
  },
  {
   "cell_type": "code",
   "execution_count": 163,
   "metadata": {},
   "outputs": [
    {
     "data": {
      "text/html": [
       "<div>\n",
       "<style scoped>\n",
       "    .dataframe tbody tr th:only-of-type {\n",
       "        vertical-align: middle;\n",
       "    }\n",
       "\n",
       "    .dataframe tbody tr th {\n",
       "        vertical-align: top;\n",
       "    }\n",
       "\n",
       "    .dataframe thead th {\n",
       "        text-align: right;\n",
       "    }\n",
       "</style>\n",
       "<table border=\"1\" class=\"dataframe\">\n",
       "  <thead>\n",
       "    <tr style=\"text-align: right;\">\n",
       "      <th></th>\n",
       "      <th>反应池7矾花均一性指标</th>\n",
       "      <th>反应池7矾花平均密度</th>\n",
       "      <th>反应池7矾花平均直径</th>\n",
       "      <th>小颗粒矾花占比</th>\n",
       "      <th>系统实时出水浊度</th>\n",
       "    </tr>\n",
       "  </thead>\n",
       "  <tbody>\n",
       "    <tr>\n",
       "      <th>1</th>\n",
       "      <td>1.39</td>\n",
       "      <td>0.02</td>\n",
       "      <td>0.28</td>\n",
       "      <td>1.00</td>\n",
       "      <td>0.24</td>\n",
       "    </tr>\n",
       "    <tr>\n",
       "      <th>2</th>\n",
       "      <td>0.60</td>\n",
       "      <td>0.01</td>\n",
       "      <td>0.22</td>\n",
       "      <td>1.00</td>\n",
       "      <td>0.24</td>\n",
       "    </tr>\n",
       "    <tr>\n",
       "      <th>3</th>\n",
       "      <td>1.56</td>\n",
       "      <td>0.01</td>\n",
       "      <td>0.18</td>\n",
       "      <td>1.00</td>\n",
       "      <td>0.24</td>\n",
       "    </tr>\n",
       "    <tr>\n",
       "      <th>4</th>\n",
       "      <td>2.00</td>\n",
       "      <td>0.25</td>\n",
       "      <td>0.55</td>\n",
       "      <td>0.92</td>\n",
       "      <td>0.24</td>\n",
       "    </tr>\n",
       "    <tr>\n",
       "      <th>5</th>\n",
       "      <td>2.25</td>\n",
       "      <td>0.03</td>\n",
       "      <td>0.11</td>\n",
       "      <td>1.00</td>\n",
       "      <td>0.24</td>\n",
       "    </tr>\n",
       "    <tr>\n",
       "      <th>...</th>\n",
       "      <td>...</td>\n",
       "      <td>...</td>\n",
       "      <td>...</td>\n",
       "      <td>...</td>\n",
       "      <td>...</td>\n",
       "    </tr>\n",
       "    <tr>\n",
       "      <th>20976</th>\n",
       "      <td>0.52</td>\n",
       "      <td>0.14</td>\n",
       "      <td>0.16</td>\n",
       "      <td>1.00</td>\n",
       "      <td>0.30</td>\n",
       "    </tr>\n",
       "    <tr>\n",
       "      <th>20983</th>\n",
       "      <td>1.22</td>\n",
       "      <td>0.02</td>\n",
       "      <td>0.46</td>\n",
       "      <td>1.00</td>\n",
       "      <td>0.31</td>\n",
       "    </tr>\n",
       "    <tr>\n",
       "      <th>20984</th>\n",
       "      <td>1.15</td>\n",
       "      <td>0.01</td>\n",
       "      <td>0.26</td>\n",
       "      <td>1.00</td>\n",
       "      <td>0.30</td>\n",
       "    </tr>\n",
       "    <tr>\n",
       "      <th>20985</th>\n",
       "      <td>1.15</td>\n",
       "      <td>0.01</td>\n",
       "      <td>0.10</td>\n",
       "      <td>1.00</td>\n",
       "      <td>0.30</td>\n",
       "    </tr>\n",
       "    <tr>\n",
       "      <th>20987</th>\n",
       "      <td>1.15</td>\n",
       "      <td>0.01</td>\n",
       "      <td>0.35</td>\n",
       "      <td>1.00</td>\n",
       "      <td>0.30</td>\n",
       "    </tr>\n",
       "  </tbody>\n",
       "</table>\n",
       "<p>18042 rows × 5 columns</p>\n",
       "</div>"
      ],
      "text/plain": [
       "       反应池7矾花均一性指标  反应池7矾花平均密度  反应池7矾花平均直径  小颗粒矾花占比  系统实时出水浊度\n",
       "1             1.39        0.02        0.28     1.00      0.24\n",
       "2             0.60        0.01        0.22     1.00      0.24\n",
       "3             1.56        0.01        0.18     1.00      0.24\n",
       "4             2.00        0.25        0.55     0.92      0.24\n",
       "5             2.25        0.03        0.11     1.00      0.24\n",
       "...            ...         ...         ...      ...       ...\n",
       "20976         0.52        0.14        0.16     1.00      0.30\n",
       "20983         1.22        0.02        0.46     1.00      0.31\n",
       "20984         1.15        0.01        0.26     1.00      0.30\n",
       "20985         1.15        0.01        0.10     1.00      0.30\n",
       "20987         1.15        0.01        0.35     1.00      0.30\n",
       "\n",
       "[18042 rows x 5 columns]"
      ]
     },
     "execution_count": 163,
     "metadata": {},
     "output_type": "execute_result"
    }
   ],
   "source": [
    "# 绘制折线图\n",
    "from pyecharts.charts import Line \n",
    "from pyecharts import options as opts \n",
    "# 内置主题类型可查看 pyecharts.globals.ThemeType\n",
    "from pyecharts.globals import ThemeType \n",
    "x = ( \"衬衫\", \"羊毛衫\", \"雪纺衫\", \"裤子\", \"高跟鞋\", \"袜子\" )\n",
    "y1 = ( 5, 20, 36, 10, 75, 50 )\n",
    "y2 = ( 15, 6, 45, 20, 35, 66 )\n",
    "y3 = ( 17, 8, 40, 26, 36, 66 )\n",
    "line = (\n",
    "    Line(init_opts=opts.InitOpts (theme= ThemeType.WHITE)) \n",
    "    .add_xaxis(x) \n",
    "    .add_yaxis(\"商家A\", y1, is_smooth=True,       # 此处可通过设置 is_smooth=True 使得 线段平滑\n",
    "               linestyle_opts=opts.LineStyleOpts(  width=2 ),   # 设置线的宽度\n",
    "               markpoint_opts=opts.MarkPointOpts(data=[opts.MarkPointItem(type_=\"min\")])  )    # 标记最小值点\n",
    "    .add_yaxis(\"商家B\", y2, is_smooth=True,       # 此处可通过设置 is_smooth= True 使得 线段平滑\n",
    "               markpoint_opts=opts.MarkPointOpts(data=[opts.MarkPointItem(type_=\"max\")])  )   #  标记最大值点\n",
    "    .add_yaxis(\"商家C\", y3, is_smooth=False,       # 此处可通过设置 is_smooth= False 使得 线段不平滑\n",
    "               markline_opts=opts.MarkLineOpts(data=[opts.MarkLineItem(type_=\"average\")]) )    #  均值标记线\n",
    "    .set_global_opts( title_opts=opts. TitleOpts( title =\"主标题\", subtitle=\"副标题\" ),\n",
    "                      toolbox_opts=opts.ToolboxOpts(),            # 展示工具箱\n",
    "                      legend_opts=opts.LegendOpts(is_show=True))  # 显示图例\n",
    ")\n",
    "line.render_notebook()\n",
    "\n",
    "\n",
    "# 标记点、标记线\n",
    "import pyecharts.options as opts\n",
    "from pyecharts.charts import Line\n",
    "from pyecharts.faker import Faker\n",
    "\n",
    "c = (\n",
    "    Line()\n",
    "    .add_xaxis(Faker.choose())\n",
    "    .add_yaxis(\n",
    "        \"商家A\",\n",
    "        Faker.values(),\n",
    "        markpoint_opts=opts.MarkPointOpts(data=[opts.MarkPointItem(type_=\"min\")]),\n",
    "        markline_opts=opts.MarkLineOpts(data=[opts.MarkLineItem(y = 40 )])            # 自定义标记线\n",
    "    )\n",
    "    .add_yaxis(\n",
    "        \"商家B\",\n",
    "        Faker.values(),\n",
    "        markpoint_opts=opts.MarkPointOpts(data=[opts.MarkPointItem(type_=\"max\")]),\n",
    "        markline_opts=opts.MarkLineOpts(data=[opts.MarkLineItem(type_=\"average\")])    # 均值标记线\n",
    "    )\n",
    "    .set_global_opts(title_opts=opts.TitleOpts(title=\"Line-MarkPoint\"))\n",
    ")\n",
    "c.render_notebook()\n",
    "\n",
    "\n",
    "# 线的宽度、颜色、点的颜色、宽度设置\n",
    "import pyecharts.options as opts\n",
    "from pyecharts.charts import Line\n",
    "from pyecharts.faker import Faker\n",
    "\n",
    "c = (\n",
    "    Line()\n",
    "    .add_xaxis(xaxis_data=Faker.choose())\n",
    "    .add_yaxis(\n",
    "        \"商家A\",\n",
    "        Faker.values(),\n",
    "        symbol=\"triangle\",\n",
    "        symbol_size=20,\n",
    "        linestyle_opts=opts.LineStyleOpts(color=\"green\", width=4, type_=\"dashed\"),\n",
    "        itemstyle_opts=opts.ItemStyleOpts(\n",
    "            border_width=3, border_color=\"yellow\", color=\"blue\"\n",
    "        ),\n",
    "    )\n",
    "    .set_global_opts(title_opts=opts.TitleOpts(title=\"Line-ItemStyle\"))\n",
    ")\n",
    "c.render_notebook()\n",
    "\n",
    "\n",
    "# 堆叠区域图\n",
    "import pyecharts.options as opts\n",
    "from pyecharts.charts import Line\n",
    "\n",
    "\"\"\"\n",
    "Gallery 使用 pyecharts 1.1.0\n",
    "参考地址: https://echarts.apache.org/examples/editor.html?c=area-stack\n",
    "\n",
    "目前无法实现的功能:\n",
    "\n",
    "暂无\n",
    "\"\"\"\n",
    "\n",
    "\n",
    "x_data = [\"周一\", \"周二\", \"周三\", \"周四\", \"周五\", \"周六\", \"周日\"]\n",
    "y_data = [820, 932, 901, 934, 1290, 1330, 1320]\n",
    "\n",
    "\n",
    "(\n",
    "    Line()\n",
    "    .add_xaxis(xaxis_data=x_data)\n",
    "    .add_yaxis(\n",
    "        series_name=\"邮件营销\",\n",
    "        stack=\"总量\",\n",
    "        y_axis=[120, 132, 101, 134, 90, 230, 210],\n",
    "        areastyle_opts=opts.AreaStyleOpts(opacity=0.5),\n",
    "        label_opts=opts.LabelOpts(is_show=False),\n",
    "    )\n",
    "    .add_yaxis(\n",
    "        series_name=\"联盟广告\",\n",
    "        stack=\"总量\",\n",
    "        y_axis=[220, 182, 191, 234, 290, 330, 310],\n",
    "        areastyle_opts=opts.AreaStyleOpts(opacity=0.5),\n",
    "        label_opts=opts.LabelOpts(is_show=False),\n",
    "    )\n",
    "    .add_yaxis(\n",
    "        series_name=\"视频广告\",\n",
    "        stack=\"总量\",\n",
    "        y_axis=[150, 232, 201, 154, 190, 330, 410],\n",
    "        areastyle_opts=opts.AreaStyleOpts(opacity=0.5),\n",
    "        label_opts=opts.LabelOpts(is_show=False),\n",
    "    )\n",
    "    .add_yaxis(\n",
    "        series_name=\"直接访问\",\n",
    "        stack=\"总量\",\n",
    "        y_axis=[320, 332, 301, 334, 390, 330, 320],\n",
    "        areastyle_opts=opts.AreaStyleOpts(opacity=0.5),\n",
    "        label_opts=opts.LabelOpts(is_show=False),\n",
    "    )\n",
    "    .add_yaxis(\n",
    "        series_name=\"搜索引擎\",\n",
    "        stack=\"总量\",\n",
    "        y_axis=[820, 932, 901, 934, 1290, 1330, 1320],\n",
    "        areastyle_opts=opts.AreaStyleOpts(opacity=0.5),\n",
    "        label_opts=opts.LabelOpts(is_show=True, position=\"top\"),\n",
    "    )\n",
    "    .set_global_opts(\n",
    "        title_opts=opts.TitleOpts(title=\"堆叠区域图\"),\n",
    "        tooltip_opts=opts.TooltipOpts(trigger=\"axis\", axis_pointer_type=\"cross\"),\n",
    "        yaxis_opts=opts.AxisOpts(\n",
    "            type_=\"value\",\n",
    "            axistick_opts=opts.AxisTickOpts(is_show=True),\n",
    "            splitline_opts=opts.SplitLineOpts(is_show=True),\n",
    "        ),\n",
    "        xaxis_opts=opts.AxisOpts(type_=\"category\", boundary_gap=False),\n",
    "    )\n",
    "    .render_notebook()\n",
    ")\n",
    "\n"
   ]
  },
  {
   "cell_type": "code",
   "execution_count": 119,
   "metadata": {},
   "outputs": [
    {
     "name": "stdout",
     "output_type": "stream",
     "text": [
      "AxesSubplot(0.125,0.125;0.775x0.755)\n"
     ]
    },
    {
     "name": "stderr",
     "output_type": "stream",
     "text": [
      "/Users/zhangjinwei/opt/anaconda3/lib/python3.9/site-packages/IPython/core/pylabtools.py:151: UserWarning: Glyph 21453 (\\N{CJK UNIFIED IDEOGRAPH-53CD}) missing from current font.\n",
      "  fig.canvas.print_figure(bytes_io, **kw)\n",
      "/Users/zhangjinwei/opt/anaconda3/lib/python3.9/site-packages/IPython/core/pylabtools.py:151: UserWarning: Glyph 24212 (\\N{CJK UNIFIED IDEOGRAPH-5E94}) missing from current font.\n",
      "  fig.canvas.print_figure(bytes_io, **kw)\n",
      "/Users/zhangjinwei/opt/anaconda3/lib/python3.9/site-packages/IPython/core/pylabtools.py:151: UserWarning: Glyph 27744 (\\N{CJK UNIFIED IDEOGRAPH-6C60}) missing from current font.\n",
      "  fig.canvas.print_figure(bytes_io, **kw)\n",
      "/Users/zhangjinwei/opt/anaconda3/lib/python3.9/site-packages/IPython/core/pylabtools.py:151: UserWarning: Glyph 30718 (\\N{CJK UNIFIED IDEOGRAPH-77FE}) missing from current font.\n",
      "  fig.canvas.print_figure(bytes_io, **kw)\n",
      "/Users/zhangjinwei/opt/anaconda3/lib/python3.9/site-packages/IPython/core/pylabtools.py:151: UserWarning: Glyph 33457 (\\N{CJK UNIFIED IDEOGRAPH-82B1}) missing from current font.\n",
      "  fig.canvas.print_figure(bytes_io, **kw)\n",
      "/Users/zhangjinwei/opt/anaconda3/lib/python3.9/site-packages/IPython/core/pylabtools.py:151: UserWarning: Glyph 22343 (\\N{CJK UNIFIED IDEOGRAPH-5747}) missing from current font.\n",
      "  fig.canvas.print_figure(bytes_io, **kw)\n",
      "/Users/zhangjinwei/opt/anaconda3/lib/python3.9/site-packages/IPython/core/pylabtools.py:151: UserWarning: Glyph 19968 (\\N{CJK UNIFIED IDEOGRAPH-4E00}) missing from current font.\n",
      "  fig.canvas.print_figure(bytes_io, **kw)\n",
      "/Users/zhangjinwei/opt/anaconda3/lib/python3.9/site-packages/IPython/core/pylabtools.py:151: UserWarning: Glyph 24615 (\\N{CJK UNIFIED IDEOGRAPH-6027}) missing from current font.\n",
      "  fig.canvas.print_figure(bytes_io, **kw)\n",
      "/Users/zhangjinwei/opt/anaconda3/lib/python3.9/site-packages/IPython/core/pylabtools.py:151: UserWarning: Glyph 25351 (\\N{CJK UNIFIED IDEOGRAPH-6307}) missing from current font.\n",
      "  fig.canvas.print_figure(bytes_io, **kw)\n",
      "/Users/zhangjinwei/opt/anaconda3/lib/python3.9/site-packages/IPython/core/pylabtools.py:151: UserWarning: Glyph 26631 (\\N{CJK UNIFIED IDEOGRAPH-6807}) missing from current font.\n",
      "  fig.canvas.print_figure(bytes_io, **kw)\n",
      "/Users/zhangjinwei/opt/anaconda3/lib/python3.9/site-packages/IPython/core/pylabtools.py:151: UserWarning: Glyph 24179 (\\N{CJK UNIFIED IDEOGRAPH-5E73}) missing from current font.\n",
      "  fig.canvas.print_figure(bytes_io, **kw)\n",
      "/Users/zhangjinwei/opt/anaconda3/lib/python3.9/site-packages/IPython/core/pylabtools.py:151: UserWarning: Glyph 23494 (\\N{CJK UNIFIED IDEOGRAPH-5BC6}) missing from current font.\n",
      "  fig.canvas.print_figure(bytes_io, **kw)\n",
      "/Users/zhangjinwei/opt/anaconda3/lib/python3.9/site-packages/IPython/core/pylabtools.py:151: UserWarning: Glyph 24230 (\\N{CJK UNIFIED IDEOGRAPH-5EA6}) missing from current font.\n",
      "  fig.canvas.print_figure(bytes_io, **kw)\n",
      "/Users/zhangjinwei/opt/anaconda3/lib/python3.9/site-packages/IPython/core/pylabtools.py:151: UserWarning: Glyph 30452 (\\N{CJK UNIFIED IDEOGRAPH-76F4}) missing from current font.\n",
      "  fig.canvas.print_figure(bytes_io, **kw)\n",
      "/Users/zhangjinwei/opt/anaconda3/lib/python3.9/site-packages/IPython/core/pylabtools.py:151: UserWarning: Glyph 24452 (\\N{CJK UNIFIED IDEOGRAPH-5F84}) missing from current font.\n",
      "  fig.canvas.print_figure(bytes_io, **kw)\n",
      "/Users/zhangjinwei/opt/anaconda3/lib/python3.9/site-packages/IPython/core/pylabtools.py:151: UserWarning: Glyph 23567 (\\N{CJK UNIFIED IDEOGRAPH-5C0F}) missing from current font.\n",
      "  fig.canvas.print_figure(bytes_io, **kw)\n",
      "/Users/zhangjinwei/opt/anaconda3/lib/python3.9/site-packages/IPython/core/pylabtools.py:151: UserWarning: Glyph 39063 (\\N{CJK UNIFIED IDEOGRAPH-9897}) missing from current font.\n",
      "  fig.canvas.print_figure(bytes_io, **kw)\n",
      "/Users/zhangjinwei/opt/anaconda3/lib/python3.9/site-packages/IPython/core/pylabtools.py:151: UserWarning: Glyph 31890 (\\N{CJK UNIFIED IDEOGRAPH-7C92}) missing from current font.\n",
      "  fig.canvas.print_figure(bytes_io, **kw)\n",
      "/Users/zhangjinwei/opt/anaconda3/lib/python3.9/site-packages/IPython/core/pylabtools.py:151: UserWarning: Glyph 21344 (\\N{CJK UNIFIED IDEOGRAPH-5360}) missing from current font.\n",
      "  fig.canvas.print_figure(bytes_io, **kw)\n",
      "/Users/zhangjinwei/opt/anaconda3/lib/python3.9/site-packages/IPython/core/pylabtools.py:151: UserWarning: Glyph 27604 (\\N{CJK UNIFIED IDEOGRAPH-6BD4}) missing from current font.\n",
      "  fig.canvas.print_figure(bytes_io, **kw)\n"
     ]
    },
    {
     "data": {
      "image/png": "[encoded data removed]",
      "text/plain": [
       "<Figure size 432x288 with 1 Axes>"
      ]
     },
     "metadata": {
      "needs_background": "light"
     },
     "output_type": "display_data"
    }
   ],
   "source": [
    "print(df2.boxplot(column=['反应池7矾花均一性指标', '反应池7矾花平均密度', '反应池7矾花平均直径', '小颗粒矾花占比']))"
   ]
  },
  {
   "cell_type": "code",
   "execution_count": 134,
   "metadata": {},
   "outputs": [],
   "source": [
    "def abnormalvalue(df):\n",
    "     print( \"---------------异常值的检测与处理部分---------------\\n\")\n",
    "     print(\"{:<30s} {:<50s}\".format( \"列标签\",  \"异常值个数 \\n\" ) )\n",
    "     neq_sum = 0\n",
    "\n",
    "     for item in df.columns:\n",
    "         neg_item = abs((df[item] - df[item].mean())/df[item].std())>3\n",
    "         print(\"{:<30s} {:<50s}\".format( item,  str( neg_item.sum() ) ) )\n",
    "         neq_sum = neq_sum + neg_item.sum()\n",
    "         \n",
    "     if neq_sum == 0:   \n",
    "        print( '\\n--------------在所有列中共有 ' + str( neq_sum )  + ' 个异常值-------------')\n",
    "        print( \"----------恭喜你，已经得到了没有异常值的数据-----------\")  \n",
    "     else:      \n",
    "         print( '\\n--------------在所有列中共有 ' + str( neq_sum )  + ' 个异常值-------------')\n",
    "         print( \"-----------下面将先删除数据中存在异常的行数据----------\")\n",
    "         for item in df.columns: \n",
    "             df = df[abs((df[item] - df[item].mean())/df[item].std())<=3]\n",
    "             print(df.shape)\n",
    "     return df    "
   ]
  },
  {
   "cell_type": "code",
   "execution_count": 159,
   "metadata": {},
   "outputs": [
    {
     "ename": "IndentationError",
     "evalue": "unindent does not match any outer indentation level (<tokenize>, line 9)",
     "output_type": "error",
     "traceback": [
      "\u001b[0;36m  File \u001b[0;32m<tokenize>:9\u001b[0;36m\u001b[0m\n\u001b[0;31m    while True:\u001b[0m\n\u001b[0m    ^\u001b[0m\n\u001b[0;31mIndentationError\u001b[0m\u001b[0;31m:\u001b[0m unindent does not match any outer indentation level\n"
     ]
    }
   ],
   "source": []
  },
  {
   "cell_type": "code",
   "execution_count": 136,
   "metadata": {},
   "outputs": [
    {
     "name": "stdout",
     "output_type": "stream",
     "text": [
      "---------------异常值的检测与处理部分---------------\n",
      "\n",
      "列标签                            异常值个数 \n",
      "                                           \n",
      "反应池7矾花均一性指标                    2                                                 \n",
      "反应池7矾花平均密度                     219                                               \n",
      "反应池7矾花平均直径                     0                                                 \n",
      "小颗粒矾花占比                        0                                                 \n",
      "系统实时出水浊度                       0                                                 \n",
      "\n",
      "--------------在所有列中共有 221 个异常值-------------\n",
      "-----------下面将先删除数据中存在异常的行数据----------\n",
      "(18320, 5)\n",
      "(18101, 5)\n",
      "(18101, 5)\n",
      "(18001, 5)\n",
      "(18001, 5)\n"
     ]
    },
    {
     "data": {
      "text/html": [
       "<div>\n",
       "<style scoped>\n",
       "    .dataframe tbody tr th:only-of-type {\n",
       "        vertical-align: middle;\n",
       "    }\n",
       "\n",
       "    .dataframe tbody tr th {\n",
       "        vertical-align: top;\n",
       "    }\n",
       "\n",
       "    .dataframe thead th {\n",
       "        text-align: right;\n",
       "    }\n",
       "</style>\n",
       "<table border=\"1\" class=\"dataframe\">\n",
       "  <thead>\n",
       "    <tr style=\"text-align: right;\">\n",
       "      <th></th>\n",
       "      <th>反应池7矾花均一性指标</th>\n",
       "      <th>反应池7矾花平均密度</th>\n",
       "      <th>反应池7矾花平均直径</th>\n",
       "      <th>小颗粒矾花占比</th>\n",
       "      <th>系统实时出水浊度</th>\n",
       "    </tr>\n",
       "  </thead>\n",
       "  <tbody>\n",
       "    <tr>\n",
       "      <th>1</th>\n",
       "      <td>1.39</td>\n",
       "      <td>0.02</td>\n",
       "      <td>0.28</td>\n",
       "      <td>1.00</td>\n",
       "      <td>0.24</td>\n",
       "    </tr>\n",
       "    <tr>\n",
       "      <th>2</th>\n",
       "      <td>0.60</td>\n",
       "      <td>0.01</td>\n",
       "      <td>0.22</td>\n",
       "      <td>1.00</td>\n",
       "      <td>0.24</td>\n",
       "    </tr>\n",
       "    <tr>\n",
       "      <th>3</th>\n",
       "      <td>1.56</td>\n",
       "      <td>0.01</td>\n",
       "      <td>0.18</td>\n",
       "      <td>1.00</td>\n",
       "      <td>0.24</td>\n",
       "    </tr>\n",
       "    <tr>\n",
       "      <th>4</th>\n",
       "      <td>2.00</td>\n",
       "      <td>0.25</td>\n",
       "      <td>0.55</td>\n",
       "      <td>0.92</td>\n",
       "      <td>0.24</td>\n",
       "    </tr>\n",
       "    <tr>\n",
       "      <th>5</th>\n",
       "      <td>2.25</td>\n",
       "      <td>0.03</td>\n",
       "      <td>0.11</td>\n",
       "      <td>1.00</td>\n",
       "      <td>0.24</td>\n",
       "    </tr>\n",
       "    <tr>\n",
       "      <th>...</th>\n",
       "      <td>...</td>\n",
       "      <td>...</td>\n",
       "      <td>...</td>\n",
       "      <td>...</td>\n",
       "      <td>...</td>\n",
       "    </tr>\n",
       "    <tr>\n",
       "      <th>20983</th>\n",
       "      <td>1.22</td>\n",
       "      <td>0.02</td>\n",
       "      <td>0.46</td>\n",
       "      <td>1.00</td>\n",
       "      <td>0.31</td>\n",
       "    </tr>\n",
       "    <tr>\n",
       "      <th>20984</th>\n",
       "      <td>1.15</td>\n",
       "      <td>0.01</td>\n",
       "      <td>0.26</td>\n",
       "      <td>1.00</td>\n",
       "      <td>0.30</td>\n",
       "    </tr>\n",
       "    <tr>\n",
       "      <th>20985</th>\n",
       "      <td>1.15</td>\n",
       "      <td>0.01</td>\n",
       "      <td>0.10</td>\n",
       "      <td>1.00</td>\n",
       "      <td>0.30</td>\n",
       "    </tr>\n",
       "    <tr>\n",
       "      <th>20986</th>\n",
       "      <td>1.15</td>\n",
       "      <td>0.01</td>\n",
       "      <td>0.08</td>\n",
       "      <td>1.00</td>\n",
       "      <td>0.30</td>\n",
       "    </tr>\n",
       "    <tr>\n",
       "      <th>20987</th>\n",
       "      <td>1.15</td>\n",
       "      <td>0.01</td>\n",
       "      <td>0.35</td>\n",
       "      <td>1.00</td>\n",
       "      <td>0.30</td>\n",
       "    </tr>\n",
       "  </tbody>\n",
       "</table>\n",
       "<p>18001 rows × 5 columns</p>\n",
       "</div>"
      ],
      "text/plain": [
       "       反应池7矾花均一性指标  反应池7矾花平均密度  反应池7矾花平均直径  小颗粒矾花占比  系统实时出水浊度\n",
       "1             1.39        0.02        0.28     1.00      0.24\n",
       "2             0.60        0.01        0.22     1.00      0.24\n",
       "3             1.56        0.01        0.18     1.00      0.24\n",
       "4             2.00        0.25        0.55     0.92      0.24\n",
       "5             2.25        0.03        0.11     1.00      0.24\n",
       "...            ...         ...         ...      ...       ...\n",
       "20983         1.22        0.02        0.46     1.00      0.31\n",
       "20984         1.15        0.01        0.26     1.00      0.30\n",
       "20985         1.15        0.01        0.10     1.00      0.30\n",
       "20986         1.15        0.01        0.08     1.00      0.30\n",
       "20987         1.15        0.01        0.35     1.00      0.30\n",
       "\n",
       "[18001 rows x 5 columns]"
      ]
     },
     "execution_count": 136,
     "metadata": {},
     "output_type": "execute_result"
    }
   ],
   "source": [
    "abnormalvalue(df3)"
   ]
  },
  {
   "cell_type": "code",
   "execution_count": 157,
   "metadata": {},
   "outputs": [
    {
     "name": "stdout",
     "output_type": "stream",
     "text": [
      "---------------异常值的检测与处理部分---------------\n",
      "\n",
      "列标签                            异常值个数 \n",
      "                                           \n",
      "反应池7矾花均一性指标                    0                                                 \n",
      "反应池7矾花平均密度                     27                                                \n",
      "反应池7矾花平均直径                     0                                                 \n",
      "小颗粒矾花占比                        0                                                 \n",
      "系统实时出水浊度                       0                                                 \n",
      "\n",
      "--------------在所有列中共有 27 个异常值-------------\n",
      "-----------下面将先删除数据中存在异常的行数据----------\n",
      "(16743, 5)\n",
      "(16716, 5)\n",
      "(16716, 5)\n",
      "(16716, 5)\n",
      "(16716, 5)\n"
     ]
    },
    {
     "data": {
      "text/html": [
       "<div>\n",
       "<style scoped>\n",
       "    .dataframe tbody tr th:only-of-type {\n",
       "        vertical-align: middle;\n",
       "    }\n",
       "\n",
       "    .dataframe tbody tr th {\n",
       "        vertical-align: top;\n",
       "    }\n",
       "\n",
       "    .dataframe thead th {\n",
       "        text-align: right;\n",
       "    }\n",
       "</style>\n",
       "<table border=\"1\" class=\"dataframe\">\n",
       "  <thead>\n",
       "    <tr style=\"text-align: right;\">\n",
       "      <th></th>\n",
       "      <th>反应池7矾花均一性指标</th>\n",
       "      <th>反应池7矾花平均密度</th>\n",
       "      <th>反应池7矾花平均直径</th>\n",
       "      <th>小颗粒矾花占比</th>\n",
       "      <th>系统实时出水浊度</th>\n",
       "    </tr>\n",
       "  </thead>\n",
       "  <tbody>\n",
       "    <tr>\n",
       "      <th>1</th>\n",
       "      <td>1.39</td>\n",
       "      <td>0.02</td>\n",
       "      <td>0.28</td>\n",
       "      <td>1.00</td>\n",
       "      <td>0.24</td>\n",
       "    </tr>\n",
       "    <tr>\n",
       "      <th>2</th>\n",
       "      <td>0.60</td>\n",
       "      <td>0.01</td>\n",
       "      <td>0.22</td>\n",
       "      <td>1.00</td>\n",
       "      <td>0.24</td>\n",
       "    </tr>\n",
       "    <tr>\n",
       "      <th>3</th>\n",
       "      <td>1.56</td>\n",
       "      <td>0.01</td>\n",
       "      <td>0.18</td>\n",
       "      <td>1.00</td>\n",
       "      <td>0.24</td>\n",
       "    </tr>\n",
       "    <tr>\n",
       "      <th>4</th>\n",
       "      <td>2.00</td>\n",
       "      <td>0.25</td>\n",
       "      <td>0.55</td>\n",
       "      <td>0.92</td>\n",
       "      <td>0.24</td>\n",
       "    </tr>\n",
       "    <tr>\n",
       "      <th>5</th>\n",
       "      <td>2.25</td>\n",
       "      <td>0.03</td>\n",
       "      <td>0.11</td>\n",
       "      <td>1.00</td>\n",
       "      <td>0.24</td>\n",
       "    </tr>\n",
       "  </tbody>\n",
       "</table>\n",
       "</div>"
      ],
      "text/plain": [
       "   反应池7矾花均一性指标  反应池7矾花平均密度  反应池7矾花平均直径  小颗粒矾花占比  系统实时出水浊度\n",
       "1         1.39        0.02        0.28     1.00      0.24\n",
       "2         0.60        0.01        0.22     1.00      0.24\n",
       "3         1.56        0.01        0.18     1.00      0.24\n",
       "4         2.00        0.25        0.55     0.92      0.24\n",
       "5         2.25        0.03        0.11     1.00      0.24"
      ]
     },
     "execution_count": 157,
     "metadata": {},
     "output_type": "execute_result"
    }
   ],
   "source": [
    "df5 = abnormalvalue(df5)\n",
    "df5.head()"
   ]
  },
  {
   "cell_type": "code",
   "execution_count": 139,
   "metadata": {},
   "outputs": [
    {
     "data": {
      "text/html": [
       "<div>\n",
       "<style scoped>\n",
       "    .dataframe tbody tr th:only-of-type {\n",
       "        vertical-align: middle;\n",
       "    }\n",
       "\n",
       "    .dataframe tbody tr th {\n",
       "        vertical-align: top;\n",
       "    }\n",
       "\n",
       "    .dataframe thead th {\n",
       "        text-align: right;\n",
       "    }\n",
       "</style>\n",
       "<table border=\"1\" class=\"dataframe\">\n",
       "  <thead>\n",
       "    <tr style=\"text-align: right;\">\n",
       "      <th></th>\n",
       "      <th>反应池7矾花均一性指标</th>\n",
       "      <th>反应池7矾花平均密度</th>\n",
       "      <th>反应池7矾花平均直径</th>\n",
       "      <th>小颗粒矾花占比</th>\n",
       "      <th>系统实时出水浊度</th>\n",
       "    </tr>\n",
       "  </thead>\n",
       "  <tbody>\n",
       "    <tr>\n",
       "      <th>1</th>\n",
       "      <td>1.39</td>\n",
       "      <td>0.02</td>\n",
       "      <td>0.28</td>\n",
       "      <td>1.00</td>\n",
       "      <td>0.24</td>\n",
       "    </tr>\n",
       "    <tr>\n",
       "      <th>2</th>\n",
       "      <td>0.60</td>\n",
       "      <td>0.01</td>\n",
       "      <td>0.22</td>\n",
       "      <td>1.00</td>\n",
       "      <td>0.24</td>\n",
       "    </tr>\n",
       "    <tr>\n",
       "      <th>3</th>\n",
       "      <td>1.56</td>\n",
       "      <td>0.01</td>\n",
       "      <td>0.18</td>\n",
       "      <td>1.00</td>\n",
       "      <td>0.24</td>\n",
       "    </tr>\n",
       "    <tr>\n",
       "      <th>4</th>\n",
       "      <td>2.00</td>\n",
       "      <td>0.25</td>\n",
       "      <td>0.55</td>\n",
       "      <td>0.92</td>\n",
       "      <td>0.24</td>\n",
       "    </tr>\n",
       "    <tr>\n",
       "      <th>5</th>\n",
       "      <td>2.25</td>\n",
       "      <td>0.03</td>\n",
       "      <td>0.11</td>\n",
       "      <td>1.00</td>\n",
       "      <td>0.24</td>\n",
       "    </tr>\n",
       "    <tr>\n",
       "      <th>...</th>\n",
       "      <td>...</td>\n",
       "      <td>...</td>\n",
       "      <td>...</td>\n",
       "      <td>...</td>\n",
       "      <td>...</td>\n",
       "    </tr>\n",
       "    <tr>\n",
       "      <th>20983</th>\n",
       "      <td>1.22</td>\n",
       "      <td>0.02</td>\n",
       "      <td>0.46</td>\n",
       "      <td>1.00</td>\n",
       "      <td>0.31</td>\n",
       "    </tr>\n",
       "    <tr>\n",
       "      <th>20984</th>\n",
       "      <td>1.15</td>\n",
       "      <td>0.01</td>\n",
       "      <td>0.26</td>\n",
       "      <td>1.00</td>\n",
       "      <td>0.30</td>\n",
       "    </tr>\n",
       "    <tr>\n",
       "      <th>20985</th>\n",
       "      <td>1.15</td>\n",
       "      <td>0.01</td>\n",
       "      <td>0.10</td>\n",
       "      <td>1.00</td>\n",
       "      <td>0.30</td>\n",
       "    </tr>\n",
       "    <tr>\n",
       "      <th>20986</th>\n",
       "      <td>1.15</td>\n",
       "      <td>0.01</td>\n",
       "      <td>0.08</td>\n",
       "      <td>1.00</td>\n",
       "      <td>0.30</td>\n",
       "    </tr>\n",
       "    <tr>\n",
       "      <th>20987</th>\n",
       "      <td>1.15</td>\n",
       "      <td>0.01</td>\n",
       "      <td>0.35</td>\n",
       "      <td>1.00</td>\n",
       "      <td>0.30</td>\n",
       "    </tr>\n",
       "  </tbody>\n",
       "</table>\n",
       "<p>18001 rows × 5 columns</p>\n",
       "</div>"
      ],
      "text/plain": [
       "       反应池7矾花均一性指标  反应池7矾花平均密度  反应池7矾花平均直径  小颗粒矾花占比  系统实时出水浊度\n",
       "1             1.39        0.02        0.28     1.00      0.24\n",
       "2             0.60        0.01        0.22     1.00      0.24\n",
       "3             1.56        0.01        0.18     1.00      0.24\n",
       "4             2.00        0.25        0.55     0.92      0.24\n",
       "5             2.25        0.03        0.11     1.00      0.24\n",
       "...            ...         ...         ...      ...       ...\n",
       "20983         1.22        0.02        0.46     1.00      0.31\n",
       "20984         1.15        0.01        0.26     1.00      0.30\n",
       "20985         1.15        0.01        0.10     1.00      0.30\n",
       "20986         1.15        0.01        0.08     1.00      0.30\n",
       "20987         1.15        0.01        0.35     1.00      0.30\n",
       "\n",
       "[18001 rows x 5 columns]"
      ]
     },
     "execution_count": 139,
     "metadata": {},
     "output_type": "execute_result"
    }
   ],
   "source": [
    "df5"
   ]
  },
  {
   "cell_type": "code",
   "execution_count": 133,
   "metadata": {},
   "outputs": [
    {
     "data": {
      "text/html": [
       "<div>\n",
       "<style scoped>\n",
       "    .dataframe tbody tr th:only-of-type {\n",
       "        vertical-align: middle;\n",
       "    }\n",
       "\n",
       "    .dataframe tbody tr th {\n",
       "        vertical-align: top;\n",
       "    }\n",
       "\n",
       "    .dataframe thead th {\n",
       "        text-align: right;\n",
       "    }\n",
       "</style>\n",
       "<table border=\"1\" class=\"dataframe\">\n",
       "  <thead>\n",
       "    <tr style=\"text-align: right;\">\n",
       "      <th></th>\n",
       "      <th>反应池7矾花均一性指标</th>\n",
       "      <th>反应池7矾花平均密度</th>\n",
       "      <th>反应池7矾花平均直径</th>\n",
       "      <th>小颗粒矾花占比</th>\n",
       "      <th>系统实时出水浊度</th>\n",
       "      <th>系统进水浊度</th>\n",
       "    </tr>\n",
       "  </thead>\n",
       "  <tbody>\n",
       "    <tr>\n",
       "      <th>0</th>\n",
       "      <td>4.43</td>\n",
       "      <td>0.63</td>\n",
       "      <td>0.83</td>\n",
       "      <td>0.84</td>\n",
       "      <td>0.24</td>\n",
       "      <td>46.47</td>\n",
       "    </tr>\n",
       "    <tr>\n",
       "      <th>1</th>\n",
       "      <td>1.39</td>\n",
       "      <td>0.02</td>\n",
       "      <td>0.28</td>\n",
       "      <td>1.00</td>\n",
       "      <td>0.24</td>\n",
       "      <td>46.47</td>\n",
       "    </tr>\n",
       "    <tr>\n",
       "      <th>3</th>\n",
       "      <td>0.60</td>\n",
       "      <td>0.01</td>\n",
       "      <td>0.22</td>\n",
       "      <td>1.00</td>\n",
       "      <td>0.24</td>\n",
       "      <td>46.47</td>\n",
       "    </tr>\n",
       "    <tr>\n",
       "      <th>5</th>\n",
       "      <td>1.56</td>\n",
       "      <td>0.01</td>\n",
       "      <td>0.18</td>\n",
       "      <td>1.00</td>\n",
       "      <td>0.24</td>\n",
       "      <td>46.48</td>\n",
       "    </tr>\n",
       "    <tr>\n",
       "      <th>7</th>\n",
       "      <td>2.00</td>\n",
       "      <td>0.25</td>\n",
       "      <td>0.55</td>\n",
       "      <td>0.92</td>\n",
       "      <td>0.24</td>\n",
       "      <td>46.48</td>\n",
       "    </tr>\n",
       "    <tr>\n",
       "      <th>...</th>\n",
       "      <td>...</td>\n",
       "      <td>...</td>\n",
       "      <td>...</td>\n",
       "      <td>...</td>\n",
       "      <td>...</td>\n",
       "      <td>...</td>\n",
       "    </tr>\n",
       "    <tr>\n",
       "      <th>58245</th>\n",
       "      <td>1.22</td>\n",
       "      <td>0.02</td>\n",
       "      <td>0.46</td>\n",
       "      <td>1.00</td>\n",
       "      <td>0.31</td>\n",
       "      <td>44.04</td>\n",
       "    </tr>\n",
       "    <tr>\n",
       "      <th>58253</th>\n",
       "      <td>1.15</td>\n",
       "      <td>0.01</td>\n",
       "      <td>0.26</td>\n",
       "      <td>1.00</td>\n",
       "      <td>0.30</td>\n",
       "      <td>44.06</td>\n",
       "    </tr>\n",
       "    <tr>\n",
       "      <th>58275</th>\n",
       "      <td>1.15</td>\n",
       "      <td>0.01</td>\n",
       "      <td>0.10</td>\n",
       "      <td>1.00</td>\n",
       "      <td>0.30</td>\n",
       "      <td>44.09</td>\n",
       "    </tr>\n",
       "    <tr>\n",
       "      <th>58277</th>\n",
       "      <td>1.15</td>\n",
       "      <td>0.01</td>\n",
       "      <td>0.08</td>\n",
       "      <td>1.00</td>\n",
       "      <td>0.30</td>\n",
       "      <td>44.09</td>\n",
       "    </tr>\n",
       "    <tr>\n",
       "      <th>58289</th>\n",
       "      <td>1.15</td>\n",
       "      <td>0.01</td>\n",
       "      <td>0.35</td>\n",
       "      <td>1.00</td>\n",
       "      <td>0.30</td>\n",
       "      <td>44.13</td>\n",
       "    </tr>\n",
       "  </tbody>\n",
       "</table>\n",
       "<p>20988 rows × 6 columns</p>\n",
       "</div>"
      ],
      "text/plain": [
       "       反应池7矾花均一性指标  反应池7矾花平均密度  反应池7矾花平均直径  小颗粒矾花占比  系统实时出水浊度  系统进水浊度\n",
       "0             4.43        0.63        0.83     0.84      0.24   46.47\n",
       "1             1.39        0.02        0.28     1.00      0.24   46.47\n",
       "3             0.60        0.01        0.22     1.00      0.24   46.47\n",
       "5             1.56        0.01        0.18     1.00      0.24   46.48\n",
       "7             2.00        0.25        0.55     0.92      0.24   46.48\n",
       "...            ...         ...         ...      ...       ...     ...\n",
       "58245         1.22        0.02        0.46     1.00      0.31   44.04\n",
       "58253         1.15        0.01        0.26     1.00      0.30   44.06\n",
       "58275         1.15        0.01        0.10     1.00      0.30   44.09\n",
       "58277         1.15        0.01        0.08     1.00      0.30   44.09\n",
       "58289         1.15        0.01        0.35     1.00      0.30   44.13\n",
       "\n",
       "[20988 rows x 6 columns]"
      ]
     },
     "execution_count": 133,
     "metadata": {},
     "output_type": "execute_result"
    }
   ],
   "source": [
    "df_replace =df1\n",
    "df1"
   ]
  },
  {
   "cell_type": "code",
   "execution_count": 100,
   "metadata": {},
   "outputs": [
    {
     "data": {
      "text/html": [
       "<div>\n",
       "<style scoped>\n",
       "    .dataframe tbody tr th:only-of-type {\n",
       "        vertical-align: middle;\n",
       "    }\n",
       "\n",
       "    .dataframe tbody tr th {\n",
       "        vertical-align: top;\n",
       "    }\n",
       "\n",
       "    .dataframe thead th {\n",
       "        text-align: right;\n",
       "    }\n",
       "</style>\n",
       "<table border=\"1\" class=\"dataframe\">\n",
       "  <thead>\n",
       "    <tr style=\"text-align: right;\">\n",
       "      <th></th>\n",
       "      <th>反应池7矾花均一性指标</th>\n",
       "      <th>反应池7矾花平均密度</th>\n",
       "      <th>反应池7矾花平均直径</th>\n",
       "      <th>小颗粒矾花占比</th>\n",
       "      <th>系统实时出水浊度</th>\n",
       "      <th>系统进水浊度</th>\n",
       "    </tr>\n",
       "  </thead>\n",
       "  <tbody>\n",
       "    <tr>\n",
       "      <th>0</th>\n",
       "      <td>4.43</td>\n",
       "      <td>0.63</td>\n",
       "      <td>0.83</td>\n",
       "      <td>0.84</td>\n",
       "      <td>0.24</td>\n",
       "      <td>46.47</td>\n",
       "    </tr>\n",
       "    <tr>\n",
       "      <th>1</th>\n",
       "      <td>1.39</td>\n",
       "      <td>0.02</td>\n",
       "      <td>0.28</td>\n",
       "      <td>1.00</td>\n",
       "      <td>0.24</td>\n",
       "      <td>46.47</td>\n",
       "    </tr>\n",
       "    <tr>\n",
       "      <th>3</th>\n",
       "      <td>0.60</td>\n",
       "      <td>0.01</td>\n",
       "      <td>0.22</td>\n",
       "      <td>1.00</td>\n",
       "      <td>0.24</td>\n",
       "      <td>46.47</td>\n",
       "    </tr>\n",
       "    <tr>\n",
       "      <th>5</th>\n",
       "      <td>1.56</td>\n",
       "      <td>0.01</td>\n",
       "      <td>0.18</td>\n",
       "      <td>1.00</td>\n",
       "      <td>0.24</td>\n",
       "      <td>46.48</td>\n",
       "    </tr>\n",
       "    <tr>\n",
       "      <th>7</th>\n",
       "      <td>2.00</td>\n",
       "      <td>0.25</td>\n",
       "      <td>0.55</td>\n",
       "      <td>0.92</td>\n",
       "      <td>0.24</td>\n",
       "      <td>46.48</td>\n",
       "    </tr>\n",
       "    <tr>\n",
       "      <th>...</th>\n",
       "      <td>...</td>\n",
       "      <td>...</td>\n",
       "      <td>...</td>\n",
       "      <td>...</td>\n",
       "      <td>...</td>\n",
       "      <td>...</td>\n",
       "    </tr>\n",
       "    <tr>\n",
       "      <th>58245</th>\n",
       "      <td>1.22</td>\n",
       "      <td>0.02</td>\n",
       "      <td>0.46</td>\n",
       "      <td>1.00</td>\n",
       "      <td>0.31</td>\n",
       "      <td>44.04</td>\n",
       "    </tr>\n",
       "    <tr>\n",
       "      <th>58253</th>\n",
       "      <td>1.15</td>\n",
       "      <td>0.01</td>\n",
       "      <td>0.26</td>\n",
       "      <td>1.00</td>\n",
       "      <td>0.30</td>\n",
       "      <td>44.06</td>\n",
       "    </tr>\n",
       "    <tr>\n",
       "      <th>58275</th>\n",
       "      <td>1.15</td>\n",
       "      <td>0.01</td>\n",
       "      <td>0.10</td>\n",
       "      <td>1.00</td>\n",
       "      <td>0.30</td>\n",
       "      <td>44.09</td>\n",
       "    </tr>\n",
       "    <tr>\n",
       "      <th>58277</th>\n",
       "      <td>1.15</td>\n",
       "      <td>0.01</td>\n",
       "      <td>0.08</td>\n",
       "      <td>1.00</td>\n",
       "      <td>0.30</td>\n",
       "      <td>44.09</td>\n",
       "    </tr>\n",
       "    <tr>\n",
       "      <th>58289</th>\n",
       "      <td>1.15</td>\n",
       "      <td>0.01</td>\n",
       "      <td>0.35</td>\n",
       "      <td>1.00</td>\n",
       "      <td>0.30</td>\n",
       "      <td>44.13</td>\n",
       "    </tr>\n",
       "  </tbody>\n",
       "</table>\n",
       "<p>19955 rows × 6 columns</p>\n",
       "</div>"
      ],
      "text/plain": [
       "       反应池7矾花均一性指标  反应池7矾花平均密度  反应池7矾花平均直径  小颗粒矾花占比  系统实时出水浊度  系统进水浊度\n",
       "0             4.43        0.63        0.83     0.84      0.24   46.47\n",
       "1             1.39        0.02        0.28     1.00      0.24   46.47\n",
       "3             0.60        0.01        0.22     1.00      0.24   46.47\n",
       "5             1.56        0.01        0.18     1.00      0.24   46.48\n",
       "7             2.00        0.25        0.55     0.92      0.24   46.48\n",
       "...            ...         ...         ...      ...       ...     ...\n",
       "58245         1.22        0.02        0.46     1.00      0.31   44.04\n",
       "58253         1.15        0.01        0.26     1.00      0.30   44.06\n",
       "58275         1.15        0.01        0.10     1.00      0.30   44.09\n",
       "58277         1.15        0.01        0.08     1.00      0.30   44.09\n",
       "58289         1.15        0.01        0.35     1.00      0.30   44.13\n",
       "\n",
       "[19955 rows x 6 columns]"
      ]
     },
     "execution_count": 100,
     "metadata": {},
     "output_type": "execute_result"
    }
   ],
   "source": [
    "df_replace = df_replace[abs((df_replace[\"反应池7矾花平均密度\"] - df_replace[\"反应池7矾花平均密度\"].mean())/df_replace[\"反应池7矾花平均密度\"].std())<=3]\n",
    "df_replace"
   ]
  },
  {
   "cell_type": "code",
   "execution_count": 73,
   "metadata": {},
   "outputs": [
    {
     "name": "stdout",
     "output_type": "stream",
     "text": [
      "---------------异常值的检测与处理部分---------------\n",
      "\n",
      "列标签                            异常值个数 \n",
      "                                           \n",
      "反应池7矾花均一性指标                    212                                               \n",
      "反应池7矾花平均密度                     532                                               \n",
      "反应池7矾花平均直径                     218                                               \n",
      "小颗粒矾花占比                        202                                               \n",
      "系统实时出水浊度                       0                                                 \n",
      "\n",
      "--------------在所有列中共有 1164 个异常值-------------\n",
      "-----------下面将先删除数据中存在异常的行数据----------\n"
     ]
    },
    {
     "ename": "TypeError",
     "evalue": "'method' object is not subscriptable",
     "output_type": "error",
     "traceback": [
      "\u001b[0;31m---------------------------------------------------------------------------\u001b[0m",
      "\u001b[0;31mTypeError\u001b[0m                                 Traceback (most recent call last)",
      "\u001b[1;32m/Users/zhangjinwei/Desktop/Untitled-3.ipynb Cell 8\u001b[0m in \u001b[0;36m<cell line: 1>\u001b[0;34m()\u001b[0m\n\u001b[0;32m----> <a href='vscode-notebook-cell:/Users/zhangjinwei/Desktop/Untitled-3.ipynb#Y120sZmlsZQ%3D%3D?line=0'>1</a>\u001b[0m abnormalvalue(df3)\n",
      "\u001b[1;32m/Users/zhangjinwei/Desktop/Untitled-3.ipynb Cell 8\u001b[0m in \u001b[0;36mabnormalvalue\u001b[0;34m(df)\u001b[0m\n\u001b[1;32m     <a href='vscode-notebook-cell:/Users/zhangjinwei/Desktop/Untitled-3.ipynb#Y120sZmlsZQ%3D%3D?line=18'>19</a>\u001b[0m \u001b[39mfor\u001b[39;00m item \u001b[39min\u001b[39;00m df_replace\u001b[39m.\u001b[39mcolumns:\n\u001b[1;32m     <a href='vscode-notebook-cell:/Users/zhangjinwei/Desktop/Untitled-3.ipynb#Y120sZmlsZQ%3D%3D?line=19'>20</a>\u001b[0m     df_replace[item] \u001b[39m=\u001b[39m \u001b[39mabs\u001b[39m((df_replace[item] \u001b[39m-\u001b[39m df_replace[item]\u001b[39m.\u001b[39mmean())\u001b[39m/\u001b[39mdf_replace[item]\u001b[39m.\u001b[39mstd())\u001b[39m<\u001b[39m\u001b[39m=\u001b[39m\u001b[39m3\u001b[39m\n\u001b[0;32m---> <a href='vscode-notebook-cell:/Users/zhangjinwei/Desktop/Untitled-3.ipynb#Y120sZmlsZQ%3D%3D?line=20'>21</a>\u001b[0m     neq \u001b[39m=\u001b[39m df\u001b[39m.\u001b[39;49mreplace[item] \u001b[39m+\u001b[39m neq\n\u001b[1;32m     <a href='vscode-notebook-cell:/Users/zhangjinwei/Desktop/Untitled-3.ipynb#Y120sZmlsZQ%3D%3D?line=21'>22</a>\u001b[0m df[\u001b[39m\"\u001b[39m\u001b[39mluoji\u001b[39m\u001b[39m\"\u001b[39m] \u001b[39m=\u001b[39m neq\n\u001b[1;32m     <a href='vscode-notebook-cell:/Users/zhangjinwei/Desktop/Untitled-3.ipynb#Y120sZmlsZQ%3D%3D?line=22'>23</a>\u001b[0m df \u001b[39m=\u001b[39m df\u001b[39m.\u001b[39mloc[df\u001b[39m.\u001b[39mloc[: , \u001b[39m\"\u001b[39m\u001b[39mluoji\u001b[39m\u001b[39m\"\u001b[39m]\u001b[39m==\u001b[39m\u001b[39m\"\u001b[39m\u001b[39mTrue\u001b[39m\u001b[39m\"\u001b[39m, : ]\n",
      "\u001b[0;31mTypeError\u001b[0m: 'method' object is not subscriptable"
     ]
    }
   ],
   "source": [
    "abnormalvalue(df3)"
   ]
  },
  {
   "cell_type": "code",
   "execution_count": 74,
   "metadata": {},
   "outputs": [
    {
     "data": {
      "text/html": [
       "<div>\n",
       "<style scoped>\n",
       "    .dataframe tbody tr th:only-of-type {\n",
       "        vertical-align: middle;\n",
       "    }\n",
       "\n",
       "    .dataframe tbody tr th {\n",
       "        vertical-align: top;\n",
       "    }\n",
       "\n",
       "    .dataframe thead th {\n",
       "        text-align: right;\n",
       "    }\n",
       "</style>\n",
       "<table border=\"1\" class=\"dataframe\">\n",
       "  <thead>\n",
       "    <tr style=\"text-align: right;\">\n",
       "      <th></th>\n",
       "      <th>反应池7矾花均一性指标</th>\n",
       "      <th>反应池7矾花平均密度</th>\n",
       "      <th>反应池7矾花平均直径</th>\n",
       "      <th>小颗粒矾花占比</th>\n",
       "      <th>系统实时出水浊度</th>\n",
       "    </tr>\n",
       "  </thead>\n",
       "  <tbody>\n",
       "    <tr>\n",
       "      <th>0</th>\n",
       "      <td>True</td>\n",
       "      <td>0.63</td>\n",
       "      <td>0.83</td>\n",
       "      <td>0.84</td>\n",
       "      <td>0.24</td>\n",
       "    </tr>\n",
       "    <tr>\n",
       "      <th>1</th>\n",
       "      <td>True</td>\n",
       "      <td>0.02</td>\n",
       "      <td>0.28</td>\n",
       "      <td>1.00</td>\n",
       "      <td>0.24</td>\n",
       "    </tr>\n",
       "    <tr>\n",
       "      <th>2</th>\n",
       "      <td>True</td>\n",
       "      <td>0.01</td>\n",
       "      <td>0.22</td>\n",
       "      <td>1.00</td>\n",
       "      <td>0.24</td>\n",
       "    </tr>\n",
       "    <tr>\n",
       "      <th>3</th>\n",
       "      <td>True</td>\n",
       "      <td>0.01</td>\n",
       "      <td>0.18</td>\n",
       "      <td>1.00</td>\n",
       "      <td>0.24</td>\n",
       "    </tr>\n",
       "    <tr>\n",
       "      <th>4</th>\n",
       "      <td>True</td>\n",
       "      <td>0.25</td>\n",
       "      <td>0.55</td>\n",
       "      <td>0.92</td>\n",
       "      <td>0.24</td>\n",
       "    </tr>\n",
       "    <tr>\n",
       "      <th>...</th>\n",
       "      <td>...</td>\n",
       "      <td>...</td>\n",
       "      <td>...</td>\n",
       "      <td>...</td>\n",
       "      <td>...</td>\n",
       "    </tr>\n",
       "    <tr>\n",
       "      <th>20983</th>\n",
       "      <td>True</td>\n",
       "      <td>0.02</td>\n",
       "      <td>0.46</td>\n",
       "      <td>1.00</td>\n",
       "      <td>0.31</td>\n",
       "    </tr>\n",
       "    <tr>\n",
       "      <th>20984</th>\n",
       "      <td>True</td>\n",
       "      <td>0.01</td>\n",
       "      <td>0.26</td>\n",
       "      <td>1.00</td>\n",
       "      <td>0.30</td>\n",
       "    </tr>\n",
       "    <tr>\n",
       "      <th>20985</th>\n",
       "      <td>True</td>\n",
       "      <td>0.01</td>\n",
       "      <td>0.10</td>\n",
       "      <td>1.00</td>\n",
       "      <td>0.30</td>\n",
       "    </tr>\n",
       "    <tr>\n",
       "      <th>20986</th>\n",
       "      <td>True</td>\n",
       "      <td>0.01</td>\n",
       "      <td>0.08</td>\n",
       "      <td>1.00</td>\n",
       "      <td>0.30</td>\n",
       "    </tr>\n",
       "    <tr>\n",
       "      <th>20987</th>\n",
       "      <td>True</td>\n",
       "      <td>0.01</td>\n",
       "      <td>0.35</td>\n",
       "      <td>1.00</td>\n",
       "      <td>0.30</td>\n",
       "    </tr>\n",
       "  </tbody>\n",
       "</table>\n",
       "<p>20988 rows × 5 columns</p>\n",
       "</div>"
      ],
      "text/plain": [
       "       反应池7矾花均一性指标  反应池7矾花平均密度  反应池7矾花平均直径  小颗粒矾花占比  系统实时出水浊度\n",
       "0             True        0.63        0.83     0.84      0.24\n",
       "1             True        0.02        0.28     1.00      0.24\n",
       "2             True        0.01        0.22     1.00      0.24\n",
       "3             True        0.01        0.18     1.00      0.24\n",
       "4             True        0.25        0.55     0.92      0.24\n",
       "...            ...         ...         ...      ...       ...\n",
       "20983         True        0.02        0.46     1.00      0.31\n",
       "20984         True        0.01        0.26     1.00      0.30\n",
       "20985         True        0.01        0.10     1.00      0.30\n",
       "20986         True        0.01        0.08     1.00      0.30\n",
       "20987         True        0.01        0.35     1.00      0.30\n",
       "\n",
       "[20988 rows x 5 columns]"
      ]
     },
     "execution_count": 74,
     "metadata": {},
     "output_type": "execute_result"
    }
   ],
   "source": [
    "df3"
   ]
  },
  {
   "cell_type": "code",
   "execution_count": 31,
   "metadata": {},
   "outputs": [
    {
     "data": {
      "text/html": [
       "<div>\n",
       "<style scoped>\n",
       "    .dataframe tbody tr th:only-of-type {\n",
       "        vertical-align: middle;\n",
       "    }\n",
       "\n",
       "    .dataframe tbody tr th {\n",
       "        vertical-align: top;\n",
       "    }\n",
       "\n",
       "    .dataframe thead th {\n",
       "        text-align: right;\n",
       "    }\n",
       "</style>\n",
       "<table border=\"1\" class=\"dataframe\">\n",
       "  <thead>\n",
       "    <tr style=\"text-align: right;\">\n",
       "      <th></th>\n",
       "      <th>反应池7矾花均一性指标</th>\n",
       "      <th>反应池7矾花平均密度</th>\n",
       "      <th>反应池7矾花平均直径</th>\n",
       "      <th>小颗粒矾花占比</th>\n",
       "      <th>系统实时出水浊度</th>\n",
       "      <th>系统进水浊度</th>\n",
       "    </tr>\n",
       "  </thead>\n",
       "  <tbody>\n",
       "    <tr>\n",
       "      <th>0</th>\n",
       "      <td>4.43</td>\n",
       "      <td>0.63</td>\n",
       "      <td>0.83</td>\n",
       "      <td>0.84</td>\n",
       "      <td>NaN</td>\n",
       "      <td>NaN</td>\n",
       "    </tr>\n",
       "    <tr>\n",
       "      <th>1</th>\n",
       "      <td>1.39</td>\n",
       "      <td>0.02</td>\n",
       "      <td>0.28</td>\n",
       "      <td>1.00</td>\n",
       "      <td>0.24</td>\n",
       "      <td>46.47</td>\n",
       "    </tr>\n",
       "    <tr>\n",
       "      <th>2</th>\n",
       "      <td>NaN</td>\n",
       "      <td>NaN</td>\n",
       "      <td>NaN</td>\n",
       "      <td>NaN</td>\n",
       "      <td>NaN</td>\n",
       "      <td>NaN</td>\n",
       "    </tr>\n",
       "    <tr>\n",
       "      <th>3</th>\n",
       "      <td>0.60</td>\n",
       "      <td>0.01</td>\n",
       "      <td>0.22</td>\n",
       "      <td>1.00</td>\n",
       "      <td>0.24</td>\n",
       "      <td>46.47</td>\n",
       "    </tr>\n",
       "    <tr>\n",
       "      <th>4</th>\n",
       "      <td>NaN</td>\n",
       "      <td>NaN</td>\n",
       "      <td>NaN</td>\n",
       "      <td>NaN</td>\n",
       "      <td>NaN</td>\n",
       "      <td>NaN</td>\n",
       "    </tr>\n",
       "  </tbody>\n",
       "</table>\n",
       "</div>"
      ],
      "text/plain": [
       "   反应池7矾花均一性指标  反应池7矾花平均密度  反应池7矾花平均直径  小颗粒矾花占比  系统实时出水浊度  系统进水浊度\n",
       "0         4.43        0.63        0.83     0.84       NaN     NaN\n",
       "1         1.39        0.02        0.28     1.00      0.24   46.47\n",
       "2          NaN         NaN         NaN      NaN       NaN     NaN\n",
       "3         0.60        0.01        0.22     1.00      0.24   46.47\n",
       "4          NaN         NaN         NaN      NaN       NaN     NaN"
      ]
     },
     "execution_count": 31,
     "metadata": {},
     "output_type": "execute_result"
    }
   ],
   "source": []
  },
  {
   "cell_type": "code",
   "execution_count": 32,
   "metadata": {},
   "outputs": [
    {
     "name": "stdout",
     "output_type": "stream",
     "text": [
      "---------------缺失值的检测与处理部分---------------\n",
      "\n",
      "列标签                            缺失值个数 \n",
      "                                           \n",
      "反应池7矾花均一性指标                    39001                                             \n",
      "反应池7矾花平均密度                     40379                                             \n",
      "反应池7矾花平均直径                     37318                                             \n",
      "小颗粒矾花占比                        37370                                             \n",
      "系统实时出水浊度                       29222                                             \n",
      "系统进水浊度                         29222                                             \n",
      "\n",
      "--------------在所有列中共有 212512 个缺失值-------------\n",
      "--------下面将先删除数据中的每行保留值小于4的缺失行--------\n",
      "--------------下面将对剩下的缺失值按行填充---------------\n",
      "\n",
      "--------------在所有列中共有 0 个缺失值-------------\n",
      "----------恭喜你，已经得到了没有缺失值的数据----------\n"
     ]
    }
   ],
   "source": []
  },
  {
   "cell_type": "code",
   "execution_count": 33,
   "metadata": {},
   "outputs": [
    {
     "name": "stdout",
     "output_type": "stream",
     "text": [
      "----------------重复值的检测与处理部分---------------\n",
      "\n",
      "列标签                            重复值个数 \n",
      "                                           \n",
      "反应池7矾花均一性指标                    20242                                             \n",
      "反应池7矾花平均密度                     20359                                             \n",
      "反应池7矾花平均直径                     20789                                             \n",
      "小颗粒矾花占比                        20962                                             \n",
      "系统实时出水浊度                       21000                                             \n",
      "系统进水浊度                         20733                                             \n",
      "\n",
      "------------在所有列中共有 124085 个重复值-----------\n",
      "\n",
      "-----------下面将先删除数据中完全重复的行数据----------\n",
      "-----------恭喜你，已经得到了具有唯一值的数据----------\n"
     ]
    }
   ],
   "source": []
  },
  {
   "cell_type": "code",
   "execution_count": 35,
   "metadata": {},
   "outputs": [],
   "source": [
    "\n"
   ]
  },
  {
   "cell_type": "code",
   "execution_count": 25,
   "metadata": {},
   "outputs": [
    {
     "data": {
      "text/html": [
       "<div>\n",
       "<style scoped>\n",
       "    .dataframe tbody tr th:only-of-type {\n",
       "        vertical-align: middle;\n",
       "    }\n",
       "\n",
       "    .dataframe tbody tr th {\n",
       "        vertical-align: top;\n",
       "    }\n",
       "\n",
       "    .dataframe thead th {\n",
       "        text-align: right;\n",
       "    }\n",
       "</style>\n",
       "<table border=\"1\" class=\"dataframe\">\n",
       "  <thead>\n",
       "    <tr style=\"text-align: right;\">\n",
       "      <th></th>\n",
       "      <th>反应池7矾花均一性指标</th>\n",
       "      <th>反应池7矾花平均密度</th>\n",
       "      <th>反应池7矾花平均直径</th>\n",
       "      <th>小颗粒矾花占比</th>\n",
       "      <th>系统实时出水浊度</th>\n",
       "      <th>系统进水浊度</th>\n",
       "    </tr>\n",
       "  </thead>\n",
       "  <tbody>\n",
       "    <tr>\n",
       "      <th>0</th>\n",
       "      <td>4.43</td>\n",
       "      <td>0.63</td>\n",
       "      <td>0.83</td>\n",
       "      <td>0.84</td>\n",
       "      <td>0.24</td>\n",
       "      <td>46.47</td>\n",
       "    </tr>\n",
       "    <tr>\n",
       "      <th>1</th>\n",
       "      <td>1.39</td>\n",
       "      <td>0.02</td>\n",
       "      <td>0.28</td>\n",
       "      <td>1.00</td>\n",
       "      <td>0.24</td>\n",
       "      <td>46.47</td>\n",
       "    </tr>\n",
       "    <tr>\n",
       "      <th>3</th>\n",
       "      <td>0.60</td>\n",
       "      <td>0.01</td>\n",
       "      <td>0.22</td>\n",
       "      <td>1.00</td>\n",
       "      <td>0.24</td>\n",
       "      <td>46.47</td>\n",
       "    </tr>\n",
       "    <tr>\n",
       "      <th>5</th>\n",
       "      <td>1.56</td>\n",
       "      <td>0.01</td>\n",
       "      <td>0.18</td>\n",
       "      <td>1.00</td>\n",
       "      <td>0.24</td>\n",
       "      <td>46.48</td>\n",
       "    </tr>\n",
       "    <tr>\n",
       "      <th>7</th>\n",
       "      <td>2.00</td>\n",
       "      <td>0.25</td>\n",
       "      <td>0.55</td>\n",
       "      <td>0.92</td>\n",
       "      <td>0.24</td>\n",
       "      <td>46.48</td>\n",
       "    </tr>\n",
       "    <tr>\n",
       "      <th>...</th>\n",
       "      <td>...</td>\n",
       "      <td>...</td>\n",
       "      <td>...</td>\n",
       "      <td>...</td>\n",
       "      <td>...</td>\n",
       "      <td>...</td>\n",
       "    </tr>\n",
       "    <tr>\n",
       "      <th>58245</th>\n",
       "      <td>1.22</td>\n",
       "      <td>0.02</td>\n",
       "      <td>0.46</td>\n",
       "      <td>1.00</td>\n",
       "      <td>0.31</td>\n",
       "      <td>44.04</td>\n",
       "    </tr>\n",
       "    <tr>\n",
       "      <th>58253</th>\n",
       "      <td>1.15</td>\n",
       "      <td>0.01</td>\n",
       "      <td>0.26</td>\n",
       "      <td>1.00</td>\n",
       "      <td>0.30</td>\n",
       "      <td>44.06</td>\n",
       "    </tr>\n",
       "    <tr>\n",
       "      <th>58275</th>\n",
       "      <td>1.15</td>\n",
       "      <td>0.01</td>\n",
       "      <td>0.10</td>\n",
       "      <td>1.00</td>\n",
       "      <td>0.30</td>\n",
       "      <td>44.09</td>\n",
       "    </tr>\n",
       "    <tr>\n",
       "      <th>58277</th>\n",
       "      <td>1.15</td>\n",
       "      <td>0.01</td>\n",
       "      <td>0.08</td>\n",
       "      <td>1.00</td>\n",
       "      <td>0.30</td>\n",
       "      <td>44.09</td>\n",
       "    </tr>\n",
       "    <tr>\n",
       "      <th>58289</th>\n",
       "      <td>1.15</td>\n",
       "      <td>0.01</td>\n",
       "      <td>0.35</td>\n",
       "      <td>1.00</td>\n",
       "      <td>0.30</td>\n",
       "      <td>44.13</td>\n",
       "    </tr>\n",
       "  </tbody>\n",
       "</table>\n",
       "<p>20988 rows × 6 columns</p>\n",
       "</div>"
      ],
      "text/plain": [
       "       反应池7矾花均一性指标  反应池7矾花平均密度  反应池7矾花平均直径  小颗粒矾花占比  系统实时出水浊度  系统进水浊度\n",
       "0             4.43        0.63        0.83     0.84      0.24   46.47\n",
       "1             1.39        0.02        0.28     1.00      0.24   46.47\n",
       "3             0.60        0.01        0.22     1.00      0.24   46.47\n",
       "5             1.56        0.01        0.18     1.00      0.24   46.48\n",
       "7             2.00        0.25        0.55     0.92      0.24   46.48\n",
       "...            ...         ...         ...      ...       ...     ...\n",
       "58245         1.22        0.02        0.46     1.00      0.31   44.04\n",
       "58253         1.15        0.01        0.26     1.00      0.30   44.06\n",
       "58275         1.15        0.01        0.10     1.00      0.30   44.09\n",
       "58277         1.15        0.01        0.08     1.00      0.30   44.09\n",
       "58289         1.15        0.01        0.35     1.00      0.30   44.13\n",
       "\n",
       "[20988 rows x 6 columns]"
      ]
     },
     "execution_count": 25,
     "metadata": {},
     "output_type": "execute_result"
    }
   ],
   "source": [
    "df2 = df1\n",
    "df2"
   ]
  },
  {
   "cell_type": "code",
   "execution_count": 26,
   "metadata": {},
   "outputs": [
    {
     "name": "stdout",
     "output_type": "stream",
     "text": [
      "---------------异常值的检测与处理部分---------------\n",
      "\n",
      "列标签                            异常值个数 \n",
      "                                           \n",
      "反应池7矾花均一性指标                    212                                               \n",
      "反应池7矾花平均密度                     532                                               \n",
      "反应池7矾花平均直径                     218                                               \n",
      "小颗粒矾花占比                        202                                               \n",
      "系统实时出水浊度                       0                                                 \n",
      "系统进水浊度                         145                                               \n",
      "\n",
      "--------------在所有列中共有 1309 个异常值-------------\n",
      "-----------下面将先删除数据中存在异常的行数据----------\n"
     ]
    }
   ],
   "source": [
    "abnormalvalue(df2)"
   ]
  },
  {
   "cell_type": "code",
   "execution_count": 12,
   "metadata": {},
   "outputs": [
    {
     "data": {
      "text/html": [
       "<div>\n",
       "<style scoped>\n",
       "    .dataframe tbody tr th:only-of-type {\n",
       "        vertical-align: middle;\n",
       "    }\n",
       "\n",
       "    .dataframe tbody tr th {\n",
       "        vertical-align: top;\n",
       "    }\n",
       "\n",
       "    .dataframe thead th {\n",
       "        text-align: right;\n",
       "    }\n",
       "</style>\n",
       "<table border=\"1\" class=\"dataframe\">\n",
       "  <thead>\n",
       "    <tr style=\"text-align: right;\">\n",
       "      <th></th>\n",
       "      <th>反应池7矾花均一性指标</th>\n",
       "      <th>反应池7矾花平均密度</th>\n",
       "      <th>反应池7矾花平均直径</th>\n",
       "      <th>小颗粒矾花占比</th>\n",
       "      <th>系统实时出水浊度</th>\n",
       "      <th>系统进水浊度</th>\n",
       "      <th>luoji</th>\n",
       "    </tr>\n",
       "  </thead>\n",
       "  <tbody>\n",
       "    <tr>\n",
       "      <th>0</th>\n",
       "      <td>False</td>\n",
       "      <td>False</td>\n",
       "      <td>False</td>\n",
       "      <td>False</td>\n",
       "      <td>False</td>\n",
       "      <td>False</td>\n",
       "      <td>0</td>\n",
       "    </tr>\n",
       "    <tr>\n",
       "      <th>1</th>\n",
       "      <td>False</td>\n",
       "      <td>False</td>\n",
       "      <td>False</td>\n",
       "      <td>False</td>\n",
       "      <td>False</td>\n",
       "      <td>False</td>\n",
       "      <td>0</td>\n",
       "    </tr>\n",
       "    <tr>\n",
       "      <th>3</th>\n",
       "      <td>False</td>\n",
       "      <td>False</td>\n",
       "      <td>False</td>\n",
       "      <td>False</td>\n",
       "      <td>False</td>\n",
       "      <td>False</td>\n",
       "      <td>0</td>\n",
       "    </tr>\n",
       "    <tr>\n",
       "      <th>5</th>\n",
       "      <td>False</td>\n",
       "      <td>False</td>\n",
       "      <td>False</td>\n",
       "      <td>False</td>\n",
       "      <td>False</td>\n",
       "      <td>False</td>\n",
       "      <td>0</td>\n",
       "    </tr>\n",
       "    <tr>\n",
       "      <th>7</th>\n",
       "      <td>False</td>\n",
       "      <td>False</td>\n",
       "      <td>False</td>\n",
       "      <td>False</td>\n",
       "      <td>False</td>\n",
       "      <td>False</td>\n",
       "      <td>0</td>\n",
       "    </tr>\n",
       "    <tr>\n",
       "      <th>...</th>\n",
       "      <td>...</td>\n",
       "      <td>...</td>\n",
       "      <td>...</td>\n",
       "      <td>...</td>\n",
       "      <td>...</td>\n",
       "      <td>...</td>\n",
       "      <td>...</td>\n",
       "    </tr>\n",
       "    <tr>\n",
       "      <th>58245</th>\n",
       "      <td>False</td>\n",
       "      <td>False</td>\n",
       "      <td>False</td>\n",
       "      <td>False</td>\n",
       "      <td>False</td>\n",
       "      <td>False</td>\n",
       "      <td>0</td>\n",
       "    </tr>\n",
       "    <tr>\n",
       "      <th>58253</th>\n",
       "      <td>False</td>\n",
       "      <td>False</td>\n",
       "      <td>False</td>\n",
       "      <td>False</td>\n",
       "      <td>False</td>\n",
       "      <td>False</td>\n",
       "      <td>0</td>\n",
       "    </tr>\n",
       "    <tr>\n",
       "      <th>58275</th>\n",
       "      <td>False</td>\n",
       "      <td>False</td>\n",
       "      <td>False</td>\n",
       "      <td>False</td>\n",
       "      <td>False</td>\n",
       "      <td>False</td>\n",
       "      <td>0</td>\n",
       "    </tr>\n",
       "    <tr>\n",
       "      <th>58277</th>\n",
       "      <td>False</td>\n",
       "      <td>False</td>\n",
       "      <td>False</td>\n",
       "      <td>False</td>\n",
       "      <td>False</td>\n",
       "      <td>False</td>\n",
       "      <td>0</td>\n",
       "    </tr>\n",
       "    <tr>\n",
       "      <th>58289</th>\n",
       "      <td>False</td>\n",
       "      <td>False</td>\n",
       "      <td>False</td>\n",
       "      <td>False</td>\n",
       "      <td>False</td>\n",
       "      <td>False</td>\n",
       "      <td>0</td>\n",
       "    </tr>\n",
       "  </tbody>\n",
       "</table>\n",
       "<p>20988 rows × 7 columns</p>\n",
       "</div>"
      ],
      "text/plain": [
       "       反应池7矾花均一性指标  反应池7矾花平均密度  反应池7矾花平均直径  小颗粒矾花占比  系统实时出水浊度  系统进水浊度  luoji\n",
       "0            False       False       False    False     False   False      0\n",
       "1            False       False       False    False     False   False      0\n",
       "3            False       False       False    False     False   False      0\n",
       "5            False       False       False    False     False   False      0\n",
       "7            False       False       False    False     False   False      0\n",
       "...            ...         ...         ...      ...       ...     ...    ...\n",
       "58245        False       False       False    False     False   False      0\n",
       "58253        False       False       False    False     False   False      0\n",
       "58275        False       False       False    False     False   False      0\n",
       "58277        False       False       False    False     False   False      0\n",
       "58289        False       False       False    False     False   False      0\n",
       "\n",
       "[20988 rows x 7 columns]"
      ]
     },
     "execution_count": 12,
     "metadata": {},
     "output_type": "execute_result"
    }
   ],
   "source": [
    "abnormalvalue_df_replace = df1\n",
    "abnormalvalue_df_replace"
   ]
  },
  {
   "cell_type": "code",
   "execution_count": 369,
   "metadata": {},
   "outputs": [],
   "source": [
    "df2 = df1"
   ]
  },
  {
   "cell_type": "code",
   "execution_count": 386,
   "metadata": {},
   "outputs": [],
   "source": [
    "def abnormalvalue(df):\n",
    "     print( \"---------------异常值的检测与处理部分---------------\\n\")\n",
    "     print(\"{:<30s} {:<50s}\".format( \"列标签\",  \"异常值个数 \\n\" ) )\n",
    "     neq_sum = 0\n",
    "\n",
    "     for item in df.columns:\n",
    "         neg_item = abs((df[item] - df[item].mean())/df[item].std())>3\n",
    "         print(\"{:<30s} {:<50s}\".format( item,  str( neg_item.sum() ) ) )\n",
    "         neq_sum = neq_sum + neg_item.sum()\n",
    "         \n",
    "     if neq_sum == 0:   \n",
    "        print( '\\n--------------在所有列中共有 ' + str( neq_sum )  + ' 个异常值-------------')\n",
    "        print( \"----------恭喜你，已经得到了没有异常值的数据-----------\")  \n",
    "     else:      \n",
    "         print( '\\n--------------在所有列中共有 ' + str( neq_sum )  + ' 个异常值-------------')\n",
    "         print( \"-----------下面将先删除数据中存在异常的行数据----------\")\n",
    "         df_replace = df\n",
    "         neq = 0\n",
    "         for item in df_replace.columns:\n",
    "             df_replace[item] = abs((df_replace[item] - df_replace[item].mean())/df_replace[item].std())<=3\n",
    "             neq = df.replace[item] + neq\n",
    "         df[\"luoji\"] = neq\n",
    "         df = df.loc[df[\"luoji\"]>0, :]\n",
    "        "
   ]
  },
  {
   "cell_type": "code",
   "execution_count": 394,
   "metadata": {},
   "outputs": [
    {
     "data": {
      "text/html": [
       "<div>\n",
       "<style scoped>\n",
       "    .dataframe tbody tr th:only-of-type {\n",
       "        vertical-align: middle;\n",
       "    }\n",
       "\n",
       "    .dataframe tbody tr th {\n",
       "        vertical-align: top;\n",
       "    }\n",
       "\n",
       "    .dataframe thead th {\n",
       "        text-align: right;\n",
       "    }\n",
       "</style>\n",
       "<table border=\"1\" class=\"dataframe\">\n",
       "  <thead>\n",
       "    <tr style=\"text-align: right;\">\n",
       "      <th></th>\n",
       "      <th>反应池7矾花均一性指标</th>\n",
       "      <th>反应池7矾花平均密度</th>\n",
       "      <th>反应池7矾花平均直径</th>\n",
       "      <th>小颗粒矾花占比</th>\n",
       "      <th>系统实时出水浊度</th>\n",
       "      <th>系统进水浊度</th>\n",
       "    </tr>\n",
       "  </thead>\n",
       "  <tbody>\n",
       "    <tr>\n",
       "      <th>0</th>\n",
       "      <td>4.43</td>\n",
       "      <td>0.63</td>\n",
       "      <td>0.83</td>\n",
       "      <td>0.84</td>\n",
       "      <td>0.24</td>\n",
       "      <td>46.47</td>\n",
       "    </tr>\n",
       "    <tr>\n",
       "      <th>1</th>\n",
       "      <td>1.39</td>\n",
       "      <td>0.02</td>\n",
       "      <td>0.28</td>\n",
       "      <td>1.00</td>\n",
       "      <td>0.24</td>\n",
       "      <td>46.47</td>\n",
       "    </tr>\n",
       "    <tr>\n",
       "      <th>3</th>\n",
       "      <td>0.60</td>\n",
       "      <td>0.01</td>\n",
       "      <td>0.22</td>\n",
       "      <td>1.00</td>\n",
       "      <td>0.24</td>\n",
       "      <td>46.47</td>\n",
       "    </tr>\n",
       "    <tr>\n",
       "      <th>5</th>\n",
       "      <td>1.56</td>\n",
       "      <td>0.01</td>\n",
       "      <td>0.18</td>\n",
       "      <td>1.00</td>\n",
       "      <td>0.24</td>\n",
       "      <td>46.48</td>\n",
       "    </tr>\n",
       "    <tr>\n",
       "      <th>7</th>\n",
       "      <td>2.00</td>\n",
       "      <td>0.25</td>\n",
       "      <td>0.55</td>\n",
       "      <td>0.92</td>\n",
       "      <td>0.24</td>\n",
       "      <td>46.48</td>\n",
       "    </tr>\n",
       "    <tr>\n",
       "      <th>...</th>\n",
       "      <td>...</td>\n",
       "      <td>...</td>\n",
       "      <td>...</td>\n",
       "      <td>...</td>\n",
       "      <td>...</td>\n",
       "      <td>...</td>\n",
       "    </tr>\n",
       "    <tr>\n",
       "      <th>58245</th>\n",
       "      <td>1.22</td>\n",
       "      <td>0.02</td>\n",
       "      <td>0.46</td>\n",
       "      <td>1.00</td>\n",
       "      <td>0.31</td>\n",
       "      <td>44.04</td>\n",
       "    </tr>\n",
       "    <tr>\n",
       "      <th>58253</th>\n",
       "      <td>1.15</td>\n",
       "      <td>0.01</td>\n",
       "      <td>0.26</td>\n",
       "      <td>1.00</td>\n",
       "      <td>0.30</td>\n",
       "      <td>44.06</td>\n",
       "    </tr>\n",
       "    <tr>\n",
       "      <th>58275</th>\n",
       "      <td>1.15</td>\n",
       "      <td>0.01</td>\n",
       "      <td>0.10</td>\n",
       "      <td>1.00</td>\n",
       "      <td>0.30</td>\n",
       "      <td>44.09</td>\n",
       "    </tr>\n",
       "    <tr>\n",
       "      <th>58277</th>\n",
       "      <td>1.15</td>\n",
       "      <td>0.01</td>\n",
       "      <td>0.08</td>\n",
       "      <td>1.00</td>\n",
       "      <td>0.30</td>\n",
       "      <td>44.09</td>\n",
       "    </tr>\n",
       "    <tr>\n",
       "      <th>58289</th>\n",
       "      <td>1.15</td>\n",
       "      <td>0.01</td>\n",
       "      <td>0.35</td>\n",
       "      <td>1.00</td>\n",
       "      <td>0.30</td>\n",
       "      <td>44.13</td>\n",
       "    </tr>\n",
       "  </tbody>\n",
       "</table>\n",
       "<p>20988 rows × 6 columns</p>\n",
       "</div>"
      ],
      "text/plain": [
       "       反应池7矾花均一性指标  反应池7矾花平均密度  反应池7矾花平均直径  小颗粒矾花占比  系统实时出水浊度  系统进水浊度\n",
       "0             4.43        0.63        0.83     0.84      0.24   46.47\n",
       "1             1.39        0.02        0.28     1.00      0.24   46.47\n",
       "3             0.60        0.01        0.22     1.00      0.24   46.47\n",
       "5             1.56        0.01        0.18     1.00      0.24   46.48\n",
       "7             2.00        0.25        0.55     0.92      0.24   46.48\n",
       "...            ...         ...         ...      ...       ...     ...\n",
       "58245         1.22        0.02        0.46     1.00      0.31   44.04\n",
       "58253         1.15        0.01        0.26     1.00      0.30   44.06\n",
       "58275         1.15        0.01        0.10     1.00      0.30   44.09\n",
       "58277         1.15        0.01        0.08     1.00      0.30   44.09\n",
       "58289         1.15        0.01        0.35     1.00      0.30   44.13\n",
       "\n",
       "[20988 rows x 6 columns]"
      ]
     },
     "execution_count": 394,
     "metadata": {},
     "output_type": "execute_result"
    }
   ],
   "source": [
    "df2 = df1\n",
    "df_replace = df2\n",
    "df2"
   ]
  },
  {
   "cell_type": "code",
   "execution_count": 398,
   "metadata": {},
   "outputs": [
    {
     "name": "stderr",
     "output_type": "stream",
     "text": [
      "/var/folders/ms/fryz2hjj71v3l3fph26gw6980000gn/T/ipykernel_79206/1932785259.py:1: FutureWarning: The default dtype for empty Series will be 'object' instead of 'float64' in a future version. Specify a dtype explicitly to silence this warning.\n",
      "  neq=pd.Series()\n"
     ]
    },
    {
     "ename": "TypeError",
     "evalue": "'method' object is not subscriptable",
     "output_type": "error",
     "traceback": [
      "\u001b[0;31m---------------------------------------------------------------------------\u001b[0m",
      "\u001b[0;31mTypeError\u001b[0m                                 Traceback (most recent call last)",
      "\u001b[1;32m/Users/zhangjinwei/Desktop/Untitled-3.ipynb Cell 16\u001b[0m in \u001b[0;36m<cell line: 2>\u001b[0;34m()\u001b[0m\n\u001b[1;32m      <a href='vscode-notebook-cell:/Users/zhangjinwei/Desktop/Untitled-3.ipynb#Y204sZmlsZQ%3D%3D?line=1'>2</a>\u001b[0m \u001b[39mfor\u001b[39;00m item \u001b[39min\u001b[39;00m df_replace\u001b[39m.\u001b[39mcolumns:\n\u001b[1;32m      <a href='vscode-notebook-cell:/Users/zhangjinwei/Desktop/Untitled-3.ipynb#Y204sZmlsZQ%3D%3D?line=2'>3</a>\u001b[0m     df_replace[item] \u001b[39m=\u001b[39m \u001b[39mabs\u001b[39m((df_replace[item] \u001b[39m-\u001b[39m df_replace[item]\u001b[39m.\u001b[39mmean())\u001b[39m/\u001b[39mdf_replace[item]\u001b[39m.\u001b[39mstd())\u001b[39m<\u001b[39m\u001b[39m=\u001b[39m\u001b[39m3\u001b[39m\n\u001b[0;32m----> <a href='vscode-notebook-cell:/Users/zhangjinwei/Desktop/Untitled-3.ipynb#Y204sZmlsZQ%3D%3D?line=3'>4</a>\u001b[0m     neq \u001b[39m=\u001b[39m df\u001b[39m.\u001b[39;49mreplace[item] \u001b[39m+\u001b[39m neq\n\u001b[1;32m      <a href='vscode-notebook-cell:/Users/zhangjinwei/Desktop/Untitled-3.ipynb#Y204sZmlsZQ%3D%3D?line=4'>5</a>\u001b[0m df2[\u001b[39m\"\u001b[39m\u001b[39mluoji\u001b[39m\u001b[39m\"\u001b[39m] \u001b[39m=\u001b[39m neq\n\u001b[1;32m      <a href='vscode-notebook-cell:/Users/zhangjinwei/Desktop/Untitled-3.ipynb#Y204sZmlsZQ%3D%3D?line=5'>6</a>\u001b[0m df2 \u001b[39m=\u001b[39m df2\u001b[39m.\u001b[39mloc[df2[\u001b[39m\"\u001b[39m\u001b[39mluoji\u001b[39m\u001b[39m\"\u001b[39m]\u001b[39m>\u001b[39m\u001b[39m0\u001b[39m, :]\n",
      "\u001b[0;31mTypeError\u001b[0m: 'method' object is not subscriptable"
     ]
    }
   ],
   "source": [
    "neq=pd.Series()\n",
    "for item in df_replace.columns:\n",
    "    df_replace[item] = abs((df_replace[item] - df_replace[item].mean())/df_replace[item].std())<=3\n",
    "    neq = df.replace[item] + neq\n",
    "df2[\"luoji\"] = neq\n",
    "df2 = df2.loc[df2[\"luoji\"]>0, :]"
   ]
  },
  {
   "cell_type": "code",
   "execution_count": 388,
   "metadata": {},
   "outputs": [
    {
     "name": "stdout",
     "output_type": "stream",
     "text": [
      "---------------异常值的检测与处理部分---------------\n",
      "\n",
      "列标签                            异常值个数 \n",
      "                                           \n",
      "反应池7矾花均一性指标                    234                                               \n",
      "反应池7矾花平均密度                     517                                               \n",
      "反应池7矾花平均直径                     139                                               \n",
      "小颗粒矾花占比                        179                                               \n",
      "系统实时出水浊度                       0                                                 \n",
      "系统进水浊度                         162                                               \n",
      "\n",
      "--------------在所有列中共有 1231 个异常值-------------\n",
      "-----------下面将先删除数据中存在异常的行数据----------\n"
     ]
    },
    {
     "name": "stderr",
     "output_type": "stream",
     "text": [
      "/var/folders/ms/fryz2hjj71v3l3fph26gw6980000gn/T/ipykernel_79206/946197198.py:20: SettingWithCopyWarning: \n",
      "A value is trying to be set on a copy of a slice from a DataFrame.\n",
      "Try using .loc[row_indexer,col_indexer] = value instead\n",
      "\n",
      "See the caveats in the documentation: https://pandas.pydata.org/pandas-docs/stable/user_guide/indexing.html#returning-a-view-versus-a-copy\n",
      "  df_replace[item] = abs((df_replace[item] - df_replace[item].mean())/df_replace[item].std())<=3\n"
     ]
    },
    {
     "ename": "TypeError",
     "evalue": "'method' object is not subscriptable",
     "output_type": "error",
     "traceback": [
      "\u001b[0;31m---------------------------------------------------------------------------\u001b[0m",
      "\u001b[0;31mTypeError\u001b[0m                                 Traceback (most recent call last)",
      "\u001b[1;32m/Users/zhangjinwei/Desktop/Untitled-3.ipynb Cell 15\u001b[0m in \u001b[0;36m<cell line: 1>\u001b[0;34m()\u001b[0m\n\u001b[0;32m----> <a href='vscode-notebook-cell:/Users/zhangjinwei/Desktop/Untitled-3.ipynb#Y132sZmlsZQ%3D%3D?line=0'>1</a>\u001b[0m abnormalvalue(df2)\n",
      "\u001b[1;32m/Users/zhangjinwei/Desktop/Untitled-3.ipynb Cell 15\u001b[0m in \u001b[0;36mabnormalvalue\u001b[0;34m(df)\u001b[0m\n\u001b[1;32m     <a href='vscode-notebook-cell:/Users/zhangjinwei/Desktop/Untitled-3.ipynb#Y132sZmlsZQ%3D%3D?line=18'>19</a>\u001b[0m \u001b[39mfor\u001b[39;00m item \u001b[39min\u001b[39;00m df_replace\u001b[39m.\u001b[39mcolumns:\n\u001b[1;32m     <a href='vscode-notebook-cell:/Users/zhangjinwei/Desktop/Untitled-3.ipynb#Y132sZmlsZQ%3D%3D?line=19'>20</a>\u001b[0m     df_replace[item] \u001b[39m=\u001b[39m \u001b[39mabs\u001b[39m((df_replace[item] \u001b[39m-\u001b[39m df_replace[item]\u001b[39m.\u001b[39mmean())\u001b[39m/\u001b[39mdf_replace[item]\u001b[39m.\u001b[39mstd())\u001b[39m<\u001b[39m\u001b[39m=\u001b[39m\u001b[39m3\u001b[39m\n\u001b[0;32m---> <a href='vscode-notebook-cell:/Users/zhangjinwei/Desktop/Untitled-3.ipynb#Y132sZmlsZQ%3D%3D?line=20'>21</a>\u001b[0m     neq \u001b[39m=\u001b[39m df\u001b[39m.\u001b[39;49mreplace[item] \u001b[39m+\u001b[39m neq\n\u001b[1;32m     <a href='vscode-notebook-cell:/Users/zhangjinwei/Desktop/Untitled-3.ipynb#Y132sZmlsZQ%3D%3D?line=21'>22</a>\u001b[0m df[\u001b[39m\"\u001b[39m\u001b[39mluoji\u001b[39m\u001b[39m\"\u001b[39m] \u001b[39m=\u001b[39m neq\n\u001b[1;32m     <a href='vscode-notebook-cell:/Users/zhangjinwei/Desktop/Untitled-3.ipynb#Y132sZmlsZQ%3D%3D?line=22'>23</a>\u001b[0m df \u001b[39m=\u001b[39m df\u001b[39m.\u001b[39mloc[df[\u001b[39m\"\u001b[39m\u001b[39mluoji\u001b[39m\u001b[39m\"\u001b[39m]\u001b[39m>\u001b[39m\u001b[39m0\u001b[39m, :]\n",
      "\u001b[0;31mTypeError\u001b[0m: 'method' object is not subscriptable"
     ]
    }
   ],
   "source": [
    "abnormalvalue(df2)"
   ]
  },
  {
   "cell_type": "code",
   "execution_count": 377,
   "metadata": {},
   "outputs": [
    {
     "data": {
      "text/html": [
       "<div>\n",
       "<style scoped>\n",
       "    .dataframe tbody tr th:only-of-type {\n",
       "        vertical-align: middle;\n",
       "    }\n",
       "\n",
       "    .dataframe tbody tr th {\n",
       "        vertical-align: top;\n",
       "    }\n",
       "\n",
       "    .dataframe thead th {\n",
       "        text-align: right;\n",
       "    }\n",
       "</style>\n",
       "<table border=\"1\" class=\"dataframe\">\n",
       "  <thead>\n",
       "    <tr style=\"text-align: right;\">\n",
       "      <th></th>\n",
       "      <th>反应池7矾花均一性指标</th>\n",
       "      <th>反应池7矾花平均密度</th>\n",
       "      <th>反应池7矾花平均直径</th>\n",
       "      <th>小颗粒矾花占比</th>\n",
       "      <th>系统实时出水浊度</th>\n",
       "      <th>系统进水浊度</th>\n",
       "    </tr>\n",
       "  </thead>\n",
       "  <tbody>\n",
       "    <tr>\n",
       "      <th>0</th>\n",
       "      <td>4.43</td>\n",
       "      <td>0.63</td>\n",
       "      <td>0.83</td>\n",
       "      <td>0.84</td>\n",
       "      <td>0.24</td>\n",
       "      <td>46.47</td>\n",
       "    </tr>\n",
       "    <tr>\n",
       "      <th>1</th>\n",
       "      <td>1.39</td>\n",
       "      <td>0.02</td>\n",
       "      <td>0.28</td>\n",
       "      <td>1.00</td>\n",
       "      <td>0.24</td>\n",
       "      <td>46.47</td>\n",
       "    </tr>\n",
       "    <tr>\n",
       "      <th>3</th>\n",
       "      <td>0.60</td>\n",
       "      <td>0.01</td>\n",
       "      <td>0.22</td>\n",
       "      <td>1.00</td>\n",
       "      <td>0.24</td>\n",
       "      <td>46.47</td>\n",
       "    </tr>\n",
       "    <tr>\n",
       "      <th>5</th>\n",
       "      <td>1.56</td>\n",
       "      <td>0.01</td>\n",
       "      <td>0.18</td>\n",
       "      <td>1.00</td>\n",
       "      <td>0.24</td>\n",
       "      <td>46.48</td>\n",
       "    </tr>\n",
       "    <tr>\n",
       "      <th>7</th>\n",
       "      <td>2.00</td>\n",
       "      <td>0.25</td>\n",
       "      <td>0.55</td>\n",
       "      <td>0.92</td>\n",
       "      <td>0.24</td>\n",
       "      <td>46.48</td>\n",
       "    </tr>\n",
       "    <tr>\n",
       "      <th>...</th>\n",
       "      <td>...</td>\n",
       "      <td>...</td>\n",
       "      <td>...</td>\n",
       "      <td>...</td>\n",
       "      <td>...</td>\n",
       "      <td>...</td>\n",
       "    </tr>\n",
       "    <tr>\n",
       "      <th>58245</th>\n",
       "      <td>1.22</td>\n",
       "      <td>0.02</td>\n",
       "      <td>0.46</td>\n",
       "      <td>1.00</td>\n",
       "      <td>0.31</td>\n",
       "      <td>44.04</td>\n",
       "    </tr>\n",
       "    <tr>\n",
       "      <th>58253</th>\n",
       "      <td>1.15</td>\n",
       "      <td>0.01</td>\n",
       "      <td>0.26</td>\n",
       "      <td>1.00</td>\n",
       "      <td>0.30</td>\n",
       "      <td>44.06</td>\n",
       "    </tr>\n",
       "    <tr>\n",
       "      <th>58275</th>\n",
       "      <td>1.15</td>\n",
       "      <td>0.01</td>\n",
       "      <td>0.10</td>\n",
       "      <td>1.00</td>\n",
       "      <td>0.30</td>\n",
       "      <td>44.09</td>\n",
       "    </tr>\n",
       "    <tr>\n",
       "      <th>58277</th>\n",
       "      <td>1.15</td>\n",
       "      <td>0.01</td>\n",
       "      <td>0.08</td>\n",
       "      <td>1.00</td>\n",
       "      <td>0.30</td>\n",
       "      <td>44.09</td>\n",
       "    </tr>\n",
       "    <tr>\n",
       "      <th>58289</th>\n",
       "      <td>1.15</td>\n",
       "      <td>0.01</td>\n",
       "      <td>0.35</td>\n",
       "      <td>1.00</td>\n",
       "      <td>0.30</td>\n",
       "      <td>44.13</td>\n",
       "    </tr>\n",
       "  </tbody>\n",
       "</table>\n",
       "<p>20843 rows × 6 columns</p>\n",
       "</div>"
      ],
      "text/plain": [
       "       反应池7矾花均一性指标  反应池7矾花平均密度  反应池7矾花平均直径  小颗粒矾花占比  系统实时出水浊度  系统进水浊度\n",
       "0             4.43        0.63        0.83     0.84      0.24   46.47\n",
       "1             1.39        0.02        0.28     1.00      0.24   46.47\n",
       "3             0.60        0.01        0.22     1.00      0.24   46.47\n",
       "5             1.56        0.01        0.18     1.00      0.24   46.48\n",
       "7             2.00        0.25        0.55     0.92      0.24   46.48\n",
       "...            ...         ...         ...      ...       ...     ...\n",
       "58245         1.22        0.02        0.46     1.00      0.31   44.04\n",
       "58253         1.15        0.01        0.26     1.00      0.30   44.06\n",
       "58275         1.15        0.01        0.10     1.00      0.30   44.09\n",
       "58277         1.15        0.01        0.08     1.00      0.30   44.09\n",
       "58289         1.15        0.01        0.35     1.00      0.30   44.13\n",
       "\n",
       "[20843 rows x 6 columns]"
      ]
     },
     "execution_count": 377,
     "metadata": {},
     "output_type": "execute_result"
    }
   ],
   "source": [
    "df2 = df2.loc[abs((df2[\"系统进水浊度\"] - df2[\"系统进水浊度\"].mean())/df2[\"系统进水浊度\"].std())<=3,:]\n",
    "df2"
   ]
  },
  {
   "cell_type": "code",
   "execution_count": 378,
   "metadata": {},
   "outputs": [
    {
     "data": {
      "text/html": [
       "<div>\n",
       "<style scoped>\n",
       "    .dataframe tbody tr th:only-of-type {\n",
       "        vertical-align: middle;\n",
       "    }\n",
       "\n",
       "    .dataframe tbody tr th {\n",
       "        vertical-align: top;\n",
       "    }\n",
       "\n",
       "    .dataframe thead th {\n",
       "        text-align: right;\n",
       "    }\n",
       "</style>\n",
       "<table border=\"1\" class=\"dataframe\">\n",
       "  <thead>\n",
       "    <tr style=\"text-align: right;\">\n",
       "      <th></th>\n",
       "      <th>反应池7矾花均一性指标</th>\n",
       "      <th>反应池7矾花平均密度</th>\n",
       "      <th>反应池7矾花平均直径</th>\n",
       "      <th>小颗粒矾花占比</th>\n",
       "      <th>系统实时出水浊度</th>\n",
       "      <th>系统进水浊度</th>\n",
       "    </tr>\n",
       "  </thead>\n",
       "  <tbody>\n",
       "    <tr>\n",
       "      <th>0</th>\n",
       "      <td>4.43</td>\n",
       "      <td>0.63</td>\n",
       "      <td>0.83</td>\n",
       "      <td>0.84</td>\n",
       "      <td>0.24</td>\n",
       "      <td>46.47</td>\n",
       "    </tr>\n",
       "    <tr>\n",
       "      <th>1</th>\n",
       "      <td>1.39</td>\n",
       "      <td>0.02</td>\n",
       "      <td>0.28</td>\n",
       "      <td>1.00</td>\n",
       "      <td>0.24</td>\n",
       "      <td>46.47</td>\n",
       "    </tr>\n",
       "    <tr>\n",
       "      <th>3</th>\n",
       "      <td>0.60</td>\n",
       "      <td>0.01</td>\n",
       "      <td>0.22</td>\n",
       "      <td>1.00</td>\n",
       "      <td>0.24</td>\n",
       "      <td>46.47</td>\n",
       "    </tr>\n",
       "    <tr>\n",
       "      <th>5</th>\n",
       "      <td>1.56</td>\n",
       "      <td>0.01</td>\n",
       "      <td>0.18</td>\n",
       "      <td>1.00</td>\n",
       "      <td>0.24</td>\n",
       "      <td>46.48</td>\n",
       "    </tr>\n",
       "    <tr>\n",
       "      <th>7</th>\n",
       "      <td>2.00</td>\n",
       "      <td>0.25</td>\n",
       "      <td>0.55</td>\n",
       "      <td>0.92</td>\n",
       "      <td>0.24</td>\n",
       "      <td>46.48</td>\n",
       "    </tr>\n",
       "    <tr>\n",
       "      <th>...</th>\n",
       "      <td>...</td>\n",
       "      <td>...</td>\n",
       "      <td>...</td>\n",
       "      <td>...</td>\n",
       "      <td>...</td>\n",
       "      <td>...</td>\n",
       "    </tr>\n",
       "    <tr>\n",
       "      <th>58245</th>\n",
       "      <td>1.22</td>\n",
       "      <td>0.02</td>\n",
       "      <td>0.46</td>\n",
       "      <td>1.00</td>\n",
       "      <td>0.31</td>\n",
       "      <td>44.04</td>\n",
       "    </tr>\n",
       "    <tr>\n",
       "      <th>58253</th>\n",
       "      <td>1.15</td>\n",
       "      <td>0.01</td>\n",
       "      <td>0.26</td>\n",
       "      <td>1.00</td>\n",
       "      <td>0.30</td>\n",
       "      <td>44.06</td>\n",
       "    </tr>\n",
       "    <tr>\n",
       "      <th>58275</th>\n",
       "      <td>1.15</td>\n",
       "      <td>0.01</td>\n",
       "      <td>0.10</td>\n",
       "      <td>1.00</td>\n",
       "      <td>0.30</td>\n",
       "      <td>44.09</td>\n",
       "    </tr>\n",
       "    <tr>\n",
       "      <th>58277</th>\n",
       "      <td>1.15</td>\n",
       "      <td>0.01</td>\n",
       "      <td>0.08</td>\n",
       "      <td>1.00</td>\n",
       "      <td>0.30</td>\n",
       "      <td>44.09</td>\n",
       "    </tr>\n",
       "    <tr>\n",
       "      <th>58289</th>\n",
       "      <td>1.15</td>\n",
       "      <td>0.01</td>\n",
       "      <td>0.35</td>\n",
       "      <td>1.00</td>\n",
       "      <td>0.30</td>\n",
       "      <td>44.13</td>\n",
       "    </tr>\n",
       "  </tbody>\n",
       "</table>\n",
       "<p>20843 rows × 6 columns</p>\n",
       "</div>"
      ],
      "text/plain": [
       "       反应池7矾花均一性指标  反应池7矾花平均密度  反应池7矾花平均直径  小颗粒矾花占比  系统实时出水浊度  系统进水浊度\n",
       "0             4.43        0.63        0.83     0.84      0.24   46.47\n",
       "1             1.39        0.02        0.28     1.00      0.24   46.47\n",
       "3             0.60        0.01        0.22     1.00      0.24   46.47\n",
       "5             1.56        0.01        0.18     1.00      0.24   46.48\n",
       "7             2.00        0.25        0.55     0.92      0.24   46.48\n",
       "...            ...         ...         ...      ...       ...     ...\n",
       "58245         1.22        0.02        0.46     1.00      0.31   44.04\n",
       "58253         1.15        0.01        0.26     1.00      0.30   44.06\n",
       "58275         1.15        0.01        0.10     1.00      0.30   44.09\n",
       "58277         1.15        0.01        0.08     1.00      0.30   44.09\n",
       "58289         1.15        0.01        0.35     1.00      0.30   44.13\n",
       "\n",
       "[20843 rows x 6 columns]"
      ]
     },
     "execution_count": 378,
     "metadata": {},
     "output_type": "execute_result"
    }
   ],
   "source": [
    "df2 = df2.loc[abs((df2[\"系统实时出水浊度\"] - df2[\"系统实时出水浊度\"].mean())/df2[\"系统实时出水浊度\"].std())<=3,:]\n",
    "df2"
   ]
  },
  {
   "cell_type": "code",
   "execution_count": 379,
   "metadata": {},
   "outputs": [
    {
     "data": {
      "text/html": [
       "<div>\n",
       "<style scoped>\n",
       "    .dataframe tbody tr th:only-of-type {\n",
       "        vertical-align: middle;\n",
       "    }\n",
       "\n",
       "    .dataframe tbody tr th {\n",
       "        vertical-align: top;\n",
       "    }\n",
       "\n",
       "    .dataframe thead th {\n",
       "        text-align: right;\n",
       "    }\n",
       "</style>\n",
       "<table border=\"1\" class=\"dataframe\">\n",
       "  <thead>\n",
       "    <tr style=\"text-align: right;\">\n",
       "      <th></th>\n",
       "      <th>反应池7矾花均一性指标</th>\n",
       "      <th>反应池7矾花平均密度</th>\n",
       "      <th>反应池7矾花平均直径</th>\n",
       "      <th>小颗粒矾花占比</th>\n",
       "      <th>系统实时出水浊度</th>\n",
       "      <th>系统进水浊度</th>\n",
       "    </tr>\n",
       "  </thead>\n",
       "  <tbody>\n",
       "    <tr>\n",
       "      <th>0</th>\n",
       "      <td>4.43</td>\n",
       "      <td>0.63</td>\n",
       "      <td>0.83</td>\n",
       "      <td>0.84</td>\n",
       "      <td>0.24</td>\n",
       "      <td>46.47</td>\n",
       "    </tr>\n",
       "    <tr>\n",
       "      <th>1</th>\n",
       "      <td>1.39</td>\n",
       "      <td>0.02</td>\n",
       "      <td>0.28</td>\n",
       "      <td>1.00</td>\n",
       "      <td>0.24</td>\n",
       "      <td>46.47</td>\n",
       "    </tr>\n",
       "    <tr>\n",
       "      <th>3</th>\n",
       "      <td>0.60</td>\n",
       "      <td>0.01</td>\n",
       "      <td>0.22</td>\n",
       "      <td>1.00</td>\n",
       "      <td>0.24</td>\n",
       "      <td>46.47</td>\n",
       "    </tr>\n",
       "    <tr>\n",
       "      <th>5</th>\n",
       "      <td>1.56</td>\n",
       "      <td>0.01</td>\n",
       "      <td>0.18</td>\n",
       "      <td>1.00</td>\n",
       "      <td>0.24</td>\n",
       "      <td>46.48</td>\n",
       "    </tr>\n",
       "    <tr>\n",
       "      <th>7</th>\n",
       "      <td>2.00</td>\n",
       "      <td>0.25</td>\n",
       "      <td>0.55</td>\n",
       "      <td>0.92</td>\n",
       "      <td>0.24</td>\n",
       "      <td>46.48</td>\n",
       "    </tr>\n",
       "    <tr>\n",
       "      <th>...</th>\n",
       "      <td>...</td>\n",
       "      <td>...</td>\n",
       "      <td>...</td>\n",
       "      <td>...</td>\n",
       "      <td>...</td>\n",
       "      <td>...</td>\n",
       "    </tr>\n",
       "    <tr>\n",
       "      <th>58245</th>\n",
       "      <td>1.22</td>\n",
       "      <td>0.02</td>\n",
       "      <td>0.46</td>\n",
       "      <td>1.00</td>\n",
       "      <td>0.31</td>\n",
       "      <td>44.04</td>\n",
       "    </tr>\n",
       "    <tr>\n",
       "      <th>58253</th>\n",
       "      <td>1.15</td>\n",
       "      <td>0.01</td>\n",
       "      <td>0.26</td>\n",
       "      <td>1.00</td>\n",
       "      <td>0.30</td>\n",
       "      <td>44.06</td>\n",
       "    </tr>\n",
       "    <tr>\n",
       "      <th>58275</th>\n",
       "      <td>1.15</td>\n",
       "      <td>0.01</td>\n",
       "      <td>0.10</td>\n",
       "      <td>1.00</td>\n",
       "      <td>0.30</td>\n",
       "      <td>44.09</td>\n",
       "    </tr>\n",
       "    <tr>\n",
       "      <th>58277</th>\n",
       "      <td>1.15</td>\n",
       "      <td>0.01</td>\n",
       "      <td>0.08</td>\n",
       "      <td>1.00</td>\n",
       "      <td>0.30</td>\n",
       "      <td>44.09</td>\n",
       "    </tr>\n",
       "    <tr>\n",
       "      <th>58289</th>\n",
       "      <td>1.15</td>\n",
       "      <td>0.01</td>\n",
       "      <td>0.35</td>\n",
       "      <td>1.00</td>\n",
       "      <td>0.30</td>\n",
       "      <td>44.13</td>\n",
       "    </tr>\n",
       "  </tbody>\n",
       "</table>\n",
       "<p>20629 rows × 6 columns</p>\n",
       "</div>"
      ],
      "text/plain": [
       "       反应池7矾花均一性指标  反应池7矾花平均密度  反应池7矾花平均直径  小颗粒矾花占比  系统实时出水浊度  系统进水浊度\n",
       "0             4.43        0.63        0.83     0.84      0.24   46.47\n",
       "1             1.39        0.02        0.28     1.00      0.24   46.47\n",
       "3             0.60        0.01        0.22     1.00      0.24   46.47\n",
       "5             1.56        0.01        0.18     1.00      0.24   46.48\n",
       "7             2.00        0.25        0.55     0.92      0.24   46.48\n",
       "...            ...         ...         ...      ...       ...     ...\n",
       "58245         1.22        0.02        0.46     1.00      0.31   44.04\n",
       "58253         1.15        0.01        0.26     1.00      0.30   44.06\n",
       "58275         1.15        0.01        0.10     1.00      0.30   44.09\n",
       "58277         1.15        0.01        0.08     1.00      0.30   44.09\n",
       "58289         1.15        0.01        0.35     1.00      0.30   44.13\n",
       "\n",
       "[20629 rows x 6 columns]"
      ]
     },
     "execution_count": 379,
     "metadata": {},
     "output_type": "execute_result"
    }
   ],
   "source": [
    "df2 = df2.loc[abs((df2[\"反应池7矾花均一性指标\"] - df2[\"反应池7矾花均一性指标\"].mean())/df2[\"反应池7矾花均一性指标\"].std())<=3,:]\n",
    "df2"
   ]
  },
  {
   "cell_type": "code",
   "execution_count": 376,
   "metadata": {},
   "outputs": [
    {
     "data": {
      "text/html": [
       "<div>\n",
       "<style scoped>\n",
       "    .dataframe tbody tr th:only-of-type {\n",
       "        vertical-align: middle;\n",
       "    }\n",
       "\n",
       "    .dataframe tbody tr th {\n",
       "        vertical-align: top;\n",
       "    }\n",
       "\n",
       "    .dataframe thead th {\n",
       "        text-align: right;\n",
       "    }\n",
       "</style>\n",
       "<table border=\"1\" class=\"dataframe\">\n",
       "  <thead>\n",
       "    <tr style=\"text-align: right;\">\n",
       "      <th></th>\n",
       "      <th>反应池7矾花均一性指标</th>\n",
       "      <th>反应池7矾花平均密度</th>\n",
       "      <th>反应池7矾花平均直径</th>\n",
       "      <th>小颗粒矾花占比</th>\n",
       "      <th>系统实时出水浊度</th>\n",
       "      <th>系统进水浊度</th>\n",
       "    </tr>\n",
       "  </thead>\n",
       "  <tbody>\n",
       "    <tr>\n",
       "      <th>0</th>\n",
       "      <td>4.43</td>\n",
       "      <td>0.63</td>\n",
       "      <td>0.83</td>\n",
       "      <td>0.84</td>\n",
       "      <td>0.24</td>\n",
       "      <td>46.47</td>\n",
       "    </tr>\n",
       "    <tr>\n",
       "      <th>1</th>\n",
       "      <td>1.39</td>\n",
       "      <td>0.02</td>\n",
       "      <td>0.28</td>\n",
       "      <td>1.00</td>\n",
       "      <td>0.24</td>\n",
       "      <td>46.47</td>\n",
       "    </tr>\n",
       "    <tr>\n",
       "      <th>3</th>\n",
       "      <td>0.60</td>\n",
       "      <td>0.01</td>\n",
       "      <td>0.22</td>\n",
       "      <td>1.00</td>\n",
       "      <td>0.24</td>\n",
       "      <td>46.47</td>\n",
       "    </tr>\n",
       "    <tr>\n",
       "      <th>5</th>\n",
       "      <td>1.56</td>\n",
       "      <td>0.01</td>\n",
       "      <td>0.18</td>\n",
       "      <td>1.00</td>\n",
       "      <td>0.24</td>\n",
       "      <td>46.48</td>\n",
       "    </tr>\n",
       "    <tr>\n",
       "      <th>7</th>\n",
       "      <td>2.00</td>\n",
       "      <td>0.25</td>\n",
       "      <td>0.55</td>\n",
       "      <td>0.92</td>\n",
       "      <td>0.24</td>\n",
       "      <td>46.48</td>\n",
       "    </tr>\n",
       "    <tr>\n",
       "      <th>...</th>\n",
       "      <td>...</td>\n",
       "      <td>...</td>\n",
       "      <td>...</td>\n",
       "      <td>...</td>\n",
       "      <td>...</td>\n",
       "      <td>...</td>\n",
       "    </tr>\n",
       "    <tr>\n",
       "      <th>58245</th>\n",
       "      <td>1.22</td>\n",
       "      <td>0.02</td>\n",
       "      <td>0.46</td>\n",
       "      <td>1.00</td>\n",
       "      <td>0.31</td>\n",
       "      <td>44.04</td>\n",
       "    </tr>\n",
       "    <tr>\n",
       "      <th>58253</th>\n",
       "      <td>1.15</td>\n",
       "      <td>0.01</td>\n",
       "      <td>0.26</td>\n",
       "      <td>1.00</td>\n",
       "      <td>0.30</td>\n",
       "      <td>44.06</td>\n",
       "    </tr>\n",
       "    <tr>\n",
       "      <th>58275</th>\n",
       "      <td>1.15</td>\n",
       "      <td>0.01</td>\n",
       "      <td>0.10</td>\n",
       "      <td>1.00</td>\n",
       "      <td>0.30</td>\n",
       "      <td>44.09</td>\n",
       "    </tr>\n",
       "    <tr>\n",
       "      <th>58277</th>\n",
       "      <td>1.15</td>\n",
       "      <td>0.01</td>\n",
       "      <td>0.08</td>\n",
       "      <td>1.00</td>\n",
       "      <td>0.30</td>\n",
       "      <td>44.09</td>\n",
       "    </tr>\n",
       "    <tr>\n",
       "      <th>58289</th>\n",
       "      <td>1.15</td>\n",
       "      <td>0.01</td>\n",
       "      <td>0.35</td>\n",
       "      <td>1.00</td>\n",
       "      <td>0.30</td>\n",
       "      <td>44.13</td>\n",
       "    </tr>\n",
       "  </tbody>\n",
       "</table>\n",
       "<p>20988 rows × 6 columns</p>\n",
       "</div>"
      ],
      "text/plain": [
       "       反应池7矾花均一性指标  反应池7矾花平均密度  反应池7矾花平均直径  小颗粒矾花占比  系统实时出水浊度  系统进水浊度\n",
       "0             4.43        0.63        0.83     0.84      0.24   46.47\n",
       "1             1.39        0.02        0.28     1.00      0.24   46.47\n",
       "3             0.60        0.01        0.22     1.00      0.24   46.47\n",
       "5             1.56        0.01        0.18     1.00      0.24   46.48\n",
       "7             2.00        0.25        0.55     0.92      0.24   46.48\n",
       "...            ...         ...         ...      ...       ...     ...\n",
       "58245         1.22        0.02        0.46     1.00      0.31   44.04\n",
       "58253         1.15        0.01        0.26     1.00      0.30   44.06\n",
       "58275         1.15        0.01        0.10     1.00      0.30   44.09\n",
       "58277         1.15        0.01        0.08     1.00      0.30   44.09\n",
       "58289         1.15        0.01        0.35     1.00      0.30   44.13\n",
       "\n",
       "[20988 rows x 6 columns]"
      ]
     },
     "execution_count": 376,
     "metadata": {},
     "output_type": "execute_result"
    }
   ],
   "source": [
    "df2 = df1\n",
    "df2"
   ]
  },
  {
   "cell_type": "code",
   "execution_count": null,
   "metadata": {},
   "outputs": [],
   "source": []
  },
  {
   "cell_type": "code",
   "execution_count": null,
   "metadata": {},
   "outputs": [],
   "source": []
  },
  {
   "cell_type": "code",
   "execution_count": null,
   "metadata": {},
   "outputs": [],
   "source": []
  },
  {
   "cell_type": "code",
   "execution_count": null,
   "metadata": {},
   "outputs": [],
   "source": []
  },
  {
   "cell_type": "code",
   "execution_count": null,
   "metadata": {},
   "outputs": [],
   "source": []
  },
  {
   "cell_type": "code",
   "execution_count": null,
   "metadata": {},
   "outputs": [],
   "source": []
  },
  {
   "cell_type": "code",
   "execution_count": null,
   "metadata": {},
   "outputs": [],
   "source": []
  },
  {
   "cell_type": "code",
   "execution_count": null,
   "metadata": {},
   "outputs": [],
   "source": []
  },
  {
   "cell_type": "code",
   "execution_count": null,
   "metadata": {},
   "outputs": [],
   "source": []
  },
  {
   "cell_type": "code",
   "execution_count": null,
   "metadata": {},
   "outputs": [],
   "source": []
  },
  {
   "cell_type": "code",
   "execution_count": null,
   "metadata": {},
   "outputs": [],
   "source": []
  },
  {
   "cell_type": "code",
   "execution_count": null,
   "metadata": {},
   "outputs": [],
   "source": []
  },
  {
   "cell_type": "code",
   "execution_count": null,
   "metadata": {},
   "outputs": [],
   "source": []
  },
  {
   "cell_type": "code",
   "execution_count": 148,
   "metadata": {},
   "outputs": [
    {
     "name": "stdout",
     "output_type": "stream",
     "text": [
      "----------------重复值的检测与处理部分---------------\n",
      "\n",
      "列标签                            重复值个数 \n",
      "                                           \n",
      "反应池7矾花均一性指标                    20695                                             \n",
      "反应池7矾花平均密度                     20812                                             \n",
      "反应池7矾花平均直径                     21242                                             \n",
      "小颗粒矾花占比                        21415                                             \n",
      "系统实时出水浊度                       21453                                             \n",
      "系统进水浊度                         21178                                             \n",
      "\n",
      "------------在所有列中共有 126795 个重复值-----------\n",
      "\n",
      "-----------下面将先删除数据中完全重复的行数据----------\n",
      "-----------恭喜你，已经得到了具有唯一值的数据----------\n"
     ]
    }
   ],
   "source": [
    "duplicatevalve(df)"
   ]
  },
  {
   "cell_type": "code",
   "execution_count": 154,
   "metadata": {},
   "outputs": [],
   "source": [
    "df3 = df"
   ]
  },
  {
   "cell_type": "code",
   "execution_count": null,
   "metadata": {},
   "outputs": [],
   "source": []
  },
  {
   "cell_type": "code",
   "execution_count": null,
   "metadata": {},
   "outputs": [],
   "source": []
  },
  {
   "cell_type": "code",
   "execution_count": 24,
   "metadata": {},
   "outputs": [],
   "source": [
    "\n",
    "df6.to_csv(\"tiaozheng.csv\", encoding=\"utf_8_sig\")"
   ]
  },
  {
   "cell_type": "code",
   "execution_count": 44,
   "metadata": {},
   "outputs": [
    {
     "data": {
      "text/html": [
       "<div>\n",
       "<style scoped>\n",
       "    .dataframe tbody tr th:only-of-type {\n",
       "        vertical-align: middle;\n",
       "    }\n",
       "\n",
       "    .dataframe tbody tr th {\n",
       "        vertical-align: top;\n",
       "    }\n",
       "\n",
       "    .dataframe thead th {\n",
       "        text-align: right;\n",
       "    }\n",
       "</style>\n",
       "<table border=\"1\" class=\"dataframe\">\n",
       "  <thead>\n",
       "    <tr style=\"text-align: right;\">\n",
       "      <th></th>\n",
       "      <th>反应池7矾花均一性指标</th>\n",
       "      <th>反应池7矾花平均密度</th>\n",
       "      <th>反应池7矾花平均直径</th>\n",
       "      <th>反应池7圆形矾花占比</th>\n",
       "      <th>系统实时出水浊度</th>\n",
       "      <th>系统进水浊度</th>\n",
       "    </tr>\n",
       "  </thead>\n",
       "  <tbody>\n",
       "    <tr>\n",
       "      <th>1</th>\n",
       "      <td>1.39</td>\n",
       "      <td>0.02</td>\n",
       "      <td>0.28</td>\n",
       "      <td>1.00</td>\n",
       "      <td>0.24</td>\n",
       "      <td>46.47</td>\n",
       "    </tr>\n",
       "    <tr>\n",
       "      <th>3</th>\n",
       "      <td>0.60</td>\n",
       "      <td>0.01</td>\n",
       "      <td>0.22</td>\n",
       "      <td>1.00</td>\n",
       "      <td>0.24</td>\n",
       "      <td>46.47</td>\n",
       "    </tr>\n",
       "    <tr>\n",
       "      <th>5</th>\n",
       "      <td>1.56</td>\n",
       "      <td>0.01</td>\n",
       "      <td>0.18</td>\n",
       "      <td>1.00</td>\n",
       "      <td>0.24</td>\n",
       "      <td>46.48</td>\n",
       "    </tr>\n",
       "    <tr>\n",
       "      <th>7</th>\n",
       "      <td>2.00</td>\n",
       "      <td>0.25</td>\n",
       "      <td>0.55</td>\n",
       "      <td>0.92</td>\n",
       "      <td>0.24</td>\n",
       "      <td>46.48</td>\n",
       "    </tr>\n",
       "    <tr>\n",
       "      <th>11</th>\n",
       "      <td>2.30</td>\n",
       "      <td>0.03</td>\n",
       "      <td>0.28</td>\n",
       "      <td>1.00</td>\n",
       "      <td>0.24</td>\n",
       "      <td>46.48</td>\n",
       "    </tr>\n",
       "  </tbody>\n",
       "</table>\n",
       "</div>"
      ],
      "text/plain": [
       "    反应池7矾花均一性指标  反应池7矾花平均密度  反应池7矾花平均直径  反应池7圆形矾花占比  系统实时出水浊度  系统进水浊度\n",
       "1          1.39        0.02        0.28        1.00      0.24   46.47\n",
       "3          0.60        0.01        0.22        1.00      0.24   46.47\n",
       "5          1.56        0.01        0.18        1.00      0.24   46.48\n",
       "7          2.00        0.25        0.55        0.92      0.24   46.48\n",
       "11         2.30        0.03        0.28        1.00      0.24   46.48"
      ]
     },
     "execution_count": 44,
     "metadata": {},
     "output_type": "execute_result"
    }
   ],
   "source": [
    "df6.head()"
   ]
  },
  {
   "cell_type": "code",
   "execution_count": 45,
   "metadata": {},
   "outputs": [
    {
     "data": {
      "text/html": [
       "<div>\n",
       "<style scoped>\n",
       "    .dataframe tbody tr th:only-of-type {\n",
       "        vertical-align: middle;\n",
       "    }\n",
       "\n",
       "    .dataframe tbody tr th {\n",
       "        vertical-align: top;\n",
       "    }\n",
       "\n",
       "    .dataframe thead th {\n",
       "        text-align: right;\n",
       "    }\n",
       "</style>\n",
       "<table border=\"1\" class=\"dataframe\">\n",
       "  <thead>\n",
       "    <tr style=\"text-align: right;\">\n",
       "      <th></th>\n",
       "      <th>x1</th>\n",
       "      <th>x2</th>\n",
       "      <th>x3</th>\n",
       "      <th>x4</th>\n",
       "      <th>y</th>\n",
       "      <th>x5</th>\n",
       "    </tr>\n",
       "  </thead>\n",
       "  <tbody>\n",
       "    <tr>\n",
       "      <th>1</th>\n",
       "      <td>1.39</td>\n",
       "      <td>0.02</td>\n",
       "      <td>0.28</td>\n",
       "      <td>1.00</td>\n",
       "      <td>0.24</td>\n",
       "      <td>46.47</td>\n",
       "    </tr>\n",
       "    <tr>\n",
       "      <th>3</th>\n",
       "      <td>0.60</td>\n",
       "      <td>0.01</td>\n",
       "      <td>0.22</td>\n",
       "      <td>1.00</td>\n",
       "      <td>0.24</td>\n",
       "      <td>46.47</td>\n",
       "    </tr>\n",
       "    <tr>\n",
       "      <th>5</th>\n",
       "      <td>1.56</td>\n",
       "      <td>0.01</td>\n",
       "      <td>0.18</td>\n",
       "      <td>1.00</td>\n",
       "      <td>0.24</td>\n",
       "      <td>46.48</td>\n",
       "    </tr>\n",
       "    <tr>\n",
       "      <th>7</th>\n",
       "      <td>2.00</td>\n",
       "      <td>0.25</td>\n",
       "      <td>0.55</td>\n",
       "      <td>0.92</td>\n",
       "      <td>0.24</td>\n",
       "      <td>46.48</td>\n",
       "    </tr>\n",
       "    <tr>\n",
       "      <th>11</th>\n",
       "      <td>2.30</td>\n",
       "      <td>0.03</td>\n",
       "      <td>0.28</td>\n",
       "      <td>1.00</td>\n",
       "      <td>0.24</td>\n",
       "      <td>46.48</td>\n",
       "    </tr>\n",
       "    <tr>\n",
       "      <th>...</th>\n",
       "      <td>...</td>\n",
       "      <td>...</td>\n",
       "      <td>...</td>\n",
       "      <td>...</td>\n",
       "      <td>...</td>\n",
       "      <td>...</td>\n",
       "    </tr>\n",
       "    <tr>\n",
       "      <th>57423</th>\n",
       "      <td>5.86</td>\n",
       "      <td>0.25</td>\n",
       "      <td>1.58</td>\n",
       "      <td>0.67</td>\n",
       "      <td>0.30</td>\n",
       "      <td>44.30</td>\n",
       "    </tr>\n",
       "    <tr>\n",
       "      <th>57756</th>\n",
       "      <td>2.59</td>\n",
       "      <td>0.09</td>\n",
       "      <td>0.60</td>\n",
       "      <td>0.57</td>\n",
       "      <td>0.30</td>\n",
       "      <td>44.06</td>\n",
       "    </tr>\n",
       "    <tr>\n",
       "      <th>57800</th>\n",
       "      <td>2.46</td>\n",
       "      <td>0.08</td>\n",
       "      <td>0.69</td>\n",
       "      <td>0.60</td>\n",
       "      <td>0.30</td>\n",
       "      <td>44.05</td>\n",
       "    </tr>\n",
       "    <tr>\n",
       "      <th>57856</th>\n",
       "      <td>0.67</td>\n",
       "      <td>0.02</td>\n",
       "      <td>0.54</td>\n",
       "      <td>0.50</td>\n",
       "      <td>0.30</td>\n",
       "      <td>44.08</td>\n",
       "    </tr>\n",
       "    <tr>\n",
       "      <th>58243</th>\n",
       "      <td>7.42</td>\n",
       "      <td>0.10</td>\n",
       "      <td>0.64</td>\n",
       "      <td>0.86</td>\n",
       "      <td>0.30</td>\n",
       "      <td>44.06</td>\n",
       "    </tr>\n",
       "  </tbody>\n",
       "</table>\n",
       "<p>1629 rows × 6 columns</p>\n",
       "</div>"
      ],
      "text/plain": [
       "         x1    x2    x3    x4     y     x5\n",
       "1      1.39  0.02  0.28  1.00  0.24  46.47\n",
       "3      0.60  0.01  0.22  1.00  0.24  46.47\n",
       "5      1.56  0.01  0.18  1.00  0.24  46.48\n",
       "7      2.00  0.25  0.55  0.92  0.24  46.48\n",
       "11     2.30  0.03  0.28  1.00  0.24  46.48\n",
       "...     ...   ...   ...   ...   ...    ...\n",
       "57423  5.86  0.25  1.58  0.67  0.30  44.30\n",
       "57756  2.59  0.09  0.60  0.57  0.30  44.06\n",
       "57800  2.46  0.08  0.69  0.60  0.30  44.05\n",
       "57856  0.67  0.02  0.54  0.50  0.30  44.08\n",
       "58243  7.42  0.10  0.64  0.86  0.30  44.06\n",
       "\n",
       "[1629 rows x 6 columns]"
      ]
     },
     "execution_count": 45,
     "metadata": {},
     "output_type": "execute_result"
    }
   ],
   "source": [
    "df6.rename(columns={\"反应池7矾花均一性指标\": \"x1\",\"反应池7矾花平均密度\": \"x2\", \"反应池7矾花平均直径\":\"x3\" , \"反应池7圆形矾花占比\":\"x4\" , \"系统进水浊度\": \"x5\", \"系统实时出水浊度\":\"y\"}, inplace = \"TRUE \")\n",
    "df6"
   ]
  },
  {
   "cell_type": "code",
   "execution_count": 46,
   "metadata": {},
   "outputs": [],
   "source": [
    "dfx = df6.loc[:,[\"x1\", \"x2\", \"x3\", \"x4\", \"x5\"] ]\n",
    "dfy = df6.loc[ :, [\"y\"] ]"
   ]
  },
  {
   "cell_type": "code",
   "execution_count": 47,
   "metadata": {},
   "outputs": [],
   "source": [
    "from sklearn.model_selection import train_test_split\n",
    "\n",
    "X_train, X_test, y_train, y_test = train_test_split( dfx, dfy, random_state=0)"
   ]
  },
  {
   "cell_type": "code",
   "execution_count": 48,
   "metadata": {},
   "outputs": [
    {
     "data": {
      "text/plain": [
       "0.7852863854867456"
      ]
     },
     "execution_count": 48,
     "metadata": {},
     "output_type": "execute_result"
    }
   ],
   "source": [
    "# 导入线性回归包\n",
    "from sklearn import linear_model\n",
    "linear = linear_model.LinearRegression()\n",
    "\n",
    "# 使用训练集拟合模型\n",
    "linear.fit(X_train, y_train)\n",
    "# 检查模型得分\n",
    "linear.score(X_train, y_train)"
   ]
  },
  {
   "cell_type": "code",
   "execution_count": 49,
   "metadata": {},
   "outputs": [
    {
     "name": "stdout",
     "output_type": "stream",
     "text": [
      "Coefficient: \n",
      " [[ 0.00066929  0.00809754 -0.00982695 -0.04192562 -0.02688162]]\n",
      "Intercept: \n",
      " [1.52112809]\n"
     ]
    }
   ],
   "source": [
    "print('Coefficient: \\n', linear.coef_)\n",
    "print('Intercept: \\n', linear.intercept_)"
   ]
  },
  {
   "cell_type": "code",
   "execution_count": 56,
   "metadata": {},
   "outputs": [
    {
     "name": "stdout",
     "output_type": "stream",
     "text": [
      "Test set predictions:\n",
      " [[0.32996192]\n",
      " [0.31473604]\n",
      " [0.31645019]\n",
      " [0.32654557]\n",
      " [0.32945771]\n",
      " [0.32525533]\n",
      " [0.31988511]\n",
      " [0.32759299]\n",
      " [0.27279133]\n",
      " [0.32683286]\n",
      " [0.26689605]\n",
      " [0.32055322]\n",
      " [0.32101142]\n",
      " [0.24850205]\n",
      " [0.32482151]\n",
      " [0.32699502]\n",
      " [0.24741825]\n",
      " [0.31118086]\n",
      " [0.32293688]\n",
      " [0.2957207 ]\n",
      " [0.29346028]\n",
      " [0.31563761]\n",
      " [0.32645432]\n",
      " [0.31769154]\n",
      " [0.30103987]\n",
      " [0.31648237]\n",
      " [0.32052106]\n",
      " [0.30233031]\n",
      " [0.24634509]\n",
      " [0.3269321 ]\n",
      " [0.31929143]\n",
      " [0.30838693]\n",
      " [0.30531795]\n",
      " [0.24504223]\n",
      " [0.24989056]\n",
      " [0.31648421]\n",
      " [0.33962961]\n",
      " [0.26379077]\n",
      " [0.32734525]\n",
      " [0.31833355]\n",
      " [0.32278149]\n",
      " [0.30641856]\n",
      " [0.3202067 ]\n",
      " [0.32531818]\n",
      " [0.33309491]\n",
      " [0.32756002]\n",
      " [0.25088881]\n",
      " [0.32470945]\n",
      " [0.22892392]\n",
      " [0.31949772]\n",
      " [0.3240237 ]\n",
      " [0.33100172]\n",
      " [0.32222316]\n",
      " [0.32757682]\n",
      " [0.2474204 ]\n",
      " [0.31855813]\n",
      " [0.31915126]\n",
      " [0.25128613]\n",
      " [0.33373285]\n",
      " [0.33269092]\n",
      " [0.2474205 ]\n",
      " [0.27104058]\n",
      " [0.27783112]\n",
      " [0.32539211]\n",
      " [0.25149518]\n",
      " [0.33255088]\n",
      " [0.32441371]\n",
      " [0.32645455]\n",
      " [0.31936039]\n",
      " [0.24740566]\n",
      " [0.32651091]\n",
      " [0.27617973]\n",
      " [0.24574647]\n",
      " [0.25162237]\n",
      " [0.31721753]\n",
      " [0.24480899]\n",
      " [0.32162127]\n",
      " [0.33184761]\n",
      " [0.32166078]\n",
      " [0.3069158 ]\n",
      " [0.315504  ]\n",
      " [0.33258787]\n",
      " [0.32804927]\n",
      " [0.33283324]\n",
      " [0.32167716]\n",
      " [0.31521527]\n",
      " [0.32545922]\n",
      " [0.32200997]\n",
      " [0.32121734]\n",
      " [0.32339844]\n",
      " [0.29735924]\n",
      " [0.33754478]\n",
      " [0.3189473 ]\n",
      " [0.33066916]\n",
      " [0.23754155]\n",
      " [0.33323626]\n",
      " [0.33285775]\n",
      " [0.33232822]\n",
      " [0.24628391]\n",
      " [0.23973608]\n",
      " [0.24396049]\n",
      " [0.28098812]\n",
      " [0.24705638]\n",
      " [0.27761488]\n",
      " [0.3237984 ]\n",
      " [0.33184813]\n",
      " [0.32736664]\n",
      " [0.3236884 ]\n",
      " [0.32160191]\n",
      " [0.32652872]\n",
      " [0.25625166]\n",
      " [0.2484119 ]\n",
      " [0.24428668]\n",
      " [0.28190707]\n",
      " [0.24403808]\n",
      " [0.27264617]\n",
      " [0.32371532]\n",
      " [0.32186789]\n",
      " [0.32860555]\n",
      " [0.31537159]\n",
      " [0.31545545]\n",
      " [0.30577914]\n",
      " [0.24539302]\n",
      " [0.32829595]\n",
      " [0.3309191 ]\n",
      " [0.32287847]\n",
      " [0.28541728]\n",
      " [0.28771841]\n",
      " [0.24711532]\n",
      " [0.32963914]\n",
      " [0.2703245 ]\n",
      " [0.32078644]\n",
      " [0.32062172]\n",
      " [0.32746249]\n",
      " [0.24730765]\n",
      " [0.33140419]\n",
      " [0.2251383 ]\n",
      " [0.28721963]\n",
      " [0.31698759]\n",
      " [0.32149608]\n",
      " [0.28220027]\n",
      " [0.27041282]\n",
      " [0.32422286]\n",
      " [0.22933741]\n",
      " [0.33073194]\n",
      " [0.23844553]\n",
      " [0.32278558]\n",
      " [0.32649705]\n",
      " [0.2865553 ]\n",
      " [0.23302189]\n",
      " [0.32679548]\n",
      " [0.32063222]\n",
      " [0.2837678 ]\n",
      " [0.30446689]\n",
      " [0.33734148]\n",
      " [0.31909654]\n",
      " [0.2292595 ]\n",
      " [0.33270151]\n",
      " [0.34019228]\n",
      " [0.3245605 ]\n",
      " [0.33162287]\n",
      " [0.31086771]\n",
      " [0.2465946 ]\n",
      " [0.31633934]\n",
      " [0.3272705 ]\n",
      " [0.31442316]\n",
      " [0.32545628]\n",
      " [0.24527687]\n",
      " [0.24618408]\n",
      " [0.3330724 ]\n",
      " [0.24764233]\n",
      " [0.25175241]\n",
      " [0.2742602 ]\n",
      " [0.3138253 ]\n",
      " [0.32823824]\n",
      " [0.3252872 ]\n",
      " [0.30942665]\n",
      " [0.28667855]\n",
      " [0.33904572]\n",
      " [0.32656157]\n",
      " [0.32906035]\n",
      " [0.32035401]\n",
      " [0.32297701]\n",
      " [0.27905181]\n",
      " [0.22383239]\n",
      " [0.32402949]\n",
      " [0.31585087]\n",
      " [0.2282197 ]\n",
      " [0.28585177]\n",
      " [0.24899006]\n",
      " [0.32053478]\n",
      " [0.33845355]\n",
      " [0.24913548]\n",
      " [0.34178248]\n",
      " [0.24648618]\n",
      " [0.24228287]\n",
      " [0.33704387]\n",
      " [0.249281  ]\n",
      " [0.24446787]\n",
      " [0.31462742]\n",
      " [0.34599932]\n",
      " [0.31103788]\n",
      " [0.22433302]\n",
      " [0.30857406]\n",
      " [0.33019379]\n",
      " [0.32848022]\n",
      " [0.25947775]\n",
      " [0.32320257]\n",
      " [0.33303861]\n",
      " [0.3288072 ]\n",
      " [0.32207027]\n",
      " [0.32172693]\n",
      " [0.32592613]\n",
      " [0.32362826]\n",
      " [0.25192558]\n",
      " [0.31743035]\n",
      " [0.32915324]\n",
      " [0.34172407]\n",
      " [0.30747023]\n",
      " [0.32047269]\n",
      " [0.28874823]\n",
      " [0.32018391]\n",
      " [0.3228459 ]\n",
      " [0.25604144]\n",
      " [0.33090548]\n",
      " [0.33547   ]\n",
      " [0.33394398]\n",
      " [0.2748751 ]\n",
      " [0.33489393]\n",
      " [0.29610398]\n",
      " [0.30982692]\n",
      " [0.32716983]\n",
      " [0.316982  ]\n",
      " [0.24738668]\n",
      " [0.31364479]\n",
      " [0.24855312]\n",
      " [0.31025449]\n",
      " [0.32364049]\n",
      " [0.33056074]\n",
      " [0.32653102]\n",
      " [0.31789629]\n",
      " [0.31953684]\n",
      " [0.23248383]\n",
      " [0.32551216]\n",
      " [0.32663915]\n",
      " [0.32920309]\n",
      " [0.32326192]\n",
      " [0.28350374]\n",
      " [0.32372266]\n",
      " [0.27697168]\n",
      " [0.31794488]\n",
      " [0.27030717]\n",
      " [0.31598361]\n",
      " [0.25587725]\n",
      " [0.31675824]\n",
      " [0.31872694]\n",
      " [0.31730525]\n",
      " [0.32167678]\n",
      " [0.26855146]\n",
      " [0.25688664]\n",
      " [0.32903852]\n",
      " [0.32799976]\n",
      " [0.31932443]\n",
      " [0.32879694]\n",
      " [0.31845425]\n",
      " [0.32192923]\n",
      " [0.25143764]\n",
      " [0.32402057]\n",
      " [0.3055848 ]\n",
      " [0.30553502]\n",
      " [0.25457637]\n",
      " [0.31991446]\n",
      " [0.32855053]\n",
      " [0.33175603]\n",
      " [0.24608817]\n",
      " [0.31666934]\n",
      " [0.23246872]\n",
      " [0.3355043 ]]\n"
     ]
    }
   ],
   "source": [
    "y_pred = linear.predict(X_test)\n",
    "print(\"Test set predictions:\\n {}\".format(y_pred))"
   ]
  },
  {
   "cell_type": "code",
   "execution_count": 50,
   "metadata": {},
   "outputs": [
    {
     "name": "stdout",
     "output_type": "stream",
     "text": [
      "Train set score: 0.79\n",
      "Test set score: 0.78\n"
     ]
    }
   ],
   "source": [
    "print(\"Train set score: {:.2f}\".format(linear.score(X_train, y_train)))\n",
    "print(\"Test set score: {:.2f}\".format(linear.score(X_test, y_test)))"
   ]
  },
  {
   "cell_type": "code",
   "execution_count": 74,
   "metadata": {},
   "outputs": [],
   "source": [
    "\n",
    "#Import Library\n",
    "from sklearn.neighbors import KNeighborsClassifier\n",
    "\n"
   ]
  },
  {
   "cell_type": "code",
   "execution_count": 78,
   "metadata": {},
   "outputs": [],
   "source": [
    "#Assumed you have, X (predictor) and Y (target) for training data set and X_test(predictor) of test_dataset\n",
    "# Create KNeighbors classifier object model \n",
    "\n",
    "model = KNeighborsClassifier(n_neighbors=6) \n",
    "# default value for n_neighbors is 5\n",
    "\n"
   ]
  },
  {
   "cell_type": "code",
   "execution_count": 79,
   "metadata": {},
   "outputs": [
    {
     "name": "stdout",
     "output_type": "stream",
     "text": [
      "Unexpected exception formatting exception. Falling back to standard exception\n"
     ]
    },
    {
     "name": "stderr",
     "output_type": "stream",
     "text": [
      "/Users/zhangjinwei/opt/anaconda3/lib/python3.9/site-packages/sklearn/neighbors/_classification.py:198: DataConversionWarning: A column-vector y was passed when a 1d array was expected. Please change the shape of y to (n_samples,), for example using ravel().\n",
      "  return self._fit(X, y)\n",
      "Traceback (most recent call last):\n",
      "  File \"/Users/zhangjinwei/opt/anaconda3/lib/python3.9/site-packages/IPython/core/interactiveshell.py\", line 3369, in run_code\n",
      "    exec(code_obj, self.user_global_ns, self.user_ns)\n",
      "  File \"/var/folders/ms/fryz2hjj71v3l3fph26gw6980000gn/T/ipykernel_56524/2112576453.py\", line 2, in <cell line: 2>\n",
      "    model.fit(X_train, y_train)\n",
      "  File \"/Users/zhangjinwei/opt/anaconda3/lib/python3.9/site-packages/sklearn/neighbors/_classification.py\", line 198, in fit\n",
      "    return self._fit(X, y)\n",
      "  File \"/Users/zhangjinwei/opt/anaconda3/lib/python3.9/site-packages/sklearn/neighbors/_base.py\", line 420, in _fit\n",
      "    check_classification_targets(y)\n",
      "  File \"/Users/zhangjinwei/opt/anaconda3/lib/python3.9/site-packages/sklearn/utils/multiclass.py\", line 197, in check_classification_targets\n",
      "    raise ValueError(\"Unknown label type: %r\" % y_type)\n",
      "ValueError: Unknown label type: 'continuous'\n",
      "\n",
      "During handling of the above exception, another exception occurred:\n",
      "\n",
      "Traceback (most recent call last):\n",
      "  File \"/Users/zhangjinwei/opt/anaconda3/lib/python3.9/site-packages/IPython/core/interactiveshell.py\", line 1982, in showtraceback\n",
      "    stb = self.InteractiveTB.structured_traceback(\n",
      "  File \"/Users/zhangjinwei/opt/anaconda3/lib/python3.9/site-packages/IPython/core/ultratb.py\", line 1118, in structured_traceback\n",
      "    return FormattedTB.structured_traceback(\n",
      "  File \"/Users/zhangjinwei/opt/anaconda3/lib/python3.9/site-packages/IPython/core/ultratb.py\", line 1012, in structured_traceback\n",
      "    return VerboseTB.structured_traceback(\n",
      "  File \"/Users/zhangjinwei/opt/anaconda3/lib/python3.9/site-packages/IPython/core/ultratb.py\", line 865, in structured_traceback\n",
      "    formatted_exception = self.format_exception_as_a_whole(etype, evalue, etb, number_of_lines_of_context,\n",
      "  File \"/Users/zhangjinwei/opt/anaconda3/lib/python3.9/site-packages/IPython/core/ultratb.py\", line 799, in format_exception_as_a_whole\n",
      "    self.get_records(etb, number_of_lines_of_context, tb_offset) if etb else []\n",
      "  File \"/Users/zhangjinwei/opt/anaconda3/lib/python3.9/site-packages/IPython/core/ultratb.py\", line 845, in get_records\n",
      "    style = stack_data.style_with_executing_node(style, \"bg:ansiyellow\")\n",
      "  File \"/Users/zhangjinwei/opt/anaconda3/lib/python3.9/site-packages/stack_data/core.py\", line 424, in style_with_executing_node\n",
      "    class NewStyle(style):\n",
      "  File \"/Users/zhangjinwei/opt/anaconda3/lib/python3.9/site-packages/pygments/style.py\", line 91, in __new__\n",
      "    ndef[4] = colorformat(styledef[3:])\n",
      "  File \"/Users/zhangjinwei/opt/anaconda3/lib/python3.9/site-packages/pygments/style.py\", line 58, in colorformat\n",
      "    assert False, \"wrong color format %r\" % text\n",
      "AssertionError: wrong color format 'ansiyellow'\n"
     ]
    }
   ],
   "source": [
    "# Train the model using the training sets and check score\n",
    "model.fit(X_train, y_train)\n"
   ]
  },
  {
   "cell_type": "code",
   "execution_count": null,
   "metadata": {},
   "outputs": [],
   "source": []
  },
  {
   "cell_type": "code",
   "execution_count": 73,
   "metadata": {},
   "outputs": [
    {
     "name": "stdout",
     "output_type": "stream",
     "text": [
      "Unexpected exception formatting exception. Falling back to standard exception\n"
     ]
    },
    {
     "name": "stderr",
     "output_type": "stream",
     "text": [
      "Traceback (most recent call last):\n",
      "  File \"/Users/zhangjinwei/opt/anaconda3/lib/python3.9/site-packages/IPython/core/interactiveshell.py\", line 3369, in run_code\n",
      "    exec(code_obj, self.user_global_ns, self.user_ns)\n",
      "  File \"/var/folders/ms/fryz2hjj71v3l3fph26gw6980000gn/T/ipykernel_56524/216938011.py\", line 4, in <cell line: 4>\n",
      "    model.fit(X_train, y_train)\n",
      "NameError: name 'model' is not defined\n",
      "\n",
      "During handling of the above exception, another exception occurred:\n",
      "\n",
      "Traceback (most recent call last):\n",
      "  File \"/Users/zhangjinwei/opt/anaconda3/lib/python3.9/site-packages/IPython/core/interactiveshell.py\", line 1982, in showtraceback\n",
      "    stb = self.InteractiveTB.structured_traceback(\n",
      "  File \"/Users/zhangjinwei/opt/anaconda3/lib/python3.9/site-packages/IPython/core/ultratb.py\", line 1118, in structured_traceback\n",
      "    return FormattedTB.structured_traceback(\n",
      "  File \"/Users/zhangjinwei/opt/anaconda3/lib/python3.9/site-packages/IPython/core/ultratb.py\", line 1012, in structured_traceback\n",
      "    return VerboseTB.structured_traceback(\n",
      "  File \"/Users/zhangjinwei/opt/anaconda3/lib/python3.9/site-packages/IPython/core/ultratb.py\", line 865, in structured_traceback\n",
      "    formatted_exception = self.format_exception_as_a_whole(etype, evalue, etb, number_of_lines_of_context,\n",
      "  File \"/Users/zhangjinwei/opt/anaconda3/lib/python3.9/site-packages/IPython/core/ultratb.py\", line 799, in format_exception_as_a_whole\n",
      "    self.get_records(etb, number_of_lines_of_context, tb_offset) if etb else []\n",
      "  File \"/Users/zhangjinwei/opt/anaconda3/lib/python3.9/site-packages/IPython/core/ultratb.py\", line 845, in get_records\n",
      "    style = stack_data.style_with_executing_node(style, \"bg:ansiyellow\")\n",
      "  File \"/Users/zhangjinwei/opt/anaconda3/lib/python3.9/site-packages/stack_data/core.py\", line 424, in style_with_executing_node\n",
      "    class NewStyle(style):\n",
      "  File \"/Users/zhangjinwei/opt/anaconda3/lib/python3.9/site-packages/pygments/style.py\", line 91, in __new__\n",
      "    ndef[4] = colorformat(styledef[3:])\n",
      "  File \"/Users/zhangjinwei/opt/anaconda3/lib/python3.9/site-packages/pygments/style.py\", line 58, in colorformat\n",
      "    assert False, \"wrong color format %r\" % text\n",
      "AssertionError: wrong color format 'ansiyellow'\n"
     ]
    }
   ],
   "source": [
    "# there is various option associated with it, this is simple for classification. \n",
    "\n",
    "# Train the model using the training sets and check score\n",
    "model.fit(X_train, y_train)\n",
    "model.score(X_train, y_train)\n"
   ]
  },
  {
   "cell_type": "code",
   "execution_count": 66,
   "metadata": {},
   "outputs": [
    {
     "name": "stdout",
     "output_type": "stream",
     "text": [
      "Unexpected exception formatting exception. Falling back to standard exception\n"
     ]
    },
    {
     "name": "stderr",
     "output_type": "stream",
     "text": [
      "Traceback (most recent call last):\n",
      "  File \"/Users/zhangjinwei/opt/anaconda3/lib/python3.9/site-packages/IPython/core/interactiveshell.py\", line 3369, in run_code\n",
      "    exec(code_obj, self.user_global_ns, self.user_ns)\n",
      "  File \"/var/folders/ms/fryz2hjj71v3l3fph26gw6980000gn/T/ipykernel_56524/3090877330.py\", line 2, in <cell line: 2>\n",
      "    logistic.fit(x, y_train)\n",
      "  File \"/Users/zhangjinwei/opt/anaconda3/lib/python3.9/site-packages/sklearn/linear_model/_logistic.py\", line 1508, in fit\n",
      "    X, y = self._validate_data(\n",
      "  File \"/Users/zhangjinwei/opt/anaconda3/lib/python3.9/site-packages/sklearn/base.py\", line 581, in _validate_data\n",
      "    X, y = check_X_y(X, y, **check_params)\n",
      "  File \"/Users/zhangjinwei/opt/anaconda3/lib/python3.9/site-packages/sklearn/utils/validation.py\", line 964, in check_X_y\n",
      "    X = check_array(\n",
      "  File \"/Users/zhangjinwei/opt/anaconda3/lib/python3.9/site-packages/sklearn/utils/validation.py\", line 769, in check_array\n",
      "    raise ValueError(\n",
      "ValueError: Expected 2D array, got 1D array instead:\n",
      "array=[2.500e+00 2.790e+00 2.770e+00 3.090e+00 8.300e-01 2.420e+00 3.350e+00\n",
      " 2.650e+00 2.680e+00 3.180e+00 2.510e+00 2.820e+00 2.640e+00 8.800e-01\n",
      " 2.500e+00 2.810e+00 3.260e+00 1.126e+01 4.570e+00 3.120e+00 8.570e+00\n",
      " 3.330e+00 6.900e-01 2.570e+00 7.530e+00 4.190e+00 2.910e+00 3.390e+00\n",
      " 9.300e-01 3.130e+00 2.890e+00 2.200e+01 3.030e+00 8.720e+00 9.670e+00\n",
      " 2.810e+00 2.560e+00 2.920e+00 2.870e+00 2.530e+00 3.360e+00 8.160e+00\n",
      " 2.560e+00 3.480e+00 3.000e+00 1.190e+00 1.600e+00 2.670e+00 1.392e+01\n",
      " 2.580e+00 2.530e+00 1.250e+00 7.240e+00 2.570e+00 1.290e+00 8.120e+00\n",
      " 1.195e+01 1.230e+00 2.910e+00 2.650e+00 8.800e-01 3.430e+00 3.140e+00\n",
      " 1.020e+00 2.000e-02 2.590e+00 2.880e+00 2.880e+00 2.590e+00 1.081e+01\n",
      " 2.870e+00 2.980e+00 7.400e-01 1.057e+01 2.150e+00 1.250e+00 2.306e+01\n",
      " 2.005e+01 2.950e+00 1.320e+00 8.810e+00 2.920e+00 5.340e+00 4.190e+00\n",
      " 2.470e+00 2.670e+00 1.830e+00 9.620e+00 2.740e+00 6.850e+00 2.670e+00\n",
      " 4.700e-01 2.710e+00 1.189e+01 5.690e+00 7.670e+00 7.830e+00 2.890e+00\n",
      " 2.620e+00 1.527e+01 2.180e+00 2.720e+00 1.200e+00 1.706e+01 2.910e+00\n",
      " 3.080e+00 2.830e+00 2.630e+00 8.600e-01 9.360e+00 1.720e+00 1.100e+00\n",
      " 2.286e+01 3.050e+00 2.850e+00 2.520e+00 2.860e+00 2.610e+00 9.320e+00\n",
      " 7.900e-01 1.146e+01 1.004e+01 1.755e+01 3.000e+00 2.610e+00 2.830e+00\n",
      " 3.330e+00 7.800e+00 2.970e+00 3.850e+00 2.630e+00 2.880e+00 2.940e+00\n",
      " 2.690e+00 2.190e+00 1.171e+01 2.740e+00 1.004e+01 2.460e+00 2.100e-01\n",
      " 1.310e+00 8.900e-01 9.670e+00 2.600e+00 3.950e+00 2.820e+00 1.950e+00\n",
      " 1.462e+01 1.650e+00 2.580e+00 2.670e+00 2.850e+00 1.090e+00 9.200e-01\n",
      " 1.930e+00 7.850e+00 2.690e+00 5.700e-01 2.350e+00 1.028e+01 7.880e+00\n",
      " 8.000e+00 1.081e+01 3.030e+00 1.608e+01 1.490e+00 2.011e+01 3.290e+00\n",
      " 1.070e+01 8.500e-01 3.590e+00 1.048e+01 9.610e+00 5.460e+00 2.390e+00\n",
      " 3.000e-01 3.210e+00 2.870e+00 1.210e+00 2.680e+00 2.970e+00 1.920e+00\n",
      " 1.880e+00 9.600e-01 2.650e+00 2.830e+00 1.620e+00 5.600e-01 1.600e+00\n",
      " 7.400e-01 1.740e+00 2.469e+01 1.383e+01 2.820e+00 3.120e+00 2.850e+00\n",
      " 8.500e-01 8.100e-01 5.700e-01 3.710e+00 7.600e-01 1.148e+01 3.250e+00\n",
      " 3.180e+00 2.810e+00 1.580e+00 3.170e+00 1.550e+00 2.860e+00 1.146e+01\n",
      " 9.760e+00 5.320e+00 1.195e+01 1.258e+01 2.930e+00 7.530e+00 4.638e+01\n",
      " 1.028e+01 2.970e+00 2.610e+00 1.960e+00 2.820e+00 3.000e-01 2.670e+00\n",
      " 1.242e+01 2.940e+00 3.220e+00 7.900e-01 1.161e+01 2.680e+00 2.730e+00\n",
      " 7.550e+00 2.320e+00 3.860e+00 2.380e+00 3.060e+00 8.300e-01 2.650e+00\n",
      " 2.900e+00 9.180e+00 2.430e+00 2.650e+00 1.345e+01 3.030e+00 2.450e+00\n",
      " 3.560e+00 4.680e+00 2.760e+00 1.250e+00 4.300e+00 3.140e+00 2.690e+00\n",
      " 9.300e-01 4.200e+00 7.000e-01 2.910e+00 2.580e+00 2.940e+00 9.610e+00\n",
      " 9.930e+00 2.900e+00 1.054e+01 1.720e+00 2.660e+00 7.730e+00 1.212e+01\n",
      " 2.670e+00 3.290e+00 1.111e+01 2.257e+01 8.400e-01 5.157e+01 3.100e+00\n",
      " 3.190e+00 6.200e-01 1.040e+00 3.250e+00 2.150e+00 2.690e+00 7.000e-01\n",
      " 2.820e+00 4.300e-01 1.496e+01 2.820e+00 1.210e+00 2.730e+00 2.940e+00\n",
      " 2.440e+00 4.200e+00 8.470e+00 9.000e+00 2.740e+00 1.171e+01 2.790e+00\n",
      " 1.490e+00 9.200e-01 1.148e+01 2.610e+00 8.290e+00 1.062e+01 2.780e+00\n",
      " 2.920e+00 1.962e+01 1.706e+01 3.190e+00 2.530e+00 3.710e+00 9.330e+00\n",
      " 2.790e+00 9.000e+00 3.235e+01 2.710e+00 8.900e-01 3.370e+00 2.820e+00\n",
      " 3.210e+00 2.490e+00 1.400e+00 2.790e+00 2.950e+00 2.690e+00 8.430e+00\n",
      " 8.260e+00 2.790e+00 2.520e+00 2.510e+00 1.750e+01 2.970e+00 3.430e+00\n",
      " 1.080e+00 1.370e+00 2.810e+00 2.830e+00 8.320e+00 2.640e+00 2.820e+00\n",
      " 1.250e+00 2.840e+00 2.500e+00 6.800e-01 1.155e+01 2.870e+00 7.830e+00\n",
      " 1.236e+01 3.170e+00 2.770e+00 2.880e+00 1.050e+00 3.130e+00 1.111e+01\n",
      " 2.590e+00 2.940e+00 1.547e+01 1.496e+01 1.500e+00 1.370e+00 3.030e+00\n",
      " 2.970e+00 2.510e+00 1.559e+01 3.800e-01 1.350e+00 1.104e+01 2.500e+00\n",
      " 1.064e+01 2.700e+00 1.340e+00 2.970e+00 9.200e-01 8.290e+00 2.500e+00\n",
      " 2.700e+00 2.950e+00 3.030e+00 7.300e-01 6.400e-01 8.000e-01 9.650e+00\n",
      " 1.846e+01 2.340e+00 2.790e+00 2.950e+00 8.470e+00 3.150e+00 1.091e+01\n",
      " 8.800e-01 1.112e+01 2.710e+00 6.240e+00 3.030e+00 3.130e+00 2.900e+00\n",
      " 7.650e+00 1.000e+00 2.740e+00 2.090e+00 2.930e+00 6.320e+00 5.157e+01\n",
      " 2.940e+00 6.500e-01 2.540e+00 2.970e+00 2.770e+00 5.240e+00 3.720e+00\n",
      " 3.150e+00 2.610e+00 1.200e-01 2.780e+00 1.180e+00 2.400e+00 2.900e+00\n",
      " 1.610e+00 3.200e+00 5.300e-01 2.820e+00 2.750e+00 2.620e+00 8.000e+00\n",
      " 2.770e+00 3.060e+00 2.300e-01 1.070e+00 2.750e+00 2.900e+00 1.017e+01\n",
      " 2.910e+00 1.188e+01 2.830e+00 2.500e+00 3.120e+00 2.780e+00 2.800e+00\n",
      " 2.760e+00 2.920e+00 2.840e+00 3.060e+00 2.840e+00 3.030e+00 3.280e+00\n",
      " 2.306e+01 2.660e+00 3.210e+00 2.810e+00 2.286e+01 3.060e+00 2.470e+00\n",
      " 7.600e-01 2.590e+00 9.500e-01 5.600e-01 2.740e+00 1.540e+00 2.420e+00\n",
      " 1.180e+00 3.060e+00 3.300e+00 2.890e+00 2.710e+00 1.748e+01 1.171e+01\n",
      " 3.230e+00 2.780e+00 1.019e+01 2.005e+01 2.680e+00 6.400e-01 7.200e-01\n",
      " 2.890e+00 1.177e+01 1.800e+00 5.600e-01 2.480e+00 2.530e+00 2.780e+00\n",
      " 2.620e+00 5.300e-01 7.790e+00 2.760e+00 6.900e-01 1.000e+00 6.300e-01\n",
      " 2.530e+00 2.710e+00 1.553e+01 2.970e+00 2.970e+00 8.400e-01 2.970e+00\n",
      " 8.260e+00 1.000e+00 2.560e+00 2.790e+00 3.290e+00 2.442e+01 1.194e+01\n",
      " 9.600e-01 2.720e+00 2.630e+00 2.960e+00 2.560e+00 1.250e+01 2.940e+00\n",
      " 3.380e+00 3.030e+00 2.590e+00 3.800e+00 1.440e+00 8.300e-01 2.890e+00\n",
      " 3.430e+00 1.240e+00 2.820e+00 7.650e+00 2.930e+00 3.200e+00 1.177e+01\n",
      " 2.460e+00 2.800e+00 2.000e-02 3.000e+00 1.110e+00 1.525e+01 3.920e+00\n",
      " 2.870e+00 2.770e+00 2.700e+00 3.580e+00 8.800e-01 2.820e+00 2.720e+00\n",
      " 6.000e-02 1.442e+01 1.020e+00 3.130e+00 3.050e+00 2.029e+01 1.790e+00\n",
      " 2.820e+00 2.700e+00 1.457e+01 1.171e+01 4.600e-01 1.436e+01 6.900e-01\n",
      " 2.740e+00 9.200e-01 2.730e+00 4.330e+00 2.850e+00 3.290e+00 8.050e+00\n",
      " 9.600e-01 7.800e-01 2.810e+00 9.620e+00 2.600e+00 8.470e+00 2.850e+00\n",
      " 2.060e+00 4.226e+01 8.500e+00 1.011e+01 8.540e+00 3.030e+00 7.100e+00\n",
      " 1.300e-01 1.625e+01 6.500e-01 3.420e+00 2.800e+00 1.260e+00 3.290e+00\n",
      " 2.200e+00 3.000e+00 9.600e-01 2.350e+00 7.300e+00 2.000e+00 1.135e+01\n",
      " 3.590e+00 7.500e-01 6.310e+00 2.820e+00 2.480e+00 2.830e+00 8.320e+00\n",
      " 2.570e+00 2.580e+00 2.770e+00 2.580e+00 5.420e+01 8.800e-01 2.840e+00\n",
      " 3.280e+00 2.940e+00 3.590e+00 3.160e+00 4.226e+01 8.660e+00 7.850e+00\n",
      " 2.970e+00 2.920e+00 1.080e+00 2.780e+00 2.810e+00 9.000e-01 3.000e+00\n",
      " 2.710e+00 1.010e+01 2.320e+00 2.830e+00 6.550e+00 3.170e+00 2.620e+00\n",
      " 4.430e+00 3.600e+00 1.025e+01 3.140e+00 2.750e+00 2.530e+00 2.390e+00\n",
      " 9.380e+00 2.880e+00 1.028e+01 2.830e+00 2.090e+00 3.140e+00 1.480e+00\n",
      " 6.200e-01 2.750e+00 6.600e+00 2.790e+00 1.342e+01 2.540e+00 1.110e+00\n",
      " 2.000e-01 4.000e+00 1.126e+01 2.590e+00 3.240e+00 8.800e-01 1.161e+01\n",
      " 2.690e+00 3.700e-01 9.670e+00 2.970e+00 2.910e+00 6.300e-01 2.460e+00\n",
      " 9.500e-01 2.120e+00 5.860e+00 3.130e+00 3.330e+00 7.200e-01 4.640e+00\n",
      " 2.950e+00 2.680e+00 3.300e+00 1.620e+00 3.030e+00 9.320e+00 2.680e+00\n",
      " 7.140e+00 1.110e+00 2.640e+00 3.000e-01 3.417e+01 2.850e+00 2.880e+00\n",
      " 2.470e+00 2.720e+00 2.820e+00 3.150e+00 2.740e+00 1.000e+00 2.740e+00\n",
      " 9.170e+00 3.150e+00 1.420e+00 2.770e+00 9.700e-01 3.000e-02 1.200e+01\n",
      " 2.590e+00 2.480e+00 3.340e+00 3.090e+00 6.500e-01 5.400e-01 5.420e+01\n",
      " 3.030e+00 7.200e-01 2.810e+00 7.530e+00 6.900e-01 3.150e+00 4.170e+00\n",
      " 3.030e+00 1.180e+00 3.360e+00 2.890e+00 3.100e+00 2.720e+00 8.000e-01\n",
      " 1.947e+01 2.570e+00 8.500e-01 4.800e-01 3.030e+00 1.170e+01 6.800e+00\n",
      " 4.040e+00 2.500e+00 1.485e+01 2.580e+00 1.000e+00 2.740e+00 2.000e+00\n",
      " 5.240e+00 2.430e+00 5.560e+00 8.600e-01 8.000e-01 7.700e-01 2.640e+00\n",
      " 2.580e+00 3.030e+00 8.500e-01 2.442e+01 2.740e+00 6.020e+00 2.600e+00\n",
      " 3.240e+00 1.140e+00 2.850e+00 9.380e+00 2.480e+00 6.800e-01 8.470e+00\n",
      " 2.700e-01 2.650e+00 2.410e+00 1.177e+01 1.060e+00 2.680e+00 7.300e-01\n",
      " 7.800e-01 3.200e-01 8.100e+00 7.800e-01 9.790e+00 2.780e+00 2.970e+00\n",
      " 3.240e+00 1.368e+01 3.060e+00 3.560e+00 2.790e+00 2.560e+00 2.490e+00\n",
      " 8.800e-01 2.900e+00 8.820e+00 7.850e+00 2.400e+00 3.090e+00 7.100e-01\n",
      " 1.096e+01 1.920e+00 2.620e+00 2.860e+00 3.480e+00 2.770e+00 1.220e+00\n",
      " 3.030e+00 2.810e+00 1.846e+01 1.188e+01 7.000e-02 2.910e+00 9.600e-01\n",
      " 3.130e+00 9.000e+00 4.610e+00 2.940e+00 6.800e-01 2.750e+00 3.180e+00\n",
      " 2.500e+00 2.880e+00 2.600e+00 2.790e+00 1.324e+01 9.900e-01 3.070e+00\n",
      " 2.420e+00 2.740e+00 2.570e+00 2.470e+00 2.740e+00 3.240e+00 2.660e+00\n",
      " 2.860e+00 2.200e-01 7.580e+00 2.360e+00 2.820e+00 3.130e+00 1.164e+01\n",
      " 4.330e+00 2.650e+00 8.800e-01 2.590e+00 2.860e+00 3.270e+00 1.290e+00\n",
      " 1.404e+01 2.580e+00 3.130e+00 1.170e+00 2.760e+00 3.800e-01 2.290e+00\n",
      " 2.100e-01 6.000e-01 2.820e+00 2.680e+00 2.710e+00 2.940e+00].\n",
      "Reshape your data either using array.reshape(-1, 1) if your data has a single feature or array.reshape(1, -1) if it contains a single sample.\n",
      "\n",
      "During handling of the above exception, another exception occurred:\n",
      "\n",
      "Traceback (most recent call last):\n",
      "  File \"/Users/zhangjinwei/opt/anaconda3/lib/python3.9/site-packages/IPython/core/interactiveshell.py\", line 1982, in showtraceback\n",
      "    stb = self.InteractiveTB.structured_traceback(\n",
      "  File \"/Users/zhangjinwei/opt/anaconda3/lib/python3.9/site-packages/IPython/core/ultratb.py\", line 1118, in structured_traceback\n",
      "    return FormattedTB.structured_traceback(\n",
      "  File \"/Users/zhangjinwei/opt/anaconda3/lib/python3.9/site-packages/IPython/core/ultratb.py\", line 1012, in structured_traceback\n",
      "    return VerboseTB.structured_traceback(\n",
      "  File \"/Users/zhangjinwei/opt/anaconda3/lib/python3.9/site-packages/IPython/core/ultratb.py\", line 865, in structured_traceback\n",
      "    formatted_exception = self.format_exception_as_a_whole(etype, evalue, etb, number_of_lines_of_context,\n",
      "  File \"/Users/zhangjinwei/opt/anaconda3/lib/python3.9/site-packages/IPython/core/ultratb.py\", line 799, in format_exception_as_a_whole\n",
      "    self.get_records(etb, number_of_lines_of_context, tb_offset) if etb else []\n",
      "  File \"/Users/zhangjinwei/opt/anaconda3/lib/python3.9/site-packages/IPython/core/ultratb.py\", line 845, in get_records\n",
      "    style = stack_data.style_with_executing_node(style, \"bg:ansiyellow\")\n",
      "  File \"/Users/zhangjinwei/opt/anaconda3/lib/python3.9/site-packages/stack_data/core.py\", line 424, in style_with_executing_node\n",
      "    class NewStyle(style):\n",
      "  File \"/Users/zhangjinwei/opt/anaconda3/lib/python3.9/site-packages/pygments/style.py\", line 91, in __new__\n",
      "    ndef[4] = colorformat(styledef[3:])\n",
      "  File \"/Users/zhangjinwei/opt/anaconda3/lib/python3.9/site-packages/pygments/style.py\", line 58, in colorformat\n",
      "    assert False, \"wrong color format %r\" % text\n",
      "AssertionError: wrong color format 'ansiyellow'\n"
     ]
    }
   ],
   "source": []
  },
  {
   "cell_type": "code",
   "execution_count": null,
   "metadata": {},
   "outputs": [],
   "source": []
  }
 ],
 "metadata": {
  "kernelspec": {
   "display_name": "Python 3.9.12 ('base')",
   "language": "python",
   "name": "python3"
  },
  "language_info": {
   "codemirror_mode": {
    "name": "ipython",
    "version": 3
   },
   "file_extension": ".py",
   "mimetype": "text/x-python",
   "name": "python",
   "nbconvert_exporter": "python",
   "pygments_lexer": "ipython3",
   "version": "3.9.12"
  },
  "orig_nbformat": 4,
  "vscode": {
   "interpreter": {
    "hash": "233614838d7ca9e7996b7dd22e8e0fe34cb328365f2090ce0397742a7d8b69dc"
   }
  }
 },
 "nbformat": 4,
 "nbformat_minor": 2
}
